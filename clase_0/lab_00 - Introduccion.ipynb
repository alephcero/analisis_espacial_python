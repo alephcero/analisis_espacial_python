{
 "cells": [
  {
   "cell_type": "markdown",
   "metadata": {},
   "source": [
    "# Práctico clase 1\n",
    "\n",
    "## Apuntes introductorios para Analisis Espacial en Python"
   ]
  },
  {
   "cell_type": "markdown",
   "metadata": {},
   "source": [
    "En este tutorial presentaremos las principales herramientas con las que trabajaremos durante el resto del curso. Aunque es muy básico y aparentemente abstracto, todo lo que se muestra aquí se convertirá en la base sobre la cual construiremos tareas más sofisticadas (y divertidas). Pero, antes, conozcamos las herramientas que nos darán superpoderes de datos."
   ]
  },
  {
   "cell_type": "markdown",
   "metadata": {},
   "source": [
    "## Open Source"
   ]
  },
  {
   "cell_type": "markdown",
   "metadata": {},
   "source": [
    "Este curso le presentará una serie de herramientas computacionales que hacen que la vida del Científico de Datos sea posible y mucho más fácil. Todos ellos son [de código abierto](https://en.wikipedia.org/wiki/Open_source), lo que significa que los creadores de estas piezas de software han puesto a disposición el código fuente para que las personas lo usen, lo estudien, modifiquen y redistribuirlo. Esto ha permitido un ecosistema grande que hoy representa la mejor opción para la informática científica, y se usa ampliamente tanto en la industria como en la academia. Gracias a esto, este curso se puede enseñar con herramientas completamente disponibles que puedes instalar en cualquiera de tus computadoras.\n",
    "\n",
    "Si desea obtener más información sobre software libre y de código abierto, aquí hay algunos enlaces:\n",
    "\n",
    "* Breve [explicación](https://www.youtube.com/watch?v=Tyd0FO0tko8) de software libre.\n",
    "* [La Catedral y el Bazaar](https://es.wikipedia.org/wiki/La_catedral_y_el_bazar): un libro clásico, disponible gratuitamente, que documenta los beneficios y la historia del software de código abierto."
   ]
  },
  {
   "cell_type": "markdown",
   "metadata": {},
   "source": [
    "## 1 `Jupyter` Notebook"
   ]
  },
  {
   "cell_type": "markdown",
   "metadata": {},
   "source": [
    "La herramienta computacional principal que utilizará durante este curso es el [cuaderno Jupyter](http://jupyter.org/). Los cuadernos son una forma conveniente de enhebrar texto, código y el resultado que produce en un archivo simple que luego puede compartir, editar y modificar. Puedes pensar en cuadernos como el documento Word del Cientista de Datos, solo que simplemente mejor."
   ]
  },
  {
   "cell_type": "markdown",
   "metadata": {},
   "source": [
    "Navegue hasta la carpeta donde ha colocado el archivo `lab_01.ipynb` para este tutorial y haga clic en él. Esto abrirá el cuaderno en una pestaña diferente. ¡Ahora está en la versión interactiva del cuaderno!\n",
    "\n",
    "Cuando haya terminado con la sesión, puede guardar el cuaderno con `Archivo -> Guardar y punto de control`. Todo lo que hace en el notebook (texto, código y salida) se guarda en un archivo `.ipynb` que puede abrir más tarde, compartir, etc."
   ]
  },
  {
   "cell_type": "markdown",
   "metadata": {},
   "source": [
    " ### A Celdas"
   ]
  },
  {
   "cell_type": "markdown",
   "metadata": {},
   "source": [
    "El bloque de construcción principal de los cuadernos son las células. Estos son segmentos del mismo tiempo de contenido que se pueden cortar, pegar y mover en un cuaderno. Las celdas pueden ser de dos tipos:\n",
    "\n",
    "* ** Texto **, como el que está escrito.\n",
    "* ** Código **, como el siguiente a continuación:"
   ]
  },
  {
   "cell_type": "code",
   "execution_count": null,
   "metadata": {
    "collapsed": true
   },
   "outputs": [],
   "source": [
    "# Esta es una celda de código (comentada)"
   ]
  },
  {
   "cell_type": "markdown",
   "metadata": {},
   "source": [
    "Puede crear una nueva celda haciendo clic en 'Insertar' -> 'Celda arriba' / 'Abajo' en el menú superior. Por defecto, esta será una celda de código, pero puede cambiar eso en el menú `Celda` ->` Tipo de celda`. Elija `Markdown` para una celda de texto. Una vez que se crea una nueva celda, puede editarla haciendo clic en ella, que creará la barra de cursor en el interior para que pueda comenzar a escribir.\n",
    "\n",
    "** ¡Consejo profesional! **: las celdas también se pueden crear con atajos. Si presiona `<escape>` y luego `b` (` a`), se creará una nueva celda debajo (arriba). Hay una gran cantidad de accesos directos que puede explorar presionando `<escape>` y `h` (presione` <escape> `nuevamente para dejar la ayuda)."
   ]
  },
  {
   "cell_type": "markdown",
   "metadata": {},
   "source": [
    "\n",
    "### B Código y su salida\n",
    "\n",
    "Una característica particularmente útil de los portátiles es que puede guardar, en el mismo lugar, el código que utiliza para generar cualquier resultado (tablas, figuras, etc.). Como ejemplo, la celda a continuación contiene un snipet de Python que devuelve una declaración impresa. Esta declaración se imprime a continuación y se graba en el cuaderno como salida:"
   ]
  },
  {
   "cell_type": "code",
   "execution_count": null,
   "metadata": {},
   "outputs": [],
   "source": [
    "print(\"Hola mundo!!!\")"
   ]
  },
  {
   "cell_type": "markdown",
   "metadata": {},
   "source": [
    "Tenga en cuenta también cómo el portátil tiene soporte de resaltado de sintaxis automático para Python. Esto hace que el código sea mucho más legible y comprensible. Más sobre Python a continuación."
   ]
  },
  {
   "cell_type": "markdown",
   "metadata": {},
   "source": [
    "### C Markdown"
   ]
  },
  {
   "cell_type": "markdown",
   "metadata": {},
   "source": [
    "Las celdas de texto en un bloc de notas usan el lenguaje de marcado [Github Flavored Markdown](https://help.github.com/articles/github-flavored-markdown/). Esto significa que puede escribir texto sin formato con algunas reglas y la computadora portátil ofrece una versión más visualmente atractiva. Veamos algunos ejemplos:\n",
    "\n",
    "* **NEGRITA**:\n",
    "\n",
    "`Esto es ** negrita **.`\n",
    "\n",
    "Se representa:\n",
    "\n",
    "Esto es ** negrita **.\n",
    "\n",
    "* ** ITALICA **:\n",
    "\n",
    "`Esto es * cursiva *.\n",
    "\n",
    "Se representa:\n",
    "\n",
    "Esto es * cursiva *.\n",
    "\n",
    "* ** LISTAS **:\n",
    "\n",
    "Puedes crear listas sin numerar:\n",
    "\n",
    "`` `\n",
    "* Artículo 1\n",
    "* Artículo 2\n",
    "* ...\n",
    "`` `\n",
    "\n",
    "Que producirá:\n",
    "\n",
    "* Artículo 1\n",
    "* Artículo 2\n",
    "* ...\n",
    "\n",
    "O puede crear listas numeradas:\n",
    "\n",
    "`` `\n",
    "1. Primer elemento\n",
    "1. Segundo elemento\n",
    "1. ...\n",
    "`` `\n",
    "\n",
    "Y obten:\n",
    "\n",
    "1. Primer elemento\n",
    "1. Segundo elemento\n",
    "1. ...\n",
    "\n",
    "Tenga en cuenta que no tiene que escribir el número real del elemento, simplemente usando `1.` siempre produce una lista numerada.\n",
    "\n",
    "También puedes anidar listas:\n",
    "\n",
    "`` `\n",
    "* Primer elemento no numerado, que se puede dividir en:\n",
    "\n",
    "    1. Un elemento numerado\n",
    "    2. Otro elemento numerado\n",
    "\n",
    "* Segundo elemento.\n",
    "* ...\n",
    "`` `\n",
    "\n",
    "* Primer elemento no numerado, que se puede dividir en:\n",
    "\n",
    "    1. Un elemento numerado\n",
    "    2. Otro elemento numerado\n",
    "\n",
    "* Segundo elemento.\n",
    "* ...\n",
    "\n",
    "Esto crea muchas oportunidades para combinar las cosas bien.\n",
    "\n",
    "* ** ENLACES **\n",
    "\n",
    "`Puede crear fácilmente hipervínculos, por ejemplo a [WikiPedia] (https://www.wikipedia.org/).\n",
    "\n",
    "Puede crear fácilmente hipervínculos, por ejemplo a [WikiPedia] (https://www.wikipedia.org/).\n",
    "\n",
    "* ** HEADINGS **: incluyendo `#` antes de que una línea lo haga renderizar un encabezado.\n",
    "\n",
    "---\n",
    "\n",
    "`# Este es el encabezado 1`\n",
    "\n",
    "Se convierte en:\n",
    "\n",
    "# Este es el encabezado 1\n",
    "\n",
    "---\n",
    "\n",
    "`## Esto es encabezado 2`\n",
    "\n",
    "Se convierte en:\n",
    "\n",
    "## Esto es encabezado 2\n",
    "\n",
    "---\n",
    "\n",
    "`### Este es el encabezado 3`\n",
    "\n",
    "Se convierte en:\n",
    "\n",
    "### Este es el encabezado 3\n",
    "\n",
    "Y así...\n",
    "\n",
    "---\n",
    "\n",
    "Puede ver una introducción más detallada en los siguientes enlaces:\n",
    "\n",
    "> https://help.github.com/articles/markdown-basics/\n",
    "\n",
    "> https://help.github.com/articles/github-flavored-markdown/"
   ]
  },
  {
   "cell_type": "markdown",
   "metadata": {},
   "source": [
    "### D Contenido enriquecido en el notebook"
   ]
  },
  {
   "cell_type": "markdown",
   "metadata": {},
   "source": [
    "Los notebooks también pueden incluir contenido enriquecido de la web. Para eso, necesitamos importar el módulo `display`:"
   ]
  },
  {
   "cell_type": "code",
   "execution_count": null,
   "metadata": {
    "collapsed": true
   },
   "outputs": [],
   "source": [
    "import IPython.display as display"
   ]
  },
  {
   "cell_type": "markdown",
   "metadata": {},
   "source": [
    "Esto pone a nuestra disposición funciones adicionales que nos permiten incorporar contenido enriquecido. Por ejemplo, podemos incluir un clip de YouTube fácilmente al pasar su ID:"
   ]
  },
  {
   "cell_type": "code",
   "execution_count": null,
   "metadata": {},
   "outputs": [],
   "source": [
    "display.YouTubeVideo('iinQDhsdE9s')"
   ]
  },
  {
   "cell_type": "markdown",
   "metadata": {},
   "source": [
    "O podemos pasar el código HTML estándar:"
   ]
  },
  {
   "cell_type": "code",
   "execution_count": null,
   "metadata": {},
   "outputs": [],
   "source": [
    "display.HTML(\"\"\"<table>\n",
    "<tr>\n",
    "<th>Header 1</th>\n",
    "<th>Header 2</th>\n",
    "</tr>\n",
    "<tr>\n",
    "<td>row 1, cell 1</td>\n",
    "<td>row 1, cell 2</td>\n",
    "</tr>\n",
    "<tr>\n",
    "<td>row 2, cell 1</td>\n",
    "<td>row 2, cell 2</td>\n",
    "</tr>\n",
    "</table>\"\"\")"
   ]
  },
  {
   "cell_type": "markdown",
   "metadata": {},
   "source": [
    "Tenga en cuenta que esto abre la puerta para incluir una gran cantidad de elementos de la web, ya que también se permite un `iframe`. Por ejemplo, se pueden incluir mapas interactivos:"
   ]
  },
  {
   "cell_type": "code",
   "execution_count": null,
   "metadata": {},
   "outputs": [],
   "source": [
    "osm = \"\"\"\n",
    "<iframe width=\"425\" height=\"350\" frameborder=\"0\" scrolling=\"no\" marginheight=\"0\" marginwidth=\"0\" src=\"https://www.openstreetmap.org/export/embed.html?bbox=-58.4507042169571%2C-34.5492355140477%2C-58.37669%2C-34.59978&amp;layer=mapnik\" style=\"border: 1px solid black\"></iframe><br/><small><a href=\"https://www.openstreetmap.org/#map=18/-34.59978/-58.37669\">Ver mapa más grande</a></small>\n",
    "\"\"\"\n",
    "display.HTML(osm)"
   ]
  },
  {
   "cell_type": "markdown",
   "metadata": {},
   "source": [
    "Una exploración más completa de ellos está disponible en [este](http://jeffskinnerbox.me/notebooks/ipython's-rich-display-system.html) notebook."
   ]
  },
  {
   "cell_type": "markdown",
   "metadata": {},
   "source": [
    "## 2 Python"
   ]
  },
  {
   "cell_type": "markdown",
   "metadata": {},
   "source": [
    "La mayor parte del curso se basa en el lenguaje de programación [Python](https://www.python.org/). Python es un lenguaje de programación de [alto nivel](https://en.wikipedia.org/wiki/High-level_programming_language) ampliamente utilizado en la actualidad. Para dar un par de ejemplos de su relevancia, es utilizado desde [Dropbox](https://www.quora.com/How-does-dropbox-use-python-What-features-are-implemented-in- it-any-tangentially-related-material? share = 1), hasta [para controlar satélites en la NASA](https://www.python.org/about/success/usa/) . También se utiliza en una gran cantidad de diferentes disciplinas cienctíficas, desde [investigación en astronomía](https://www.youtube.com/watch?v=mLuIB8aW2KA) en UC Berkley, hasta [cursos en economía](http: // www. .quant-econ.net /).\n",
    "\n",
    "Este curso usa Python porque se ha convertido en una de las opciones principales y más sólidas para Ciencia de Datos, junto con otras alternativas **libres** como R. Python es ampliamente utilizado para el procesamiento y análisis de datos tanto en el mundo académico como en la industria. Existe una comunidad científica vibrante y en crecimiento ([ejemplo](http://scipy.org/) y [ejemplo](http://pydata.org/)), que trabaja tanto en universidades como en empresas, que respalda y mejora su capacidades para el análisis de datos al proporcionar nuevas extensiones de refinación (bibliotecas, ver más abajo). En el mundo geoespacial, Python también es ampliamente adoptado, siendo el lenguaje seleccionado para scripts en [ArcGIS](http://www.esri.com/software/arcgis) y [QGIS](http://qgis.org ) Todo esto significa que, ya sea que esté pensando en continuar en la educación superior o en tratar de encontrar un trabajo en la industria, Python será un activo importante que los empleadores valorarán significativamente.\n",
    "\n",
    "Ser un lenguaje de alto nivel significa que el código puede ser \"interpretado dinámicamente\", lo que significa que se ejecuta sobre la marcha sin la necesidad de ser compilado. Esto está en contraste con los lenguajes de programación de \"bajo nivel\", que primero deben convertirse en código máquina (es decir, compilados) antes de que puedan ejecutarse. Con Python, uno no necesita preocuparse por la compilación y solo puede escribir código, evaluarlo, repararlo, reevaluarlo, etc. en un ciclo rápido, convirtiéndolo en una herramienta muy productiva. El resto de este tutorial cubre algunos de los elementos básicos del lenguaje, desde convenciones como cómo comentar el código, hasta las estructuras de datos básicas disponibles.\n",
    "\n",
    "Este mismo taller fue construido siguiendo la metodología del software libre *robando* ideas de esta lección introductoria de [este curso](https://github.com/barbagroup/CFDPython) del grupo de Lorena Barba y de este [taller de Dani Arribas](http://darribas.org/gds17/overview.html)"
   ]
  },
  {
   "cell_type": "markdown",
   "metadata": {},
   "source": [
    "### A Variables"
   ]
  },
  {
   "cell_type": "markdown",
   "metadata": {},
   "source": [
    "Una característica básica de Python es la capacidad de asignar un nombre a diferentes \"cosas\" u objetos. Estos también se pueden llamar a veces \"variables\". Por ejemplo, un objeto puede ser un solo número:"
   ]
  },
  {
   "cell_type": "code",
   "execution_count": null,
   "metadata": {
    "collapsed": true
   },
   "outputs": [],
   "source": [
    "a = 3"
   ]
  },
  {
   "cell_type": "markdown",
   "metadata": {},
   "source": [
    "O un nombre, llamado *cadena de texo* o \"string\":"
   ]
  },
  {
   "cell_type": "code",
   "execution_count": null,
   "metadata": {
    "collapsed": true
   },
   "outputs": [],
   "source": [
    "b = 'Hola Mundo!'"
   ]
  },
  {
   "cell_type": "markdown",
   "metadata": {},
   "source": [
    "Uno puede chequear que tipo de objeto es: "
   ]
  },
  {
   "cell_type": "code",
   "execution_count": null,
   "metadata": {},
   "outputs": [],
   "source": [
    "type(a)"
   ]
  },
  {
   "cell_type": "markdown",
   "metadata": {},
   "source": [
    "`int` es la abreviatura de \"entero\" que, en términos generales, significa un número entero. Si desea guardar un número con decimales, usará flotadores o *float*:"
   ]
  },
  {
   "cell_type": "code",
   "execution_count": null,
   "metadata": {},
   "outputs": [],
   "source": [
    "c = 1.5\n",
    "type(c)"
   ]
  },
  {
   "cell_type": "markdown",
   "metadata": {},
   "source": [
    "Como se mencionó, lo que entendemos como letras en un sentido amplio (los espacios y otros signos cuentan también) se llama \"cadenas de texto\" (\"str\" en resumen):"
   ]
  },
  {
   "cell_type": "code",
   "execution_count": null,
   "metadata": {},
   "outputs": [],
   "source": [
    "type(b)"
   ]
  },
  {
   "cell_type": "markdown",
   "metadata": {},
   "source": [
    "### AYUDA!"
   ]
  },
  {
   "cell_type": "markdown",
   "metadata": {},
   "source": [
    "![AYUDA](https://upload.wikimedia.org/wikipedia/en/e/e7/Help%21_%28The_Beatles_album_-_cover_art%29.jpg)"
   ]
  },
  {
   "cell_type": "markdown",
   "metadata": {},
   "source": [
    "Una característica muy útil de Python es la capacidad de acceder a ayuda en el momento para sus diferentes funciones. Esto significa que puede verificar qué se supone que debe hacer una función, o cómo acceder a ella, directamente dentro de su sesión de Python. Por supuesto, esto también funciona generosamente dentro de un *notebook*. Hay un par de formas de acceder a la ayuda.\n"
   ]
  },
  {
   "cell_type": "code",
   "execution_count": null,
   "metadata": {},
   "outputs": [],
   "source": [
    "range(5)"
   ]
  },
  {
   "cell_type": "code",
   "execution_count": null,
   "metadata": {
    "collapsed": true
   },
   "outputs": [],
   "source": [
    "range?"
   ]
  },
  {
   "cell_type": "markdown",
   "metadata": {},
   "source": [
    "Como puede ver, esto abre una ventana secundaria en el navegador con toda la información que necesita.\n",
    "\n",
    "Si, por algún motivo, necesita imprimir esa información en el propio cuaderno, puede hacer lo siguiente:"
   ]
  },
  {
   "cell_type": "code",
   "execution_count": null,
   "metadata": {},
   "outputs": [],
   "source": [
    "help(range)"
   ]
  },
  {
   "cell_type": "markdown",
   "metadata": {},
   "source": [
    "### B Control flow ( `for` loops e `if`)"
   ]
  },
  {
   "cell_type": "markdown",
   "metadata": {},
   "source": [
    "Aunque esto no pretende ser una introducción completa a la programación de computadoras o Python de propósito general (revise las referencias para eso, en particular el [libro](http://www.greenteapress.com/thinkpython/thinkpython.html) de Allen Downey), es importante tener en cuenta dos bloques de construcción de casi cualquier programa de computadora: `for` loops y declaraciones ` if`. "
   ]
  },
  {
   "cell_type": "markdown",
   "metadata": {},
   "source": [
    "* `for` loops\n",
    "\n",
    "Estos le permiten repetir una acción o tarea particular sobre una secuencia. Como ejemplo, puede imprimir su nombre diez veces sin tener que escribirlo usted mismo cada vez:"
   ]
  },
  {
   "cell_type": "code",
   "execution_count": null,
   "metadata": {},
   "outputs": [],
   "source": [
    "for i in range(10):\n",
    "    print('me llamo felipe')\n"
   ]
  },
  {
   "cell_type": "markdown",
   "metadata": {},
   "source": [
    "Tenga en cuenta un par de características en el ciclo:\n",
    "\n",
    "1. Bucle * sobre * una secuencia, en este caso particular la secuencia de diez números creados por `np.arange (10)`.\n",
    "1. En cada paso, por cada elemento de la secuencia en este caso, repites una acción. Aquí estamos imprimiendo el mismo texto, \"me llamo felipe\".\n",
    "1. Aunque no se usa en este bucle simple, se puede acceder a cada uno de los elementos sobre los que se realiza un bucle dentro del bucle. Esto puede ser irrelevante, como en el ciclo anterior, o extremadamente útil, depende del contexto. Por ejemplo, vea un caso donde usa el valor de la secuencia en cada paso:"
   ]
  },
  {
   "cell_type": "code",
   "execution_count": null,
   "metadata": {},
   "outputs": [],
   "source": [
    "for i in range(10):\n",
    "    print(\"Estoy en el paso\", i)"
   ]
  },
  {
   "cell_type": "markdown",
   "metadata": {},
   "source": [
    "Una nota más: por convención, estamos llamando al elemento de la secuencia `i`, pero esto podría llamarse cualquier cosa. De hecho, en muchos casos, los nombres más significativos hacen que el código sea mucho más legible. Por ejemplo, podría pensar en una reescritura del ciclo anterior como:"
   ]
  },
  {
   "cell_type": "code",
   "execution_count": null,
   "metadata": {},
   "outputs": [],
   "source": [
    "for paso in range(10):\n",
    "    print(\"Estoy en el paso \", paso)"
   ]
  },
  {
   "cell_type": "markdown",
   "metadata": {},
   "source": [
    "* sentencias `if` \n",
    "\n",
    "Acabamos de ver cómo los bucles `for` le permiten repetir una acción sobre una secuencia. En el caso de las declaraciones `if`, estas le permiten seleccionar o restringir dichas acciones únicamente a aquellos casos que cumplan una o varias de las condiciones que especifique en la declaración.\n",
    "\n",
    "Por ejemplo, si piensa en los bucles escritos anteriormente, es posible que desee imprimir solo aquellos que son impares, omitiendo aquellos que son pares:"
   ]
  },
  {
   "cell_type": "code",
   "execution_count": null,
   "metadata": {},
   "outputs": [],
   "source": [
    "for i in range(10):\n",
    "    if i%2:\n",
    "        print(i)"
   ]
  },
  {
   "cell_type": "markdown",
   "metadata": {},
   "source": [
    "Ignore por el momento la parte `i% 2`, solo recuerde que esta es una forma en que Python tiene que verificar si un número es impar. El aspecto importante en este ciclo, en comparación con el más simple de arriba, es que estamos usando una instrucción `if` para seleccionar solo aquellos candidatos que cumplan con la condición. En otras palabras, lo que estamos haciendo es recorrer cada número en la secuencia de cero a nueve (`para i en np.arange (10)`) y verificar si son pares o impares (`if i% 2`). Si cumplen la condición, son extraños, luego procedemos e imprimimos en la pantalla."
   ]
  },
  {
   "cell_type": "markdown",
   "metadata": {},
   "source": [
    "Una instrucción `if` completa también permite que se tome una acción si no se cumple la condición original. Esto se llama una declaración \"ifelse\". Por ejemplo, puede pensar en un ciclo que imprime el tipo de cada número en una secuencia:"
   ]
  },
  {
   "cell_type": "code",
   "execution_count": null,
   "metadata": {},
   "outputs": [],
   "source": [
    "for i in range(10):\n",
    "    # Chequeo si es impar\n",
    "    if i%2:\n",
    "        print(i, ' es impar')\n",
    "    # Si no es impar, es par, entonces:\n",
    "    else:\n",
    "        print(i, ' es par')"
   ]
  },
  {
   "cell_type": "markdown",
   "metadata": {},
   "source": [
    "### C Estructura de datos"
   ]
  },
  {
   "cell_type": "markdown",
   "metadata": {},
   "source": [
    "La python estándar a la que puede acceder sin importar ninguna biblioteca adicional contiene algunas estructuras de datos centrales que es muy útil saber. La mayoría del análisis de datos se realiza sobre otras estructuras específicamente diseñadas para este propósito (matrices numejantes y marcos de datos de pandas, en su mayoría. Consulte las siguientes sesiones para obtener más detalles), pero es muy útil cierta comprensión de estas estructuras básicas de Python. En este contexto, veremos tres: valores, listas y diccionarios.\n",
    "\n",
    "* ** Valores **: estos son los elementos más básicos para organizar datos e información en Python. Puedes pensar en ellos como números (enteros o flotantes) o palabras (cadenas). Normalmente, estos son los elementos que se almacenarán en listas y diccionarios.\n",
    "\n",
    "Un número entero es un número entero:"
   ]
  },
  {
   "cell_type": "code",
   "execution_count": null,
   "metadata": {},
   "outputs": [],
   "source": [
    "i = 5\n",
    "type(i)"
   ]
  },
  {
   "cell_type": "markdown",
   "metadata": {},
   "source": [
    "Un float es un número que permite decimales:\n"
   ]
  },
  {
   "cell_type": "code",
   "execution_count": null,
   "metadata": {},
   "outputs": [],
   "source": [
    "f = 5.2\n",
    "type(f)"
   ]
  },
  {
   "cell_type": "markdown",
   "metadata": {},
   "source": [
    "Tenga en cuenta que un float puede no tener decimales y aún se puede almacenar como tal:"
   ]
  },
  {
   "cell_type": "code",
   "execution_count": null,
   "metadata": {},
   "outputs": [],
   "source": [
    "fw = 5.\n",
    "type(fw)"
   ]
  },
  {
   "cell_type": "markdown",
   "metadata": {},
   "source": [
    "Sin embargo, son representaciones diferentes:"
   ]
  },
  {
   "cell_type": "code",
   "execution_count": null,
   "metadata": {},
   "outputs": [],
   "source": [
    "f == fw"
   ]
  },
  {
   "cell_type": "markdown",
   "metadata": {},
   "source": [
    "* ** Listas **: una lista es una secuencia ordenada de valores que pueden ser de tipos mixtos. Están representados entre corchetes (`[]`) y, aunque no son muy eficientes en términos de memoria, son muy flexibles y útiles para \"armar cosas\".\n",
    "\n",
    "Por ejemplo, la siguiente lista de enteros:"
   ]
  },
  {
   "cell_type": "code",
   "execution_count": null,
   "metadata": {},
   "outputs": [],
   "source": [
    "l = [1, 2, 3, 4, 5]\n",
    "l"
   ]
  },
  {
   "cell_type": "code",
   "execution_count": null,
   "metadata": {},
   "outputs": [],
   "source": [
    "type(l)"
   ]
  },
  {
   "cell_type": "markdown",
   "metadata": {},
   "source": [
    "O la siguiente de tipos mixtos"
   ]
  },
  {
   "cell_type": "code",
   "execution_count": null,
   "metadata": {},
   "outputs": [],
   "source": [
    "m = ['a', 'b', 5, 'c', 6, 7]\n",
    "m"
   ]
  },
  {
   "cell_type": "markdown",
   "metadata": {},
   "source": [
    "Las listas pueden ser consultadas y cortadas. Por ejemplo, el primer elemento puede ser recuperado por:"
   ]
  },
  {
   "cell_type": "code",
   "execution_count": null,
   "metadata": {},
   "outputs": [],
   "source": [
    "l[0]"
   ]
  },
  {
   "cell_type": "markdown",
   "metadata": {},
   "source": [
    "Todas las listas en Python comienzan en 0.\n",
    "![Listas comienzan en 0](https://i.redd.it/zjjbxjc9w2711.jpg)"
   ]
  },
  {
   "cell_type": "markdown",
   "metadata": {},
   "source": [
    "O del segundo elemento al cuarto "
   ]
  },
  {
   "cell_type": "code",
   "execution_count": null,
   "metadata": {},
   "outputs": [],
   "source": [
    "m[1:4]"
   ]
  },
  {
   "cell_type": "code",
   "execution_count": null,
   "metadata": {},
   "outputs": [],
   "source": [
    "m[1:4:2]"
   ]
  },
  {
   "cell_type": "markdown",
   "metadata": {},
   "source": [
    "Pueden agregarse"
   ]
  },
  {
   "cell_type": "code",
   "execution_count": null,
   "metadata": {},
   "outputs": [],
   "source": [
    "l + m"
   ]
  },
  {
   "cell_type": "markdown",
   "metadata": {},
   "source": [
    "Agregar nuevos elementos"
   ]
  },
  {
   "cell_type": "code",
   "execution_count": null,
   "metadata": {},
   "outputs": [],
   "source": [
    "l.append(4)\n",
    "l"
   ]
  },
  {
   "cell_type": "markdown",
   "metadata": {},
   "source": [
    "O modificarlos:"
   ]
  },
  {
   "cell_type": "code",
   "execution_count": null,
   "metadata": {},
   "outputs": [],
   "source": [
    "l[1]"
   ]
  },
  {
   "cell_type": "code",
   "execution_count": null,
   "metadata": {},
   "outputs": [],
   "source": [
    "l[1] = 'dos'\n",
    "l[1]"
   ]
  },
  {
   "cell_type": "code",
   "execution_count": null,
   "metadata": {},
   "outputs": [],
   "source": [
    "l"
   ]
  },
  {
   "cell_type": "markdown",
   "metadata": {},
   "source": [
    "* ** Diccionarios **: los diccionarios son colecciones desordenadas de \"claves\" y \"valores\". Una clave, que puede ser de cualquier tipo, es el elemento asociado con un \"valor\", que también puede ser de cualquier tipo. Los diccionarios se usan cuando la orden no es importante, pero necesita una búsqueda rápida y fácil. Se expresan en corchetes, con claves y valores vinculados a través de columnas.\n",
    "\n",
    "Por ejemplo, podemos pensar en un diccionario para almacenar una serie de nombres y las edades de las personas que representan:"
   ]
  },
  {
   "cell_type": "code",
   "execution_count": null,
   "metadata": {},
   "outputs": [],
   "source": [
    "edades = {'Ana': 24, 'Juan': 20, 'Lourdes': 27, 'Ivan': 40, 'Tali':33}\n",
    "edades"
   ]
  },
  {
   "cell_type": "code",
   "execution_count": null,
   "metadata": {},
   "outputs": [],
   "source": [
    "type(edades)"
   ]
  },
  {
   "cell_type": "markdown",
   "metadata": {},
   "source": [
    "Los diccionarios se pueden consultar y los valores se recuperan fácilmente mediante el uso de sus claves. Por ejemplo, si queremos saber rápidamente la edad de Ivan:"
   ]
  },
  {
   "cell_type": "code",
   "execution_count": null,
   "metadata": {},
   "outputs": [],
   "source": [
    "edades['Ivan']"
   ]
  },
  {
   "cell_type": "markdown",
   "metadata": {},
   "source": [
    "De forma similar a las listas, puede modificar y asignar nuevos valores:"
   ]
  },
  {
   "cell_type": "code",
   "execution_count": null,
   "metadata": {},
   "outputs": [],
   "source": [
    "edades['Juan'] = 73\n",
    "edades"
   ]
  },
  {
   "cell_type": "markdown",
   "metadata": {},
   "source": [
    "Con esta propiedad, puede crear diccionarios completamente vacíos y rellenarlos más adelante:\n"
   ]
  },
  {
   "cell_type": "code",
   "execution_count": null,
   "metadata": {},
   "outputs": [],
   "source": [
    "newdict = {}\n",
    "newdict['key1'] = 1\n",
    "newdict['key2'] = 2\n",
    "newdict"
   ]
  },
  {
   "cell_type": "code",
   "execution_count": null,
   "metadata": {},
   "outputs": [],
   "source": [
    "diccio = {}\n",
    "for i in range(10):\n",
    "    # Chequeo si es impar\n",
    "    if i%2:\n",
    "        diccio.update({i:'impar'})\n",
    "    # Si no es impar, es par, entonces:\n",
    "    else:\n",
    "        diccio.update({i:'par'})\n",
    "diccio"
   ]
  },
  {
   "cell_type": "markdown",
   "metadata": {},
   "source": [
    "### D Funciones"
   ]
  },
  {
   "cell_type": "markdown",
   "metadata": {},
   "source": [
    "Otro gran elemento de los lenguajes de programación en general son las funciones. La motivación es que, hasta ahora, solo hemos visto cómo se puede crear código Python que, si quieres ejecutarlo en otro lugar, debes copiar y pegar por completo. Sin embargo, como veremos con más detalle más adelante en el curso, una de las principales razones por las que desea utilizar Python para el análisis de datos, en lugar de una interfaz gráfica de apuntar y hacer clic como SPSS, por ejemplo, es que puede fácilmente vuelva a utilizar el código y vuelva a ejecutar los análisis fácilmente. Las funciones nos ayudan a lograr esto mediante la encapsulación de fragmentos de código que realizan una tarea en particular y que están disponibles para ser llamados.\n",
    "\n",
    "Ya hemos usado *funciones* aquí. Cuando llamamos a `range`, estamos usando una función. Ahora, veremos cómo * crear * un método propio que realice la tarea específica que queremos que haga. Por ejemplo, creemos un método muy simple para reproducir el primer ciclo que creamos arriba:"
   ]
  },
  {
   "cell_type": "code",
   "execution_count": null,
   "metadata": {
    "collapsed": true
   },
   "outputs": [],
   "source": [
    "def run_simple_loop():\n",
    "    for i in range(10):\n",
    "        print(i)\n",
    "    return None"
   ]
  },
  {
   "cell_type": "markdown",
   "metadata": {},
   "source": [
    "Ya con este método simple, hay muchas cosas interesantes en juego:\n",
    "\n",
    "* Primero, observe cómo definimos un fragmento de código como una función: usamos `def` seguido del nombre de nuestra función (hemos elegido` run_simple_loop`, pero podríamos haberlo nombrado de cualquier modo).\n",
    "* Segundo, agregamos `()` después del nombre, y terminamos la línea con dos puntos (`:`). Esto es necesario y nos permitirá especificar los requisitos para la función (ver a continuación).\n",
    "* En tercer lugar, tenga en cuenta que todo lo que se encuentra dentro de una función debe sangrarse. Esta es una propiedad central de Python y, aunque algunas personas lo encuentran extraño, mejora la legibilidad en gran medida.\n",
    "* En cuarto lugar, la pieza de código para hacer la tarea que queremos, imprimir la secuencia de números, está dentro de la función de la misma manera que estaba afuera, solo con una sangría apropiada.\n",
    "* En quinto lugar, terminamos la función con una línea que comienza por `return`. En este caso, lo seguimos con `None`, pero esto cambiará a medida que las funciones se vuelvan más sofisticadas. Básicamente, esta es la parte de la función en la que se especifican los elementos que se desean devolver y se guardan para un uso posterior.\n",
    "\n",
    "Una vez que hemos prestado atención a estos elementos, podemos ver cómo el método * puede llamarse * y, por lo tanto, el código que se ejecuta en él:"
   ]
  },
  {
   "cell_type": "code",
   "execution_count": null,
   "metadata": {},
   "outputs": [],
   "source": [
    "run_simple_loop()"
   ]
  },
  {
   "cell_type": "markdown",
   "metadata": {},
   "source": [
    "Esta es la misma manera que llamamos `range` antes. Tenga en cuenta que no incluimos los dos puntos (`:`) sino simplemente use el nombre del método seguido por el paréntesis.\n",
    "\n",
    "Este es el método más sencillo que puedes escribir: no necesitas nada, solo lo ejecutas, y el código produce y saca (la impresión) pero no se guarda en ninguna parte. El resto de esta sección relaja estos dos aspectos para permitirnos construir funciones más complejas, pero también más útiles.\n",
    "\n",
    "Primero, puede especificar \"argumentos\" para pasar que modifiquen el comportamiento del método. Recuerda cómo llamamos a `np.arange` con un número que implicaba la longitud de la secuencia que queríamos devolver. Podemos hacer lo mismo en nuestra propia función. El aspecto principal a tener en cuenta en este contexto es que los argumentos deben ser variables, no valores particulares. Veamos un ejemplo modificado de nuestro método:"
   ]
  },
  {
   "cell_type": "code",
   "execution_count": null,
   "metadata": {
    "collapsed": true
   },
   "outputs": [],
   "source": [
    "def run_simple_loopX(x):\n",
    "    for i in range(x):\n",
    "        print(i)\n",
    "    return None"
   ]
  },
  {
   "cell_type": "markdown",
   "metadata": {},
   "source": [
    "Hemos reemplazado la longitud fija de la secuencia (10) por una variable llamada `x` que nos permite especificar * cualquier valor que queremos * cuando llamamos al método:"
   ]
  },
  {
   "cell_type": "code",
   "execution_count": null,
   "metadata": {},
   "outputs": [],
   "source": [
    "run_simple_loopX(3)"
   ]
  },
  {
   "cell_type": "code",
   "execution_count": null,
   "metadata": {},
   "outputs": [],
   "source": [
    "run_simple_loopX(2)"
   ]
  },
  {
   "cell_type": "markdown",
   "metadata": {},
   "source": [
    "Otra forma de aumentar la flexibilidad en un método es permitiéndole devolver una salida del cálculo. En los ejemplos anteriores, la función realiza un cálculo (es decir, valores de impresión en la pantalla), pero no devuelve ningún valor. Esto está en contraste con, por ejemplo, `range` que devuelve una salida, la secuencia de valores:"
   ]
  },
  {
   "cell_type": "code",
   "execution_count": null,
   "metadata": {
    "collapsed": true
   },
   "outputs": [],
   "source": [
    "a = range(10)"
   ]
  },
  {
   "cell_type": "code",
   "execution_count": null,
   "metadata": {},
   "outputs": [],
   "source": [
    "a"
   ]
  },
  {
   "cell_type": "markdown",
   "metadata": {},
   "source": [
    "Nuestra funcion no guarda nada "
   ]
  },
  {
   "cell_type": "code",
   "execution_count": null,
   "metadata": {},
   "outputs": [],
   "source": [
    "b = run_simple_loopX(3)"
   ]
  },
  {
   "cell_type": "code",
   "execution_count": null,
   "metadata": {
    "collapsed": true
   },
   "outputs": [],
   "source": [
    "b"
   ]
  },
  {
   "cell_type": "markdown",
   "metadata": {},
   "source": [
    "Podemos modificar esto usando la última línea de un método. Por ejemplo, supongamos que queremos devolver una secuencia siempre que la serie de números que imprimimos en la pantalla. El método debería ser:"
   ]
  },
  {
   "cell_type": "code",
   "execution_count": null,
   "metadata": {
    "collapsed": true
   },
   "outputs": [],
   "source": [
    "def run_simple_loopXout1(x):\n",
    "    for i in range(x):\n",
    "        print(i)\n",
    "    return range(x),1"
   ]
  },
  {
   "cell_type": "code",
   "execution_count": null,
   "metadata": {},
   "outputs": [],
   "source": [
    "hola,chau=run_simple_loopXout1(10)"
   ]
  },
  {
   "cell_type": "markdown",
   "metadata": {},
   "source": [
    "Tenga en cuenta la diferencia principal: en lugar de devolver `None`, le estamos diciendo a Python que devuelva una secuencia, que tiene la misma longitud que la utilizada para especificar el ciclo. Ahora, hay una forma alternativa de ser más eficiente en este método, y eso es asignar la secuencia a un nuevo objeto y usarlo cuando sea necesario más adelante. Los resultados son exactamente los mismos, pero se realizan menos cálculos y, lo que es más crítico, minimizamos las posibilidades de cometer errores."
   ]
  },
  {
   "cell_type": "code",
   "execution_count": null,
   "metadata": {
    "collapsed": true
   },
   "outputs": [],
   "source": [
    "def run_simple_loopXout2(x):\n",
    "    seq = range(x)\n",
    "    for i in seq:\n",
    "        print(i)\n",
    "    return seq"
   ]
  },
  {
   "cell_type": "markdown",
   "metadata": {},
   "source": [
    "Cualquiera de estas dos nuevas versiones del método devuelve una salida u output:"
   ]
  },
  {
   "cell_type": "code",
   "execution_count": null,
   "metadata": {},
   "outputs": [],
   "source": [
    "a = run_simple_loopX(3)\n",
    "b = run_simple_loopXout1(3)\n",
    "c = run_simple_loopXout2(3)"
   ]
  },
  {
   "cell_type": "code",
   "execution_count": null,
   "metadata": {
    "collapsed": true
   },
   "outputs": [],
   "source": [
    "a"
   ]
  },
  {
   "cell_type": "code",
   "execution_count": null,
   "metadata": {},
   "outputs": [],
   "source": [
    "b"
   ]
  },
  {
   "cell_type": "code",
   "execution_count": null,
   "metadata": {},
   "outputs": [],
   "source": [
    "c"
   ]
  },
  {
   "cell_type": "markdown",
   "metadata": {},
   "source": [
    "La ventaja de las funciones, como lo es el código directo, es que nos obligan a pensar de forma modular, ayudándonos a identificar exactamente qué se necesita hacer, en qué orden y qué se requiere. Encapsular estos fragmentos atómicos de la funcionalidad en las funciones nos permite escribir cosas una vez y usarlas de manera flexible en todas partes, lo que nos ahorra tiempo (y dolores de cabeza) a largo plazo.\n",
    "\n",
    "Esto de hecho es una de las grandes lecciones que el pensamiento computacional tiene para dar a la vida cotidiana. para resolver un problema complejo, ayuda descomponerlo en problemas sencillos. Con el tiempo, uno va a aprender a descomponer el problema que tiene en frente en partes sencillas, aramr una función que resuelva cada parte y luego un procedimiento que implemente todas esas funciones en orden. Pero eso lo veremos más adelante. \n",
    "\n",
    "Una nota final sobre las funciones. Es importante que, cada vez que cree una función, incluya cierta documentación sobre lo que espera, lo que hace y lo que devuelve. Aunque hay muchas maneras de hacerlo, la convención típica es la siguiente:"
   ]
  },
  {
   "cell_type": "code",
   "execution_count": null,
   "metadata": {
    "collapsed": true
   },
   "outputs": [],
   "source": [
    "def run_simple_loopXout(x):\n",
    "    \"\"\"\n",
    "    Imprime los valores en una seucnecia de una determinada longitud\n",
    "    ...\n",
    "    \n",
    "    Argumentos\n",
    "    ---------\n",
    "    x     : int\n",
    "            Largo de la secuencia\n",
    "    \n",
    "    Devuelve\n",
    "    -------\n",
    "    seq   : list\n",
    "            Secuencia de valores a imprimir\n",
    "    \"\"\"\n",
    "    seq = range(x)\n",
    "    for i in seq:\n",
    "        print(i)\n",
    "    return seq"
   ]
  },
  {
   "cell_type": "markdown",
   "metadata": {},
   "source": [
    "La documentación, como cualquier cadena, se resalta en rojo en una computadora portátil. Echemos un vistazo a la estructura y los componentes de una documentación bien hecha (también llamada \"docstring\"):\n",
    "\n",
    "* Está encapsulado entre comas triples (`\" \"\" `).\n",
    "* Comienza con una breve descripción de lo que hace el método. Cuanto más corto, mejor, más conciso, incluso mejor.\n",
    "* Hay una sección llamada \"Argumentos\" que enumera los elementos que la función espera.\n",
    "* Luego se enumera cada argumento, seguido de su tipo. En este caso, es un objeto `x` que, como nos dicen, debe ser un número entero.\n",
    "* Los argumentos son seguidos por otra sección que especifica qué devuelve la función y de qué tipo es la salida.\n",
    "\n",
    "La documentación de esta manera es muy útil para recordar lo que hace una función, pero también para forzarse a escribir un código más claro. Una ventaja es que, si incluye la documentación de esta manera, puede verificarse con los sistemas estándar de \"ayuda\" o \"?\" Revisados anteriormente:"
   ]
  },
  {
   "cell_type": "code",
   "execution_count": null,
   "metadata": {
    "collapsed": true
   },
   "outputs": [],
   "source": [
    "run_simple_loopXout?"
   ]
  },
  {
   "cell_type": "code",
   "execution_count": null,
   "metadata": {},
   "outputs": [],
   "source": [
    "help(run_simple_loopXout)"
   ]
  },
  {
   "cell_type": "markdown",
   "metadata": {},
   "source": [
    "### E librerias de Python"
   ]
  },
  {
   "cell_type": "markdown",
   "metadata": {},
   "source": [
    "El lenguaje Python estándar incluye las estructuras de datos que ya vimos (listas, diccionarios, etc) y permite muchas operaciones básicas (por ejemplo, suma, producto, etc.). Por ejemplo, recién salido de la caja, y sin ninguna acción adicional necesaria, puede usar Python como una calculadora:"
   ]
  },
  {
   "cell_type": "code",
   "execution_count": null,
   "metadata": {},
   "outputs": [],
   "source": [
    "3 + 5"
   ]
  },
  {
   "cell_type": "code",
   "execution_count": null,
   "metadata": {},
   "outputs": [],
   "source": [
    "2. / 3"
   ]
  },
  {
   "cell_type": "code",
   "execution_count": null,
   "metadata": {},
   "outputs": [],
   "source": [
    "(3 + 5) * 2. / 3"
   ]
  },
  {
   "cell_type": "markdown",
   "metadata": {},
   "source": [
    "Sin embargo, la fortaleza de Python como herramienta de análisis de datos proviene de las extensiones proporcionadas por separado que agregan funcionalidad y brindan acceso a estructuras y funciones de datos mucho más sofisticadas. Estos vienen en forma de paquetes o bibliotecas que una vez instalados deben importarse en una sesión.\n",
    "\n",
    "En este curso, utilizaremos muchas de las bibliotecas centrales de lo que se ha denominado \"PyData\", el conjunto de bibliotecas que hacen de Python un sistema completo para Ciencia de Datos. Los presentaremos gradualmente a medida que los necesitemos para tareas particulares pero, por ahora, echemos un vistazo a la biblioteca fundamental, [numpy](http://www.numpy.org/) (abreviatura de Python numérico). Importarlo es simple:"
   ]
  },
  {
   "cell_type": "code",
   "execution_count": null,
   "metadata": {
    "collapsed": true
   },
   "outputs": [],
   "source": [
    "import numpy as np # lo renombramos con una forma mas corta"
   ]
  },
  {
   "cell_type": "markdown",
   "metadata": {},
   "source": [
    "Tenga en cuenta cómo lo importamos * y * lo cambiamos de nombre en la sesión, de `numpy` a `np`, que es más corto y más conveniente.\n",
    "\n",
    "Tenga en cuenta también cómo funcionan los comentarios en Python: todo en una línea * después de * el signo `#` es ignorado por Python cuando evalúa el código. Esto le permite insertar comentarios que Python ignorará pero que pueden ayudarlo a usted y a otros a comprender mejor el código.\n",
    "\n",
    "Una vez que las importaciones están fuera del camino, comencemos a explorar lo que podemos hacer con `numpy`. Una de las tareas más fáciles es crear una secuencia de números:"
   ]
  },
  {
   "cell_type": "code",
   "execution_count": null,
   "metadata": {},
   "outputs": [],
   "source": [
    "seq = np.arange(10)\n",
    "seq"
   ]
  },
  {
   "cell_type": "markdown",
   "metadata": {},
   "source": [
    "Lo primero a tener en cuenta es que, en la línea 1, creamos la secuencia llamando a la función `arange` y la asignamos a un objeto llamado `seq` (podría llamarse cualquier otra cosa, elija su favorito) y, en línea 2, lo tenemos impreso como la salida de la celda.\n",
    "\n",
    "Otra característica interesante es cómo, dado que estamos llamando a una función `numpy` llamada `arange` al agregar `np` al frente. Esto es para notar que la función viene explícitamente de `numpy`. Para saber qué tan necesario es esto, puedes intentar generar la secuencia sin `np`:"
   ]
  },
  {
   "cell_type": "code",
   "execution_count": null,
   "metadata": {},
   "outputs": [],
   "source": [
    "# QUITAR COMENTARIO PARA CORRER LA CELDA\n",
    "seq = arange(10)"
   ]
  },
  {
   "cell_type": "markdown",
   "metadata": {},
   "source": [
    "Lo que obtienes es un error, también llamado \"rastreo\". En particular, Python dice que no puede encontrar una función llamada `arange` en la biblioteca central. Esto se debe a que esa función particular solo está disponible en `numpy`."
   ]
  },
  {
   "cell_type": "markdown",
   "metadata": {},
   "source": [
    "¿Pero por qué usar `numpy` si ya podíamos producir una lista de números a partir de un rango? Porque `numpy` puede hacer cosas que Python básico no. Si queremos calcular la suma de esos números podríamos con Python básico utilizando la función *sum*"
   ]
  },
  {
   "cell_type": "code",
   "execution_count": null,
   "metadata": {},
   "outputs": [],
   "source": [
    "sum(range(10))"
   ]
  },
  {
   "cell_type": "markdown",
   "metadata": {},
   "source": [
    "¿Pero si queremos calcular el promedio o el desvío estandar? Para eso necesitamos librerías como `numpy`"
   ]
  },
  {
   "cell_type": "code",
   "execution_count": null,
   "metadata": {},
   "outputs": [],
   "source": [
    "mean(seq)"
   ]
  },
  {
   "cell_type": "code",
   "execution_count": null,
   "metadata": {},
   "outputs": [],
   "source": [
    "np.sum(seq) #la suma"
   ]
  },
  {
   "cell_type": "markdown",
   "metadata": {},
   "source": [
    "Vemos que ya no usamos una función *sum* a secas, sino que es una función que está dentro de `numpy` (al igual que arange). La diferencia es que dentro de la librería hay muchas otras funciones como el promedio y el desvío."
   ]
  },
  {
   "cell_type": "code",
   "execution_count": null,
   "metadata": {},
   "outputs": [],
   "source": [
    "np.mean(seq)"
   ]
  },
  {
   "cell_type": "code",
   "execution_count": null,
   "metadata": {},
   "outputs": [],
   "source": [
    "np.std(seq)"
   ]
  },
  {
   "cell_type": "markdown",
   "metadata": {},
   "source": [
    "Existe otra forma de llamar a las funciones y son los métodos. Podríamos decir que un método es una función que se aplica sobre el objeto mismo, con algunos parámetros opcionales. "
   ]
  },
  {
   "cell_type": "code",
   "execution_count": null,
   "metadata": {},
   "outputs": [],
   "source": [
    "seq.mean() #la media"
   ]
  },
  {
   "cell_type": "code",
   "execution_count": null,
   "metadata": {},
   "outputs": [],
   "source": [
    "seq.std() #el desvio"
   ]
  },
  {
   "cell_type": "code",
   "execution_count": null,
   "metadata": {},
   "outputs": [],
   "source": [
    "np.mean(seq)"
   ]
  },
  {
   "cell_type": "code",
   "execution_count": null,
   "metadata": {},
   "outputs": [],
   "source": [
    "type(seq)"
   ]
  },
  {
   "cell_type": "markdown",
   "metadata": {},
   "source": [
    "Formalmente, en realidad, las funciones son también métodos."
   ]
  },
  {
   "cell_type": "markdown",
   "metadata": {},
   "source": [
    "Otra ventaja de numpy es que nos permite realizar operaciones vectoriales:"
   ]
  },
  {
   "cell_type": "code",
   "execution_count": null,
   "metadata": {},
   "outputs": [],
   "source": [
    "(seq - seq.mean()) / seq.std()"
   ]
  },
  {
   "cell_type": "markdown",
   "metadata": {},
   "source": [
    "### F Aplicar una función a una lista de elementos, uno a uno\n",
    "\n",
    "Esta es una operación que sucede con mucha frecuencia. Tenemos una serie o lista de elementos (esto pueden ser números, letras, o bases de datos enteras) a los que queremos realizarle una serie de procesos (que ordenamos en una función). Hay muchas formas de realizar esto. Por ahora tomaremos a modo de ejemplo una serie de letras minusculas a las que intentaremos pasar a mayúsculas."
   ]
  },
  {
   "cell_type": "code",
   "execution_count": null,
   "metadata": {
    "collapsed": true
   },
   "outputs": [],
   "source": [
    "import string"
   ]
  },
  {
   "cell_type": "code",
   "execution_count": null,
   "metadata": {},
   "outputs": [],
   "source": [
    "letras = list(string.ascii_letters[:5])\n",
    "letras"
   ]
  },
  {
   "cell_type": "code",
   "execution_count": null,
   "metadata": {},
   "outputs": [],
   "source": [
    "letra_a = letras[0]\n",
    "letra_a"
   ]
  },
  {
   "cell_type": "code",
   "execution_count": null,
   "metadata": {},
   "outputs": [],
   "source": [
    "#usamos el metodo upper que se aplica sobre el mismo objeto letra_a sin parametros adicionales (por eso los parentesis vacios)\n",
    "letra_a.upper()"
   ]
  },
  {
   "cell_type": "markdown",
   "metadata": {},
   "source": [
    "#### Loop\n",
    "\n",
    "Podemos introducir nuestra funcion en un loop:\n"
   ]
  },
  {
   "cell_type": "code",
   "execution_count": null,
   "metadata": {},
   "outputs": [],
   "source": [
    "mayusculas_loop = []\n",
    "mayusculas_loop"
   ]
  },
  {
   "cell_type": "code",
   "execution_count": null,
   "metadata": {},
   "outputs": [],
   "source": [
    "for letra in letras:\n",
    "    mayusculas_loop.append(letra.upper())\n",
    "mayusculas_loop   "
   ]
  },
  {
   "cell_type": "markdown",
   "metadata": {},
   "source": [
    "#### Loop [pythonesco](https://en.wiktionary.org/wiki/Pythonesque#Etymology_2)\n",
    "\n",
    "Python tiene una forma de aplicar un loop en una sola línea de programación, lo que se denomina *list comprehension*"
   ]
  },
  {
   "cell_type": "code",
   "execution_count": null,
   "metadata": {},
   "outputs": [],
   "source": [
    "mayusculas_loop_P = [letra.upper() for letra in letras]\n",
    "mayusculas_loop_P"
   ]
  },
  {
   "cell_type": "markdown",
   "metadata": {},
   "source": [
    "#### Map\n",
    "\n",
    "Otra forma consiste en *mapear* una función a través de una lista o serie de elementos"
   ]
  },
  {
   "cell_type": "code",
   "execution_count": null,
   "metadata": {},
   "outputs": [],
   "source": [
    "list(map(str.upper,letras))"
   ]
  },
  {
   "cell_type": "markdown",
   "metadata": {},
   "source": [
    "![???](https://media.giphy.com/media/xhN4C2vEuapCo/giphy.gif)"
   ]
  },
  {
   "cell_type": "markdown",
   "metadata": {},
   "source": [
    "Esto es más avanzado de lo que se espera que podamos aprender en una primera clase. Pero lo dejamos en el notebook con el espítiru de que si alguna vez alguno/a desea aventurarse más allá, tenga una punta del ovillo con la cual ingresar al laberinto.\n",
    "\n",
    "Explicaremos lo que sucedió"
   ]
  },
  {
   "cell_type": "code",
   "execution_count": null,
   "metadata": {
    "collapsed": true
   },
   "outputs": [],
   "source": [
    "def sumar10(x):\n",
    "    return x+10"
   ]
  },
  {
   "cell_type": "code",
   "execution_count": null,
   "metadata": {},
   "outputs": [],
   "source": [
    "sumar10(1)"
   ]
  },
  {
   "cell_type": "code",
   "execution_count": null,
   "metadata": {},
   "outputs": [],
   "source": [
    "#aplicamos el mapeo a una LISTA de python\n",
    "mapeo = map(sumar10,[1,2,3])\n",
    "type(mapeo)"
   ]
  },
  {
   "cell_type": "markdown",
   "metadata": {},
   "source": [
    "Lo que devuelve es un objeto particular, que se llama *map*"
   ]
  },
  {
   "cell_type": "code",
   "execution_count": null,
   "metadata": {},
   "outputs": [],
   "source": [
    "mapeo"
   ]
  },
  {
   "cell_type": "code",
   "execution_count": null,
   "metadata": {},
   "outputs": [],
   "source": [
    "type(mapeo)"
   ]
  },
  {
   "cell_type": "markdown",
   "metadata": {},
   "source": [
    "Si queremos visualizar su contenido hay que convertirlo en una lista"
   ]
  },
  {
   "cell_type": "code",
   "execution_count": null,
   "metadata": {},
   "outputs": [],
   "source": [
    "list(mapeo)"
   ]
  },
  {
   "cell_type": "markdown",
   "metadata": {},
   "source": [
    "Cuando uno mapea una función a lo largo de lista, lo que devuelve es un objeto nuevo que se llama *map*. Por eso es que para visualizar dicho objeto, lo convertirmos en un  objeto de tipos lista. \n",
    "\n",
    "Pero entonces, ¿qué hace ese *str* metido en el medio? La función *upper* es una función (o método) propio de los objetos de tipo *string*."
   ]
  },
  {
   "cell_type": "code",
   "execution_count": null,
   "metadata": {},
   "outputs": [],
   "source": [
    "'a'.upper()"
   ]
  },
  {
   "cell_type": "markdown",
   "metadata": {},
   "source": [
    "La definición de esa función, de la serie de tareas que ejecuta, se encuentran déntro de string, asi como *mean* estaba dentro de *np* (Numpy)"
   ]
  },
  {
   "cell_type": "code",
   "execution_count": null,
   "metadata": {},
   "outputs": [],
   "source": [
    "upper?"
   ]
  },
  {
   "cell_type": "code",
   "execution_count": null,
   "metadata": {
    "collapsed": true
   },
   "outputs": [],
   "source": [
    "str.upper?"
   ]
  },
  {
   "cell_type": "markdown",
   "metadata": {},
   "source": [
    "Por eso es que la función hay que extraerla de dentro del módulo *str*. A esto nos referíamos con las muñecas rusas, siempre hay un objeto esta construido por otros más pequeños."
   ]
  },
  {
   "cell_type": "markdown",
   "metadata": {},
   "source": [
    "![Muñecas usas](https://russian-crafts.com/images/thumbnails/400/400/detailed/53/or-226.jpg)"
   ]
  },
  {
   "cell_type": "markdown",
   "metadata": {},
   "source": [
    "Solamente para sumarle más muñecas, la función no tenemos que definirla antes, podemos hacerlo en el mismo momento con **lambda**"
   ]
  },
  {
   "cell_type": "code",
   "execution_count": null,
   "metadata": {},
   "outputs": [],
   "source": [
    "list(map(lambda x: x.upper(),letras))"
   ]
  },
  {
   "cell_type": "code",
   "execution_count": null,
   "metadata": {},
   "outputs": [],
   "source": [
    "list(map(lambda x: x + 10,[1,2,3]))"
   ]
  },
  {
   "cell_type": "markdown",
   "metadata": {},
   "source": [
    "Para terminar vamos a mostrar una libreria que será la base de la próxima clase: **Pandas**"
   ]
  },
  {
   "cell_type": "code",
   "execution_count": null,
   "metadata": {
    "collapsed": true
   },
   "outputs": [],
   "source": [
    "#importamos la libreria con su alias\n",
    "import pandas as pd"
   ]
  },
  {
   "cell_type": "markdown",
   "metadata": {},
   "source": [
    "Esta libreria tiene un tipo de objeto que se llama *Series* con propiedades diferentes a la *lista* y al *array* de Numpy"
   ]
  },
  {
   "cell_type": "code",
   "execution_count": null,
   "metadata": {},
   "outputs": [],
   "source": [
    "letras_serie = pd.Series(letras)\n",
    "letras_serie"
   ]
  },
  {
   "cell_type": "code",
   "execution_count": null,
   "metadata": {},
   "outputs": [],
   "source": [
    "type(letras_serie)"
   ]
  },
  {
   "cell_type": "markdown",
   "metadata": {},
   "source": [
    "Tiene muchas propiedades que los otros objetosno tienen, ente ellos el *map* se aplica de manera más sencilla "
   ]
  },
  {
   "cell_type": "code",
   "execution_count": null,
   "metadata": {},
   "outputs": [],
   "source": [
    "letras_serie.map(str.upper)"
   ]
  },
  {
   "cell_type": "code",
   "execution_count": null,
   "metadata": {},
   "outputs": [],
   "source": [
    "pd.Series([1,2,3]).map(lambda x: x+10)"
   ]
  },
  {
   "cell_type": "code",
   "execution_count": null,
   "metadata": {},
   "outputs": [],
   "source": [
    "pd.Series([1,2,3]).mean()"
   ]
  },
  {
   "cell_type": "markdown",
   "metadata": {},
   "source": [
    "---\n",
    "Basado en el trabajo de \n",
    "<a rel=\"license\" href=\"http://creativecommons.org/licenses/by-nc-sa/4.0/\"><img alt=\"Creative Commons License\" style=\"border-width:0\" src=\"https://i.creativecommons.org/l/by-nc-sa/4.0/88x31.png\" /></a><br /><span xmlns:dct=\"http://purl.org/dc/terms/\" property=\"dct:title\">Geographic Data Science'17 - Lab 0</span> by <a xmlns:cc=\"http://creativecommons.org/ns#\" href=\"http://darribas.org\" property=\"cc:attributionName\" rel=\"cc:attributionURL\">Dani Arribas-Bel</a> is licensed under a <a rel=\"license\" href=\"http://creativecommons.org/licenses/by-nc-sa/4.0/\">Creative Commons Attribution-NonCommercial-ShareAlike 4.0 International License</a>.\n",
    "\n"
   ]
  },
  {
   "cell_type": "code",
   "execution_count": null,
   "metadata": {
    "collapsed": true
   },
   "outputs": [],
   "source": []
  }
 ],
 "metadata": {
  "kernelspec": {
   "display_name": "Python 3",
   "language": "python",
   "name": "python3"
  },
  "language_info": {
   "codemirror_mode": {
    "name": "ipython",
    "version": 3
   },
   "file_extension": ".py",
   "mimetype": "text/x-python",
   "name": "python",
   "nbconvert_exporter": "python",
   "pygments_lexer": "ipython3",
   "version": "3.6.5"
  }
 },
 "nbformat": 4,
 "nbformat_minor": 1
}
