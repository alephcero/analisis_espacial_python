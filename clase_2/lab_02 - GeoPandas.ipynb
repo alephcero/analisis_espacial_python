{
 "cells": [
  {
   "cell_type": "markdown",
   "metadata": {},
   "source": [
    "# Gráficos y mapas en Python con `geopandas` y `matplotlib` \n",
    "\n",
    "En este práctico, aprenderemos cómo cargar, manipular y visualizar datos espaciales. En algunos sentidos, los datos espaciales se han vuelto tan omnipresentes que hoy en día, por lo general, se incluyen simplemente como \"una columna más\" en una tabla. Sin embargo, el espacio es especial a veces y hay pocos aspectos en los que los datos geográficos difieren de las tablas numéricas estándar. En esta sesión, ampliaremos las habilidades desarrolladas en el anterior sobre datos no espaciales, y los combinaremos. En el proceso, descubriremos que, aunque con algunas particularidades, tratar con datos espaciales en Python se asemeja en gran medida a tratar con datos no espaciales. Por ejemplo, en esta práctica de laboratorio aprenderá a hacer mapas pulidos como este con solo unos pocos comandos:\n",
    "\n",
    "![AYUDA](../img/plot.png)\n",
    "\n",
    "La biblioteca principal empleada para todo esto es `geopandas`, que es una extensión geoespacial de la biblioteca de `pandas`, ya presentada en la clase anterior. `geopandas` admite exactamente la misma funcionalidad que `pandas` (de hecho, ya que está construida encima, por lo que la mayoría de los objetos subyacentes son de `pandas`), más una amplia gama de contrapartes espaciales que hacen manipulación general de datos espaciales tan fácil como tablas no-espaciales. Como las muñecas rusas, `geopandas` es una muñeca rusa que adentro contiene `pandas`.\n",
    "\n",
    "![pandas y geopandas](https://images-na.ssl-images-amazon.com/images/I/71GnlJP8gVL._SX425_.jpg)"
   ]
  },
  {
   "cell_type": "code",
   "execution_count": 1,
   "metadata": {},
   "outputs": [],
   "source": [
    "#df.plot.hexbin(x='coord_x',\n",
    "#                     y='coord_y',\n",
    "#                     C='observations',\n",
    "#                     reduce_C_function=np.sum,\n",
    "#                     gridsize=10,\n",
    "#                     cmap=\"viridis\")"
   ]
  },
  {
   "cell_type": "code",
   "execution_count": 2,
   "metadata": {},
   "outputs": [],
   "source": [
    "#hacer lrs con los subtes, poner las estaciones en orden, calcular la distancia entre estaciones y visualizar"
   ]
  },
  {
   "cell_type": "code",
   "execution_count": 3,
   "metadata": {},
   "outputs": [],
   "source": [
    "# explicar que esta tabla es igual a la que veniamos viendo, pero con un nuevo tipo, goemetyr que adentro es shapely"
   ]
  },
  {
   "cell_type": "code",
   "execution_count": 4,
   "metadata": {},
   "outputs": [],
   "source": [
    "#tratar el tema de lartitud longitude como separado y graficar con eso"
   ]
  },
  {
   "cell_type": "code",
   "execution_count": 5,
   "metadata": {},
   "outputs": [],
   "source": [
    "#ahi ver tema proyecciones"
   ]
  },
  {
   "cell_type": "code",
   "execution_count": 6,
   "metadata": {},
   "outputs": [],
   "source": [
    "#importamos las librerías que veníamos trabajando \n",
    "import pandas as pd\n",
    "import numpy as np\n",
    "\n",
    "#y sumamos la que va a coronar la triada\n",
    "import geopandas as gpd"
   ]
  },
  {
   "cell_type": "markdown",
   "metadata": {},
   "source": [
    "## 1- GeoPandas, DataFrames como los de `Pandas`, pero Geo"
   ]
  },
  {
   "cell_type": "code",
   "execution_count": 7,
   "metadata": {},
   "outputs": [
    {
     "data": {
      "text/html": [
       "<div>\n",
       "<style scoped>\n",
       "    .dataframe tbody tr th:only-of-type {\n",
       "        vertical-align: middle;\n",
       "    }\n",
       "\n",
       "    .dataframe tbody tr th {\n",
       "        vertical-align: top;\n",
       "    }\n",
       "\n",
       "    .dataframe thead th {\n",
       "        text-align: right;\n",
       "    }\n",
       "</style>\n",
       "<table border=\"1\" class=\"dataframe\">\n",
       "  <thead>\n",
       "    <tr style=\"text-align: right;\">\n",
       "      <th></th>\n",
       "      <th>ID</th>\n",
       "      <th>ESTACION</th>\n",
       "      <th>LINEA</th>\n",
       "      <th>geometry</th>\n",
       "    </tr>\n",
       "  </thead>\n",
       "  <tbody>\n",
       "    <tr>\n",
       "      <th>0</th>\n",
       "      <td>1.0</td>\n",
       "      <td>CASEROS</td>\n",
       "      <td>H</td>\n",
       "      <td>POINT (105902.3513636972 99279.28209795424)</td>\n",
       "    </tr>\n",
       "    <tr>\n",
       "      <th>1</th>\n",
       "      <td>2.0</td>\n",
       "      <td>INCLAN</td>\n",
       "      <td>H</td>\n",
       "      <td>POINT (105715.5543212891 99986.54907226562)</td>\n",
       "    </tr>\n",
       "    <tr>\n",
       "      <th>2</th>\n",
       "      <td>3.0</td>\n",
       "      <td>HUMBERTO 1°</td>\n",
       "      <td>H</td>\n",
       "      <td>POINT (105591.8884887695 100683.6583251953)</td>\n",
       "    </tr>\n",
       "    <tr>\n",
       "      <th>3</th>\n",
       "      <td>4.0</td>\n",
       "      <td>VENEZUELA</td>\n",
       "      <td>H</td>\n",
       "      <td>POINT (105371.4735107422 101554.6354980469)</td>\n",
       "    </tr>\n",
       "    <tr>\n",
       "      <th>4</th>\n",
       "      <td>5.0</td>\n",
       "      <td>ONCE - 30 DE DICIEMBRE</td>\n",
       "      <td>H</td>\n",
       "      <td>POINT (105252.2113037109 102254.3510742188)</td>\n",
       "    </tr>\n",
       "  </tbody>\n",
       "</table>\n",
       "</div>"
      ],
      "text/plain": [
       "    ID                ESTACION LINEA  \\\n",
       "0  1.0                 CASEROS     H   \n",
       "1  2.0                  INCLAN     H   \n",
       "2  3.0             HUMBERTO 1°     H   \n",
       "3  4.0               VENEZUELA     H   \n",
       "4  5.0  ONCE - 30 DE DICIEMBRE     H   \n",
       "\n",
       "                                      geometry  \n",
       "0  POINT (105902.3513636972 99279.28209795424)  \n",
       "1  POINT (105715.5543212891 99986.54907226562)  \n",
       "2  POINT (105591.8884887695 100683.6583251953)  \n",
       "3  POINT (105371.4735107422 101554.6354980469)  \n",
       "4  POINT (105252.2113037109 102254.3510742188)  "
      ]
     },
     "execution_count": 7,
     "metadata": {},
     "output_type": "execute_result"
    }
   ],
   "source": [
    "#abrimos nuestro dataset espacial a aprtir de un archivo en el formato mas tradicional: ESRI shapefile \n",
    "estaciones = gpd.read_file('../carto/estaciones_de_subte.shp')\n",
    "estaciones.head()"
   ]
  },
  {
   "cell_type": "code",
   "execution_count": 8,
   "metadata": {},
   "outputs": [
    {
     "data": {
      "text/plain": [
       "geopandas.geodataframe.GeoDataFrame"
      ]
     },
     "execution_count": 8,
     "metadata": {},
     "output_type": "execute_result"
    }
   ],
   "source": [
    "#es muy siliar a pandas dataframe. vemos su tipo y vemos que es una especia de data frame\n",
    "type(estaciones)"
   ]
  },
  {
   "cell_type": "code",
   "execution_count": 9,
   "metadata": {},
   "outputs": [
    {
     "data": {
      "text/plain": [
       "(86, 4)"
      ]
     },
     "execution_count": 9,
     "metadata": {},
     "output_type": "execute_result"
    }
   ],
   "source": [
    "#tiene las mismas propiedades\n",
    "estaciones.shape"
   ]
  },
  {
   "cell_type": "code",
   "execution_count": 10,
   "metadata": {},
   "outputs": [
    {
     "name": "stdout",
     "output_type": "stream",
     "text": [
      "<class 'geopandas.geodataframe.GeoDataFrame'>\n",
      "RangeIndex: 86 entries, 0 to 85\n",
      "Data columns (total 4 columns):\n",
      "ID          86 non-null float64\n",
      "ESTACION    86 non-null object\n",
      "LINEA       86 non-null object\n",
      "geometry    86 non-null object\n",
      "dtypes: float64(1), object(3)\n",
      "memory usage: 2.8+ KB\n"
     ]
    }
   ],
   "source": [
    "#info\n",
    "estaciones.info()"
   ]
  },
  {
   "cell_type": "code",
   "execution_count": 11,
   "metadata": {},
   "outputs": [
    {
     "data": {
      "text/plain": [
       "RangeIndex(start=0, stop=86, step=1)"
      ]
     },
     "execution_count": 11,
     "metadata": {},
     "output_type": "execute_result"
    }
   ],
   "source": [
    "#se indexa por fila\n",
    "estaciones.index"
   ]
  },
  {
   "cell_type": "code",
   "execution_count": 12,
   "metadata": {},
   "outputs": [
    {
     "data": {
      "text/plain": [
       "Index(['ID', 'ESTACION', 'LINEA', 'geometry'], dtype='object')"
      ]
     },
     "execution_count": 12,
     "metadata": {},
     "output_type": "execute_result"
    }
   ],
   "source": [
    "#tambien por columnas\n",
    "estaciones.columns"
   ]
  },
  {
   "cell_type": "markdown",
   "metadata": {},
   "source": [
    "En las columnas vemos ya el elemento que hace a este *data frame* algo diferente a los de `pandas`: el campo **geometry** "
   ]
  },
  {
   "cell_type": "code",
   "execution_count": 13,
   "metadata": {},
   "outputs": [
    {
     "data": {
      "text/plain": [
       "0    POINT (105902.3513636972 99279.28209795424)\n",
       "1    POINT (105715.5543212891 99986.54907226562)\n",
       "2    POINT (105591.8884887695 100683.6583251953)\n",
       "3    POINT (105371.4735107422 101554.6354980469)\n",
       "4    POINT (105252.2113037109 102254.3510742188)\n",
       "Name: geometry, dtype: object"
      ]
     },
     "execution_count": 13,
     "metadata": {},
     "output_type": "execute_result"
    }
   ],
   "source": [
    "estaciones.geometry.head()"
   ]
  },
  {
   "cell_type": "code",
   "execution_count": 14,
   "metadata": {},
   "outputs": [
    {
     "data": {
      "text/plain": [
       "geopandas.geoseries.GeoSeries"
      ]
     },
     "execution_count": 14,
     "metadata": {},
     "output_type": "execute_result"
    }
   ],
   "source": [
    "#Pero a pesar de ser el elemento que diferencia un DataFrame de un GeoDataFrame, guarda similitud con un objeto conocido de Pandas\n",
    "#, geometry es una geoseries, similar a una series de pandas. \n",
    "type(estaciones.geometry)"
   ]
  },
  {
   "cell_type": "code",
   "execution_count": 15,
   "metadata": {},
   "outputs": [
    {
     "data": {
      "image/svg+xml": [
       "<svg xmlns=\"http://www.w3.org/2000/svg\" xmlns:xlink=\"http://www.w3.org/1999/xlink\" width=\"100.0\" height=\"100.0\" viewBox=\"105901.35136369725 99278.28209795424 2.0 2.0\" preserveAspectRatio=\"xMinYMin meet\"><g transform=\"matrix(1,0,0,-1,0,198558.5641959085)\"><circle cx=\"105902.35136369725\" cy=\"99279.28209795424\" r=\"0.06\" stroke=\"#555555\" stroke-width=\"0.02\" fill=\"#66cc99\" opacity=\"0.6\" /></g></svg>"
      ],
      "text/plain": [
       "<shapely.geometry.point.Point at 0x7f34fe34d6a0>"
      ]
     },
     "execution_count": 15,
     "metadata": {},
     "output_type": "execute_result"
    }
   ],
   "source": [
    "#es una geoSerie de que? que elementos la componen? que muñeca rusa m{as pequeña hay dentro?\n",
    "estaciones.geometry.iloc[0]"
   ]
  },
  {
   "cell_type": "code",
   "execution_count": 16,
   "metadata": {},
   "outputs": [
    {
     "name": "stdout",
     "output_type": "stream",
     "text": [
      "POINT (105902.3513636972 99279.28209795424)\n"
     ]
    }
   ],
   "source": [
    "print(estaciones.geometry.iloc[0])"
   ]
  },
  {
   "cell_type": "code",
   "execution_count": 17,
   "metadata": {},
   "outputs": [
    {
     "data": {
      "text/plain": [
       "shapely.geometry.point.Point"
      ]
     },
     "execution_count": 17,
     "metadata": {},
     "output_type": "execute_result"
    }
   ],
   "source": [
    "#es un objeto Shapely, para adentrarse mas en la madriguera del conejo, ver la disgresión sobre Shapely al final del notebook\n",
    "type(estaciones.geometry.iloc[0])"
   ]
  },
  {
   "cell_type": "markdown",
   "metadata": {},
   "source": [
    "## 2- Coordenadas\n",
    "\n",
    "En lo fundamental los GeoDatos, no dejan de ser los datos que trabajamos cotidianamente, pero con alguna referencia a su ubicación en el espacio, que creemos relevante por lo cual la introducimos en el análisis. Esa referencia al espacio debe corporizarse en algun tipo de objeto geografico, de los cuales utilizaremos 3 básicos:\n",
    "* Punto\n",
    "* Línea\n",
    "* Polígono\n",
    "\n",
    "En nuestro ejemplo, la estaciones de subte son puntos. El elemento geográfico más sencillo. En la geometría euclidiana, o de dos dimensiones, un punto se define por dos valores:"
   ]
  },
  {
   "cell_type": "code",
   "execution_count": 18,
   "metadata": {},
   "outputs": [
    {
     "data": {
      "text/plain": [
       "105902.35136369725"
      ]
     },
     "execution_count": 18,
     "metadata": {},
     "output_type": "execute_result"
    }
   ],
   "source": [
    "#un punto son dos coordenadas en el espacio\n",
    "estaciones.geometry.iloc[0].x"
   ]
  },
  {
   "cell_type": "code",
   "execution_count": 19,
   "metadata": {},
   "outputs": [
    {
     "data": {
      "text/plain": [
       "99279.28209795424"
      ]
     },
     "execution_count": 19,
     "metadata": {},
     "output_type": "execute_result"
    }
   ],
   "source": [
    "estaciones.geometry.iloc[0].y"
   ]
  },
  {
   "cell_type": "markdown",
   "metadata": {},
   "source": [
    "Tiene x y y, coordenadas en el eje cartesiano. Ojo que lo que siempre en matematica se llama x y y en ese orden, en geografia siempre se llamo latlong, pero x es long y y es lat. El orden cambia!\n",
    "![latlong](../img/xy_latlong.jfif)"
   ]
  },
  {
   "cell_type": "markdown",
   "metadata": {},
   "source": [
    "Pero es algo diferente a lo que siempre conocimos como latlong. En general estamos acostumbrados en mapas de Buenos Aires a ver valores como -34 y -58. La diferencia se explica por la llamada **proyeccion de coordenadas** que da cuenta de la transformación de un objeto en 3 dimensiones (como el planeta Tierra) en un plano de 2 dimensiones (el mapa). Esta proytección también regula las unidades de medidas de los ejes donde proyectamos. Puede estar en grados o en metros.\n"
   ]
  },
  {
   "cell_type": "code",
   "execution_count": 20,
   "metadata": {},
   "outputs": [
    {
     "data": {
      "text/plain": [
       "{'proj': 'tmerc',\n",
       " 'lat_0': -34.6297166,\n",
       " 'lon_0': -58.4627,\n",
       " 'k': 0.999998,\n",
       " 'x_0': 100000,\n",
       " 'y_0': 100000,\n",
       " 'ellps': 'intl',\n",
       " 'units': 'm',\n",
       " 'no_defs': True}"
      ]
     },
     "execution_count": 20,
     "metadata": {},
     "output_type": "execute_result"
    }
   ],
   "source": [
    "#con el metodo o funcion crs vemos la proyeccion de nuestro objeto\n",
    "estaciones.crs"
   ]
  },
  {
   "cell_type": "code",
   "execution_count": 21,
   "metadata": {},
   "outputs": [
    {
     "data": {
      "text/html": [
       "<div>\n",
       "<style scoped>\n",
       "    .dataframe tbody tr th:only-of-type {\n",
       "        vertical-align: middle;\n",
       "    }\n",
       "\n",
       "    .dataframe tbody tr th {\n",
       "        vertical-align: top;\n",
       "    }\n",
       "\n",
       "    .dataframe thead th {\n",
       "        text-align: right;\n",
       "    }\n",
       "</style>\n",
       "<table border=\"1\" class=\"dataframe\">\n",
       "  <thead>\n",
       "    <tr style=\"text-align: right;\">\n",
       "      <th></th>\n",
       "      <th>ID</th>\n",
       "      <th>ESTACION</th>\n",
       "      <th>LINEA</th>\n",
       "      <th>geometry</th>\n",
       "    </tr>\n",
       "  </thead>\n",
       "  <tbody>\n",
       "    <tr>\n",
       "      <th>0</th>\n",
       "      <td>1.0</td>\n",
       "      <td>CASEROS</td>\n",
       "      <td>H</td>\n",
       "      <td>POINT (-58.39833005827354 -34.63619629114226)</td>\n",
       "    </tr>\n",
       "    <tr>\n",
       "      <th>1</th>\n",
       "      <td>2.0</td>\n",
       "      <td>INCLAN</td>\n",
       "      <td>H</td>\n",
       "      <td>POINT (-58.40037199947714 -34.62982192437689)</td>\n",
       "    </tr>\n",
       "    <tr>\n",
       "      <th>2</th>\n",
       "      <td>3.0</td>\n",
       "      <td>HUMBERTO 1°</td>\n",
       "      <td>H</td>\n",
       "      <td>POINT (-58.40172516912597 -34.62353873781329)</td>\n",
       "    </tr>\n",
       "    <tr>\n",
       "      <th>3</th>\n",
       "      <td>4.0</td>\n",
       "      <td>VENEZUELA</td>\n",
       "      <td>H</td>\n",
       "      <td>POINT (-58.40413412280196 -34.61568876109078)</td>\n",
       "    </tr>\n",
       "    <tr>\n",
       "      <th>4</th>\n",
       "      <td>5.0</td>\n",
       "      <td>ONCE - 30 DE DICIEMBRE</td>\n",
       "      <td>H</td>\n",
       "      <td>POINT (-58.40543878453062 -34.60938200117359)</td>\n",
       "    </tr>\n",
       "  </tbody>\n",
       "</table>\n",
       "</div>"
      ],
      "text/plain": [
       "    ID                ESTACION LINEA  \\\n",
       "0  1.0                 CASEROS     H   \n",
       "1  2.0                  INCLAN     H   \n",
       "2  3.0             HUMBERTO 1°     H   \n",
       "3  4.0               VENEZUELA     H   \n",
       "4  5.0  ONCE - 30 DE DICIEMBRE     H   \n",
       "\n",
       "                                        geometry  \n",
       "0  POINT (-58.39833005827354 -34.63619629114226)  \n",
       "1  POINT (-58.40037199947714 -34.62982192437689)  \n",
       "2  POINT (-58.40172516912597 -34.62353873781329)  \n",
       "3  POINT (-58.40413412280196 -34.61568876109078)  \n",
       "4  POINT (-58.40543878453062 -34.60938200117359)  "
      ]
     },
     "execution_count": 21,
     "metadata": {},
     "output_type": "execute_result"
    }
   ],
   "source": [
    "#cambiamos al formato tradicional de latlong\n",
    "estaciones = estaciones.to_crs(epsg = 4326)\n",
    "estaciones.head()"
   ]
  },
  {
   "cell_type": "code",
   "execution_count": 22,
   "metadata": {},
   "outputs": [
    {
     "name": "stdout",
     "output_type": "stream",
     "text": [
      "POINT (-58.39833005827354 -34.63619629114226)\n"
     ]
    }
   ],
   "source": [
    "print(estaciones.geometry.iloc[0])"
   ]
  },
  {
   "cell_type": "markdown",
   "metadata": {},
   "source": [
    "Ya podemos ver que las coordenadas de nuestros puntos se asemejan a los valores que intuitivamente conocíamos para Buenos Aires\n",
    "![latlong2](../img/latlong.png)\n",
    "\n",
    "A partir de este momento, intentaremos visualizar todos los procesos que realizamos en un mapa. Para esto necesitamos la librería de Python que administra los gráficos: `matplotlib` "
   ]
  },
  {
   "cell_type": "code",
   "execution_count": 23,
   "metadata": {},
   "outputs": [],
   "source": [
    "#y sumamos la libreria que nos permite visualizar co alias plt\n",
    "import matplotlib.pyplot as plt\n",
    "#esta linea nos permite visualizar los plots y mapas dentro de nuestros notebooks\n",
    "%matplotlib inline"
   ]
  },
  {
   "cell_type": "markdown",
   "metadata": {},
   "source": [
    "En este curso haremos un uso muy utilitario de matplotlib. Es decir, presenaremos sus elementos fundamentales sin profundizar demasiado. Es una herramienta muy versatil y pontente. También mencionaremos las otras mas populares como `seaborn` y `plotly`. \n",
    "\n",
    "`Matplotlib` se construye fundamentalmente a partir de una **figura** que puede tener dentro uno o mas **ejes** (o *axis*)"
   ]
  },
  {
   "cell_type": "code",
   "execution_count": 24,
   "metadata": {},
   "outputs": [
    {
     "data": {
      "image/png": "[encoded data removed]",
      "text/plain": [
       "<Figure size 432x432 with 1 Axes>"
      ]
     },
     "metadata": {},
     "output_type": "display_data"
    }
   ],
   "source": [
    "fig = plt.figure(figsize=(6,6))\n",
    "ax = fig.add_subplot(1,1,1)"
   ]
  },
  {
   "cell_type": "code",
   "execution_count": 25,
   "metadata": {},
   "outputs": [
    {
     "data": {
      "image/png": "[encoded data removed]",
      "text/plain": [
       "<Figure size 864x432 with 2 Axes>"
      ]
     },
     "metadata": {},
     "output_type": "display_data"
    }
   ],
   "source": [
    "#agrando el tamaño de la figura\n",
    "fig = plt.figure(figsize=(12,6))\n",
    "#en 1 columna agrego 2 pares de ejes \n",
    "ax1 = fig.add_subplot(1,2,1)\n",
    "ax2 = fig.add_subplot(1,2,2)\n"
   ]
  },
  {
   "cell_type": "code",
   "execution_count": 26,
   "metadata": {},
   "outputs": [
    {
     "data": {
      "text/plain": [
       "<matplotlib.collections.PathCollection at 0x7f34b45740f0>"
      ]
     },
     "execution_count": 26,
     "metadata": {},
     "output_type": "execute_result"
    },
    {
     "data": {
      "image/png": "[encoded data removed]",
      "text/plain": [
       "<Figure size 432x432 with 1 Axes>"
      ]
     },
     "metadata": {},
     "output_type": "display_data"
    }
   ],
   "source": [
    "#puedo agregar contenido a los graficos al graficar algunos datos\n",
    "fig = plt.figure(figsize=(6,6))\n",
    "ax = fig.add_subplot(1,1,1)\n",
    "x = range(20)\n",
    "y = range(20)\n",
    "ax.scatter(x,y)"
   ]
  },
  {
   "cell_type": "code",
   "execution_count": 27,
   "metadata": {},
   "outputs": [
    {
     "data": {
      "text/html": [
       "<div>\n",
       "<style scoped>\n",
       "    .dataframe tbody tr th:only-of-type {\n",
       "        vertical-align: middle;\n",
       "    }\n",
       "\n",
       "    .dataframe tbody tr th {\n",
       "        vertical-align: top;\n",
       "    }\n",
       "\n",
       "    .dataframe thead th {\n",
       "        text-align: right;\n",
       "    }\n",
       "</style>\n",
       "<table border=\"1\" class=\"dataframe\">\n",
       "  <thead>\n",
       "    <tr style=\"text-align: right;\">\n",
       "      <th></th>\n",
       "      <th>ID</th>\n",
       "      <th>ESTACION</th>\n",
       "      <th>LINEA</th>\n",
       "      <th>geometry</th>\n",
       "      <th>x</th>\n",
       "    </tr>\n",
       "  </thead>\n",
       "  <tbody>\n",
       "    <tr>\n",
       "      <th>0</th>\n",
       "      <td>1.0</td>\n",
       "      <td>CASEROS</td>\n",
       "      <td>H</td>\n",
       "      <td>POINT (-58.39833005827354 -34.63619629114226)</td>\n",
       "      <td>-58.398330</td>\n",
       "    </tr>\n",
       "    <tr>\n",
       "      <th>1</th>\n",
       "      <td>2.0</td>\n",
       "      <td>INCLAN</td>\n",
       "      <td>H</td>\n",
       "      <td>POINT (-58.40037199947714 -34.62982192437689)</td>\n",
       "      <td>-58.400372</td>\n",
       "    </tr>\n",
       "    <tr>\n",
       "      <th>2</th>\n",
       "      <td>3.0</td>\n",
       "      <td>HUMBERTO 1°</td>\n",
       "      <td>H</td>\n",
       "      <td>POINT (-58.40172516912597 -34.62353873781329)</td>\n",
       "      <td>-58.401725</td>\n",
       "    </tr>\n",
       "    <tr>\n",
       "      <th>3</th>\n",
       "      <td>4.0</td>\n",
       "      <td>VENEZUELA</td>\n",
       "      <td>H</td>\n",
       "      <td>POINT (-58.40413412280196 -34.61568876109078)</td>\n",
       "      <td>-58.404134</td>\n",
       "    </tr>\n",
       "    <tr>\n",
       "      <th>4</th>\n",
       "      <td>5.0</td>\n",
       "      <td>ONCE - 30 DE DICIEMBRE</td>\n",
       "      <td>H</td>\n",
       "      <td>POINT (-58.40543878453062 -34.60938200117359)</td>\n",
       "      <td>-58.405439</td>\n",
       "    </tr>\n",
       "  </tbody>\n",
       "</table>\n",
       "</div>"
      ],
      "text/plain": [
       "    ID                ESTACION LINEA  \\\n",
       "0  1.0                 CASEROS     H   \n",
       "1  2.0                  INCLAN     H   \n",
       "2  3.0             HUMBERTO 1°     H   \n",
       "3  4.0               VENEZUELA     H   \n",
       "4  5.0  ONCE - 30 DE DICIEMBRE     H   \n",
       "\n",
       "                                        geometry          x  \n",
       "0  POINT (-58.39833005827354 -34.63619629114226) -58.398330  \n",
       "1  POINT (-58.40037199947714 -34.62982192437689) -58.400372  \n",
       "2  POINT (-58.40172516912597 -34.62353873781329) -58.401725  \n",
       "3  POINT (-58.40413412280196 -34.61568876109078) -58.404134  \n",
       "4  POINT (-58.40543878453062 -34.60938200117359) -58.405439  "
      ]
     },
     "execution_count": 27,
     "metadata": {},
     "output_type": "execute_result"
    }
   ],
   "source": [
    "#utilizando el metodo map, puedo extraer para cada punto sus coordenadas en x\n",
    "estaciones['x'] = estaciones.geometry.map(lambda coord: coord.x)\n",
    "estaciones.head()"
   ]
  },
  {
   "cell_type": "markdown",
   "metadata": {},
   "source": [
    "Afortunadamente, los desarolladors de GeoPandas entendieron que esto es una tarea cotidiana y pusieron como metodo propio de las geoSeries extraer las coordenadas"
   ]
  },
  {
   "cell_type": "code",
   "execution_count": 28,
   "metadata": {},
   "outputs": [
    {
     "data": {
      "text/html": [
       "<div>\n",
       "<style scoped>\n",
       "    .dataframe tbody tr th:only-of-type {\n",
       "        vertical-align: middle;\n",
       "    }\n",
       "\n",
       "    .dataframe tbody tr th {\n",
       "        vertical-align: top;\n",
       "    }\n",
       "\n",
       "    .dataframe thead th {\n",
       "        text-align: right;\n",
       "    }\n",
       "</style>\n",
       "<table border=\"1\" class=\"dataframe\">\n",
       "  <thead>\n",
       "    <tr style=\"text-align: right;\">\n",
       "      <th></th>\n",
       "      <th>ID</th>\n",
       "      <th>ESTACION</th>\n",
       "      <th>LINEA</th>\n",
       "      <th>geometry</th>\n",
       "      <th>x</th>\n",
       "      <th>y</th>\n",
       "    </tr>\n",
       "  </thead>\n",
       "  <tbody>\n",
       "    <tr>\n",
       "      <th>0</th>\n",
       "      <td>1.0</td>\n",
       "      <td>CASEROS</td>\n",
       "      <td>H</td>\n",
       "      <td>POINT (-58.39833005827354 -34.63619629114226)</td>\n",
       "      <td>-58.398330</td>\n",
       "      <td>-34.636196</td>\n",
       "    </tr>\n",
       "    <tr>\n",
       "      <th>1</th>\n",
       "      <td>2.0</td>\n",
       "      <td>INCLAN</td>\n",
       "      <td>H</td>\n",
       "      <td>POINT (-58.40037199947714 -34.62982192437689)</td>\n",
       "      <td>-58.400372</td>\n",
       "      <td>-34.629822</td>\n",
       "    </tr>\n",
       "    <tr>\n",
       "      <th>2</th>\n",
       "      <td>3.0</td>\n",
       "      <td>HUMBERTO 1°</td>\n",
       "      <td>H</td>\n",
       "      <td>POINT (-58.40172516912597 -34.62353873781329)</td>\n",
       "      <td>-58.401725</td>\n",
       "      <td>-34.623539</td>\n",
       "    </tr>\n",
       "    <tr>\n",
       "      <th>3</th>\n",
       "      <td>4.0</td>\n",
       "      <td>VENEZUELA</td>\n",
       "      <td>H</td>\n",
       "      <td>POINT (-58.40413412280196 -34.61568876109078)</td>\n",
       "      <td>-58.404134</td>\n",
       "      <td>-34.615689</td>\n",
       "    </tr>\n",
       "    <tr>\n",
       "      <th>4</th>\n",
       "      <td>5.0</td>\n",
       "      <td>ONCE - 30 DE DICIEMBRE</td>\n",
       "      <td>H</td>\n",
       "      <td>POINT (-58.40543878453062 -34.60938200117359)</td>\n",
       "      <td>-58.405439</td>\n",
       "      <td>-34.609382</td>\n",
       "    </tr>\n",
       "  </tbody>\n",
       "</table>\n",
       "</div>"
      ],
      "text/plain": [
       "    ID                ESTACION LINEA  \\\n",
       "0  1.0                 CASEROS     H   \n",
       "1  2.0                  INCLAN     H   \n",
       "2  3.0             HUMBERTO 1°     H   \n",
       "3  4.0               VENEZUELA     H   \n",
       "4  5.0  ONCE - 30 DE DICIEMBRE     H   \n",
       "\n",
       "                                        geometry          x          y  \n",
       "0  POINT (-58.39833005827354 -34.63619629114226) -58.398330 -34.636196  \n",
       "1  POINT (-58.40037199947714 -34.62982192437689) -58.400372 -34.629822  \n",
       "2  POINT (-58.40172516912597 -34.62353873781329) -58.401725 -34.623539  \n",
       "3  POINT (-58.40413412280196 -34.61568876109078) -58.404134 -34.615689  \n",
       "4  POINT (-58.40543878453062 -34.60938200117359) -58.405439 -34.609382  "
      ]
     },
     "execution_count": 28,
     "metadata": {},
     "output_type": "execute_result"
    }
   ],
   "source": [
    "estaciones['y'] = estaciones.geometry.y\n",
    "estaciones.head()"
   ]
  },
  {
   "cell_type": "markdown",
   "metadata": {},
   "source": [
    "Utilizando estas coordenadas podemos visualizar la ubicacion de nuestras estaciones en un mapa, visualizandolas sobre el eje de coordenadas utilizando su posicion en x y en y"
   ]
  },
  {
   "cell_type": "code",
   "execution_count": 29,
   "metadata": {},
   "outputs": [
    {
     "data": {
      "text/plain": [
       "<matplotlib.collections.PathCollection at 0x7f34b4690550>"
      ]
     },
     "execution_count": 29,
     "metadata": {},
     "output_type": "execute_result"
    },
    {
     "data": {
      "image/png": "[encoded data removed]",
      "text/plain": [
       "<Figure size 432x432 with 1 Axes>"
      ]
     },
     "metadata": {},
     "output_type": "display_data"
    }
   ],
   "source": [
    "fig = plt.figure(figsize=(6,6))\n",
    "ax = fig.add_subplot(1,1,1)\n",
    "ax.scatter(estaciones.x,estaciones.y)"
   ]
  },
  {
   "cell_type": "markdown",
   "metadata": {},
   "source": [
    "Afortunadamente los desarrolladores de GeoPandas tambien pensaron que esta tarea debía poder resolverse de manera más sencilla:"
   ]
  },
  {
   "cell_type": "code",
   "execution_count": 30,
   "metadata": {},
   "outputs": [
    {
     "data": {
      "text/plain": [
       "<matplotlib.axes._subplots.AxesSubplot at 0x7f34b46bf2e8>"
      ]
     },
     "execution_count": 30,
     "metadata": {},
     "output_type": "execute_result"
    },
    {
     "data": {
      "image/png": "[encoded data removed]",
      "text/plain": [
       "<Figure size 432x288 with 1 Axes>"
      ]
     },
     "metadata": {},
     "output_type": "display_data"
    }
   ],
   "source": [
    "#al igual que los DataFrames de Pandas, los GeoDataFrames tienen un método (o función) plot que visualiza los objetos espaciales. \n",
    "estaciones.plot()"
   ]
  },
  {
   "cell_type": "markdown",
   "metadata": {},
   "source": [
    "## 3 - Procesos de pandas en `geopandas`"
   ]
  },
  {
   "cell_type": "code",
   "execution_count": 31,
   "metadata": {},
   "outputs": [
    {
     "data": {
      "text/html": [
       "<div>\n",
       "<style scoped>\n",
       "    .dataframe tbody tr th:only-of-type {\n",
       "        vertical-align: middle;\n",
       "    }\n",
       "\n",
       "    .dataframe tbody tr th {\n",
       "        vertical-align: top;\n",
       "    }\n",
       "\n",
       "    .dataframe thead th {\n",
       "        text-align: right;\n",
       "    }\n",
       "</style>\n",
       "<table border=\"1\" class=\"dataframe\">\n",
       "  <thead>\n",
       "    <tr style=\"text-align: right;\">\n",
       "      <th></th>\n",
       "      <th>ID</th>\n",
       "      <th>ESTACION</th>\n",
       "      <th>LINEA</th>\n",
       "      <th>geometry</th>\n",
       "      <th>x</th>\n",
       "      <th>y</th>\n",
       "    </tr>\n",
       "  </thead>\n",
       "  <tbody>\n",
       "    <tr>\n",
       "      <th>0</th>\n",
       "      <td>1.0</td>\n",
       "      <td>CASEROS</td>\n",
       "      <td>H</td>\n",
       "      <td>POINT (-58.39833005827354 -34.63619629114226)</td>\n",
       "      <td>-58.398330</td>\n",
       "      <td>-34.636196</td>\n",
       "    </tr>\n",
       "    <tr>\n",
       "      <th>1</th>\n",
       "      <td>2.0</td>\n",
       "      <td>INCLAN</td>\n",
       "      <td>H</td>\n",
       "      <td>POINT (-58.40037199947714 -34.62982192437689)</td>\n",
       "      <td>-58.400372</td>\n",
       "      <td>-34.629822</td>\n",
       "    </tr>\n",
       "    <tr>\n",
       "      <th>2</th>\n",
       "      <td>3.0</td>\n",
       "      <td>HUMBERTO 1°</td>\n",
       "      <td>H</td>\n",
       "      <td>POINT (-58.40172516912597 -34.62353873781329)</td>\n",
       "      <td>-58.401725</td>\n",
       "      <td>-34.623539</td>\n",
       "    </tr>\n",
       "    <tr>\n",
       "      <th>3</th>\n",
       "      <td>4.0</td>\n",
       "      <td>VENEZUELA</td>\n",
       "      <td>H</td>\n",
       "      <td>POINT (-58.40413412280196 -34.61568876109078)</td>\n",
       "      <td>-58.404134</td>\n",
       "      <td>-34.615689</td>\n",
       "    </tr>\n",
       "    <tr>\n",
       "      <th>4</th>\n",
       "      <td>5.0</td>\n",
       "      <td>ONCE - 30 DE DICIEMBRE</td>\n",
       "      <td>H</td>\n",
       "      <td>POINT (-58.40543878453062 -34.60938200117359)</td>\n",
       "      <td>-58.405439</td>\n",
       "      <td>-34.609382</td>\n",
       "    </tr>\n",
       "  </tbody>\n",
       "</table>\n",
       "</div>"
      ],
      "text/plain": [
       "    ID                ESTACION LINEA  \\\n",
       "0  1.0                 CASEROS     H   \n",
       "1  2.0                  INCLAN     H   \n",
       "2  3.0             HUMBERTO 1°     H   \n",
       "3  4.0               VENEZUELA     H   \n",
       "4  5.0  ONCE - 30 DE DICIEMBRE     H   \n",
       "\n",
       "                                        geometry          x          y  \n",
       "0  POINT (-58.39833005827354 -34.63619629114226) -58.398330 -34.636196  \n",
       "1  POINT (-58.40037199947714 -34.62982192437689) -58.400372 -34.629822  \n",
       "2  POINT (-58.40172516912597 -34.62353873781329) -58.401725 -34.623539  \n",
       "3  POINT (-58.40413412280196 -34.61568876109078) -58.404134 -34.615689  \n",
       "4  POINT (-58.40543878453062 -34.60938200117359) -58.405439 -34.609382  "
      ]
     },
     "execution_count": 31,
     "metadata": {},
     "output_type": "execute_result"
    }
   ],
   "source": [
    "estaciones.head()"
   ]
  },
  {
   "cell_type": "code",
   "execution_count": 32,
   "metadata": {},
   "outputs": [
    {
     "data": {
      "text/plain": [
       "<matplotlib.axes._subplots.AxesSubplot at 0x7f34b8008470>"
      ]
     },
     "execution_count": 32,
     "metadata": {},
     "output_type": "execute_result"
    },
    {
     "data": {
      "image/png": "[encoded data removed]",
      "text/plain": [
       "<Figure size 432x288 with 1 Axes>"
      ]
     },
     "metadata": {},
     "output_type": "display_data"
    }
   ],
   "source": [
    "#podemos seleccionar\n",
    "estaciones.loc[estaciones.LINEA=='H',:].plot()"
   ]
  },
  {
   "cell_type": "code",
   "execution_count": 33,
   "metadata": {},
   "outputs": [
    {
     "data": {
      "text/plain": [
       "<matplotlib.axes._subplots.AxesSubplot at 0x7f34b461d240>"
      ]
     },
     "execution_count": 33,
     "metadata": {},
     "output_type": "execute_result"
    },
    {
     "data": {
      "image/png": "[encoded data removed]",
      "text/plain": [
       "<Figure size 432x432 with 1 Axes>"
      ]
     },
     "metadata": {},
     "output_type": "display_data"
    }
   ],
   "source": [
    "fig = plt.figure(figsize=(6,6))\n",
    "ax = fig.add_subplot(1,1,1)\n",
    "estaciones.loc[estaciones.LINEA!='H',:].plot(ax=ax,color='grey')\n",
    "estaciones.loc[estaciones.LINEA=='H',:].plot(ax=ax,color='gold')"
   ]
  },
  {
   "cell_type": "code",
   "execution_count": 34,
   "metadata": {},
   "outputs": [
    {
     "data": {
      "text/plain": [
       "(-58.50146424626045,\n",
       " -58.35365442301726,\n",
       " -34.658259560906295,\n",
       " -34.541588867405785)"
      ]
     },
     "execution_count": 34,
     "metadata": {},
     "output_type": "execute_result"
    },
    {
     "data": {
      "image/png": "[encoded data removed]",
      "text/plain": [
       "<Figure size 432x432 with 1 Axes>"
      ]
     },
     "metadata": {},
     "output_type": "display_data"
    }
   ],
   "source": [
    "fig = plt.figure(figsize=(6,6))\n",
    "ax = fig.add_subplot(1,1,1)\n",
    "estaciones.loc[estaciones.LINEA!='H',:].plot(ax=ax,color='grey')\n",
    "estaciones.loc[estaciones.LINEA=='H',:].plot(ax=ax,color='gold',marker='*', markersize=250)\n",
    "\n",
    "#eliminamos los ejes\n",
    "ax.set_axis_off()\n",
    "# Forzamos un mismo rango de valors a los ejes para una vision mas \"cuadrada\" del mapa\n",
    "plt.axis('equal')"
   ]
  },
  {
   "cell_type": "markdown",
   "metadata": {},
   "source": [
    "Pero lo mejor es poder realizar procesos espaciales. Por ejemplo, podemos ver utilizar una harramienta de análisis básica y fundamental del análisis espacial para los objetos de tipo punto: la distancia euclidiana.\n",
    "\n",
    "$$\\sqrt[2]{(x_d - x_o)^{2}+(y_d - y_o)^{2}}$$"
   ]
  },
  {
   "cell_type": "code",
   "execution_count": 35,
   "metadata": {
    "scrolled": true
   },
   "outputs": [
    {
     "data": {
      "text/plain": [
       "0.037172056858999235"
      ]
     },
     "execution_count": 35,
     "metadata": {},
     "output_type": "execute_result"
    }
   ],
   "source": [
    "import math\n",
    "constitucion = estaciones.loc[estaciones.ESTACION == 'CONSTITUCION',:]\n",
    "retiro = estaciones.loc[estaciones.ESTACION == 'RETIRO',:]\n",
    "math.sqrt((retiro.x.iloc[0] - constitucion.x.iloc[0])**2 + (retiro.y.iloc[0] - constitucion.y.iloc[0])**2)"
   ]
  },
  {
   "cell_type": "markdown",
   "metadata": {},
   "source": [
    "Afortunadamente esto no es algo que tenemos que hacer cada vez. `Geopandas` y `Shapely` lo resuelven por nosotros"
   ]
  },
  {
   "cell_type": "code",
   "execution_count": 36,
   "metadata": {},
   "outputs": [],
   "source": [
    "#primero seleccionemos nuestras dos estaciones\n",
    "constitucion = estaciones.loc[estaciones.ESTACION == 'CONSTITUCION','geometry'].iloc[0]\n",
    "retiro = estaciones.loc[estaciones.ESTACION == 'RETIRO','geometry'].iloc[0]"
   ]
  },
  {
   "cell_type": "code",
   "execution_count": 37,
   "metadata": {},
   "outputs": [
    {
     "data": {
      "text/plain": [
       "0.037172056858999235"
      ]
     },
     "execution_count": 37,
     "metadata": {},
     "output_type": "execute_result"
    }
   ],
   "source": [
    "constitucion.distance(retiro)"
   ]
  },
  {
   "cell_type": "markdown",
   "metadata": {},
   "source": [
    "Veamos algunas cosas que acaban de suceder. En primer lugar que significa 0.03? En que unidades de medidas se encuentra? Esto depende de la proyeccion de coordenadas que utilizamos"
   ]
  },
  {
   "cell_type": "code",
   "execution_count": 38,
   "metadata": {},
   "outputs": [
    {
     "data": {
      "text/plain": [
       "{'init': 'epsg:4326', 'no_defs': True}"
      ]
     },
     "execution_count": 38,
     "metadata": {},
     "output_type": "execute_result"
    }
   ],
   "source": [
    "estaciones.crs"
   ]
  },
  {
   "cell_type": "markdown",
   "metadata": {},
   "source": [
    "La proyeccion de este GeoDataFrame está en [EPSG 4326](https://epsg.io/4326) cuya unidad de medida es grados. Hay muchas proyecciones que utilizan metros. Como la proyeción óptima depende de la ubicación en el planeta donde hagamos nuestro análisis, podemos utilizar una sencilla de alcance global como la [EPSG 3857](https://epsg.io/3857)"
   ]
  },
  {
   "cell_type": "code",
   "execution_count": 39,
   "metadata": {},
   "outputs": [
    {
     "data": {
      "text/plain": [
       "'POINT (-6498925.114720983 -4113450.925310913)'"
      ]
     },
     "execution_count": 39,
     "metadata": {},
     "output_type": "execute_result"
    }
   ],
   "source": [
    "#vemos que podemos pasar nuestra estacion a epsg:3857.   \n",
    "constitucion = estaciones.loc[estaciones.ESTACION == 'CONSTITUCION','geometry'].to_crs(epsg=3857).iloc[0].wkt\n",
    "constitucion"
   ]
  },
  {
   "cell_type": "markdown",
   "metadata": {},
   "source": [
    "Sin embargo, hay dos métodos que puede ser util comprender como estan funcionando. \n",
    "* `iloc`\n",
    "* `wkt`\n",
    "\n",
    "Veamos que sucede si no utilizamos `iloc`"
   ]
  },
  {
   "cell_type": "code",
   "execution_count": 40,
   "metadata": {},
   "outputs": [
    {
     "data": {
      "text/plain": [
       "18    POINT (-58.38083760902074 -34.628065663639)\n",
       "Name: geometry, dtype: object"
      ]
     },
     "execution_count": 40,
     "metadata": {},
     "output_type": "execute_result"
    }
   ],
   "source": [
    "#a priori observamos que hay un numero al lado, lo que indica que tiene un indice y por ende sea probablementa Serie\n",
    "constitucion = estaciones.loc[estaciones.ESTACION == 'CONSTITUCION','geometry']\n",
    "constitucion"
   ]
  },
  {
   "cell_type": "code",
   "execution_count": 41,
   "metadata": {},
   "outputs": [
    {
     "data": {
      "text/plain": [
       "geopandas.geoseries.GeoSeries"
      ]
     },
     "execution_count": 41,
     "metadata": {},
     "output_type": "execute_result"
    }
   ],
   "source": [
    "type(constitucion)"
   ]
  },
  {
   "cell_type": "markdown",
   "metadata": {},
   "source": [
    "El problema con calcular distancias, es que siempre una distancia es de un punto a otro. Si utilizamos una serie, la misma puede tener 2, 3 o *n* elementos. Por eso tenemos que partir siempre de un punto y no de una serie. Eso hace el `iloc[0]`, toma el primer (y único) elemento de la serie. "
   ]
  },
  {
   "cell_type": "code",
   "execution_count": 42,
   "metadata": {},
   "outputs": [
    {
     "data": {
      "text/plain": [
       "shapely.geometry.point.Point"
      ]
     },
     "execution_count": 42,
     "metadata": {},
     "output_type": "execute_result"
    }
   ],
   "source": [
    "constitucion = estaciones.loc[estaciones.ESTACION == 'CONSTITUCION','geometry'].iloc[0]\n",
    "type(constitucion)"
   ]
  },
  {
   "cell_type": "markdown",
   "metadata": {},
   "source": [
    "Ahora podemos ver que el tipo es un `Shapely` **Point**. Hemos llegado a la muñeca rusa más pequeña (al menos la más pequeña que veremos en este taller, donde no llegamos al transistor, el bit y los 1 y 0)."
   ]
  },
  {
   "cell_type": "code",
   "execution_count": 43,
   "metadata": {},
   "outputs": [
    {
     "data": {
      "image/svg+xml": [
       "<svg xmlns=\"http://www.w3.org/2000/svg\" xmlns:xlink=\"http://www.w3.org/1999/xlink\" width=\"100.0\" height=\"100.0\" viewBox=\"-59.38083760902074 -35.628065663639 2.0 2.0\" preserveAspectRatio=\"xMinYMin meet\"><g transform=\"matrix(1,0,0,-1,0,-69.256131327278)\"><circle cx=\"-58.38083760902074\" cy=\"-34.628065663639\" r=\"0.06\" stroke=\"#555555\" stroke-width=\"0.02\" fill=\"#66cc99\" opacity=\"0.6\" /></g></svg>"
      ],
      "text/plain": [
       "<shapely.geometry.point.Point at 0x7f34fe2d7278>"
      ]
     },
     "execution_count": 43,
     "metadata": {},
     "output_type": "execute_result"
    }
   ],
   "source": [
    "constitucion"
   ]
  },
  {
   "cell_type": "markdown",
   "metadata": {},
   "source": [
    "Como estamos utilizando notebooks, los objetos geograficos son visualizados por defecto. Por eso si queremos ver su contenido podemos hacer dos cosas"
   ]
  },
  {
   "cell_type": "code",
   "execution_count": 44,
   "metadata": {},
   "outputs": [
    {
     "name": "stdout",
     "output_type": "stream",
     "text": [
      "POINT (-58.38083760902074 -34.628065663639)\n"
     ]
    }
   ],
   "source": [
    "print(constitucion)"
   ]
  },
  {
   "cell_type": "code",
   "execution_count": 45,
   "metadata": {},
   "outputs": [
    {
     "data": {
      "text/plain": [
       "'POINT (-58.38083760902074 -34.628065663639)'"
      ]
     },
     "execution_count": 45,
     "metadata": {},
     "output_type": "execute_result"
    }
   ],
   "source": [
    "constitucion.wkt"
   ]
  },
  {
   "cell_type": "markdown",
   "metadata": {},
   "source": [
    "Uno simplemente imprime en pantalla el otro convierne al objeto **Point** en una cadena de texto"
   ]
  },
  {
   "cell_type": "code",
   "execution_count": 46,
   "metadata": {},
   "outputs": [
    {
     "data": {
      "text/plain": [
       "str"
      ]
     },
     "execution_count": 46,
     "metadata": {},
     "output_type": "execute_result"
    }
   ],
   "source": [
    "type(constitucion.wkt)"
   ]
  },
  {
   "cell_type": "markdown",
   "metadata": {},
   "source": [
    "De hecho, veamos que la función `disatnce()` pertenece al objeto **Point**, no a Python básico, Pandas o Geopandas. Es propia de **Point**"
   ]
  },
  {
   "cell_type": "code",
   "execution_count": 47,
   "metadata": {},
   "outputs": [
    {
     "name": "stdout",
     "output_type": "stream",
     "text": [
      "Help on function distance in module shapely.geometry.base:\n",
      "\n",
      "distance(self, other)\n",
      "    Unitless distance to other geometry (float)\n",
      "\n"
     ]
    }
   ],
   "source": [
    "from shapely.geometry import Point\n",
    "help(Point.distance)"
   ]
  },
  {
   "cell_type": "markdown",
   "metadata": {},
   "source": [
    "Pero ademas noten que al elegir solo la columna **geometry**, no usamos []. Si lo hubiesemos hecho, hubiesemos obtenido una Serie y deberiamos haberlo repetido dos veces "
   ]
  },
  {
   "cell_type": "code",
   "execution_count": 48,
   "metadata": {},
   "outputs": [
    {
     "data": {
      "text/plain": [
       "pandas.core.series.Series"
      ]
     },
     "execution_count": 48,
     "metadata": {},
     "output_type": "execute_result"
    }
   ],
   "source": [
    "constitucion = estaciones.loc[estaciones.ESTACION == 'CONSTITUCION',['geometry']].iloc[0]\n",
    "type(constitucion)\n"
   ]
  },
  {
   "cell_type": "code",
   "execution_count": 49,
   "metadata": {},
   "outputs": [
    {
     "data": {
      "text/plain": [
       "shapely.geometry.point.Point"
      ]
     },
     "execution_count": 49,
     "metadata": {},
     "output_type": "execute_result"
    }
   ],
   "source": [
    "#dos veces iloc[0]\n",
    "constitucion = estaciones.loc[estaciones.ESTACION == 'CONSTITUCION',['geometry']].iloc[0].iloc[0]\n",
    "\n",
    "type(constitucion)\n"
   ]
  },
  {
   "cell_type": "code",
   "execution_count": 50,
   "metadata": {},
   "outputs": [
    {
     "data": {
      "text/plain": [
       "pandas.core.series.Series"
      ]
     },
     "execution_count": 50,
     "metadata": {},
     "output_type": "execute_result"
    }
   ],
   "source": [
    "#noten que al filtrar las filas, usamos una serie\n",
    "type(estaciones.ESTACION == 'CONSTITUCION')"
   ]
  },
  {
   "cell_type": "markdown",
   "metadata": {},
   "source": [
    "Ahora si ya comprendemos que tenemos que calcular la distancia entre dos puntos, y para eso debemos urgar dentro de la muñeca de `GeoPandas` **DataFrame**, dentro de la **GeoSeries** geometry hasta el **Punto** de `Shapely`."
   ]
  },
  {
   "cell_type": "code",
   "execution_count": 51,
   "metadata": {},
   "outputs": [
    {
     "data": {
      "text/plain": [
       "4995.29883754073"
      ]
     },
     "execution_count": 51,
     "metadata": {},
     "output_type": "execute_result"
    }
   ],
   "source": [
    "constitucion = estaciones.loc[estaciones.ESTACION == 'CONSTITUCION','geometry'].to_crs(epsg=3857).iloc[0]\n",
    "retiro = estaciones.loc[estaciones.ESTACION == 'RETIRO','geometry'].to_crs(epsg=3857).iloc[0]\n",
    "constitucion.distance(retiro)"
   ]
  },
  {
   "cell_type": "markdown",
   "metadata": {},
   "source": [
    "Sin embargo, recordemos que el concepto de proyección de coordenadas es propio de `GeoPandas`, no de `Shapely`. Podemos convertir todo un **GeoDataFrame** o una **Series**, pero no un **Punto**"
   ]
  },
  {
   "cell_type": "code",
   "execution_count": 52,
   "metadata": {},
   "outputs": [
    {
     "data": {
      "text/html": [
       "<div>\n",
       "<style scoped>\n",
       "    .dataframe tbody tr th:only-of-type {\n",
       "        vertical-align: middle;\n",
       "    }\n",
       "\n",
       "    .dataframe tbody tr th {\n",
       "        vertical-align: top;\n",
       "    }\n",
       "\n",
       "    .dataframe thead th {\n",
       "        text-align: right;\n",
       "    }\n",
       "</style>\n",
       "<table border=\"1\" class=\"dataframe\">\n",
       "  <thead>\n",
       "    <tr style=\"text-align: right;\">\n",
       "      <th></th>\n",
       "      <th>ID</th>\n",
       "      <th>ESTACION</th>\n",
       "      <th>LINEA</th>\n",
       "      <th>geometry</th>\n",
       "      <th>x</th>\n",
       "      <th>y</th>\n",
       "    </tr>\n",
       "  </thead>\n",
       "  <tbody>\n",
       "    <tr>\n",
       "      <th>0</th>\n",
       "      <td>1.0</td>\n",
       "      <td>CASEROS</td>\n",
       "      <td>H</td>\n",
       "      <td>POINT (-6500872.365264534 -4114550.922561814)</td>\n",
       "      <td>-58.398330</td>\n",
       "      <td>-34.636196</td>\n",
       "    </tr>\n",
       "    <tr>\n",
       "      <th>1</th>\n",
       "      <td>2.0</td>\n",
       "      <td>INCLAN</td>\n",
       "      <td>H</td>\n",
       "      <td>POINT (-6501099.673119548 -4113688.521703297)</td>\n",
       "      <td>-58.400372</td>\n",
       "      <td>-34.629822</td>\n",
       "    </tr>\n",
       "    <tr>\n",
       "      <th>2</th>\n",
       "      <td>3.0</td>\n",
       "      <td>HUMBERTO 1°</td>\n",
       "      <td>H</td>\n",
       "      <td>POINT (-6501250.307275812 -4112838.521641664)</td>\n",
       "      <td>-58.401725</td>\n",
       "      <td>-34.623539</td>\n",
       "    </tr>\n",
       "    <tr>\n",
       "      <th>3</th>\n",
       "      <td>4.0</td>\n",
       "      <td>VENEZUELA</td>\n",
       "      <td>H</td>\n",
       "      <td>POINT (-6501518.470772369 -4111776.653996726)</td>\n",
       "      <td>-58.404134</td>\n",
       "      <td>-34.615689</td>\n",
       "    </tr>\n",
       "    <tr>\n",
       "      <th>4</th>\n",
       "      <td>5.0</td>\n",
       "      <td>ONCE - 30 DE DICIEMBRE</td>\n",
       "      <td>H</td>\n",
       "      <td>POINT (-6501663.705051661 -4110923.61029132)</td>\n",
       "      <td>-58.405439</td>\n",
       "      <td>-34.609382</td>\n",
       "    </tr>\n",
       "  </tbody>\n",
       "</table>\n",
       "</div>"
      ],
      "text/plain": [
       "    ID                ESTACION LINEA  \\\n",
       "0  1.0                 CASEROS     H   \n",
       "1  2.0                  INCLAN     H   \n",
       "2  3.0             HUMBERTO 1°     H   \n",
       "3  4.0               VENEZUELA     H   \n",
       "4  5.0  ONCE - 30 DE DICIEMBRE     H   \n",
       "\n",
       "                                        geometry          x          y  \n",
       "0  POINT (-6500872.365264534 -4114550.922561814) -58.398330 -34.636196  \n",
       "1  POINT (-6501099.673119548 -4113688.521703297) -58.400372 -34.629822  \n",
       "2  POINT (-6501250.307275812 -4112838.521641664) -58.401725 -34.623539  \n",
       "3  POINT (-6501518.470772369 -4111776.653996726) -58.404134 -34.615689  \n",
       "4   POINT (-6501663.705051661 -4110923.61029132) -58.405439 -34.609382  "
      ]
     },
     "execution_count": 52,
     "metadata": {},
     "output_type": "execute_result"
    }
   ],
   "source": [
    "estaciones.to_crs(epsg=3857).head()"
   ]
  },
  {
   "cell_type": "code",
   "execution_count": 53,
   "metadata": {},
   "outputs": [
    {
     "data": {
      "text/plain": [
       "0    POINT (-6500872.365264534 -4114550.922561814)\n",
       "1    POINT (-6501099.673119548 -4113688.521703297)\n",
       "2    POINT (-6501250.307275812 -4112838.521641664)\n",
       "3    POINT (-6501518.470772369 -4111776.653996726)\n",
       "4     POINT (-6501663.705051661 -4110923.61029132)\n",
       "Name: geometry, dtype: object"
      ]
     },
     "execution_count": 53,
     "metadata": {},
     "output_type": "execute_result"
    }
   ],
   "source": [
    "estaciones.geometry.to_crs(epsg=3857).head()"
   ]
  },
  {
   "cell_type": "code",
   "execution_count": 54,
   "metadata": {},
   "outputs": [
    {
     "ename": "AttributeError",
     "evalue": "'Point' object has no attribute 'to_crs'",
     "output_type": "error",
     "traceback": [
      "\u001b[0;31m---------------------------------------------------------------------------\u001b[0m",
      "\u001b[0;31mAttributeError\u001b[0m                            Traceback (most recent call last)",
      "\u001b[0;32m<ipython-input-54-d6b8b4d0628f>\u001b[0m in \u001b[0;36m<module>\u001b[0;34m()\u001b[0m\n\u001b[0;32m----> 1\u001b[0;31m \u001b[0mestaciones\u001b[0m\u001b[0;34m.\u001b[0m\u001b[0mgeometry\u001b[0m\u001b[0;34m.\u001b[0m\u001b[0miloc\u001b[0m\u001b[0;34m[\u001b[0m\u001b[0;36m0\u001b[0m\u001b[0;34m]\u001b[0m\u001b[0;34m.\u001b[0m\u001b[0mto_crs\u001b[0m\u001b[0;34m(\u001b[0m\u001b[0mepsg\u001b[0m\u001b[0;34m=\u001b[0m\u001b[0;36m3857\u001b[0m\u001b[0;34m)\u001b[0m\u001b[0;34m\u001b[0m\u001b[0m\n\u001b[0m",
      "\u001b[0;31mAttributeError\u001b[0m: 'Point' object has no attribute 'to_crs'"
     ]
    }
   ],
   "source": [
    "estaciones.geometry.iloc[0].to_crs(epsg=3857)"
   ]
  },
  {
   "cell_type": "markdown",
   "metadata": {},
   "source": [
    "Por eso siempre que utilicemos procesos espaciales, debemos comprender conceptualmente si ese método se aplica a un punto, a un conjunto de puntos, etc. Una distancia es siempre de punto a punto. Pero podríamos querer obtener una distancia de todas las estaciones a un punto, por ejemplo el Obelisco."
   ]
  },
  {
   "cell_type": "code",
   "execution_count": 55,
   "metadata": {},
   "outputs": [],
   "source": [
    "#convertirmos todo nuestro dataset \n",
    "estaciones = estaciones.to_crs(epsg=3857)"
   ]
  },
  {
   "cell_type": "code",
   "execution_count": 56,
   "metadata": {},
   "outputs": [],
   "source": [
    "obelisco = Point(-6499048.3,-4110245.4)"
   ]
  },
  {
   "cell_type": "code",
   "execution_count": 57,
   "metadata": {},
   "outputs": [
    {
     "data": {
      "text/html": [
       "<div>\n",
       "<style scoped>\n",
       "    .dataframe tbody tr th:only-of-type {\n",
       "        vertical-align: middle;\n",
       "    }\n",
       "\n",
       "    .dataframe tbody tr th {\n",
       "        vertical-align: top;\n",
       "    }\n",
       "\n",
       "    .dataframe thead th {\n",
       "        text-align: right;\n",
       "    }\n",
       "</style>\n",
       "<table border=\"1\" class=\"dataframe\">\n",
       "  <thead>\n",
       "    <tr style=\"text-align: right;\">\n",
       "      <th></th>\n",
       "      <th>ID</th>\n",
       "      <th>ESTACION</th>\n",
       "      <th>LINEA</th>\n",
       "      <th>geometry</th>\n",
       "      <th>x</th>\n",
       "      <th>y</th>\n",
       "      <th>distancia</th>\n",
       "    </tr>\n",
       "  </thead>\n",
       "  <tbody>\n",
       "    <tr>\n",
       "      <th>0</th>\n",
       "      <td>1.0</td>\n",
       "      <td>CASEROS</td>\n",
       "      <td>H</td>\n",
       "      <td>POINT (-6500872.365264534 -4114550.922561814)</td>\n",
       "      <td>-58.398330</td>\n",
       "      <td>-34.636196</td>\n",
       "      <td>4675.974617</td>\n",
       "    </tr>\n",
       "    <tr>\n",
       "      <th>1</th>\n",
       "      <td>2.0</td>\n",
       "      <td>INCLAN</td>\n",
       "      <td>H</td>\n",
       "      <td>POINT (-6501099.673119548 -4113688.521703297)</td>\n",
       "      <td>-58.400372</td>\n",
       "      <td>-34.629822</td>\n",
       "      <td>4007.894552</td>\n",
       "    </tr>\n",
       "    <tr>\n",
       "      <th>2</th>\n",
       "      <td>3.0</td>\n",
       "      <td>HUMBERTO 1°</td>\n",
       "      <td>H</td>\n",
       "      <td>POINT (-6501250.307275812 -4112838.521641664)</td>\n",
       "      <td>-58.401725</td>\n",
       "      <td>-34.623539</td>\n",
       "      <td>3401.928261</td>\n",
       "    </tr>\n",
       "    <tr>\n",
       "      <th>3</th>\n",
       "      <td>4.0</td>\n",
       "      <td>VENEZUELA</td>\n",
       "      <td>H</td>\n",
       "      <td>POINT (-6501518.470772369 -4111776.653996726)</td>\n",
       "      <td>-58.404134</td>\n",
       "      <td>-34.615689</td>\n",
       "      <td>2906.283270</td>\n",
       "    </tr>\n",
       "    <tr>\n",
       "      <th>4</th>\n",
       "      <td>5.0</td>\n",
       "      <td>ONCE - 30 DE DICIEMBRE</td>\n",
       "      <td>H</td>\n",
       "      <td>POINT (-6501663.705051661 -4110923.61029132)</td>\n",
       "      <td>-58.405439</td>\n",
       "      <td>-34.609382</td>\n",
       "      <td>2701.909100</td>\n",
       "    </tr>\n",
       "  </tbody>\n",
       "</table>\n",
       "</div>"
      ],
      "text/plain": [
       "    ID                ESTACION LINEA  \\\n",
       "0  1.0                 CASEROS     H   \n",
       "1  2.0                  INCLAN     H   \n",
       "2  3.0             HUMBERTO 1°     H   \n",
       "3  4.0               VENEZUELA     H   \n",
       "4  5.0  ONCE - 30 DE DICIEMBRE     H   \n",
       "\n",
       "                                        geometry          x          y  \\\n",
       "0  POINT (-6500872.365264534 -4114550.922561814) -58.398330 -34.636196   \n",
       "1  POINT (-6501099.673119548 -4113688.521703297) -58.400372 -34.629822   \n",
       "2  POINT (-6501250.307275812 -4112838.521641664) -58.401725 -34.623539   \n",
       "3  POINT (-6501518.470772369 -4111776.653996726) -58.404134 -34.615689   \n",
       "4   POINT (-6501663.705051661 -4110923.61029132) -58.405439 -34.609382   \n",
       "\n",
       "     distancia  \n",
       "0  4675.974617  \n",
       "1  4007.894552  \n",
       "2  3401.928261  \n",
       "3  2906.283270  \n",
       "4  2701.909100  "
      ]
     },
     "execution_count": 57,
     "metadata": {},
     "output_type": "execute_result"
    }
   ],
   "source": [
    "#una forma es mapear\n",
    "estaciones['distancia'] = estaciones.geometry.map(lambda x: x.distance(obelisco))\n",
    "estaciones.head()"
   ]
  },
  {
   "cell_type": "code",
   "execution_count": 58,
   "metadata": {},
   "outputs": [
    {
     "data": {
      "text/html": [
       "<div>\n",
       "<style scoped>\n",
       "    .dataframe tbody tr th:only-of-type {\n",
       "        vertical-align: middle;\n",
       "    }\n",
       "\n",
       "    .dataframe tbody tr th {\n",
       "        vertical-align: top;\n",
       "    }\n",
       "\n",
       "    .dataframe thead th {\n",
       "        text-align: right;\n",
       "    }\n",
       "</style>\n",
       "<table border=\"1\" class=\"dataframe\">\n",
       "  <thead>\n",
       "    <tr style=\"text-align: right;\">\n",
       "      <th></th>\n",
       "      <th>ID</th>\n",
       "      <th>ESTACION</th>\n",
       "      <th>LINEA</th>\n",
       "      <th>geometry</th>\n",
       "      <th>x</th>\n",
       "      <th>y</th>\n",
       "      <th>distancia</th>\n",
       "    </tr>\n",
       "  </thead>\n",
       "  <tbody>\n",
       "    <tr>\n",
       "      <th>0</th>\n",
       "      <td>1.0</td>\n",
       "      <td>CASEROS</td>\n",
       "      <td>H</td>\n",
       "      <td>POINT (-6500872.365264534 -4114550.922561814)</td>\n",
       "      <td>-58.398330</td>\n",
       "      <td>-34.636196</td>\n",
       "      <td>4675.974617</td>\n",
       "    </tr>\n",
       "    <tr>\n",
       "      <th>1</th>\n",
       "      <td>2.0</td>\n",
       "      <td>INCLAN</td>\n",
       "      <td>H</td>\n",
       "      <td>POINT (-6501099.673119548 -4113688.521703297)</td>\n",
       "      <td>-58.400372</td>\n",
       "      <td>-34.629822</td>\n",
       "      <td>4007.894552</td>\n",
       "    </tr>\n",
       "    <tr>\n",
       "      <th>2</th>\n",
       "      <td>3.0</td>\n",
       "      <td>HUMBERTO 1°</td>\n",
       "      <td>H</td>\n",
       "      <td>POINT (-6501250.307275812 -4112838.521641664)</td>\n",
       "      <td>-58.401725</td>\n",
       "      <td>-34.623539</td>\n",
       "      <td>3401.928261</td>\n",
       "    </tr>\n",
       "    <tr>\n",
       "      <th>3</th>\n",
       "      <td>4.0</td>\n",
       "      <td>VENEZUELA</td>\n",
       "      <td>H</td>\n",
       "      <td>POINT (-6501518.470772369 -4111776.653996726)</td>\n",
       "      <td>-58.404134</td>\n",
       "      <td>-34.615689</td>\n",
       "      <td>2906.283270</td>\n",
       "    </tr>\n",
       "    <tr>\n",
       "      <th>4</th>\n",
       "      <td>5.0</td>\n",
       "      <td>ONCE - 30 DE DICIEMBRE</td>\n",
       "      <td>H</td>\n",
       "      <td>POINT (-6501663.705051661 -4110923.61029132)</td>\n",
       "      <td>-58.405439</td>\n",
       "      <td>-34.609382</td>\n",
       "      <td>2701.909100</td>\n",
       "    </tr>\n",
       "  </tbody>\n",
       "</table>\n",
       "</div>"
      ],
      "text/plain": [
       "    ID                ESTACION LINEA  \\\n",
       "0  1.0                 CASEROS     H   \n",
       "1  2.0                  INCLAN     H   \n",
       "2  3.0             HUMBERTO 1°     H   \n",
       "3  4.0               VENEZUELA     H   \n",
       "4  5.0  ONCE - 30 DE DICIEMBRE     H   \n",
       "\n",
       "                                        geometry          x          y  \\\n",
       "0  POINT (-6500872.365264534 -4114550.922561814) -58.398330 -34.636196   \n",
       "1  POINT (-6501099.673119548 -4113688.521703297) -58.400372 -34.629822   \n",
       "2  POINT (-6501250.307275812 -4112838.521641664) -58.401725 -34.623539   \n",
       "3  POINT (-6501518.470772369 -4111776.653996726) -58.404134 -34.615689   \n",
       "4   POINT (-6501663.705051661 -4110923.61029132) -58.405439 -34.609382   \n",
       "\n",
       "     distancia  \n",
       "0  4675.974617  \n",
       "1  4007.894552  \n",
       "2  3401.928261  \n",
       "3  2906.283270  \n",
       "4  2701.909100  "
      ]
     },
     "execution_count": 58,
     "metadata": {},
     "output_type": "execute_result"
    }
   ],
   "source": [
    "#pero afortunadamente GeoPandas puede aplicar este metodo a toda la Serie\n",
    "estaciones['distancia'] = estaciones.geometry.distance(obelisco)\n",
    "estaciones.head()"
   ]
  },
  {
   "cell_type": "code",
   "execution_count": 59,
   "metadata": {},
   "outputs": [
    {
     "data": {
      "text/plain": [
       "Text(0.5,1,'Estaciones de subte y distancia al Obelisco')"
      ]
     },
     "execution_count": 59,
     "metadata": {},
     "output_type": "execute_result"
    },
    {
     "data": {
      "image/png": "[encoded data removed]",
      "text/plain": [
       "<Figure size 432x432 with 1 Axes>"
      ]
     },
     "metadata": {},
     "output_type": "display_data"
    }
   ],
   "source": [
    "#veamoslo en un mapa\n",
    "fig = plt.figure(figsize=(6,6))\n",
    "ax = fig.add_subplot(1,1,1)\n",
    "estaciones.plot(ax=ax,color='grey',markersize=(estaciones.distancia/10),alpha=0.5) \n",
    "ax.set_axis_off()\n",
    "plt.axis('equal')\n",
    "ax.set_title('Estaciones de subte y distancia al Obelisco')"
   ]
  },
  {
   "cell_type": "markdown",
   "metadata": {},
   "source": [
    "Ahora podemos tratar con el siguiente objeto geografico en terminos de complejidad. La linea "
   ]
  },
  {
   "cell_type": "code",
   "execution_count": 60,
   "metadata": {},
   "outputs": [
    {
     "data": {
      "text/html": [
       "<div>\n",
       "<style scoped>\n",
       "    .dataframe tbody tr th:only-of-type {\n",
       "        vertical-align: middle;\n",
       "    }\n",
       "\n",
       "    .dataframe tbody tr th {\n",
       "        vertical-align: top;\n",
       "    }\n",
       "\n",
       "    .dataframe thead th {\n",
       "        text-align: right;\n",
       "    }\n",
       "</style>\n",
       "<table border=\"1\" class=\"dataframe\">\n",
       "  <thead>\n",
       "    <tr style=\"text-align: right;\">\n",
       "      <th></th>\n",
       "      <th>geometry</th>\n",
       "    </tr>\n",
       "    <tr>\n",
       "      <th>Linea</th>\n",
       "      <th></th>\n",
       "    </tr>\n",
       "  </thead>\n",
       "  <tbody>\n",
       "    <tr>\n",
       "      <th>A</th>\n",
       "      <td>LINESTRING (-6508823.621983094 -4113790.557363...</td>\n",
       "    </tr>\n",
       "    <tr>\n",
       "      <th>B</th>\n",
       "      <td>LINESTRING (-6510694.212720125 -4106170.107942...</td>\n",
       "    </tr>\n",
       "    <tr>\n",
       "      <th>C</th>\n",
       "      <td>LINESTRING (-6498989.02483825 -4113351.3454824...</td>\n",
       "    </tr>\n",
       "    <tr>\n",
       "      <th>D</th>\n",
       "      <td>LINESTRING (-6507956.484830616 -4103697.440260...</td>\n",
       "    </tr>\n",
       "    <tr>\n",
       "      <th>E</th>\n",
       "      <td>LINESTRING (-6507956.399287493 -4115533.052444...</td>\n",
       "    </tr>\n",
       "    <tr>\n",
       "      <th>H</th>\n",
       "      <td>LINESTRING (-6502456.806748704 -4115214.826158...</td>\n",
       "    </tr>\n",
       "  </tbody>\n",
       "</table>\n",
       "</div>"
      ],
      "text/plain": [
       "                                                geometry\n",
       "Linea                                                   \n",
       "A      LINESTRING (-6508823.621983094 -4113790.557363...\n",
       "B      LINESTRING (-6510694.212720125 -4106170.107942...\n",
       "C      LINESTRING (-6498989.02483825 -4113351.3454824...\n",
       "D      LINESTRING (-6507956.484830616 -4103697.440260...\n",
       "E      LINESTRING (-6507956.399287493 -4115533.052444...\n",
       "H      LINESTRING (-6502456.806748704 -4115214.826158..."
      ]
     },
     "execution_count": 60,
     "metadata": {},
     "output_type": "execute_result"
    }
   ],
   "source": [
    "#noten como usamos el indice para seleccionar lineas más faciles\n",
    "lineas = gpd.read_file('../carto/lineas_de_subte.shp')\n",
    "lineas.index = lineas.Linea\n",
    "lineas = lineas.drop(['id','Linea'],axis=1)\n",
    "lineas = lineas.to_crs(epsg=3857)\n",
    "lineas"
   ]
  },
  {
   "cell_type": "code",
   "execution_count": 61,
   "metadata": {},
   "outputs": [
    {
     "data": {
      "text/plain": [
       "shapely.geometry.linestring.LineString"
      ]
     },
     "execution_count": 61,
     "metadata": {},
     "output_type": "execute_result"
    }
   ],
   "source": [
    "#vemos que el tipo para linea de shapely es LineString\n",
    "#noten que al usar el indice sin listas, nos devuelve el objeto geometry sin necesidad de iloc[0]\n",
    "H = lineas.loc['H','geometry']\n",
    "type(H)"
   ]
  },
  {
   "cell_type": "code",
   "execution_count": 62,
   "metadata": {},
   "outputs": [
    {
     "data": {
      "text/plain": [
       "8468.993329266123"
      ]
     },
     "execution_count": 62,
     "metadata": {},
     "output_type": "execute_result"
    }
   ],
   "source": [
    "#tiene sus propios metodos especificos a la linea\n",
    "H.length"
   ]
  },
  {
   "cell_type": "code",
   "execution_count": 63,
   "metadata": {},
   "outputs": [
    {
     "data": {
      "text/plain": [
       "<shapely.coords.CoordinateSequence at 0x7f34b42c3b70>"
      ]
     },
     "execution_count": 63,
     "metadata": {},
     "output_type": "execute_result"
    }
   ],
   "source": [
    "H.coords"
   ]
  },
  {
   "cell_type": "code",
   "execution_count": 64,
   "metadata": {},
   "outputs": [
    {
     "data": {
      "text/plain": [
       "((-6502456.806748704, -4115214.8261582623),\n",
       " (-6500959.194922459, -4114441.7362974873))"
      ]
     },
     "execution_count": 64,
     "metadata": {},
     "output_type": "execute_result"
    }
   ],
   "source": [
    "#una linea no es más que una secuencia de puntos\n",
    "H.coords[0],H.coords[1]"
   ]
  },
  {
   "cell_type": "code",
   "execution_count": 65,
   "metadata": {},
   "outputs": [
    {
     "data": {
      "text/html": [
       "<div>\n",
       "<style scoped>\n",
       "    .dataframe tbody tr th:only-of-type {\n",
       "        vertical-align: middle;\n",
       "    }\n",
       "\n",
       "    .dataframe tbody tr th {\n",
       "        vertical-align: top;\n",
       "    }\n",
       "\n",
       "    .dataframe thead th {\n",
       "        text-align: right;\n",
       "    }\n",
       "</style>\n",
       "<table border=\"1\" class=\"dataframe\">\n",
       "  <thead>\n",
       "    <tr style=\"text-align: right;\">\n",
       "      <th></th>\n",
       "      <th>ESTACION</th>\n",
       "      <th>geometry</th>\n",
       "    </tr>\n",
       "  </thead>\n",
       "  <tbody>\n",
       "    <tr>\n",
       "      <th>0</th>\n",
       "      <td>CASEROS</td>\n",
       "      <td>POINT (-6500872.365264534 -4114550.922561814)</td>\n",
       "    </tr>\n",
       "    <tr>\n",
       "      <th>1</th>\n",
       "      <td>INCLAN</td>\n",
       "      <td>POINT (-6501099.673119548 -4113688.521703297)</td>\n",
       "    </tr>\n",
       "    <tr>\n",
       "      <th>2</th>\n",
       "      <td>HUMBERTO 1°</td>\n",
       "      <td>POINT (-6501250.307275812 -4112838.521641664)</td>\n",
       "    </tr>\n",
       "    <tr>\n",
       "      <th>3</th>\n",
       "      <td>VENEZUELA</td>\n",
       "      <td>POINT (-6501518.470772369 -4111776.653996726)</td>\n",
       "    </tr>\n",
       "    <tr>\n",
       "      <th>4</th>\n",
       "      <td>ONCE - 30 DE DICIEMBRE</td>\n",
       "      <td>POINT (-6501663.705051661 -4110923.61029132)</td>\n",
       "    </tr>\n",
       "    <tr>\n",
       "      <th>76</th>\n",
       "      <td>CORRIENTES</td>\n",
       "      <td>POINT (-6501598.471925394 -4110322.432566255)</td>\n",
       "    </tr>\n",
       "    <tr>\n",
       "      <th>77</th>\n",
       "      <td>PARQUE PATRICIOS</td>\n",
       "      <td>POINT (-6501636.792732302 -4114910.248023052)</td>\n",
       "    </tr>\n",
       "    <tr>\n",
       "      <th>78</th>\n",
       "      <td>HOSPITALES</td>\n",
       "      <td>POINT (-6502370.395089394 -4115297.61242881)</td>\n",
       "    </tr>\n",
       "    <tr>\n",
       "      <th>83</th>\n",
       "      <td>CÓRDOBA</td>\n",
       "      <td>POINT (-6501406.0311146 -4109506.256469619)</td>\n",
       "    </tr>\n",
       "    <tr>\n",
       "      <th>84</th>\n",
       "      <td>LAS HERAS</td>\n",
       "      <td>POINT (-6500681.830667321 -4108019.654066862)</td>\n",
       "    </tr>\n",
       "    <tr>\n",
       "      <th>85</th>\n",
       "      <td>SANTA FE - CARLOS JAUREGUI</td>\n",
       "      <td>POINT (-6501256.279262598 -4108974.83962486)</td>\n",
       "    </tr>\n",
       "  </tbody>\n",
       "</table>\n",
       "</div>"
      ],
      "text/plain": [
       "                      ESTACION                                       geometry\n",
       "0                      CASEROS  POINT (-6500872.365264534 -4114550.922561814)\n",
       "1                       INCLAN  POINT (-6501099.673119548 -4113688.521703297)\n",
       "2                  HUMBERTO 1°  POINT (-6501250.307275812 -4112838.521641664)\n",
       "3                    VENEZUELA  POINT (-6501518.470772369 -4111776.653996726)\n",
       "4       ONCE - 30 DE DICIEMBRE   POINT (-6501663.705051661 -4110923.61029132)\n",
       "76                  CORRIENTES  POINT (-6501598.471925394 -4110322.432566255)\n",
       "77            PARQUE PATRICIOS  POINT (-6501636.792732302 -4114910.248023052)\n",
       "78                  HOSPITALES   POINT (-6502370.395089394 -4115297.61242881)\n",
       "83                     CÓRDOBA    POINT (-6501406.0311146 -4109506.256469619)\n",
       "84                   LAS HERAS  POINT (-6500681.830667321 -4108019.654066862)\n",
       "85  SANTA FE - CARLOS JAUREGUI   POINT (-6501256.279262598 -4108974.83962486)"
      ]
     },
     "execution_count": 65,
     "metadata": {},
     "output_type": "execute_result"
    }
   ],
   "source": [
    "estaciones_H = estaciones.loc[estaciones.LINEA == 'H',['ESTACION','geometry']]\n",
    "estaciones_H"
   ]
  },
  {
   "cell_type": "code",
   "execution_count": 66,
   "metadata": {},
   "outputs": [],
   "source": [
    "estaciones_H['orden'] = estaciones_H.geometry.map(lambda estacion: H.project(estacion,normalized = True))"
   ]
  },
  {
   "cell_type": "code",
   "execution_count": 67,
   "metadata": {},
   "outputs": [
    {
     "data": {
      "text/html": [
       "<div>\n",
       "<style scoped>\n",
       "    .dataframe tbody tr th:only-of-type {\n",
       "        vertical-align: middle;\n",
       "    }\n",
       "\n",
       "    .dataframe tbody tr th {\n",
       "        vertical-align: top;\n",
       "    }\n",
       "\n",
       "    .dataframe thead th {\n",
       "        text-align: right;\n",
       "    }\n",
       "</style>\n",
       "<table border=\"1\" class=\"dataframe\">\n",
       "  <thead>\n",
       "    <tr style=\"text-align: right;\">\n",
       "      <th></th>\n",
       "      <th>ESTACION</th>\n",
       "      <th>geometry</th>\n",
       "      <th>orden</th>\n",
       "    </tr>\n",
       "  </thead>\n",
       "  <tbody>\n",
       "    <tr>\n",
       "      <th>0</th>\n",
       "      <td>HOSPITALES</td>\n",
       "      <td>POINT (-6502370.395089394 -4115297.61242881)</td>\n",
       "      <td>0.004583</td>\n",
       "    </tr>\n",
       "    <tr>\n",
       "      <th>1</th>\n",
       "      <td>PARQUE PATRICIOS</td>\n",
       "      <td>POINT (-6501636.792732302 -4114910.248023052)</td>\n",
       "      <td>0.102535</td>\n",
       "    </tr>\n",
       "    <tr>\n",
       "      <th>2</th>\n",
       "      <td>CASEROS</td>\n",
       "      <td>POINT (-6500872.365264534 -4114550.922561814)</td>\n",
       "      <td>0.199006</td>\n",
       "    </tr>\n",
       "    <tr>\n",
       "      <th>3</th>\n",
       "      <td>INCLAN</td>\n",
       "      <td>POINT (-6501099.673119548 -4113688.521703297)</td>\n",
       "      <td>0.289459</td>\n",
       "    </tr>\n",
       "    <tr>\n",
       "      <th>4</th>\n",
       "      <td>HUMBERTO 1°</td>\n",
       "      <td>POINT (-6501250.307275812 -4112838.521641664)</td>\n",
       "      <td>0.391346</td>\n",
       "    </tr>\n",
       "    <tr>\n",
       "      <th>5</th>\n",
       "      <td>VENEZUELA</td>\n",
       "      <td>POINT (-6501518.470772369 -4111776.653996726)</td>\n",
       "      <td>0.520547</td>\n",
       "    </tr>\n",
       "    <tr>\n",
       "      <th>6</th>\n",
       "      <td>ONCE - 30 DE DICIEMBRE</td>\n",
       "      <td>POINT (-6501663.705051661 -4110923.61029132)</td>\n",
       "      <td>0.622656</td>\n",
       "    </tr>\n",
       "    <tr>\n",
       "      <th>7</th>\n",
       "      <td>CORRIENTES</td>\n",
       "      <td>POINT (-6501598.471925394 -4110322.432566255)</td>\n",
       "      <td>0.695686</td>\n",
       "    </tr>\n",
       "    <tr>\n",
       "      <th>8</th>\n",
       "      <td>CÓRDOBA</td>\n",
       "      <td>POINT (-6501406.0311146 -4109506.256469619)</td>\n",
       "      <td>0.794333</td>\n",
       "    </tr>\n",
       "    <tr>\n",
       "      <th>9</th>\n",
       "      <td>SANTA FE - CARLOS JAUREGUI</td>\n",
       "      <td>POINT (-6501256.279262598 -4108974.83962486)</td>\n",
       "      <td>0.859465</td>\n",
       "    </tr>\n",
       "    <tr>\n",
       "      <th>10</th>\n",
       "      <td>LAS HERAS</td>\n",
       "      <td>POINT (-6500681.830667321 -4108019.654066862)</td>\n",
       "      <td>0.987798</td>\n",
       "    </tr>\n",
       "  </tbody>\n",
       "</table>\n",
       "</div>"
      ],
      "text/plain": [
       "                      ESTACION                                       geometry  \\\n",
       "0                   HOSPITALES   POINT (-6502370.395089394 -4115297.61242881)   \n",
       "1             PARQUE PATRICIOS  POINT (-6501636.792732302 -4114910.248023052)   \n",
       "2                      CASEROS  POINT (-6500872.365264534 -4114550.922561814)   \n",
       "3                       INCLAN  POINT (-6501099.673119548 -4113688.521703297)   \n",
       "4                  HUMBERTO 1°  POINT (-6501250.307275812 -4112838.521641664)   \n",
       "5                    VENEZUELA  POINT (-6501518.470772369 -4111776.653996726)   \n",
       "6       ONCE - 30 DE DICIEMBRE   POINT (-6501663.705051661 -4110923.61029132)   \n",
       "7                   CORRIENTES  POINT (-6501598.471925394 -4110322.432566255)   \n",
       "8                      CÓRDOBA    POINT (-6501406.0311146 -4109506.256469619)   \n",
       "9   SANTA FE - CARLOS JAUREGUI   POINT (-6501256.279262598 -4108974.83962486)   \n",
       "10                   LAS HERAS  POINT (-6500681.830667321 -4108019.654066862)   \n",
       "\n",
       "       orden  \n",
       "0   0.004583  \n",
       "1   0.102535  \n",
       "2   0.199006  \n",
       "3   0.289459  \n",
       "4   0.391346  \n",
       "5   0.520547  \n",
       "6   0.622656  \n",
       "7   0.695686  \n",
       "8   0.794333  \n",
       "9   0.859465  \n",
       "10  0.987798  "
      ]
     },
     "execution_count": 67,
     "metadata": {},
     "output_type": "execute_result"
    }
   ],
   "source": [
    "estaciones_H = estaciones_H.sort_values(by='orden')\n",
    "estaciones_H = estaciones_H.reset_index(drop=True)\n",
    "estaciones_H"
   ]
  },
  {
   "cell_type": "code",
   "execution_count": 68,
   "metadata": {},
   "outputs": [],
   "source": [
    "#no siempre tenemos que guardar todo en el data frame, en especial variables que van a ser insumo\n",
    "estacion_siguiente = estaciones_H.geometry.shift(-1)"
   ]
  },
  {
   "cell_type": "code",
   "execution_count": 69,
   "metadata": {},
   "outputs": [],
   "source": [
    "distancias = [estaciones_H.geometry.loc[i].distance(estacion_siguiente.loc[i]) for i in estaciones_H.index[:-1]]"
   ]
  },
  {
   "cell_type": "code",
   "execution_count": 70,
   "metadata": {},
   "outputs": [],
   "source": [
    "from shapely.geometry import LineString\n"
   ]
  },
  {
   "cell_type": "code",
   "execution_count": 71,
   "metadata": {},
   "outputs": [
    {
     "data": {
      "text/plain": [
       "[<shapely.geometry.linestring.LineString at 0x7f34b42ffcc0>,\n",
       " <shapely.geometry.linestring.LineString at 0x7f34b42fff98>,\n",
       " <shapely.geometry.linestring.LineString at 0x7f34b42ffc88>,\n",
       " <shapely.geometry.linestring.LineString at 0x7f34b42ff9b0>,\n",
       " <shapely.geometry.linestring.LineString at 0x7f34b3952160>,\n",
       " <shapely.geometry.linestring.LineString at 0x7f34b3952198>,\n",
       " <shapely.geometry.linestring.LineString at 0x7f34b39520f0>,\n",
       " <shapely.geometry.linestring.LineString at 0x7f34b3952550>,\n",
       " <shapely.geometry.linestring.LineString at 0x7f34b39520b8>,\n",
       " <shapely.geometry.linestring.LineString at 0x7f34b39522e8>]"
      ]
     },
     "execution_count": 71,
     "metadata": {},
     "output_type": "execute_result"
    }
   ],
   "source": [
    "lineas_nuevas = [LineString([estaciones_H.geometry.loc[i],estacion_siguiente.loc[i]]) for i in estaciones_H.index[:-1]]\n",
    "lineas_nuevas"
   ]
  },
  {
   "cell_type": "code",
   "execution_count": 72,
   "metadata": {},
   "outputs": [
    {
     "data": {
      "text/plain": [
       "pandas.core.frame.DataFrame"
      ]
     },
     "execution_count": 72,
     "metadata": {},
     "output_type": "execute_result"
    }
   ],
   "source": [
    "nuevaH = pd.DataFrame({'lineas':lineas_nuevas,\n",
    "             'distancia':distancias})\n",
    "type(nuevaH)"
   ]
  },
  {
   "cell_type": "code",
   "execution_count": 73,
   "metadata": {},
   "outputs": [],
   "source": [
    "nuevaH = gpd.GeoDataFrame(nuevaH, geometry='lineas',crs={'init' :'epsg:3857'})\n"
   ]
  },
  {
   "cell_type": "code",
   "execution_count": 74,
   "metadata": {},
   "outputs": [
    {
     "data": {
      "text/plain": [
       "<matplotlib.axes._subplots.AxesSubplot at 0x7f34b3980518>"
      ]
     },
     "execution_count": 74,
     "metadata": {},
     "output_type": "execute_result"
    },
    {
     "data": {
      "image/png": "[encoded data removed]",
      "text/plain": [
       "<Figure size 432x288 with 1 Axes>"
      ]
     },
     "metadata": {},
     "output_type": "display_data"
    }
   ],
   "source": [
    "nuevaH.plot(linewidth = nuevaH.distancia/80,alpha = 0.5)"
   ]
  },
  {
   "cell_type": "code",
   "execution_count": 75,
   "metadata": {},
   "outputs": [
    {
     "data": {
      "text/html": [
       "<div>\n",
       "<style scoped>\n",
       "    .dataframe tbody tr th:only-of-type {\n",
       "        vertical-align: middle;\n",
       "    }\n",
       "\n",
       "    .dataframe tbody tr th {\n",
       "        vertical-align: top;\n",
       "    }\n",
       "\n",
       "    .dataframe thead th {\n",
       "        text-align: right;\n",
       "    }\n",
       "</style>\n",
       "<table border=\"1\" class=\"dataframe\">\n",
       "  <thead>\n",
       "    <tr style=\"text-align: right;\">\n",
       "      <th></th>\n",
       "      <th>geometry</th>\n",
       "    </tr>\n",
       "    <tr>\n",
       "      <th>Linea</th>\n",
       "      <th></th>\n",
       "    </tr>\n",
       "  </thead>\n",
       "  <tbody>\n",
       "    <tr>\n",
       "      <th>A</th>\n",
       "      <td>LINESTRING (-6508823.621983094 -4113790.557363...</td>\n",
       "    </tr>\n",
       "    <tr>\n",
       "      <th>B</th>\n",
       "      <td>LINESTRING (-6510694.212720125 -4106170.107942...</td>\n",
       "    </tr>\n",
       "    <tr>\n",
       "      <th>C</th>\n",
       "      <td>LINESTRING (-6498989.02483825 -4113351.3454824...</td>\n",
       "    </tr>\n",
       "    <tr>\n",
       "      <th>D</th>\n",
       "      <td>LINESTRING (-6507956.484830616 -4103697.440260...</td>\n",
       "    </tr>\n",
       "    <tr>\n",
       "      <th>E</th>\n",
       "      <td>LINESTRING (-6507956.399287493 -4115533.052444...</td>\n",
       "    </tr>\n",
       "    <tr>\n",
       "      <th>H</th>\n",
       "      <td>LINESTRING (-6502456.806748704 -4115214.826158...</td>\n",
       "    </tr>\n",
       "  </tbody>\n",
       "</table>\n",
       "</div>"
      ],
      "text/plain": [
       "                                                geometry\n",
       "Linea                                                   \n",
       "A      LINESTRING (-6508823.621983094 -4113790.557363...\n",
       "B      LINESTRING (-6510694.212720125 -4106170.107942...\n",
       "C      LINESTRING (-6498989.02483825 -4113351.3454824...\n",
       "D      LINESTRING (-6507956.484830616 -4103697.440260...\n",
       "E      LINESTRING (-6507956.399287493 -4115533.052444...\n",
       "H      LINESTRING (-6502456.806748704 -4115214.826158..."
      ]
     },
     "execution_count": 75,
     "metadata": {},
     "output_type": "execute_result"
    }
   ],
   "source": [
    "lineas"
   ]
  },
  {
   "cell_type": "code",
   "execution_count": 76,
   "metadata": {},
   "outputs": [],
   "source": [
    "def funcion(dt):\n",
    "    dt = dt.reindex(columns = ['ESTACION','LINEA','geometry'])\n",
    "    dt = dt.iloc[0]\n",
    "    return dt"
   ]
  },
  {
   "cell_type": "code",
   "execution_count": 77,
   "metadata": {},
   "outputs": [
    {
     "data": {
      "text/html": [
       "<div>\n",
       "<style scoped>\n",
       "    .dataframe tbody tr th:only-of-type {\n",
       "        vertical-align: middle;\n",
       "    }\n",
       "\n",
       "    .dataframe tbody tr th {\n",
       "        vertical-align: top;\n",
       "    }\n",
       "\n",
       "    .dataframe thead th {\n",
       "        text-align: right;\n",
       "    }\n",
       "</style>\n",
       "<table border=\"1\" class=\"dataframe\">\n",
       "  <thead>\n",
       "    <tr style=\"text-align: right;\">\n",
       "      <th></th>\n",
       "      <th>ESTACION</th>\n",
       "      <th>LINEA</th>\n",
       "      <th>geometry</th>\n",
       "    </tr>\n",
       "  </thead>\n",
       "  <tbody>\n",
       "    <tr>\n",
       "      <th>0</th>\n",
       "      <td>PERU</td>\n",
       "      <td>A</td>\n",
       "      <td>POINT (-6498127.365036696 -4110872.712542146)</td>\n",
       "    </tr>\n",
       "    <tr>\n",
       "      <th>1</th>\n",
       "      <td>FLORIDA</td>\n",
       "      <td>B</td>\n",
       "      <td>POINT (-6498216.843629339 -4110161.079893423)</td>\n",
       "    </tr>\n",
       "    <tr>\n",
       "      <th>2</th>\n",
       "      <td>RETIRO</td>\n",
       "      <td>C</td>\n",
       "      <td>POINT (-6498099.604554965 -4108524.30949048)</td>\n",
       "    </tr>\n",
       "    <tr>\n",
       "      <th>3</th>\n",
       "      <td>9 DE JULIO</td>\n",
       "      <td>D</td>\n",
       "      <td>POINT (-6498829.391967968 -4110289.281761676)</td>\n",
       "    </tr>\n",
       "    <tr>\n",
       "      <th>4</th>\n",
       "      <td>BOLIVAR</td>\n",
       "      <td>E</td>\n",
       "      <td>POINT (-6498062.411708559 -4110965.13615367)</td>\n",
       "    </tr>\n",
       "    <tr>\n",
       "      <th>5</th>\n",
       "      <td>CASEROS</td>\n",
       "      <td>H</td>\n",
       "      <td>POINT (-6500872.365264534 -4114550.922561814)</td>\n",
       "    </tr>\n",
       "  </tbody>\n",
       "</table>\n",
       "</div>"
      ],
      "text/plain": [
       "     ESTACION LINEA                                       geometry\n",
       "0        PERU     A  POINT (-6498127.365036696 -4110872.712542146)\n",
       "1     FLORIDA     B  POINT (-6498216.843629339 -4110161.079893423)\n",
       "2      RETIRO     C   POINT (-6498099.604554965 -4108524.30949048)\n",
       "3  9 DE JULIO     D  POINT (-6498829.391967968 -4110289.281761676)\n",
       "4     BOLIVAR     E   POINT (-6498062.411708559 -4110965.13615367)\n",
       "5     CASEROS     H  POINT (-6500872.365264534 -4114550.922561814)"
      ]
     },
     "execution_count": 77,
     "metadata": {},
     "output_type": "execute_result"
    }
   ],
   "source": [
    "estaciones.groupby('LINEA').apply(funcion).reset_index(drop=True)"
   ]
  },
  {
   "cell_type": "code",
   "execution_count": 78,
   "metadata": {},
   "outputs": [],
   "source": [
    "def distancia_entre_estaciones(dt,lineas):\n",
    "    #obtengo la linea de cada subset de datos\n",
    "    linea = dt.LINEA.unique()[0]\n",
    "    colores = {\n",
    "        'A':'lightblue',\n",
    "        'B':'red',\n",
    "        'C':'blue',\n",
    "        'D':'green',\n",
    "        'E':'purple',\n",
    "        'H':'gold'\n",
    "    }\n",
    "    color = colores[linea]\n",
    "    \n",
    "    linea = lineas.loc[linea,'geometry']\n",
    "    dt = dt.reindex(columns = ['ESTACION','LINEA','geometry'])\n",
    "    dt['orden'] = dt.geometry.map(lambda estacion: linea.project(estacion,normalized = True))\n",
    "    \n",
    "    dt = dt.sort_values(by='orden')\n",
    "    dt = dt.reset_index(drop=True)\n",
    "    estacion_siguiente = dt.geometry.shift(-1)\n",
    "    \n",
    "    distancias = [dt.geometry.loc[i].distance(estacion_siguiente.loc[i]) for i in dt.index[:-1]]\n",
    "    lineas_nuevas = [LineString([dt.geometry.loc[i],estacion_siguiente.loc[i]]) for i in dt.index[:-1]]\n",
    "    nuevo_dt = pd.DataFrame({'lineas':lineas_nuevas,\n",
    "             'distancia':distancias})\n",
    "    nuevo_dt = gpd.GeoDataFrame(nuevo_dt, geometry='lineas',crs={'init' :'epsg:3857'})\n",
    "    #nuevo_dt.geometry = nuevo_dt.geometry.buffer(0.9)\n",
    "    nuevo_dt['color'] = color\n",
    "    return nuevo_dt"
   ]
  },
  {
   "cell_type": "code",
   "execution_count": 79,
   "metadata": {},
   "outputs": [],
   "source": [
    "lineas_subte = estaciones.groupby('LINEA').apply(lambda x: distancia_entre_estaciones(x,lineas))\n",
    "lineas_subte.index = lineas_subte.index.droplevel(1)\n",
    "\n"
   ]
  },
  {
   "cell_type": "code",
   "execution_count": 80,
   "metadata": {},
   "outputs": [
    {
     "data": {
      "text/plain": [
       "Text(0.5,1,'Distancia entre estaciones de Subte')"
      ]
     },
     "execution_count": 80,
     "metadata": {},
     "output_type": "execute_result"
    },
    {
     "data": {
      "image/png": "[encoded data removed]",
      "text/plain": [
       "<Figure size 432x432 with 1 Axes>"
      ]
     },
     "metadata": {},
     "output_type": "display_data"
    }
   ],
   "source": [
    "#veamoslo en un mapa\n",
    "fig = plt.figure(figsize=(6,6))\n",
    "ax = fig.add_subplot(1,1,1)\n",
    "\n",
    "lineas_subte.plot(color = lineas_subte.color,\n",
    "                  linewidth = lineas_subte.distancia/80,\n",
    "                  alpha = 0.5,ax=ax)\n",
    "ax.set_axis_off()\n",
    "plt.axis('equal')\n",
    "ax.set_title('Distancia entre estaciones de Subte')"
   ]
  },
  {
   "cell_type": "code",
   "execution_count": 81,
   "metadata": {},
   "outputs": [],
   "source": [
    "lineas_subte['lineas'] = lineas_subte.apply(lambda x: x.lineas.buffer(x.distancia/10), axis=1)"
   ]
  },
  {
   "cell_type": "code",
   "execution_count": 82,
   "metadata": {},
   "outputs": [
    {
     "data": {
      "text/plain": [
       "Text(0.5,1,'Distancia entre estaciones de Subte')"
      ]
     },
     "execution_count": 82,
     "metadata": {},
     "output_type": "execute_result"
    },
    {
     "data": {
      "image/png": "[encoded data removed]",
      "text/plain": [
       "<Figure size 432x432 with 1 Axes>"
      ]
     },
     "metadata": {},
     "output_type": "display_data"
    }
   ],
   "source": [
    "#veamoslo en un mapa\n",
    "fig = plt.figure(figsize=(6,6))\n",
    "ax = fig.add_subplot(1,1,1)\n",
    "\n",
    "lineas_subte.plot(color = lineas_subte.color,\n",
    "                  #linewidth = lineas_subte.distancia/80,\n",
    "                  alpha = 0.5,ax=ax)\n",
    "ax.set_axis_off()\n",
    "plt.axis('equal')\n",
    "ax.set_title('Distancia entre estaciones de Subte')"
   ]
  },
  {
   "cell_type": "code",
   "execution_count": 83,
   "metadata": {},
   "outputs": [
    {
     "data": {
      "text/html": [
       "<div>\n",
       "<style scoped>\n",
       "    .dataframe tbody tr th:only-of-type {\n",
       "        vertical-align: middle;\n",
       "    }\n",
       "\n",
       "    .dataframe tbody tr th {\n",
       "        vertical-align: top;\n",
       "    }\n",
       "\n",
       "    .dataframe thead th {\n",
       "        text-align: right;\n",
       "    }\n",
       "</style>\n",
       "<table border=\"1\" class=\"dataframe\">\n",
       "  <thead>\n",
       "    <tr style=\"text-align: right;\">\n",
       "      <th></th>\n",
       "      <th>WKT</th>\n",
       "      <th>id</th>\n",
       "      <th>lineasub</th>\n",
       "    </tr>\n",
       "  </thead>\n",
       "  <tbody>\n",
       "    <tr>\n",
       "      <th>0</th>\n",
       "      <td>LINESTRING (-58.45212560312952 -34.56621524240...</td>\n",
       "      <td>1</td>\n",
       "      <td>LINEA D</td>\n",
       "    </tr>\n",
       "    <tr>\n",
       "      <th>1</th>\n",
       "      <td>LINESTRING (-58.45648913465165 -34.56230908800...</td>\n",
       "      <td>2</td>\n",
       "      <td>LINEA D</td>\n",
       "    </tr>\n",
       "    <tr>\n",
       "      <th>2</th>\n",
       "      <td>LINESTRING (-58.44466814742586 -34.57001230910...</td>\n",
       "      <td>3</td>\n",
       "      <td>LINEA D</td>\n",
       "    </tr>\n",
       "    <tr>\n",
       "      <th>3</th>\n",
       "      <td>LINESTRING (-58.43501353294445 -34.57517836531...</td>\n",
       "      <td>4</td>\n",
       "      <td>LINEA D</td>\n",
       "    </tr>\n",
       "    <tr>\n",
       "      <th>4</th>\n",
       "      <td>LINESTRING (-58.42571144108521 -34.57842202290...</td>\n",
       "      <td>5</td>\n",
       "      <td>LINEA D</td>\n",
       "    </tr>\n",
       "  </tbody>\n",
       "</table>\n",
       "</div>"
      ],
      "text/plain": [
       "                                                 WKT  id lineasub\n",
       "0  LINESTRING (-58.45212560312952 -34.56621524240...   1  LINEA D\n",
       "1  LINESTRING (-58.45648913465165 -34.56230908800...   2  LINEA D\n",
       "2  LINESTRING (-58.44466814742586 -34.57001230910...   3  LINEA D\n",
       "3  LINESTRING (-58.43501353294445 -34.57517836531...   4  LINEA D\n",
       "4  LINESTRING (-58.42571144108521 -34.57842202290...   5  LINEA D"
      ]
     },
     "execution_count": 83,
     "metadata": {},
     "output_type": "execute_result"
    }
   ],
   "source": [
    "#COMO CREAMOS UN GEODATAFRAME?\n",
    "from shapely import wkt\n",
    "lineas = pd.read_csv('../carto/lineas-de-subte.csv')\n",
    "lineas.WKT = lineas.WKT.apply(wkt.loads)\n",
    "crs = {'init' :'epsg:4326'}\n",
    "gdf = gpd.GeoDataFrame(lineas, geometry='WKT',crs=crs)\n",
    "gdf.head()"
   ]
  },
  {
   "cell_type": "code",
   "execution_count": 84,
   "metadata": {},
   "outputs": [],
   "source": [
    "#vamos a crear una funcion para leer nuestros datos de acuerdo a si queremos un sabado o que hora\n",
    "\n",
    "def leerData(tipo_de_dia,hora):\n",
    "    db = pd.read_csv('../data/dataInsumo.csv')\n",
    "    db = db.loc[db.hora == hora,:]\n",
    "    if tipo_de_dia == 'fin de semana':\n",
    "        return db.loc[db.fin_de_semana,['ID','promedio']]\n",
    "    elif tipo_de_dia == 'dia de semana':\n",
    "        return db.loc[~(db.fin_de_semana),['ID','promedio']]\n",
    "    else:\n",
    "        print('ERROR')"
   ]
  },
  {
   "cell_type": "code",
   "execution_count": 85,
   "metadata": {},
   "outputs": [
    {
     "data": {
      "text/html": [
       "<div>\n",
       "<style scoped>\n",
       "    .dataframe tbody tr th:only-of-type {\n",
       "        vertical-align: middle;\n",
       "    }\n",
       "\n",
       "    .dataframe tbody tr th {\n",
       "        vertical-align: top;\n",
       "    }\n",
       "\n",
       "    .dataframe thead th {\n",
       "        text-align: right;\n",
       "    }\n",
       "</style>\n",
       "<table border=\"1\" class=\"dataframe\">\n",
       "  <thead>\n",
       "    <tr style=\"text-align: right;\">\n",
       "      <th></th>\n",
       "      <th>ID</th>\n",
       "      <th>promedio</th>\n",
       "    </tr>\n",
       "  </thead>\n",
       "  <tbody>\n",
       "    <tr>\n",
       "      <th>258</th>\n",
       "      <td>31</td>\n",
       "      <td>5.825607</td>\n",
       "    </tr>\n",
       "    <tr>\n",
       "      <th>259</th>\n",
       "      <td>32</td>\n",
       "      <td>7.984227</td>\n",
       "    </tr>\n",
       "    <tr>\n",
       "      <th>260</th>\n",
       "      <td>33</td>\n",
       "      <td>12.686224</td>\n",
       "    </tr>\n",
       "    <tr>\n",
       "      <th>261</th>\n",
       "      <td>34</td>\n",
       "      <td>18.674033</td>\n",
       "    </tr>\n",
       "    <tr>\n",
       "      <th>262</th>\n",
       "      <td>35</td>\n",
       "      <td>20.315451</td>\n",
       "    </tr>\n",
       "  </tbody>\n",
       "</table>\n",
       "</div>"
      ],
      "text/plain": [
       "     ID   promedio\n",
       "258  31   5.825607\n",
       "259  32   7.984227\n",
       "260  33  12.686224\n",
       "261  34  18.674033\n",
       "262  35  20.315451"
      ]
     },
     "execution_count": 85,
     "metadata": {},
     "output_type": "execute_result"
    }
   ],
   "source": [
    "#corremos la funcion\n",
    "dt = leerData(tipo_de_dia = 'dia de semana', hora = 8)\n",
    "dt.head()"
   ]
  },
  {
   "cell_type": "code",
   "execution_count": 86,
   "metadata": {},
   "outputs": [
    {
     "data": {
      "text/html": [
       "<div>\n",
       "<style scoped>\n",
       "    .dataframe tbody tr th:only-of-type {\n",
       "        vertical-align: middle;\n",
       "    }\n",
       "\n",
       "    .dataframe tbody tr th {\n",
       "        vertical-align: top;\n",
       "    }\n",
       "\n",
       "    .dataframe thead th {\n",
       "        text-align: right;\n",
       "    }\n",
       "</style>\n",
       "<table border=\"1\" class=\"dataframe\">\n",
       "  <thead>\n",
       "    <tr style=\"text-align: right;\">\n",
       "      <th></th>\n",
       "      <th>ID</th>\n",
       "      <th>ESTACION</th>\n",
       "      <th>LINEA</th>\n",
       "      <th>geometry</th>\n",
       "      <th>x</th>\n",
       "      <th>y</th>\n",
       "      <th>distancia</th>\n",
       "    </tr>\n",
       "  </thead>\n",
       "  <tbody>\n",
       "    <tr>\n",
       "      <th>0</th>\n",
       "      <td>1</td>\n",
       "      <td>CASEROS</td>\n",
       "      <td>H</td>\n",
       "      <td>POINT (-6500872.365264534 -4114550.922561814)</td>\n",
       "      <td>-58.398330</td>\n",
       "      <td>-34.636196</td>\n",
       "      <td>4675.974617</td>\n",
       "    </tr>\n",
       "    <tr>\n",
       "      <th>1</th>\n",
       "      <td>2</td>\n",
       "      <td>INCLAN</td>\n",
       "      <td>H</td>\n",
       "      <td>POINT (-6501099.673119548 -4113688.521703297)</td>\n",
       "      <td>-58.400372</td>\n",
       "      <td>-34.629822</td>\n",
       "      <td>4007.894552</td>\n",
       "    </tr>\n",
       "    <tr>\n",
       "      <th>2</th>\n",
       "      <td>3</td>\n",
       "      <td>HUMBERTO 1°</td>\n",
       "      <td>H</td>\n",
       "      <td>POINT (-6501250.307275812 -4112838.521641664)</td>\n",
       "      <td>-58.401725</td>\n",
       "      <td>-34.623539</td>\n",
       "      <td>3401.928261</td>\n",
       "    </tr>\n",
       "    <tr>\n",
       "      <th>3</th>\n",
       "      <td>4</td>\n",
       "      <td>VENEZUELA</td>\n",
       "      <td>H</td>\n",
       "      <td>POINT (-6501518.470772369 -4111776.653996726)</td>\n",
       "      <td>-58.404134</td>\n",
       "      <td>-34.615689</td>\n",
       "      <td>2906.283270</td>\n",
       "    </tr>\n",
       "    <tr>\n",
       "      <th>4</th>\n",
       "      <td>5</td>\n",
       "      <td>ONCE - 30 DE DICIEMBRE</td>\n",
       "      <td>H</td>\n",
       "      <td>POINT (-6501663.705051661 -4110923.61029132)</td>\n",
       "      <td>-58.405439</td>\n",
       "      <td>-34.609382</td>\n",
       "      <td>2701.909100</td>\n",
       "    </tr>\n",
       "  </tbody>\n",
       "</table>\n",
       "</div>"
      ],
      "text/plain": [
       "   ID                ESTACION LINEA  \\\n",
       "0   1                 CASEROS     H   \n",
       "1   2                  INCLAN     H   \n",
       "2   3             HUMBERTO 1°     H   \n",
       "3   4               VENEZUELA     H   \n",
       "4   5  ONCE - 30 DE DICIEMBRE     H   \n",
       "\n",
       "                                        geometry          x          y  \\\n",
       "0  POINT (-6500872.365264534 -4114550.922561814) -58.398330 -34.636196   \n",
       "1  POINT (-6501099.673119548 -4113688.521703297) -58.400372 -34.629822   \n",
       "2  POINT (-6501250.307275812 -4112838.521641664) -58.401725 -34.623539   \n",
       "3  POINT (-6501518.470772369 -4111776.653996726) -58.404134 -34.615689   \n",
       "4   POINT (-6501663.705051661 -4110923.61029132) -58.405439 -34.609382   \n",
       "\n",
       "     distancia  \n",
       "0  4675.974617  \n",
       "1  4007.894552  \n",
       "2  3401.928261  \n",
       "3  2906.283270  \n",
       "4  2701.909100  "
      ]
     },
     "execution_count": 86,
     "metadata": {},
     "output_type": "execute_result"
    }
   ],
   "source": [
    "estaciones.ID = estaciones.ID.map(int)\n",
    "estaciones.head()"
   ]
  },
  {
   "cell_type": "code",
   "execution_count": 87,
   "metadata": {},
   "outputs": [
    {
     "data": {
      "text/html": [
       "<div>\n",
       "<style scoped>\n",
       "    .dataframe tbody tr th:only-of-type {\n",
       "        vertical-align: middle;\n",
       "    }\n",
       "\n",
       "    .dataframe tbody tr th {\n",
       "        vertical-align: top;\n",
       "    }\n",
       "\n",
       "    .dataframe thead th {\n",
       "        text-align: right;\n",
       "    }\n",
       "</style>\n",
       "<table border=\"1\" class=\"dataframe\">\n",
       "  <thead>\n",
       "    <tr style=\"text-align: right;\">\n",
       "      <th></th>\n",
       "      <th>ID</th>\n",
       "      <th>ESTACION</th>\n",
       "      <th>LINEA</th>\n",
       "      <th>geometry</th>\n",
       "      <th>x</th>\n",
       "      <th>y</th>\n",
       "      <th>distancia</th>\n",
       "      <th>promedio</th>\n",
       "    </tr>\n",
       "  </thead>\n",
       "  <tbody>\n",
       "    <tr>\n",
       "      <th>0</th>\n",
       "      <td>1</td>\n",
       "      <td>CASEROS</td>\n",
       "      <td>H</td>\n",
       "      <td>POINT (-6500872.365264534 -4114550.922561814)</td>\n",
       "      <td>-58.398330</td>\n",
       "      <td>-34.636196</td>\n",
       "      <td>4675.974617</td>\n",
       "      <td>35.471223</td>\n",
       "    </tr>\n",
       "    <tr>\n",
       "      <th>1</th>\n",
       "      <td>2</td>\n",
       "      <td>INCLAN</td>\n",
       "      <td>H</td>\n",
       "      <td>POINT (-6501099.673119548 -4113688.521703297)</td>\n",
       "      <td>-58.400372</td>\n",
       "      <td>-34.629822</td>\n",
       "      <td>4007.894552</td>\n",
       "      <td>33.931507</td>\n",
       "    </tr>\n",
       "    <tr>\n",
       "      <th>2</th>\n",
       "      <td>3</td>\n",
       "      <td>HUMBERTO 1°</td>\n",
       "      <td>H</td>\n",
       "      <td>POINT (-6501250.307275812 -4112838.521641664)</td>\n",
       "      <td>-58.401725</td>\n",
       "      <td>-34.623539</td>\n",
       "      <td>3401.928261</td>\n",
       "      <td>35.519435</td>\n",
       "    </tr>\n",
       "    <tr>\n",
       "      <th>3</th>\n",
       "      <td>4</td>\n",
       "      <td>VENEZUELA</td>\n",
       "      <td>H</td>\n",
       "      <td>POINT (-6501518.470772369 -4111776.653996726)</td>\n",
       "      <td>-58.404134</td>\n",
       "      <td>-34.615689</td>\n",
       "      <td>2906.283270</td>\n",
       "      <td>45.675090</td>\n",
       "    </tr>\n",
       "    <tr>\n",
       "      <th>4</th>\n",
       "      <td>5</td>\n",
       "      <td>ONCE - 30 DE DICIEMBRE</td>\n",
       "      <td>H</td>\n",
       "      <td>POINT (-6501663.705051661 -4110923.61029132)</td>\n",
       "      <td>-58.405439</td>\n",
       "      <td>-34.609382</td>\n",
       "      <td>2701.909100</td>\n",
       "      <td>33.917563</td>\n",
       "    </tr>\n",
       "  </tbody>\n",
       "</table>\n",
       "</div>"
      ],
      "text/plain": [
       "   ID                ESTACION LINEA  \\\n",
       "0   1                 CASEROS     H   \n",
       "1   2                  INCLAN     H   \n",
       "2   3             HUMBERTO 1°     H   \n",
       "3   4               VENEZUELA     H   \n",
       "4   5  ONCE - 30 DE DICIEMBRE     H   \n",
       "\n",
       "                                        geometry          x          y  \\\n",
       "0  POINT (-6500872.365264534 -4114550.922561814) -58.398330 -34.636196   \n",
       "1  POINT (-6501099.673119548 -4113688.521703297) -58.400372 -34.629822   \n",
       "2  POINT (-6501250.307275812 -4112838.521641664) -58.401725 -34.623539   \n",
       "3  POINT (-6501518.470772369 -4111776.653996726) -58.404134 -34.615689   \n",
       "4   POINT (-6501663.705051661 -4110923.61029132) -58.405439 -34.609382   \n",
       "\n",
       "     distancia   promedio  \n",
       "0  4675.974617  35.471223  \n",
       "1  4007.894552  33.931507  \n",
       "2  3401.928261  35.519435  \n",
       "3  2906.283270  45.675090  \n",
       "4  2701.909100  33.917563  "
      ]
     },
     "execution_count": 87,
     "metadata": {},
     "output_type": "execute_result"
    }
   ],
   "source": [
    "estaciones = estaciones.merge(dt,on='ID',how='left')\n",
    "estaciones.head()"
   ]
  },
  {
   "cell_type": "code",
   "execution_count": 88,
   "metadata": {},
   "outputs": [
    {
     "data": {
      "text/plain": [
       "<matplotlib.axes._subplots.AxesSubplot at 0x7f34a85fbd68>"
      ]
     },
     "execution_count": 88,
     "metadata": {},
     "output_type": "execute_result"
    },
    {
     "data": {
      "image/png": "[encoded data removed]",
      "text/plain": [
       "<Figure size 432x288 with 1 Axes>"
      ]
     },
     "metadata": {},
     "output_type": "display_data"
    }
   ],
   "source": [
    "estaciones.plot(marker='.', color='red', markersize = estaciones['promedio']*10)"
   ]
  },
  {
   "cell_type": "code",
   "execution_count": 89,
   "metadata": {},
   "outputs": [],
   "source": [
    "#hacemos una funcion para que haga todo\n",
    "\n",
    "def verSubte(tipo_de_dia,hora):\n",
    "    dt = leerData(tipo_de_dia, hora)\n",
    "    estaciones = gpd.read_file('../carto/estaciones_de_subte.shp')\n",
    "    estaciones.ID = estaciones.ID.map(int)\n",
    "    estaciones = estaciones.merge(dt,on='ID',how='left')\n",
    "    estaciones.plot(marker='.', color='red', markersize = estaciones['promedio']*10)"
   ]
  },
  {
   "cell_type": "code",
   "execution_count": 90,
   "metadata": {},
   "outputs": [
    {
     "data": {
      "image/png": "[encoded data removed]",
      "text/plain": [
       "<Figure size 432x288 with 1 Axes>"
      ]
     },
     "metadata": {},
     "output_type": "display_data"
    }
   ],
   "source": [
    "verSubte(hora = 8,tipo_de_dia = 'fin de semana')"
   ]
  },
  {
   "cell_type": "code",
   "execution_count": 91,
   "metadata": {},
   "outputs": [],
   "source": [
    "lala = gpd.read_file('../carto/lineas_de_subte.shp')"
   ]
  },
  {
   "cell_type": "code",
   "execution_count": 92,
   "metadata": {},
   "outputs": [
    {
     "data": {
      "text/html": [
       "<div>\n",
       "<style scoped>\n",
       "    .dataframe tbody tr th:only-of-type {\n",
       "        vertical-align: middle;\n",
       "    }\n",
       "\n",
       "    .dataframe tbody tr th {\n",
       "        vertical-align: top;\n",
       "    }\n",
       "\n",
       "    .dataframe thead th {\n",
       "        text-align: right;\n",
       "    }\n",
       "</style>\n",
       "<table border=\"1\" class=\"dataframe\">\n",
       "  <thead>\n",
       "    <tr style=\"text-align: right;\">\n",
       "      <th></th>\n",
       "      <th>id</th>\n",
       "      <th>Linea</th>\n",
       "      <th>geometry</th>\n",
       "    </tr>\n",
       "  </thead>\n",
       "  <tbody>\n",
       "    <tr>\n",
       "      <th>0</th>\n",
       "      <td>1</td>\n",
       "      <td>A</td>\n",
       "      <td>LINESTRING (-58.46975741265597 -34.63057613832...</td>\n",
       "    </tr>\n",
       "    <tr>\n",
       "      <th>1</th>\n",
       "      <td>2</td>\n",
       "      <td>B</td>\n",
       "      <td>LINESTRING (-58.48656121515003 -34.57422942804...</td>\n",
       "    </tr>\n",
       "    <tr>\n",
       "      <th>2</th>\n",
       "      <td>3</td>\n",
       "      <td>C</td>\n",
       "      <td>LINESTRING (-58.38141172337224 -34.62732958019...</td>\n",
       "    </tr>\n",
       "    <tr>\n",
       "      <th>3</th>\n",
       "      <td>4</td>\n",
       "      <td>D</td>\n",
       "      <td>LINESTRING (-58.46196778708097 -34.55593795056...</td>\n",
       "    </tr>\n",
       "    <tr>\n",
       "      <th>4</th>\n",
       "      <td>5</td>\n",
       "      <td>E</td>\n",
       "      <td>LINESTRING (-58.46196701863403 -34.64345502880...</td>\n",
       "    </tr>\n",
       "    <tr>\n",
       "      <th>5</th>\n",
       "      <td>6</td>\n",
       "      <td>H</td>\n",
       "      <td>LINESTRING (-58.41256333829378 -34.64110314761...</td>\n",
       "    </tr>\n",
       "  </tbody>\n",
       "</table>\n",
       "</div>"
      ],
      "text/plain": [
       "   id Linea                                           geometry\n",
       "0   1     A  LINESTRING (-58.46975741265597 -34.63057613832...\n",
       "1   2     B  LINESTRING (-58.48656121515003 -34.57422942804...\n",
       "2   3     C  LINESTRING (-58.38141172337224 -34.62732958019...\n",
       "3   4     D  LINESTRING (-58.46196778708097 -34.55593795056...\n",
       "4   5     E  LINESTRING (-58.46196701863403 -34.64345502880...\n",
       "5   6     H  LINESTRING (-58.41256333829378 -34.64110314761..."
      ]
     },
     "execution_count": 92,
     "metadata": {},
     "output_type": "execute_result"
    }
   ],
   "source": [
    "lala"
   ]
  },
  {
   "cell_type": "code",
   "execution_count": 93,
   "metadata": {},
   "outputs": [],
   "source": [
    "def verSubteLindo(hora,tipo_de_dia,linea):\n",
    "    import seaborn as sns\n",
    "    #leo los datos de los molinetes\n",
    "    dt = leerData(tipo_de_dia, hora)\n",
    "    #lo la cartografia de las estaciones\n",
    "    estaciones = gpd.read_file('../carto/estaciones_de_subte.shp')\n",
    "    #estaciones = estaciones.to_crs(epsg=4326)\n",
    "    #uno la cartografia con los datos\n",
    "    estaciones.ID = estaciones.ID.map(int)\n",
    "    estaciones = estaciones.merge(dt,on='ID',how='left')\n",
    "    #leo una cartografia de fondo\n",
    "    comunas = gpd.read_file('../carto/comunas.shp')\n",
    "    #comunas = comunas.to_crs(epsg=4326)\n",
    "    \n",
    "    lineas = gpd.read_file('../carto/lineas_de_subte.shp')\n",
    "    lineas = lineas.loc[lineas.Linea == linea,:]\n",
    "    lineas = lineas.to_crs(estaciones.crs)\n",
    "\n",
    "    estaciones['orden'] = estaciones.geometry.map(lambda estacion: lineas.project(estacion,normalized = True).iloc[0])\n",
    "    \n",
    "    #genero los ejes\n",
    "    fig = plt.figure(figsize=(18,6))\n",
    "    ax1 = fig.add_subplot(1,2,1)\n",
    "    ax2 = fig.add_subplot(1,2,2)\n",
    "    #la paleta de color\n",
    "    colores = {\n",
    "        'A':'lightblue',\n",
    "        'B':'red',\n",
    "        'C':'blue',\n",
    "        'D':'green',\n",
    "        'E':'purple',\n",
    "        'H':'gold'\n",
    "    }\n",
    "    \n",
    "    #ordeno las estaciones\n",
    "    subdata = estaciones.loc[estaciones.LINEA==linea,:].sort_values(by='orden')\n",
    "    \n",
    "    #ploteo el mapa base\n",
    "    comunas.plot(ax=ax1,alpha=0.5,color='grey')\n",
    "    #ploteo estaciones de la linea seleccionada y las otras\n",
    "    estaciones.plot(ax = ax1, marker='.', color='black', markersize = estaciones['promedio']*10,alpha=0.4)\n",
    "    subdata.plot(ax = ax1, marker='.', color=colores[linea], markersize = subdata['promedio']*10,alpha=0.8)\n",
    "    \n",
    "    #elimino los ejes\n",
    "    ax1.set_axis_off()\n",
    "    \n",
    "    #creo el bar plot\n",
    "    sns.barplot(x=\"ESTACION\", y=\"promedio\", data=subdata,ax=ax2,color=colores[linea])\n",
    "    \n",
    "    #agrego etiquetas para eje x\n",
    "    for tick in ax2.get_xticklabels():\n",
    "        tick.set_rotation(70)\n",
    "    \n",
    "    #equiparo la proporcion\n",
    "    ax1.axis('equal')\n",
    "\n",
    "    \n",
    "\n"
   ]
  },
  {
   "cell_type": "code",
   "execution_count": 95,
   "metadata": {},
   "outputs": [
    {
     "data": {
      "image/png": "[encoded data removed]",
      "text/plain": [
       "<Figure size 1296x432 with 2 Axes>"
      ]
     },
     "metadata": {},
     "output_type": "display_data"
    }
   ],
   "source": [
    "verSubteLindo(hora = 22,tipo_de_dia = 'fin de semana',linea = 'D')"
   ]
  },
  {
   "cell_type": "code",
   "execution_count": null,
   "metadata": {},
   "outputs": [],
   "source": []
  },
  {
   "cell_type": "code",
   "execution_count": null,
   "metadata": {
    "collapsed": true
   },
   "outputs": [],
   "source": []
  },
  {
   "cell_type": "code",
   "execution_count": null,
   "metadata": {
    "collapsed": true
   },
   "outputs": [],
   "source": []
  }
 ],
 "metadata": {
  "kernelspec": {
   "display_name": "Python 3",
   "language": "python",
   "name": "python3"
  },
  "language_info": {
   "codemirror_mode": {
    "name": "ipython",
    "version": 3
   },
   "file_extension": ".py",
   "mimetype": "text/x-python",
   "name": "python",
   "nbconvert_exporter": "python",
   "pygments_lexer": "ipython3",
   "version": "3.6.5"
  }
 },
 "nbformat": 4,
 "nbformat_minor": 1
}
