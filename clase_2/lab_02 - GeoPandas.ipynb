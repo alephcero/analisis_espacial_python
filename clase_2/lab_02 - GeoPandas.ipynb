{
 "cells": [
  {
   "cell_type": "markdown",
   "metadata": {},
   "source": [
    "# Gráficos y mapas en Python con `geopandas` y `matplotlib` \n",
    "\n",
    "En este práctico, aprenderemos cómo cargar, manipular y visualizar datos espaciales. En algunos sentidos, los datos espaciales se han vuelto tan omnipresentes que hoy en día, por lo general, se incluyen simplemente como \"una columna más\" en una tabla. Sin embargo, el espacio es especial a veces y hay pocos aspectos en los que los datos geográficos difieren de las tablas numéricas estándar. En esta sesión, ampliaremos las habilidades desarrolladas en el anterior sobre datos no espaciales, y los combinaremos. En el proceso, descubriremos que, aunque con algunas particularidades, tratar con datos espaciales en Python se asemeja en gran medida a tratar con datos no espaciales. Por ejemplo, en esta práctica de laboratorio aprenderá a hacer mapas pulidos como este con solo unos pocos comandos:\n",
    "\n",
    "![AYUDA](../img/plot.png)\n",
    "\n",
    "La biblioteca principal empleada para todo esto es `geopandas`, que es una extensión geoespacial de la biblioteca de `pandas`, ya presentada en la clase anterior. `geopandas` admite exactamente la misma funcionalidad que `pandas` (de hecho, ya que está construida encima, por lo que la mayoría de los objetos subyacentes son de `pandas`), más una amplia gama de contrapartes espaciales que hacen manipulación general de datos espaciales tan fácil como tablas no-espaciales. Como las muñecas rusas, `geopandas` es una muñeca rusa que adentro contiene `pandas`.\n",
    "\n",
    "![pandas y geopandas](https://images-na.ssl-images-amazon.com/images/I/71GnlJP8gVL._SX425_.jpg)"
   ]
  },
  {
   "cell_type": "code",
   "execution_count": 1,
   "metadata": {
    "collapsed": true
   },
   "outputs": [],
   "source": [
    "#importamos las librerías que veníamos trabajando \n",
    "import pandas as pd\n",
    "import numpy as np\n",
    "\n",
    "#y sumamos la que va a coronar la triada\n",
    "import geopandas as gpd"
   ]
  },
  {
   "cell_type": "markdown",
   "metadata": {},
   "source": [
    "## 1- GeoPandas, DataFrames como los de `Pandas`, pero Geo"
   ]
  },
  {
   "cell_type": "code",
   "execution_count": 2,
   "metadata": {},
   "outputs": [
    {
     "data": {
      "text/html": [
       "<div>\n",
       "<style scoped>\n",
       "    .dataframe tbody tr th:only-of-type {\n",
       "        vertical-align: middle;\n",
       "    }\n",
       "\n",
       "    .dataframe tbody tr th {\n",
       "        vertical-align: top;\n",
       "    }\n",
       "\n",
       "    .dataframe thead th {\n",
       "        text-align: right;\n",
       "    }\n",
       "</style>\n",
       "<table border=\"1\" class=\"dataframe\">\n",
       "  <thead>\n",
       "    <tr style=\"text-align: right;\">\n",
       "      <th></th>\n",
       "      <th>ID</th>\n",
       "      <th>ESTACION</th>\n",
       "      <th>LINEA</th>\n",
       "      <th>geometry</th>\n",
       "    </tr>\n",
       "  </thead>\n",
       "  <tbody>\n",
       "    <tr>\n",
       "      <th>0</th>\n",
       "      <td>1.0</td>\n",
       "      <td>CASEROS</td>\n",
       "      <td>H</td>\n",
       "      <td>POINT (105902.3513636972 99279.28209795424)</td>\n",
       "    </tr>\n",
       "    <tr>\n",
       "      <th>1</th>\n",
       "      <td>2.0</td>\n",
       "      <td>INCLAN</td>\n",
       "      <td>H</td>\n",
       "      <td>POINT (105715.5543212891 99986.54907226563)</td>\n",
       "    </tr>\n",
       "    <tr>\n",
       "      <th>2</th>\n",
       "      <td>3.0</td>\n",
       "      <td>HUMBERTO 1°</td>\n",
       "      <td>H</td>\n",
       "      <td>POINT (105591.8884887695 100683.6583251953)</td>\n",
       "    </tr>\n",
       "    <tr>\n",
       "      <th>3</th>\n",
       "      <td>4.0</td>\n",
       "      <td>VENEZUELA</td>\n",
       "      <td>H</td>\n",
       "      <td>POINT (105371.4735107422 101554.6354980469)</td>\n",
       "    </tr>\n",
       "    <tr>\n",
       "      <th>4</th>\n",
       "      <td>5.0</td>\n",
       "      <td>ONCE - 30 DE DICIEMBRE</td>\n",
       "      <td>H</td>\n",
       "      <td>POINT (105252.2113037109 102254.3510742188)</td>\n",
       "    </tr>\n",
       "  </tbody>\n",
       "</table>\n",
       "</div>"
      ],
      "text/plain": [
       "    ID                ESTACION LINEA  \\\n",
       "0  1.0                 CASEROS     H   \n",
       "1  2.0                  INCLAN     H   \n",
       "2  3.0             HUMBERTO 1°     H   \n",
       "3  4.0               VENEZUELA     H   \n",
       "4  5.0  ONCE - 30 DE DICIEMBRE     H   \n",
       "\n",
       "                                      geometry  \n",
       "0  POINT (105902.3513636972 99279.28209795424)  \n",
       "1  POINT (105715.5543212891 99986.54907226563)  \n",
       "2  POINT (105591.8884887695 100683.6583251953)  \n",
       "3  POINT (105371.4735107422 101554.6354980469)  \n",
       "4  POINT (105252.2113037109 102254.3510742188)  "
      ]
     },
     "execution_count": 2,
     "metadata": {},
     "output_type": "execute_result"
    }
   ],
   "source": [
    "#abrimos nuestro dataset espacial a partir de un archivo en el formato mas tradicional: ESRI shapefile \n",
    "estaciones = gpd.read_file('../carto/estaciones_de_subte.shp')\n",
    "estaciones.head()"
   ]
  },
  {
   "cell_type": "code",
   "execution_count": null,
   "metadata": {},
   "outputs": [],
   "source": [
    "#es muy siliar a pandas dataframe. vemos su tipo y vemos que es una especia de data frame\n",
    "type(estaciones)"
   ]
  },
  {
   "cell_type": "code",
   "execution_count": null,
   "metadata": {},
   "outputs": [],
   "source": [
    "#tiene las mismas propiedades\n",
    "estaciones.shape"
   ]
  },
  {
   "cell_type": "code",
   "execution_count": null,
   "metadata": {},
   "outputs": [],
   "source": [
    "#info\n",
    "estaciones.info()"
   ]
  },
  {
   "cell_type": "code",
   "execution_count": null,
   "metadata": {},
   "outputs": [],
   "source": [
    "#se indexa por fila\n",
    "estaciones.index"
   ]
  },
  {
   "cell_type": "code",
   "execution_count": null,
   "metadata": {},
   "outputs": [],
   "source": [
    "#tambien por columnas\n",
    "estaciones.columns"
   ]
  },
  {
   "cell_type": "markdown",
   "metadata": {},
   "source": [
    "En las columnas vemos ya el elemento que hace a este *data frame* algo diferente a los de `pandas`: el campo **geometry** "
   ]
  },
  {
   "cell_type": "code",
   "execution_count": null,
   "metadata": {},
   "outputs": [],
   "source": [
    "estaciones.geometry.head()"
   ]
  },
  {
   "cell_type": "code",
   "execution_count": null,
   "metadata": {},
   "outputs": [],
   "source": [
    "#Pero a pesar de ser el elemento que diferencia un DataFrame de un GeoDataFrame, guarda similitud con un objeto conocido de Pandas\n",
    "#, geometry es una geoseries, similar a una series de pandas. \n",
    "type(estaciones.geometry)"
   ]
  },
  {
   "cell_type": "code",
   "execution_count": null,
   "metadata": {},
   "outputs": [],
   "source": [
    "#es una geoSerie de que? que elementos la componen? que muñeca rusa más pequeña hay dentro?\n",
    "estaciones.geometry.iloc[0]"
   ]
  },
  {
   "cell_type": "code",
   "execution_count": null,
   "metadata": {},
   "outputs": [],
   "source": [
    "print(estaciones.geometry.iloc[0])"
   ]
  },
  {
   "cell_type": "code",
   "execution_count": null,
   "metadata": {},
   "outputs": [],
   "source": [
    "#es un objeto Shapely. La librería que funciona por debajo de GeoPandas \n",
    "type(estaciones.geometry.iloc[0])"
   ]
  },
  {
   "cell_type": "markdown",
   "metadata": {},
   "source": [
    "### Shapely\n",
    "\n",
    "Las GeoSeries de Geopandas son una Series que adentro contiene objetos que no son ni `string`, ni numeros. Son objetos particulares, como los `datetime`, pero cuyas propiedades específicas son geográficas. En lugar de extraer horas o días de la semana, vamos a poder obtener propiedades geográficas como distancias de un punto a otro. O coordenadas..."
   ]
  },
  {
   "cell_type": "markdown",
   "metadata": {},
   "source": [
    "## 2- Coordenadas\n",
    "\n",
    "En lo fundamental los GeoDatos, no dejan de ser los datos que trabajamos cotidianamente, pero con alguna referencia a su ubicación en el espacio, que creemos relevante por lo cual la introducimos en el análisis. Esa referencia al espacio debe corporizarse en algun tipo de objeto geografico, de los cuales utilizaremos 3 básicos:\n",
    "* Punto\n",
    "* Línea\n",
    "* Polígono\n",
    "\n",
    "En nuestro ejemplo, la estaciones de subte son puntos. El elemento geográfico más sencillo. En la geometría euclidiana, o de dos dimensiones, un punto se define por dos valores:"
   ]
  },
  {
   "cell_type": "code",
   "execution_count": null,
   "metadata": {},
   "outputs": [],
   "source": [
    "#un punto son dos coordenadas en el espacio\n",
    "estaciones.geometry.iloc[0].x"
   ]
  },
  {
   "cell_type": "code",
   "execution_count": null,
   "metadata": {},
   "outputs": [],
   "source": [
    "estaciones.geometry.iloc[0].y"
   ]
  },
  {
   "cell_type": "markdown",
   "metadata": {},
   "source": [
    "Tiene x y y, coordenadas en el eje cartesiano. Ojo que lo que siempre en matematica se llama x y y en ese orden, en geografia siempre se llamo latlong, pero x es long y y es lat. El orden cambia!\n",
    "![latlong](../img/xy_latlong.jfif)"
   ]
  },
  {
   "cell_type": "markdown",
   "metadata": {},
   "source": [
    "Pero es algo diferente a lo que siempre conocimos como latlong. En general estamos acostumbrados en mapas de Buenos Aires a ver valores como -34 y -58. La diferencia se explica por la llamada **proyeccion de coordenadas** que da cuenta de la transformación de un objeto en 3 dimensiones (como el planeta Tierra) en un plano de 2 dimensiones (el mapa). Esta proyección también regula las unidades de medidas de los ejes donde proyectamos. Puede estar en grados o en metros.\n",
    "\n",
    "Podemos acceder a la **proyeccion de coordenadas** de un GeoDataFrame de manera sencilla. "
   ]
  },
  {
   "cell_type": "code",
   "execution_count": null,
   "metadata": {},
   "outputs": [],
   "source": [
    "#con el metodo o funcion crs vemos la proyeccion de nuestro objeto\n",
    "estaciones.crs"
   ]
  },
  {
   "cell_type": "markdown",
   "metadata": {},
   "source": [
    "La proyeccion de este GeoDataFrame está en un formato de coordenadas especifica [SR-ORG:7124: Gauss-Kruger Bs.As.](http://spatialreference.org/ref/sr-org/7124/). Pueden leer más en la [documentación](https://recursos-data.buenosaires.gob.ar/ckan2/proyecciones-gkba.pdf) de GCBA sobre el tema.\n",
    "\n",
    "Queremos reproyectarla en [EPSG 4326](https://epsg.io/4326) cuya unidad de medida es grados. Afortunadamente GeoPandas implementa esto de una manera muy sencilla. La documentación de [GeoPandas](http://geopandas.org/projections.html) tiene más detalles. \n",
    "\n"
   ]
  },
  {
   "cell_type": "code",
   "execution_count": 3,
   "metadata": {},
   "outputs": [
    {
     "data": {
      "text/html": [
       "<div>\n",
       "<style scoped>\n",
       "    .dataframe tbody tr th:only-of-type {\n",
       "        vertical-align: middle;\n",
       "    }\n",
       "\n",
       "    .dataframe tbody tr th {\n",
       "        vertical-align: top;\n",
       "    }\n",
       "\n",
       "    .dataframe thead th {\n",
       "        text-align: right;\n",
       "    }\n",
       "</style>\n",
       "<table border=\"1\" class=\"dataframe\">\n",
       "  <thead>\n",
       "    <tr style=\"text-align: right;\">\n",
       "      <th></th>\n",
       "      <th>ID</th>\n",
       "      <th>ESTACION</th>\n",
       "      <th>LINEA</th>\n",
       "      <th>geometry</th>\n",
       "    </tr>\n",
       "  </thead>\n",
       "  <tbody>\n",
       "    <tr>\n",
       "      <th>0</th>\n",
       "      <td>1.0</td>\n",
       "      <td>CASEROS</td>\n",
       "      <td>H</td>\n",
       "      <td>POINT (-58.39833005827354 -34.63619629114226)</td>\n",
       "    </tr>\n",
       "    <tr>\n",
       "      <th>1</th>\n",
       "      <td>2.0</td>\n",
       "      <td>INCLAN</td>\n",
       "      <td>H</td>\n",
       "      <td>POINT (-58.40037199947714 -34.62982192437689)</td>\n",
       "    </tr>\n",
       "    <tr>\n",
       "      <th>2</th>\n",
       "      <td>3.0</td>\n",
       "      <td>HUMBERTO 1°</td>\n",
       "      <td>H</td>\n",
       "      <td>POINT (-58.40172516912597 -34.62353873781329)</td>\n",
       "    </tr>\n",
       "    <tr>\n",
       "      <th>3</th>\n",
       "      <td>4.0</td>\n",
       "      <td>VENEZUELA</td>\n",
       "      <td>H</td>\n",
       "      <td>POINT (-58.40413412280196 -34.61568876109078)</td>\n",
       "    </tr>\n",
       "    <tr>\n",
       "      <th>4</th>\n",
       "      <td>5.0</td>\n",
       "      <td>ONCE - 30 DE DICIEMBRE</td>\n",
       "      <td>H</td>\n",
       "      <td>POINT (-58.40543878453062 -34.60938200117359)</td>\n",
       "    </tr>\n",
       "  </tbody>\n",
       "</table>\n",
       "</div>"
      ],
      "text/plain": [
       "    ID                ESTACION LINEA  \\\n",
       "0  1.0                 CASEROS     H   \n",
       "1  2.0                  INCLAN     H   \n",
       "2  3.0             HUMBERTO 1°     H   \n",
       "3  4.0               VENEZUELA     H   \n",
       "4  5.0  ONCE - 30 DE DICIEMBRE     H   \n",
       "\n",
       "                                        geometry  \n",
       "0  POINT (-58.39833005827354 -34.63619629114226)  \n",
       "1  POINT (-58.40037199947714 -34.62982192437689)  \n",
       "2  POINT (-58.40172516912597 -34.62353873781329)  \n",
       "3  POINT (-58.40413412280196 -34.61568876109078)  \n",
       "4  POINT (-58.40543878453062 -34.60938200117359)  "
      ]
     },
     "execution_count": 3,
     "metadata": {},
     "output_type": "execute_result"
    }
   ],
   "source": [
    "#cambiamos al formato tradicional de latlong\n",
    "estaciones = estaciones.to_crs(epsg = 4326)\n",
    "estaciones.head()"
   ]
  },
  {
   "cell_type": "code",
   "execution_count": null,
   "metadata": {},
   "outputs": [],
   "source": [
    "print(estaciones.geometry.iloc[0])"
   ]
  },
  {
   "cell_type": "markdown",
   "metadata": {},
   "source": [
    "Ya podemos ver que las coordenadas de nuestros puntos se asemejan a los valores que intuitivamente conocíamos para Buenos Aires\n",
    "![latlong2](../img/latlong.png)\n",
    "\n",
    "A partir de este momento, intentaremos visualizar todos los procesos que realizamos en un mapa. Para esto necesitamos la librería de Python que administra los gráficos: `matplotlib` "
   ]
  },
  {
   "cell_type": "code",
   "execution_count": 4,
   "metadata": {
    "collapsed": true
   },
   "outputs": [],
   "source": [
    "#y sumamos la libreria que nos permite visualizar co alias plt\n",
    "import matplotlib.pyplot as plt\n",
    "#esta linea nos permite visualizar los plots y mapas dentro de nuestros notebooks\n",
    "%matplotlib inline"
   ]
  },
  {
   "cell_type": "markdown",
   "metadata": {},
   "source": [
    "En este curso haremos un uso muy utilitario de matplotlib. Es decir, presenaremos sus elementos fundamentales sin profundizar demasiado. Es una herramienta muy versatil y pontente. También mencionaremos las otras mas populares como `seaborn` y `plotly`. \n",
    "\n",
    "`Matplotlib` se construye fundamentalmente a partir de una **figura** que puede tener dentro uno o mas **ejes** (o *axis*)"
   ]
  },
  {
   "cell_type": "code",
   "execution_count": null,
   "metadata": {},
   "outputs": [],
   "source": [
    "fig = plt.figure(figsize=(6,6))\n",
    "ax = fig.add_subplot(1,1,1)"
   ]
  },
  {
   "cell_type": "code",
   "execution_count": null,
   "metadata": {},
   "outputs": [],
   "source": [
    "#agrando el tamaño de la figura\n",
    "fig = plt.figure(figsize=(12,6))\n",
    "#en 1 columna agrego 2 pares de ejes \n",
    "ax1 = fig.add_subplot(1,2,1)\n",
    "ax2 = fig.add_subplot(1,2,2)\n"
   ]
  },
  {
   "cell_type": "code",
   "execution_count": null,
   "metadata": {},
   "outputs": [],
   "source": [
    "#puedo agregar contenido a los graficos al graficar algunos datos\n",
    "fig = plt.figure(figsize=(6,6))\n",
    "ax = fig.add_subplot(1,1,1)\n",
    "#un listado de 0 a 19\n",
    "x = range(20)\n",
    "y = range(20)\n",
    "#plotear un scatter plot \n",
    "ax.scatter(x,y)"
   ]
  },
  {
   "cell_type": "code",
   "execution_count": null,
   "metadata": {},
   "outputs": [],
   "source": [
    "#utilizando el metodo map, puedo extraer para cada punto sus coordenadas en x\n",
    "estaciones['x'] = estaciones.geometry.map(lambda coord: coord.x)\n",
    "estaciones.head()"
   ]
  },
  {
   "cell_type": "markdown",
   "metadata": {},
   "source": [
    "Afortunadamente, los desarolladors de GeoPandas entendieron que esto es una tarea cotidiana y pusieron como metodo propio de las geoSeries extraer las coordenadas"
   ]
  },
  {
   "cell_type": "code",
   "execution_count": null,
   "metadata": {},
   "outputs": [],
   "source": [
    "estaciones['y'] = estaciones.geometry.y\n",
    "estaciones.head()"
   ]
  },
  {
   "cell_type": "markdown",
   "metadata": {},
   "source": [
    "Utilizando estas coordenadas podemos visualizar la ubicacion de nuestras estaciones en un mapa, visualizandolas sobre el eje de coordenadas utilizando su posicion en x y en y"
   ]
  },
  {
   "cell_type": "code",
   "execution_count": null,
   "metadata": {},
   "outputs": [],
   "source": [
    "fig = plt.figure(figsize=(6,6))\n",
    "ax = fig.add_subplot(1,1,1)\n",
    "ax.scatter(estaciones.x,estaciones.y)"
   ]
  },
  {
   "cell_type": "markdown",
   "metadata": {},
   "source": [
    "Afortunadamente los desarrolladores de GeoPandas tambien pensaron que esta tarea debía poder resolverse de manera más sencilla:"
   ]
  },
  {
   "cell_type": "code",
   "execution_count": null,
   "metadata": {},
   "outputs": [],
   "source": [
    "#al igual que los DataFrames de Pandas, los GeoDataFrames tienen un método (o función) plot que visualiza los objetos espaciales. \n",
    "estaciones.drop(['x','y'],axis=1).plot()"
   ]
  },
  {
   "cell_type": "markdown",
   "metadata": {},
   "source": [
    "## 3 - Procesos de seleccion en `geopandas`"
   ]
  },
  {
   "cell_type": "code",
   "execution_count": null,
   "metadata": {},
   "outputs": [],
   "source": [
    "estaciones.head()"
   ]
  },
  {
   "cell_type": "code",
   "execution_count": null,
   "metadata": {},
   "outputs": [],
   "source": [
    "#podemos seleccionar\n",
    "estaciones.loc[estaciones.LINEA=='H',:].plot()"
   ]
  },
  {
   "cell_type": "code",
   "execution_count": null,
   "metadata": {},
   "outputs": [],
   "source": [
    "fig = plt.figure(figsize=(6,6))\n",
    "ax = fig.add_subplot(1,1,1)\n",
    "estaciones.loc[estaciones.LINEA!='H',:].plot(ax=ax,color='grey')\n",
    "estaciones.loc[estaciones.LINEA=='H',:].plot(ax=ax,color='gold')"
   ]
  },
  {
   "cell_type": "code",
   "execution_count": null,
   "metadata": {},
   "outputs": [],
   "source": [
    "fig = plt.figure(figsize=(6,6))\n",
    "ax = fig.add_subplot(1,1,1)\n",
    "estaciones.loc[estaciones.LINEA!='H',:].plot(ax=ax,color='grey')\n",
    "estaciones.loc[estaciones.LINEA=='H',:].plot(ax=ax,color='gold',marker='*', markersize=250)\n",
    "\n",
    "#eliminamos los ejes\n",
    "ax.set_axis_off()\n",
    "# Forzamos un mismo rango de valors a los ejes para una vision mas \"cuadrada\" del mapa\n",
    "plt.axis('equal')"
   ]
  },
  {
   "cell_type": "markdown",
   "metadata": {},
   "source": [
    "## 4- Distancias"
   ]
  },
  {
   "cell_type": "markdown",
   "metadata": {},
   "source": [
    "Pero lo mejor es poder realizar procesos espaciales. Por ejemplo, podemos ver utilizar una harramienta de análisis básica y fundamental del análisis espacial para los objetos de tipo punto: la distancia euclidiana.\n",
    "\n",
    "$$\\sqrt[2]{(x_d - x_o)^{2}+(y_d - y_o)^{2}}$$"
   ]
  },
  {
   "cell_type": "code",
   "execution_count": null,
   "metadata": {
    "scrolled": true
   },
   "outputs": [],
   "source": [
    "import math\n",
    "constitucion = estaciones.loc[estaciones.ESTACION == 'CONSTITUCION',:]\n",
    "retiro = estaciones.loc[estaciones.ESTACION == 'RETIRO',:]\n",
    "math.sqrt((retiro.x.iloc[0] - constitucion.x.iloc[0])**2 + (retiro.y.iloc[0] - constitucion.y.iloc[0])**2)"
   ]
  },
  {
   "cell_type": "markdown",
   "metadata": {},
   "source": [
    "Afortunadamente esto no es algo que tenemos que hacer cada vez. `Geopandas` y `Shapely` lo resuelven por nosotros. De hecho, podríamos ir desde al bajo nivel (las muñecas rusas pequeñas, calculando distancias con cada punto) como hicimos con la extracción de las coordenadas x y y, o podemos directamente ver en alto nivel (la muñeca más grande) cómo lo implementa GeoPandas. Veamos primero en alto nivel y luego procedemos por el lento y sinuoso camino del bajo nivel"
   ]
  },
  {
   "cell_type": "code",
   "execution_count": 5,
   "metadata": {
    "collapsed": true
   },
   "outputs": [],
   "source": [
    "#convertirmos todo nuestro dataset a una proyeccion con unidades en metros. Luego veremos en mas detalle \n",
    "estaciones = estaciones.to_crs(epsg=3857)"
   ]
  },
  {
   "cell_type": "code",
   "execution_count": null,
   "metadata": {
    "collapsed": true
   },
   "outputs": [],
   "source": [
    "#necesitamos calcular la distancia de nuestras estaciones con respecto a algo, no existe la distancia a la nada\n",
    "from shapely.geometry import Point #mas adelante veremos esta linea\n",
    "obelisco = Point(-6499048.3,-4110245.4)"
   ]
  },
  {
   "cell_type": "markdown",
   "metadata": {},
   "source": [
    "![obelisco](https://upload.wikimedia.org/wikipedia/commons/thumb/0/0f/ObeliscoBA2017.jpg/245px-ObeliscoBA2017.jpg)"
   ]
  },
  {
   "cell_type": "code",
   "execution_count": 6,
   "metadata": {},
   "outputs": [
    {
     "ename": "NameError",
     "evalue": "name 'obelisco' is not defined",
     "output_type": "error",
     "traceback": [
      "\u001b[1;31m---------------------------------------------------------------------------\u001b[0m",
      "\u001b[1;31mNameError\u001b[0m                                 Traceback (most recent call last)",
      "\u001b[1;32m<ipython-input-6-73dfa3cdf448>\u001b[0m in \u001b[0;36m<module>\u001b[1;34m()\u001b[0m\n\u001b[0;32m      1\u001b[0m \u001b[1;31m#una forma es mapear\u001b[0m\u001b[1;33m\u001b[0m\u001b[1;33m\u001b[0m\u001b[0m\n\u001b[1;32m----> 2\u001b[1;33m \u001b[0mestaciones\u001b[0m\u001b[1;33m[\u001b[0m\u001b[1;34m'distancia'\u001b[0m\u001b[1;33m]\u001b[0m \u001b[1;33m=\u001b[0m \u001b[0mestaciones\u001b[0m\u001b[1;33m.\u001b[0m\u001b[0mgeometry\u001b[0m\u001b[1;33m.\u001b[0m\u001b[0mmap\u001b[0m\u001b[1;33m(\u001b[0m\u001b[1;32mlambda\u001b[0m \u001b[0mx\u001b[0m\u001b[1;33m:\u001b[0m \u001b[0mx\u001b[0m\u001b[1;33m.\u001b[0m\u001b[0mdistance\u001b[0m\u001b[1;33m(\u001b[0m\u001b[0mobelisco\u001b[0m\u001b[1;33m)\u001b[0m\u001b[1;33m)\u001b[0m\u001b[1;33m\u001b[0m\u001b[0m\n\u001b[0m\u001b[0;32m      3\u001b[0m \u001b[0mestaciones\u001b[0m\u001b[1;33m.\u001b[0m\u001b[0mhead\u001b[0m\u001b[1;33m(\u001b[0m\u001b[1;33m)\u001b[0m\u001b[1;33m\u001b[0m\u001b[0m\n",
      "\u001b[1;32m~\\AppData\\Local\\Continuum\\anaconda3\\lib\\site-packages\\pandas\\core\\series.py\u001b[0m in \u001b[0;36mmap\u001b[1;34m(self, arg, na_action)\u001b[0m\n\u001b[0;32m   2996\u001b[0m         \"\"\"\n\u001b[0;32m   2997\u001b[0m         new_values = super(Series, self)._map_values(\n\u001b[1;32m-> 2998\u001b[1;33m             arg, na_action=na_action)\n\u001b[0m\u001b[0;32m   2999\u001b[0m         return self._constructor(new_values,\n\u001b[0;32m   3000\u001b[0m                                  index=self.index).__finalize__(self)\n",
      "\u001b[1;32m~\\AppData\\Local\\Continuum\\anaconda3\\lib\\site-packages\\pandas\\core\\base.py\u001b[0m in \u001b[0;36m_map_values\u001b[1;34m(self, mapper, na_action)\u001b[0m\n\u001b[0;32m   1002\u001b[0m \u001b[1;33m\u001b[0m\u001b[0m\n\u001b[0;32m   1003\u001b[0m         \u001b[1;31m# mapper is a function\u001b[0m\u001b[1;33m\u001b[0m\u001b[1;33m\u001b[0m\u001b[0m\n\u001b[1;32m-> 1004\u001b[1;33m         \u001b[0mnew_values\u001b[0m \u001b[1;33m=\u001b[0m \u001b[0mmap_f\u001b[0m\u001b[1;33m(\u001b[0m\u001b[0mvalues\u001b[0m\u001b[1;33m,\u001b[0m \u001b[0mmapper\u001b[0m\u001b[1;33m)\u001b[0m\u001b[1;33m\u001b[0m\u001b[0m\n\u001b[0m\u001b[0;32m   1005\u001b[0m \u001b[1;33m\u001b[0m\u001b[0m\n\u001b[0;32m   1006\u001b[0m         \u001b[1;32mreturn\u001b[0m \u001b[0mnew_values\u001b[0m\u001b[1;33m\u001b[0m\u001b[0m\n",
      "\u001b[1;32mpandas/_libs/src\\inference.pyx\u001b[0m in \u001b[0;36mpandas._libs.lib.map_infer\u001b[1;34m()\u001b[0m\n",
      "\u001b[1;32m<ipython-input-6-73dfa3cdf448>\u001b[0m in \u001b[0;36m<lambda>\u001b[1;34m(x)\u001b[0m\n\u001b[0;32m      1\u001b[0m \u001b[1;31m#una forma es mapear\u001b[0m\u001b[1;33m\u001b[0m\u001b[1;33m\u001b[0m\u001b[0m\n\u001b[1;32m----> 2\u001b[1;33m \u001b[0mestaciones\u001b[0m\u001b[1;33m[\u001b[0m\u001b[1;34m'distancia'\u001b[0m\u001b[1;33m]\u001b[0m \u001b[1;33m=\u001b[0m \u001b[0mestaciones\u001b[0m\u001b[1;33m.\u001b[0m\u001b[0mgeometry\u001b[0m\u001b[1;33m.\u001b[0m\u001b[0mmap\u001b[0m\u001b[1;33m(\u001b[0m\u001b[1;32mlambda\u001b[0m \u001b[0mx\u001b[0m\u001b[1;33m:\u001b[0m \u001b[0mx\u001b[0m\u001b[1;33m.\u001b[0m\u001b[0mdistance\u001b[0m\u001b[1;33m(\u001b[0m\u001b[0mobelisco\u001b[0m\u001b[1;33m)\u001b[0m\u001b[1;33m)\u001b[0m\u001b[1;33m\u001b[0m\u001b[0m\n\u001b[0m\u001b[0;32m      3\u001b[0m \u001b[0mestaciones\u001b[0m\u001b[1;33m.\u001b[0m\u001b[0mhead\u001b[0m\u001b[1;33m(\u001b[0m\u001b[1;33m)\u001b[0m\u001b[1;33m\u001b[0m\u001b[0m\n",
      "\u001b[1;31mNameError\u001b[0m: name 'obelisco' is not defined"
     ]
    }
   ],
   "source": [
    "#una forma es mapear\n",
    "estaciones['distancia'] = estaciones.geometry.map(lambda x: x.distance(obelisco))\n",
    "estaciones.head()"
   ]
  },
  {
   "cell_type": "code",
   "execution_count": null,
   "metadata": {},
   "outputs": [],
   "source": [
    "#pero afortunadamente GeoPandas puede aplicar este metodo a toda la Serie\n",
    "estaciones['distancia'] = estaciones.geometry.distance(obelisco)\n",
    "estaciones.head()"
   ]
  },
  {
   "cell_type": "code",
   "execution_count": null,
   "metadata": {},
   "outputs": [],
   "source": [
    "#veamoslo en un mapa\n",
    "fig = plt.figure(figsize=(6,6))\n",
    "ax = fig.add_subplot(1,1,1)\n",
    "estaciones.plot(ax=ax,color='grey',markersize=(estaciones.distancia/10),alpha=0.5) \n",
    "ax.set_axis_off()\n",
    "plt.axis('equal')\n",
    "ax.set_title('Estaciones de subte y distancia al Obelisco')"
   ]
  },
  {
   "cell_type": "markdown",
   "metadata": {},
   "source": [
    "### Digresión por el camino lento y aburrido del bajo nivel"
   ]
  },
  {
   "cell_type": "code",
   "execution_count": null,
   "metadata": {
    "collapsed": true
   },
   "outputs": [],
   "source": [
    "#revertimos el proceso para volver a nuestra base a latlong\n",
    "estaciones = estaciones.to_crs(epsg=4326)"
   ]
  },
  {
   "cell_type": "code",
   "execution_count": null,
   "metadata": {
    "collapsed": true
   },
   "outputs": [],
   "source": [
    "#primero seleccionemos nuestras dos estaciones\n",
    "constitucion = estaciones.loc[estaciones.ESTACION == 'CONSTITUCION','geometry'].iloc[0]\n",
    "retiro = estaciones.loc[estaciones.ESTACION == 'RETIRO','geometry'].iloc[0]"
   ]
  },
  {
   "cell_type": "code",
   "execution_count": null,
   "metadata": {},
   "outputs": [],
   "source": [
    "constitucion.distance(retiro)"
   ]
  },
  {
   "cell_type": "markdown",
   "metadata": {},
   "source": [
    "Veamos algunas cosas que acaban de suceder. En primer lugar que significa 0.03? En que unidades de medidas se encuentra? Esto depende de la proyeccion de coordenadas que utilizamos"
   ]
  },
  {
   "cell_type": "code",
   "execution_count": null,
   "metadata": {},
   "outputs": [],
   "source": [
    "estaciones.crs"
   ]
  },
  {
   "cell_type": "markdown",
   "metadata": {},
   "source": [
    "La proyeccion de este GeoDataFrame está en [EPSG 4326](https://epsg.io/4326) cuya unidad de medida es grados. Hay muchas proyecciones que utilizan metros. Como la proyeción óptima depende de la ubicación en el planeta donde hagamos nuestro análisis, podemos utilizar una sencilla de alcance global como la [EPSG 3857](https://epsg.io/3857).\n",
    "\n",
    "Pero tenemos que saber qué tipo de objetos nos dejan cambiar las proyecciones. Porque no es lo mismo un **GeoDataFrame**, una **GeoSeries** o un objeto **Shapely**."
   ]
  },
  {
   "cell_type": "code",
   "execution_count": null,
   "metadata": {},
   "outputs": [],
   "source": [
    "#repitamos el mismo proceso convirtiendo a metros\n",
    "constitucion = estaciones.loc[estaciones.ESTACION == 'CONSTITUCION','geometry'].to_crs(epsg=3857).iloc[0]\n",
    "retiro = estaciones.loc[estaciones.ESTACION == 'RETIRO','geometry'].to_crs(epsg=3857).iloc[0]\n",
    "constitucion.distance(retiro)"
   ]
  },
  {
   "cell_type": "markdown",
   "metadata": {},
   "source": [
    "Reconstruyamos paso a paso lo que hicimos previamente, y veamos con que tipo de objetos tratamos. Primero buscamos nuestra estación con `.loc` tal cual lo veníamos haciendo"
   ]
  },
  {
   "cell_type": "code",
   "execution_count": null,
   "metadata": {},
   "outputs": [],
   "source": [
    "#a priori observamos que hay un numero al lado, lo que indica que tiene un indice y por ende sea probablementa Serie\n",
    "constitucion = estaciones.loc[estaciones.ESTACION == 'CONSTITUCION','geometry']\n",
    "constitucion"
   ]
  },
  {
   "cell_type": "code",
   "execution_count": null,
   "metadata": {},
   "outputs": [],
   "source": [
    "type(constitucion)"
   ]
  },
  {
   "cell_type": "markdown",
   "metadata": {},
   "source": [
    "El problema con calcular distancias, es que siempre una distancia es de un punto a otro. Si utilizamos una serie, la misma puede tener 2, 3 o *n* elementos. Por eso tenemos que partir siempre de un punto y no de una serie. Eso hace el `iloc[0]`, toma el primer (y único) elemento de la serie. "
   ]
  },
  {
   "cell_type": "code",
   "execution_count": null,
   "metadata": {},
   "outputs": [],
   "source": [
    "constitucion = estaciones.loc[estaciones.ESTACION == 'CONSTITUCION','geometry'].iloc[0]\n",
    "type(constitucion)"
   ]
  },
  {
   "cell_type": "markdown",
   "metadata": {},
   "source": [
    "Ahora podemos ver que el tipo es un `Shapely` **Point**. Hemos llegado a la muñeca rusa más pequeña (al menos la más pequeña que veremos en este taller, donde no llegamos al transistor, el bit y los 1 y 0)."
   ]
  },
  {
   "cell_type": "code",
   "execution_count": null,
   "metadata": {},
   "outputs": [],
   "source": [
    "constitucion"
   ]
  },
  {
   "cell_type": "markdown",
   "metadata": {},
   "source": [
    "De hecho, veamos que la función `disatnce()` pertenece al objeto **Point**, no a Python básico, Pandas o Geopandas. Es propia de **Point**"
   ]
  },
  {
   "cell_type": "code",
   "execution_count": null,
   "metadata": {},
   "outputs": [],
   "source": [
    "#importamos el objeto Point desde la libreria shapely\n",
    "from shapely.geometry import Point\n",
    "help(Point.distance)"
   ]
  },
  {
   "cell_type": "markdown",
   "metadata": {},
   "source": [
    "Pero ademas noten que al elegir solo la columna **geometry**, no usamos []. Si lo hubiesemos hecho, hubiesemos obtenido una Serie y deberiamos haberlo repetido dos veces "
   ]
  },
  {
   "cell_type": "code",
   "execution_count": null,
   "metadata": {},
   "outputs": [],
   "source": [
    "#esto devuelve un data frame\n",
    "estaciones.iloc[[0],[0]]"
   ]
  },
  {
   "cell_type": "code",
   "execution_count": null,
   "metadata": {},
   "outputs": [],
   "source": [
    "#esto una Series\n",
    "estaciones.iloc[0,[0]]"
   ]
  },
  {
   "cell_type": "code",
   "execution_count": null,
   "metadata": {},
   "outputs": [],
   "source": [
    "#esto un numero, el contenido dentro de la celda\n",
    "estaciones.iloc[0,0]"
   ]
  },
  {
   "cell_type": "code",
   "execution_count": null,
   "metadata": {},
   "outputs": [],
   "source": [
    "#al usar un filtro que devuelve una lista de True y False, devuelve una lista\n",
    "constitucion = estaciones.loc[estaciones.ESTACION == 'CONSTITUCION','geometry']\n",
    "type(constitucion)\n"
   ]
  },
  {
   "cell_type": "code",
   "execution_count": null,
   "metadata": {},
   "outputs": [],
   "source": [
    "#noten que al filtrar las filas, usamos una serie\n",
    "type(estaciones.ESTACION == 'CONSTITUCION')"
   ]
  },
  {
   "cell_type": "code",
   "execution_count": null,
   "metadata": {},
   "outputs": [],
   "source": [
    "#con iloc[0] extraemos el elemento dentro de la Series\n",
    "constitucion = estaciones.loc[estaciones.ESTACION == 'CONSTITUCION','geometry'].iloc[0]\n",
    "\n",
    "type(constitucion)\n"
   ]
  },
  {
   "cell_type": "markdown",
   "metadata": {},
   "source": [
    "Ahora si ya comprendemos que tenemos que calcular la distancia entre dos puntos, y para eso debemos urgar dentro de la muñeca de `GeoPandas` **DataFrame**, dentro de la **GeoSeries** geometry hasta el **Punto** de `Shapely`."
   ]
  },
  {
   "cell_type": "code",
   "execution_count": null,
   "metadata": {},
   "outputs": [],
   "source": [
    "constitucion = estaciones.loc[estaciones.ESTACION == 'CONSTITUCION','geometry'].to_crs(epsg=3857).iloc[0]\n",
    "retiro = estaciones.loc[estaciones.ESTACION == 'RETIRO','geometry'].to_crs(epsg=3857).iloc[0]\n",
    "constitucion.distance(retiro)"
   ]
  },
  {
   "cell_type": "markdown",
   "metadata": {},
   "source": [
    "Sin embargo, recordemos que el concepto de proyección de coordenadas es propio de `GeoPandas`, no de `Shapely`. Podemos convertir todo un **GeoDataFrame** o una **Series**, pero no un **Punto**"
   ]
  },
  {
   "cell_type": "code",
   "execution_count": null,
   "metadata": {},
   "outputs": [],
   "source": [
    "estaciones.to_crs(epsg=3857).head()"
   ]
  },
  {
   "cell_type": "code",
   "execution_count": null,
   "metadata": {},
   "outputs": [],
   "source": [
    "estaciones.geometry.to_crs(epsg=3857).head()"
   ]
  },
  {
   "cell_type": "code",
   "execution_count": null,
   "metadata": {},
   "outputs": [],
   "source": [
    "estaciones.geometry.iloc[0].to_crs(epsg=3857)"
   ]
  },
  {
   "cell_type": "markdown",
   "metadata": {},
   "source": [
    "Por eso siempre que utilicemos procesos espaciales, debemos comprender conceptualmente si ese método se aplica a un punto, a un conjunto de puntos, etc. Una distancia es siempre de punto a punto. Pero podríamos querer obtener una distancia de todas las estaciones a un punto, por ejemplo el Obelisco."
   ]
  },
  {
   "cell_type": "markdown",
   "metadata": {},
   "source": [
    "### Fin de la digresión por el camino lento y aburrido del bajo nivel"
   ]
  },
  {
   "cell_type": "markdown",
   "metadata": {},
   "source": [
    "## 5- Lineas"
   ]
  },
  {
   "cell_type": "markdown",
   "metadata": {},
   "source": [
    "Ahora podemos tratar con el siguiente objeto geografico en terminos de complejidad. La linea "
   ]
  },
  {
   "cell_type": "code",
   "execution_count": null,
   "metadata": {},
   "outputs": [],
   "source": [
    "lineas = gpd.read_file('../carto/lineas_de_subte.shp')\n",
    "lineas"
   ]
  },
  {
   "cell_type": "markdown",
   "metadata": {},
   "source": [
    "Como comentamos en otras clases, tener indices reales, que den cuenta de los datos puede ser muy util. Hagamos eso\n"
   ]
  },
  {
   "cell_type": "code",
   "execution_count": null,
   "metadata": {},
   "outputs": [],
   "source": [
    "#si quiero seleccionar la A seria algo más complejo como\n",
    "lineas.loc[lineas.Linea == 'A','geometry'].iloc[0]"
   ]
  },
  {
   "cell_type": "code",
   "execution_count": null,
   "metadata": {},
   "outputs": [],
   "source": [
    "#le cambiamos los indices a la linea\n",
    "lineas.index = lineas.Linea\n",
    "#eliminamos variables que no nos sirven\n",
    "lineas = lineas.drop(['id','Linea'],axis=1)\n",
    "#la convertimos en metros\n",
    "lineas = lineas.to_crs(epsg=3857)\n",
    "lineas"
   ]
  },
  {
   "cell_type": "code",
   "execution_count": null,
   "metadata": {},
   "outputs": [],
   "source": [
    "#ahora veamos que es más sencillo de trabajar, sin iloc ni listas de Trues y False\n",
    "lineas.loc['A','geometry']"
   ]
  },
  {
   "cell_type": "code",
   "execution_count": null,
   "metadata": {},
   "outputs": [],
   "source": [
    "#vemos que el tipo para linea de shapely es LineString\n",
    "H = lineas.loc['H','geometry']\n",
    "type(H)"
   ]
  },
  {
   "cell_type": "code",
   "execution_count": null,
   "metadata": {},
   "outputs": [],
   "source": [
    "#tiene sus propios metodos especificos a la linea\n",
    "H.length"
   ]
  },
  {
   "cell_type": "code",
   "execution_count": null,
   "metadata": {},
   "outputs": [],
   "source": [
    "#y tiene varios pares de coordenadas\n",
    "len(H.coords)"
   ]
  },
  {
   "cell_type": "code",
   "execution_count": null,
   "metadata": {},
   "outputs": [],
   "source": [
    "list(H.coords)"
   ]
  },
  {
   "cell_type": "code",
   "execution_count": null,
   "metadata": {},
   "outputs": [],
   "source": [
    "#una linea no es más que una secuencia de puntos\n",
    "H.coords[0],H.coords[1]"
   ]
  },
  {
   "cell_type": "code",
   "execution_count": null,
   "metadata": {},
   "outputs": [],
   "source": [
    "#si queremos convertir una linea a un punto podemos usar uno de sus vertices o el centroide\n",
    "print(H.centroid)"
   ]
  },
  {
   "cell_type": "code",
   "execution_count": null,
   "metadata": {
    "collapsed": true
   },
   "outputs": [],
   "source": [
    "#convertimos todo a 3857\n",
    "estaciones = estaciones.to_crs(epsg=3857)"
   ]
  },
  {
   "cell_type": "code",
   "execution_count": null,
   "metadata": {},
   "outputs": [],
   "source": [
    "estaciones_H = estaciones.loc[estaciones.LINEA == 'H',['ESTACION','geometry']]\n",
    "estaciones_H"
   ]
  },
  {
   "cell_type": "markdown",
   "metadata": {},
   "source": [
    "## 6 - LRS Lineal Referencing System\n",
    "\n",
    "Este proceso es uno de los más utilizados en análisis espacial. Fundamentalmente proyecta un punto sobre una línea siguiendo la distancia más corta, y nos indica a que distancia lineal sobre esa línea se encuentra. \n",
    "\n",
    "![lrs](data:image/png;base64,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)"
   ]
  },
  {
   "cell_type": "code",
   "execution_count": null,
   "metadata": {
    "collapsed": true
   },
   "outputs": [],
   "source": [
    "#importamos el objeto LineString\n",
    "from shapely.geometry import LineString"
   ]
  },
  {
   "cell_type": "code",
   "execution_count": null,
   "metadata": {},
   "outputs": [],
   "source": [
    "#creamos una linea apartir de dos puntos\n",
    "l = LineString([Point(0,0),Point(1,1)])\n",
    "l"
   ]
  },
  {
   "cell_type": "code",
   "execution_count": null,
   "metadata": {},
   "outputs": [],
   "source": [
    "#proyectamos el punto con coordenadas 0.5,0.5\n",
    "l.project(Point(0.5,0.5))"
   ]
  },
  {
   "cell_type": "code",
   "execution_count": null,
   "metadata": {
    "collapsed": true
   },
   "outputs": [],
   "source": [
    "l.project?"
   ]
  },
  {
   "cell_type": "code",
   "execution_count": null,
   "metadata": {},
   "outputs": [],
   "source": [
    "#interpolamos esa distancia para ver las coordenadas del punto\n",
    "print(l.interpolate(0.707))"
   ]
  },
  {
   "cell_type": "markdown",
   "metadata": {},
   "source": [
    "## Las estaciones de subte están más cerca en el centro?\n",
    "\n",
    "El análisis que queremos realizar es veríficar si las estaciones de subte se encuentran más separadas entre sí en la periféria de la red que en el centro. También queremos poder ordenar nuestras estaciones en un gráfico de barras de acuerdo al orden que siguen en la línea. Para eso nos sirve el LRS\n",
    "\n",
    "Necesitamos calcular la distancia de cada estácion con la siguiente. Por eso necesitamos sabe el orden de esas estaciones."
   ]
  },
  {
   "cell_type": "code",
   "execution_count": null,
   "metadata": {},
   "outputs": [],
   "source": [
    "#utilizamos map \n",
    "estaciones_H['orden'] = estaciones_H.geometry.map(H.project)\n",
    "#ordenamos por el orden y hacemos un reset del index\n",
    "estaciones_H = estaciones_H.sort_values(by='orden')\n",
    "estaciones_H = estaciones_H.reset_index(drop=True)\n",
    "estaciones_H"
   ]
  },
  {
   "cell_type": "markdown",
   "metadata": {},
   "source": [
    "##### VERSION LIGERAMENTE MÁS COMPLEJA\n",
    "\n",
    "`project` permite que nos de la distancia sobre la línea en unidades de medida o en procentaje: el punto está a la mitad de la linea (50%) o al final (100%). Para eso toma un parámetro adicional como `normalized`. \n",
    "\n",
    "Combinar `lambda` con `map` nos permite combinar un elemento variable sobre el cual vamos iterando nuestra función, con parámetros fijos.\n"
   ]
  },
  {
   "cell_type": "code",
   "execution_count": null,
   "metadata": {},
   "outputs": [],
   "source": [
    "#esto nos permite utilizar \"estacion\" como un elemento variable y el parametro fijo normalized\n",
    "estaciones_H['orden'] = estaciones_H.geometry.map(lambda estacion: H.project(estacion,normalized = True))\n",
    "estaciones_H = estaciones_H.sort_values(by='orden')\n",
    "estaciones_H = estaciones_H.reset_index(drop=True)\n",
    "estaciones_H"
   ]
  },
  {
   "cell_type": "code",
   "execution_count": null,
   "metadata": {},
   "outputs": [],
   "source": [
    "#Ahora que estan ordenadas, cuál es la siguiente estacion?\n",
    "estaciones_H.ESTACION.shift(-1)"
   ]
  },
  {
   "cell_type": "code",
   "execution_count": null,
   "metadata": {
    "collapsed": true
   },
   "outputs": [],
   "source": [
    "#no siempre tenemos que guardar todo en el data frame, en especial variables que van a ser insumo\n",
    "estacion_siguiente = estaciones_H.geometry.shift(-1)"
   ]
  },
  {
   "cell_type": "code",
   "execution_count": null,
   "metadata": {},
   "outputs": [],
   "source": [
    "#calculamos la distancia de cada estacion con respecto a su siguiente\n",
    "#sabemos que tenemos que repetir esto por cada estacion menos 1 (la ultima tiene distancia a la nada)\n",
    "list(range(len(estaciones_H)-1))"
   ]
  },
  {
   "cell_type": "code",
   "execution_count": null,
   "metadata": {},
   "outputs": [],
   "source": [
    "#podemos ver las estaciones recorriendo este rango\n",
    "for i in range(len(estaciones_H)-1):\n",
    "    print(estaciones_H.ESTACION.iloc[i])\n",
    "    #noten como Las Heras no aparece\n",
    "    "
   ]
  },
  {
   "cell_type": "code",
   "execution_count": null,
   "metadata": {
    "collapsed": true
   },
   "outputs": [],
   "source": [
    "#hacemos esto con un list compehension\n",
    "distancias = [estaciones_H.geometry.iloc[i].distance(estacion_siguiente.iloc[i]) for i in range(len(estaciones_H)-1)]"
   ]
  },
  {
   "cell_type": "code",
   "execution_count": null,
   "metadata": {
    "collapsed": true
   },
   "outputs": [],
   "source": [
    "#tomamos la decisión de darle una distancia 0 a la ultima\n",
    "estaciones_H['distancias_siguiente'] = distancias + [0]"
   ]
  },
  {
   "cell_type": "code",
   "execution_count": null,
   "metadata": {},
   "outputs": [],
   "source": [
    "estaciones_H"
   ]
  },
  {
   "cell_type": "code",
   "execution_count": null,
   "metadata": {},
   "outputs": [],
   "source": [
    "#siguiendo el mismo procedimiento, podemos construir una linea a partir de cada estacion con la siguiente\n",
    "lineas_nuevas = [LineString([estaciones_H.geometry.loc[i],estacion_siguiente.loc[i]]) for i in estaciones_H.index[:-1]]\n",
    "lineas_nuevas"
   ]
  },
  {
   "cell_type": "code",
   "execution_count": null,
   "metadata": {},
   "outputs": [],
   "source": [
    "#creamos un data frame con lineas y la distancia\n",
    "nuevaH = pd.DataFrame({'lineas':lineas_nuevas,\n",
    "             'distancia':distancias})\n",
    "type(nuevaH)"
   ]
  },
  {
   "cell_type": "code",
   "execution_count": null,
   "metadata": {},
   "outputs": [],
   "source": [
    "nuevaH.head()"
   ]
  },
  {
   "cell_type": "code",
   "execution_count": null,
   "metadata": {
    "collapsed": true
   },
   "outputs": [],
   "source": [
    "#la convertirmos en GeoDataFrame\n",
    "nuevaH = gpd.GeoDataFrame(nuevaH, geometry='lineas',crs={'init' :'epsg:3857'})"
   ]
  },
  {
   "cell_type": "code",
   "execution_count": null,
   "metadata": {},
   "outputs": [],
   "source": [
    "type(nuevaH)"
   ]
  },
  {
   "cell_type": "code",
   "execution_count": null,
   "metadata": {},
   "outputs": [],
   "source": [
    "#ploteamos el resultado\n",
    "nuevaH.plot(linewidth = nuevaH.distancia/80,alpha = 0.5)"
   ]
  },
  {
   "cell_type": "markdown",
   "metadata": {},
   "source": [
    "## 7- Group by- Apply\n",
    "\n",
    "Ya resolvimos el problema para la **línea H**. Ahora solamente tenemos que aplicar el mismo método y resolverlo para todas las líneas. Podríamos hacer un `for loop` iterando a lo largo de todas las líneas, y poner todo el proceso en un loop, e ir guardando los resultados. \n",
    "\n",
    "Pero para esta situación donde tenemos registros en una tabla identificados por un valor en común, y queremos realizar el mismo proceso para cada grupo, existe `Group By`. Ya lo utilizamos para obtener un promedio. Le aplicamos la función promedio a cada grupo. Ahora, podemos aplicarle una función algo más compleja a cada grupo.\n",
    "\n",
    "Comencemos on un ejemplo sencillo. Vamos a crear una funcion que hace dos cosas: elimina algunas columnas y se queda con el primer registro"
   ]
  },
  {
   "cell_type": "code",
   "execution_count": null,
   "metadata": {
    "collapsed": true
   },
   "outputs": [],
   "source": [
    "def funcion(dt):\n",
    "    dt = dt.reindex(columns = ['ESTACION','LINEA','geometry'])\n",
    "    dt = dt.iloc[0]\n",
    "    return dt"
   ]
  },
  {
   "cell_type": "code",
   "execution_count": null,
   "metadata": {},
   "outputs": [],
   "source": [
    "#luego aplicamos esta funcion con un apply a todo el dataset\n",
    "estaciones.groupby('LINEA').apply(funcion).reset_index(drop=True)"
   ]
  },
  {
   "cell_type": "code",
   "execution_count": null,
   "metadata": {
    "collapsed": true
   },
   "outputs": [],
   "source": [
    "def distancia_entre_estaciones(dt,lineas):\n",
    "    \"\"\"\n",
    "    Esta funcion produce un geoDataFrame con lineas entre estaciones\n",
    "    de subte con la distancia en metros entre ellas\n",
    "    ...\n",
    "    \n",
    "    Argumentos\n",
    "    ---------\n",
    "    dt     : geopandas.GeoDataFrame\n",
    "            GeoDataFrame que contiene las estaciones de subte   \n",
    "    lineas : geopandas.GeoDataFrame\n",
    "            GeoDataFrame que contiene las lineas de subte\n",
    "            \n",
    "    Devuelve\n",
    "    -------\n",
    "    nuevo_dt: GeoDataFrame\n",
    "            GeoDataFrame que contiene las lineas entre estaciones\n",
    "            con la distancia entre ellas en metros\n",
    "    \"\"\"\n",
    "    #Creo un diccionario con colores\n",
    "    colores = {\n",
    "        'A':'lightblue',\n",
    "        'B':'red',\n",
    "        'C':'blue',\n",
    "        'D':'green',\n",
    "        'E':'purple',\n",
    "        'H':'gold'\n",
    "    }\n",
    "    #tomo la linea del subset de datos como el valor unico que hay en el campo LINEA\n",
    "    linea_color = dt.LINEA.unique()[0]\n",
    "    #tomo el color para graficar en base a esa linea\n",
    "    color = colores[linea_color]\n",
    "    \n",
    "    #tomo la linea de subte en su geometria para el LRS\n",
    "    linea = lineas.loc[linea_color,'geometry']\n",
    "    #limpio el subset de datos quedandome con pocas columnas\n",
    "    dt = dt.reindex(columns = ['ESTACION','LINEA','geometry'])\n",
    "    #proyecto cada estacion en la linea  lo guardo en orden\n",
    "    dt['orden'] = dt.geometry.map(lambda estacion: linea.project(estacion,normalized = True))\n",
    "    \n",
    "    #ordeno por ese orden y reinicio el index\n",
    "    dt = dt.sort_values(by='orden')\n",
    "    dt = dt.reset_index(drop=True)\n",
    "    \n",
    "    #obtengo la estacion siguiente con un shift\n",
    "    estacion_siguiente = dt.geometry.shift(-1)\n",
    "    #calculo las distancias a la estacion siguiente\n",
    "    distancias = [dt.geometry.loc[i].distance(estacion_siguiente.loc[i]) for i in dt.index[:-1]]\n",
    "    \n",
    "    #construyo una linea entre cada estacion y la siguiente\n",
    "    lineas_nuevas = [LineString([dt.geometry.loc[i],estacion_siguiente.loc[i]]) for i in dt.index[:-1]]\n",
    "    \n",
    "    #creo el geodataframe final\n",
    "    nuevo_dt = pd.DataFrame({'lineas':lineas_nuevas,\n",
    "             'distancia':distancias})\n",
    "    nuevo_dt = gpd.GeoDataFrame(nuevo_dt, geometry='lineas',crs={'init' :'epsg:3857'})\n",
    "    #le doy el color\n",
    "    nuevo_dt['color'] = color\n",
    "    return nuevo_dt"
   ]
  },
  {
   "cell_type": "code",
   "execution_count": null,
   "metadata": {},
   "outputs": [],
   "source": [
    "lineas_subte = estaciones.groupby('LINEA').apply(lambda x: distancia_entre_estaciones(x,lineas))\n",
    "#eliminino el nivel del index que no me intersa\n",
    "lineas_subte.index = lineas_subte.index.droplevel(1)\n",
    "lineas_subte.head()"
   ]
  },
  {
   "cell_type": "code",
   "execution_count": null,
   "metadata": {},
   "outputs": [],
   "source": [
    "#veamoslo en un mapa\n",
    "fig = plt.figure(figsize=(6,6))\n",
    "ax = fig.add_subplot(1,1,1)\n",
    "\n",
    "lineas_subte.plot(color = lineas_subte.color,\n",
    "                  linewidth = lineas_subte.distancia/80,\n",
    "                  alpha = 0.5,ax=ax)\n",
    "ax.set_axis_off()\n",
    "plt.axis('equal')\n",
    "ax.set_title('Distancia entre estaciones de Subte')"
   ]
  },
  {
   "cell_type": "code",
   "execution_count": null,
   "metadata": {},
   "outputs": [],
   "source": [
    "#En lugar de distancias podemos hacer un buffer, el caballo de batalla del análisis espacial más sencillo\n",
    "#el buffer puede hacerse sobre un punto\n",
    "from shapely.geometry import Point, LineString\n",
    "punto = Point([1,1])\n",
    "punto"
   ]
  },
  {
   "cell_type": "code",
   "execution_count": null,
   "metadata": {},
   "outputs": [],
   "source": [
    "punto.buffer(0.5)"
   ]
  },
  {
   "cell_type": "code",
   "execution_count": null,
   "metadata": {},
   "outputs": [],
   "source": [
    "type(punto.buffer(0.5))"
   ]
  },
  {
   "cell_type": "code",
   "execution_count": null,
   "metadata": {},
   "outputs": [],
   "source": [
    "#sobre una linea\n",
    "linea = LineString([punto,Point(2,2)])\n",
    "linea"
   ]
  },
  {
   "cell_type": "code",
   "execution_count": null,
   "metadata": {},
   "outputs": [],
   "source": [
    "linea.buffer(0.5)"
   ]
  },
  {
   "cell_type": "code",
   "execution_count": null,
   "metadata": {
    "collapsed": true
   },
   "outputs": [],
   "source": [
    "#y no siempre tiene que ser constante, podemos hacer distancias variables\n",
    "#y aplicarlo de modo vectorial\n",
    "lineas_subte['lineas'] = lineas_subte.apply(lambda x: x.lineas.buffer(x.distancia/10), axis=1)"
   ]
  },
  {
   "cell_type": "code",
   "execution_count": null,
   "metadata": {},
   "outputs": [],
   "source": [
    "#veamoslo en un mapa\n",
    "fig = plt.figure(figsize=(6,6))\n",
    "ax = fig.add_subplot(1,1,1)\n",
    "\n",
    "lineas_subte.plot(color = lineas_subte.color,\n",
    "                  #linewidth = lineas_subte.distancia/80,\n",
    "                  alpha = 0.5,ax=ax)\n",
    "ax.set_axis_off()\n",
    "plt.axis('equal')\n",
    "ax.set_title('Distancia entre estaciones de Subte')"
   ]
  },
  {
   "cell_type": "markdown",
   "metadata": {},
   "source": [
    "## Crear un GeoDataFrame desde texto"
   ]
  },
  {
   "cell_type": "code",
   "execution_count": null,
   "metadata": {},
   "outputs": [],
   "source": [
    "#COMO CREAMOS UN GEODATAFRAME desde un csv?\n",
    "from shapely import wkt\n",
    "lineas2 = pd.read_csv('../carto/lineas-de-subte.csv')\n",
    "lineas2.WKT = lineas2.WKT.apply(wkt.loads)\n",
    "crs = {'init' :'epsg:4326'}\n",
    "gdf = gpd.GeoDataFrame(lineas2, geometry='WKT',crs={'init' :'epsg:4326'})\n",
    "gdf.head()\n"
   ]
  },
  {
   "cell_type": "code",
   "execution_count": null,
   "metadata": {},
   "outputs": [],
   "source": [
    "#siempre conviene mantener la columnas de geometrias con el nombre geometry\n",
    "gdf.columns = ['geometry','ID_LINEA','lineasub']\n",
    "gdf.head()"
   ]
  },
  {
   "cell_type": "markdown",
   "metadata": {},
   "source": [
    "## 8 Como se comporta la demanda en las estaciones de subte según la hora y el tipo de día?"
   ]
  },
  {
   "cell_type": "code",
   "execution_count": 7,
   "metadata": {
    "collapsed": true
   },
   "outputs": [],
   "source": [
    "#vamos a crear una funcion para leer nuestros datos de acuerdo a si queremos un sabado o que hora\n",
    "def leerData(tipo_de_dia,hora):\n",
    "    db = pd.read_csv('../data/dataInsumo.csv')\n",
    "    db = db.loc[db.hora == hora,:]\n",
    "    if tipo_de_dia == 'fin de semana':\n",
    "        return db.loc[db.fin_de_semana,['ID','promedio']]\n",
    "    elif tipo_de_dia == 'dia de semana':\n",
    "        return db.loc[~(db.fin_de_semana),['ID','promedio']]\n",
    "    else:\n",
    "        print('ERROR')"
   ]
  },
  {
   "cell_type": "code",
   "execution_count": 8,
   "metadata": {},
   "outputs": [
    {
     "data": {
      "text/html": [
       "<div>\n",
       "<style scoped>\n",
       "    .dataframe tbody tr th:only-of-type {\n",
       "        vertical-align: middle;\n",
       "    }\n",
       "\n",
       "    .dataframe tbody tr th {\n",
       "        vertical-align: top;\n",
       "    }\n",
       "\n",
       "    .dataframe thead th {\n",
       "        text-align: right;\n",
       "    }\n",
       "</style>\n",
       "<table border=\"1\" class=\"dataframe\">\n",
       "  <thead>\n",
       "    <tr style=\"text-align: right;\">\n",
       "      <th></th>\n",
       "      <th>ID</th>\n",
       "      <th>promedio</th>\n",
       "    </tr>\n",
       "  </thead>\n",
       "  <tbody>\n",
       "    <tr>\n",
       "      <th>172</th>\n",
       "      <td>31</td>\n",
       "      <td>2.789474</td>\n",
       "    </tr>\n",
       "    <tr>\n",
       "      <th>173</th>\n",
       "      <td>32</td>\n",
       "      <td>3.586957</td>\n",
       "    </tr>\n",
       "    <tr>\n",
       "      <th>174</th>\n",
       "      <td>33</td>\n",
       "      <td>4.985816</td>\n",
       "    </tr>\n",
       "    <tr>\n",
       "      <th>175</th>\n",
       "      <td>34</td>\n",
       "      <td>5.587302</td>\n",
       "    </tr>\n",
       "    <tr>\n",
       "      <th>176</th>\n",
       "      <td>35</td>\n",
       "      <td>7.417722</td>\n",
       "    </tr>\n",
       "  </tbody>\n",
       "</table>\n",
       "</div>"
      ],
      "text/plain": [
       "     ID  promedio\n",
       "172  31  2.789474\n",
       "173  32  3.586957\n",
       "174  33  4.985816\n",
       "175  34  5.587302\n",
       "176  35  7.417722"
      ]
     },
     "execution_count": 8,
     "metadata": {},
     "output_type": "execute_result"
    }
   ],
   "source": [
    "#corremos la funcion para testear que funcione\n",
    "dt = leerData(tipo_de_dia = 'dia de semana', hora = 8)\n",
    "dt.head()"
   ]
  },
  {
   "cell_type": "code",
   "execution_count": 9,
   "metadata": {},
   "outputs": [
    {
     "data": {
      "text/html": [
       "<div>\n",
       "<style scoped>\n",
       "    .dataframe tbody tr th:only-of-type {\n",
       "        vertical-align: middle;\n",
       "    }\n",
       "\n",
       "    .dataframe tbody tr th {\n",
       "        vertical-align: top;\n",
       "    }\n",
       "\n",
       "    .dataframe thead th {\n",
       "        text-align: right;\n",
       "    }\n",
       "</style>\n",
       "<table border=\"1\" class=\"dataframe\">\n",
       "  <thead>\n",
       "    <tr style=\"text-align: right;\">\n",
       "      <th></th>\n",
       "      <th>ID</th>\n",
       "      <th>ESTACION</th>\n",
       "      <th>LINEA</th>\n",
       "      <th>geometry</th>\n",
       "    </tr>\n",
       "  </thead>\n",
       "  <tbody>\n",
       "    <tr>\n",
       "      <th>0</th>\n",
       "      <td>1</td>\n",
       "      <td>CASEROS</td>\n",
       "      <td>H</td>\n",
       "      <td>POINT (-6500872.365264534 -4114550.922561814)</td>\n",
       "    </tr>\n",
       "    <tr>\n",
       "      <th>1</th>\n",
       "      <td>2</td>\n",
       "      <td>INCLAN</td>\n",
       "      <td>H</td>\n",
       "      <td>POINT (-6501099.673119548 -4113688.521703297)</td>\n",
       "    </tr>\n",
       "    <tr>\n",
       "      <th>2</th>\n",
       "      <td>3</td>\n",
       "      <td>HUMBERTO 1°</td>\n",
       "      <td>H</td>\n",
       "      <td>POINT (-6501250.307275812 -4112838.521641664)</td>\n",
       "    </tr>\n",
       "    <tr>\n",
       "      <th>3</th>\n",
       "      <td>4</td>\n",
       "      <td>VENEZUELA</td>\n",
       "      <td>H</td>\n",
       "      <td>POINT (-6501518.470772369 -4111776.653996726)</td>\n",
       "    </tr>\n",
       "    <tr>\n",
       "      <th>4</th>\n",
       "      <td>5</td>\n",
       "      <td>ONCE - 30 DE DICIEMBRE</td>\n",
       "      <td>H</td>\n",
       "      <td>POINT (-6501663.705051661 -4110923.61029132)</td>\n",
       "    </tr>\n",
       "  </tbody>\n",
       "</table>\n",
       "</div>"
      ],
      "text/plain": [
       "   ID                ESTACION LINEA  \\\n",
       "0   1                 CASEROS     H   \n",
       "1   2                  INCLAN     H   \n",
       "2   3             HUMBERTO 1°     H   \n",
       "3   4               VENEZUELA     H   \n",
       "4   5  ONCE - 30 DE DICIEMBRE     H   \n",
       "\n",
       "                                        geometry  \n",
       "0  POINT (-6500872.365264534 -4114550.922561814)  \n",
       "1  POINT (-6501099.673119548 -4113688.521703297)  \n",
       "2  POINT (-6501250.307275812 -4112838.521641664)  \n",
       "3  POINT (-6501518.470772369 -4111776.653996726)  \n",
       "4   POINT (-6501663.705051661 -4110923.61029132)  "
      ]
     },
     "execution_count": 9,
     "metadata": {},
     "output_type": "execute_result"
    }
   ],
   "source": [
    "#convertirmos la columna ID en texto\n",
    "estaciones.ID = estaciones.ID.map(int)\n",
    "estaciones.head()"
   ]
  },
  {
   "cell_type": "code",
   "execution_count": 10,
   "metadata": {},
   "outputs": [
    {
     "data": {
      "text/html": [
       "<div>\n",
       "<style scoped>\n",
       "    .dataframe tbody tr th:only-of-type {\n",
       "        vertical-align: middle;\n",
       "    }\n",
       "\n",
       "    .dataframe tbody tr th {\n",
       "        vertical-align: top;\n",
       "    }\n",
       "\n",
       "    .dataframe thead th {\n",
       "        text-align: right;\n",
       "    }\n",
       "</style>\n",
       "<table border=\"1\" class=\"dataframe\">\n",
       "  <thead>\n",
       "    <tr style=\"text-align: right;\">\n",
       "      <th></th>\n",
       "      <th>ID</th>\n",
       "      <th>ESTACION</th>\n",
       "      <th>LINEA</th>\n",
       "      <th>geometry</th>\n",
       "      <th>promedio</th>\n",
       "    </tr>\n",
       "  </thead>\n",
       "  <tbody>\n",
       "    <tr>\n",
       "      <th>0</th>\n",
       "      <td>1</td>\n",
       "      <td>CASEROS</td>\n",
       "      <td>H</td>\n",
       "      <td>POINT (-6500872.365264534 -4114550.922561814)</td>\n",
       "      <td>8.053097</td>\n",
       "    </tr>\n",
       "    <tr>\n",
       "      <th>1</th>\n",
       "      <td>2</td>\n",
       "      <td>INCLAN</td>\n",
       "      <td>H</td>\n",
       "      <td>POINT (-6501099.673119548 -4113688.521703297)</td>\n",
       "      <td>13.174603</td>\n",
       "    </tr>\n",
       "    <tr>\n",
       "      <th>2</th>\n",
       "      <td>3</td>\n",
       "      <td>HUMBERTO 1°</td>\n",
       "      <td>H</td>\n",
       "      <td>POINT (-6501250.307275812 -4112838.521641664)</td>\n",
       "      <td>12.447761</td>\n",
       "    </tr>\n",
       "    <tr>\n",
       "      <th>3</th>\n",
       "      <td>4</td>\n",
       "      <td>VENEZUELA</td>\n",
       "      <td>H</td>\n",
       "      <td>POINT (-6501518.470772369 -4111776.653996726)</td>\n",
       "      <td>11.669811</td>\n",
       "    </tr>\n",
       "    <tr>\n",
       "      <th>4</th>\n",
       "      <td>5</td>\n",
       "      <td>ONCE - 30 DE DICIEMBRE</td>\n",
       "      <td>H</td>\n",
       "      <td>POINT (-6501663.705051661 -4110923.61029132)</td>\n",
       "      <td>8.196347</td>\n",
       "    </tr>\n",
       "  </tbody>\n",
       "</table>\n",
       "</div>"
      ],
      "text/plain": [
       "   ID                ESTACION LINEA  \\\n",
       "0   1                 CASEROS     H   \n",
       "1   2                  INCLAN     H   \n",
       "2   3             HUMBERTO 1°     H   \n",
       "3   4               VENEZUELA     H   \n",
       "4   5  ONCE - 30 DE DICIEMBRE     H   \n",
       "\n",
       "                                        geometry   promedio  \n",
       "0  POINT (-6500872.365264534 -4114550.922561814)   8.053097  \n",
       "1  POINT (-6501099.673119548 -4113688.521703297)  13.174603  \n",
       "2  POINT (-6501250.307275812 -4112838.521641664)  12.447761  \n",
       "3  POINT (-6501518.470772369 -4111776.653996726)  11.669811  \n",
       "4   POINT (-6501663.705051661 -4110923.61029132)   8.196347  "
      ]
     },
     "execution_count": 10,
     "metadata": {},
     "output_type": "execute_result"
    }
   ],
   "source": [
    "#hacemos un merge, manteniendo toda la informacion de las esatciones \"left join\"\n",
    "estaciones = estaciones.merge(dt,on='ID',how='left')\n",
    "estaciones.head()"
   ]
  },
  {
   "cell_type": "code",
   "execution_count": null,
   "metadata": {},
   "outputs": [],
   "source": [
    "estaciones.plot(marker='.', color='red', markersize = estaciones['promedio']*10)"
   ]
  },
  {
   "cell_type": "code",
   "execution_count": null,
   "metadata": {
    "collapsed": true
   },
   "outputs": [],
   "source": [
    "#hacemos una funcion para que haga todo lo que hicimos recien, de modo automatico\n",
    "\n",
    "def verSubte(tipo_de_dia,hora):\n",
    "    #esta es la misma funcion que hicimos\n",
    "    dt = leerData(tipo_de_dia, hora)\n",
    "    #leemos las estaciones\n",
    "    estaciones = gpd.read_file('../carto/estaciones_de_subte.shp')\n",
    "    #modificamos el ID como numero\n",
    "    estaciones.ID = estaciones.ID.map(int)\n",
    "    #realizamos el merge\n",
    "    estaciones = estaciones.merge(dt,on='ID',how='left')\n",
    "    #realizamos el plot\n",
    "    estaciones.plot(marker='.', color='red', markersize = estaciones['promedio']*10)"
   ]
  },
  {
   "cell_type": "code",
   "execution_count": null,
   "metadata": {},
   "outputs": [],
   "source": [
    "verSubte(hora = 21,tipo_de_dia = 'fin de semana')"
   ]
  },
  {
   "cell_type": "code",
   "execution_count": null,
   "metadata": {
    "collapsed": true
   },
   "outputs": [],
   "source": [
    "def verSubteLindo(hora,tipo_de_dia,linea):\n",
    "    import seaborn as sns\n",
    "    #leo los datos de los molinetes\n",
    "    dt = leerData(tipo_de_dia, hora)\n",
    "    #lo la cartografia de las estaciones\n",
    "    estaciones = gpd.read_file('../carto/estaciones_de_subte.shp')\n",
    "    #estaciones = estaciones.to_crs(epsg=4326)\n",
    "    #uno la cartografia con los datos\n",
    "    estaciones.ID = estaciones.ID.map(int)\n",
    "    estaciones = estaciones.merge(dt,on='ID',how='left')\n",
    "    #leo una cartografia de fondo\n",
    "    comunas = gpd.read_file('../carto/comunas.shp')\n",
    "    #comunas = comunas.to_crs(epsg=4326)\n",
    "    \n",
    "    lineas = gpd.read_file('../carto/lineas_de_subte.shp')\n",
    "    lineas = lineas.loc[lineas.Linea == linea,:]\n",
    "    lineas = lineas.to_crs(estaciones.crs)\n",
    "\n",
    "    estaciones['orden'] = estaciones.geometry.map(lambda estacion: lineas.project(estacion,normalized = True).iloc[0])\n",
    "    \n",
    "    #genero los ejes\n",
    "    fig = plt.figure(figsize=(18,6))\n",
    "    ax1 = fig.add_subplot(1,2,1)\n",
    "    ax2 = fig.add_subplot(1,2,2)\n",
    "    \n",
    "    #la paleta de color\n",
    "    colores = {\n",
    "        'A':'lightblue',\n",
    "        'B':'red',\n",
    "        'C':'blue',\n",
    "        'D':'green',\n",
    "        'E':'purple',\n",
    "        'H':'gold'\n",
    "    }\n",
    "    \n",
    "    #ordeno las estaciones\n",
    "    subdata = estaciones.loc[estaciones.LINEA==linea,:].sort_values(by='orden')\n",
    "    \n",
    "    #ploteo el mapa base\n",
    "    comunas.plot(ax=ax1,alpha=0.5,color='grey')\n",
    "    #ploteo estaciones de la linea seleccionada y las otras\n",
    "    estaciones.plot(ax = ax1, marker='.', color='black', markersize = estaciones['promedio']*10,alpha=0.4)\n",
    "    subdata.plot(ax = ax1, marker='.', color=colores[linea], markersize = subdata['promedio']*10,alpha=0.8)\n",
    "    \n",
    "    #elimino los ejes\n",
    "    ax1.set_axis_off()\n",
    "    \n",
    "    #creo el bar plot\n",
    "    sns.barplot(x=\"ESTACION\", y=\"promedio\", data=subdata,ax=ax2,color=colores[linea])\n",
    "    \n",
    "    #agrego etiquetas para eje x\n",
    "    for tick in ax2.get_xticklabels():\n",
    "        tick.set_rotation(70)\n",
    "    \n",
    "    #equiparo la proporcion\n",
    "    ax1.axis('equal')\n",
    "\n",
    "    \n",
    "\n"
   ]
  },
  {
   "cell_type": "code",
   "execution_count": null,
   "metadata": {},
   "outputs": [],
   "source": [
    "verSubteLindo(hora = 9,tipo_de_dia = 'dia de semana',linea = 'C')"
   ]
  },
  {
   "cell_type": "markdown",
   "metadata": {
    "collapsed": true
   },
   "source": [
    "# Tarea para el hogar\n",
    "\n",
    "Pueden realizar dos tareas como práctica:\n",
    "\n",
    "* Ubiquen el centro de coordenadas de Gaus - Krugger para Buenos Aires que vimos en la proyeccion usada por GCBA. Calculen la distancia a ese punto de sitios de interes (Obelisco, el Km O en el congreso, La Casa Rosada)\n",
    "\n",
    "* Construyan un gráfico de dispersión, o scatter plot, donde evalúen si la distancia al obelisco de las estaciones se correlaciona (al menos en una inspección visual) con su distancia al obelisco. Pueden hacerlo para una linea o para todas."
   ]
  },
  {
   "cell_type": "code",
   "execution_count": null,
   "metadata": {
    "collapsed": true
   },
   "outputs": [],
   "source": []
  },
  {
   "cell_type": "code",
   "execution_count": null,
   "metadata": {
    "collapsed": true
   },
   "outputs": [],
   "source": []
  }
 ],
 "metadata": {
  "kernelspec": {
   "display_name": "Python 3",
   "language": "python",
   "name": "python3"
  },
  "language_info": {
   "codemirror_mode": {
    "name": "ipython",
    "version": 3
   },
   "file_extension": ".py",
   "mimetype": "text/x-python",
   "name": "python",
   "nbconvert_exporter": "python",
   "pygments_lexer": "ipython3",
   "version": "3.6.3"
  }
 },
 "nbformat": 4,
 "nbformat_minor": 1
}
