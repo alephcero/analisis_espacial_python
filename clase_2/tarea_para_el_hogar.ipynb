{
 "cells": [
  {
   "cell_type": "markdown",
   "metadata": {},
   "source": [
    "# Tarea para el hogar\n",
    "\n",
    "Definir uan función que tome una linea y devuelva su centroide, proyectado sobre la linea original o no. Abajo encontrarán una estructura propuesta para la función. Haciendo lo que los comentarios dicen, deberían poder construir la función. Sin embargo pueden arrancar desde cero con un enfoque totalmente distinto. También van a encontrar la celda con la función tal cual la sugerí yo ejecutada y una celda donde plotear los resultados para ver la linea y ambos puntos"
   ]
  },
  {
   "cell_type": "code",
   "execution_count": 3,
   "metadata": {
    "collapsed": true
   },
   "outputs": [],
   "source": [
    "#leemos las librerias que nos pueden servir, uds pueden agregar otras\n",
    "from shapely.geometry import LineString,Point\n",
    "import numpy as np\n",
    "import matplotlib.pyplot as plt\n",
    "% matplotlib inline"
   ]
  },
  {
   "cell_type": "code",
   "execution_count": 2,
   "metadata": {},
   "outputs": [
    {
     "data": {
      "image/svg+xml": [
       "<svg xmlns=\"http://www.w3.org/2000/svg\" xmlns:xlink=\"http://www.w3.org/1999/xlink\" width=\"100.0\" height=\"100.0\" viewBox=\"-0.24 -0.24 1.48 6.48\" preserveAspectRatio=\"xMinYMin meet\"><g transform=\"matrix(1,0,0,-1,0,6.0)\"><polyline fill=\"none\" stroke=\"#66cc99\" stroke-width=\"0.12960000000000002\" points=\"0.0,0.0 1.0,1.0 1.0,5.0 0.0,6.0\" opacity=\"0.8\" /></g></svg>"
      ],
      "text/plain": [
       "<shapely.geometry.linestring.LineString at 0x17af97a9048>"
      ]
     },
     "execution_count": 2,
     "metadata": {},
     "output_type": "execute_result"
    }
   ],
   "source": [
    "#les dejo una linea de ejemplo, pero pueden crear otra\n",
    "linea = LineString([Point(0,0),\n",
    "                    Point(1,1),\n",
    "                    Point(1,5),\n",
    "                    Point(0,6)\n",
    "                   ])\n",
    "linea"
   ]
  },
  {
   "cell_type": "markdown",
   "metadata": {},
   "source": [
    "## Pistas"
   ]
  },
  {
   "cell_type": "code",
   "execution_count": 37,
   "metadata": {},
   "outputs": [
    {
     "data": {
      "text/plain": [
       "[(0.0, 0.0), (1.0, 1.0), (1.0, 5.0), (0.0, 6.0)]"
      ]
     },
     "execution_count": 37,
     "metadata": {},
     "output_type": "execute_result"
    }
   ],
   "source": [
    "#podemos acceder a las coordenadas de una linea y convertirlas en lista\n",
    "list(linea.coords)"
   ]
  },
  {
   "cell_type": "code",
   "execution_count": 40,
   "metadata": {},
   "outputs": [
    {
     "data": {
      "text/plain": [
       "5.414213562373095"
      ]
     },
     "execution_count": 40,
     "metadata": {},
     "output_type": "execute_result"
    }
   ],
   "source": [
    "#project proyecta sobre la linea cualquier punto y nos devuelve la distancia lineal sobre la linea\n",
    "linea.project(Point([10,10]))"
   ]
  },
  {
   "cell_type": "code",
   "execution_count": 41,
   "metadata": {},
   "outputs": [
    {
     "data": {
      "image/svg+xml": [
       "<svg xmlns=\"http://www.w3.org/2000/svg\" xmlns:xlink=\"http://www.w3.org/1999/xlink\" width=\"100.0\" height=\"100.0\" viewBox=\"0.0 3.999986437626905 2.0 2.0\" preserveAspectRatio=\"xMinYMin meet\"><g transform=\"matrix(1,0,0,-1,0,9.99997287525381)\"><circle cx=\"1.0\" cy=\"4.999986437626905\" r=\"0.06\" stroke=\"#555555\" stroke-width=\"0.02\" fill=\"#66cc99\" opacity=\"0.6\" /></g></svg>"
      ],
      "text/plain": [
       "<shapely.geometry.point.Point at 0x1e445e3e748>"
      ]
     },
     "execution_count": 41,
     "metadata": {},
     "output_type": "execute_result"
    }
   ],
   "source": [
    "#interpolate toma una distancia lineal y devuelve un shapely Point ubicado en esa distancia\n",
    "linea.interpolate(5.4142)"
   ]
  },
  {
   "cell_type": "code",
   "execution_count": 29,
   "metadata": {
    "collapsed": true
   },
   "outputs": [],
   "source": [
    "def centroide_linea(linea, proyectado):\n",
    "    \"\"\"\n",
    "    Esta funcion toma una linea y devuelve el punto \n",
    "    centroide de la linea, proyectado sobre la linea o no \n",
    "    ...\n",
    "    \n",
    "    Argumentos\n",
    "    ---------\n",
    "    linea     : shapely.geometry.linestring.LineString\n",
    "    \n",
    "    proyectado: True or False\n",
    "            \n",
    "    Devuelve\n",
    "    -------\n",
    "    centroide: shapely.geometry.point.Point\n",
    "                Centroide de la linea\n",
    "    \"\"\"\n",
    "    # tomar el primer y el ultimo punto de la linea\n",
    "    \n",
    "    # obtener un promedio de la coordenada en x\n",
    "    # obtener un promedio de la coordenada en y\n",
    "\n",
    "\n",
    "    #crear un punto utilizando las coordenadas promedio en x y y\n",
    "    \n",
    "    #si el parametro proyectado es verdadero\n",
    "    if proyectado:\n",
    "        #devolver el punt proyectado sobre la linea\n",
    "        return \n",
    "    else:\n",
    "        #caso contrario devolver el punto original \n",
    "        return \n",
    "    "
   ]
  },
  {
   "cell_type": "code",
   "execution_count": 32,
   "metadata": {
    "collapsed": true
   },
   "outputs": [],
   "source": [
    "punto = centroide_linea(linea, proyectado = False)\n",
    "punto_proj = centroide_linea(linea, proyectado = True)"
   ]
  },
  {
   "cell_type": "code",
   "execution_count": 33,
   "metadata": {},
   "outputs": [
    {
     "data": {
      "text/plain": [
       "[<matplotlib.lines.Line2D at 0x1e4463827b8>]"
      ]
     },
     "execution_count": 33,
     "metadata": {},
     "output_type": "execute_result"
    },
    {
     "data": {
      "image/png": "[encoded data removed]",
      "text/plain": [
       "<matplotlib.figure.Figure at 0x1e445e3ed68>"
      ]
     },
     "metadata": {},
     "output_type": "display_data"
    }
   ],
   "source": [
    "f, ax = plt.subplots(1)\n",
    "ax.plot(linea.xy[0],linea.xy[1])\n",
    "ax.plot(punto.xy[0],punto.xy[1],'ro')\n",
    "ax.plot(punto_proj.xy[0],punto_proj.xy[1],'go')"
   ]
  },
  {
   "cell_type": "code",
   "execution_count": 28,
   "metadata": {},
   "outputs": [
    {
     "data": {
      "image/svg+xml": [
       "<svg xmlns=\"http://www.w3.org/2000/svg\" xmlns:xlink=\"http://www.w3.org/1999/xlink\" width=\"100.0\" height=\"100.0\" viewBox=\"0.0 2.0 2.0 2.0\" preserveAspectRatio=\"xMinYMin meet\"><g transform=\"matrix(1,0,0,-1,0,6.0)\"><circle cx=\"1.0\" cy=\"3.0\" r=\"0.06\" stroke=\"#555555\" stroke-width=\"0.02\" fill=\"#66cc99\" opacity=\"0.6\" /></g></svg>"
      ],
      "text/plain": [
       "<shapely.geometry.point.Point at 0x1e445e34550>"
      ]
     },
     "execution_count": 28,
     "metadata": {},
     "output_type": "execute_result"
    }
   ],
   "source": []
  },
  {
   "cell_type": "code",
   "execution_count": null,
   "metadata": {
    "collapsed": true
   },
   "outputs": [],
   "source": []
  }
 ],
 "metadata": {
  "kernelspec": {
   "display_name": "Python 3",
   "language": "python",
   "name": "python3"
  },
  "language_info": {
   "codemirror_mode": {
    "name": "ipython",
    "version": 3
   },
   "file_extension": ".py",
   "mimetype": "text/x-python",
   "name": "python",
   "nbconvert_exporter": "python",
   "pygments_lexer": "ipython3",
   "version": "3.6.3"
  }
 },
 "nbformat": 4,
 "nbformat_minor": 2
}
