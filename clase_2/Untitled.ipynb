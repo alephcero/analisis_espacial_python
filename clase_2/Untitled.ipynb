{
 "cells": [
  {
   "cell_type": "code",
   "execution_count": 4,
   "metadata": {},
   "outputs": [],
   "source": [
    "import geopandas as gpd\n",
    "import matplotlib.pyplot as plt\n",
    "%matplotlib inline"
   ]
  },
  {
   "cell_type": "code",
   "execution_count": 2,
   "metadata": {},
   "outputs": [
    {
     "data": {
      "text/html": [
       "<div>\n",
       "<style scoped>\n",
       "    .dataframe tbody tr th:only-of-type {\n",
       "        vertical-align: middle;\n",
       "    }\n",
       "\n",
       "    .dataframe tbody tr th {\n",
       "        vertical-align: top;\n",
       "    }\n",
       "\n",
       "    .dataframe thead th {\n",
       "        text-align: right;\n",
       "    }\n",
       "</style>\n",
       "<table border=\"1\" class=\"dataframe\">\n",
       "  <thead>\n",
       "    <tr style=\"text-align: right;\">\n",
       "      <th></th>\n",
       "      <th>BARRIOS</th>\n",
       "      <th>PERIMETRO</th>\n",
       "      <th>AREA</th>\n",
       "      <th>COMUNAS</th>\n",
       "      <th>geometry</th>\n",
       "    </tr>\n",
       "  </thead>\n",
       "  <tbody>\n",
       "    <tr>\n",
       "      <th>0</th>\n",
       "      <td>RECOLETA</td>\n",
       "      <td>21246.611702</td>\n",
       "      <td>6.140873e+06</td>\n",
       "      <td>2</td>\n",
       "      <td>POLYGON ((106248.322300001 106329.9266999988, ...</td>\n",
       "    </tr>\n",
       "    <tr>\n",
       "      <th>1</th>\n",
       "      <td>ALMAGRO - BOEDO</td>\n",
       "      <td>12323.465538</td>\n",
       "      <td>6.660526e+06</td>\n",
       "      <td>5</td>\n",
       "      <td>POLYGON ((104625.1425999999 101679.9345000004,...</td>\n",
       "    </tr>\n",
       "    <tr>\n",
       "      <th>2</th>\n",
       "      <td>CABALLITO</td>\n",
       "      <td>10990.964471</td>\n",
       "      <td>6.851029e+06</td>\n",
       "      <td>6</td>\n",
       "      <td>POLYGON ((102998.7598000001 102464.8016999997,...</td>\n",
       "    </tr>\n",
       "    <tr>\n",
       "      <th>3</th>\n",
       "      <td>FLORES - PARQUE CHACABUCO</td>\n",
       "      <td>17972.257870</td>\n",
       "      <td>1.242290e+07</td>\n",
       "      <td>7</td>\n",
       "      <td>POLYGON ((101036.6036 99947.2078999998, 101075...</td>\n",
       "    </tr>\n",
       "    <tr>\n",
       "      <th>4</th>\n",
       "      <td>LINIERS - MATADEROS - PARQUE AVELLANEDA</td>\n",
       "      <td>21411.738344</td>\n",
       "      <td>1.650531e+07</td>\n",
       "      <td>9</td>\n",
       "      <td>POLYGON ((94869.34580000024 99583.6453999998, ...</td>\n",
       "    </tr>\n",
       "    <tr>\n",
       "      <th>5</th>\n",
       "      <td>FLORESTA - MONTE CASTRO - VELEZ SARSFIELD - VE...</td>\n",
       "      <td>18332.037457</td>\n",
       "      <td>1.265656e+07</td>\n",
       "      <td>10</td>\n",
       "      <td>POLYGON ((97703.85360000003 101010.2703999998,...</td>\n",
       "    </tr>\n",
       "    <tr>\n",
       "      <th>6</th>\n",
       "      <td>VILLA DEL PARQUE - VILLA  DEVOTO - VILLA GRAL....</td>\n",
       "      <td>19987.696155</td>\n",
       "      <td>1.412004e+07</td>\n",
       "      <td>11</td>\n",
       "      <td>POLYGON ((96781.48639999982 103649.3954999996,...</td>\n",
       "    </tr>\n",
       "    <tr>\n",
       "      <th>7</th>\n",
       "      <td>COGHLAN - SAAVEDRA - VILLA PUEYRREDON - VILLA ...</td>\n",
       "      <td>17232.189372</td>\n",
       "      <td>1.557093e+07</td>\n",
       "      <td>12</td>\n",
       "      <td>POLYGON ((96329.44730000012 103927.8329999996,...</td>\n",
       "    </tr>\n",
       "    <tr>\n",
       "      <th>8</th>\n",
       "      <td>PALERMO</td>\n",
       "      <td>21768.074886</td>\n",
       "      <td>1.577250e+07</td>\n",
       "      <td>14</td>\n",
       "      <td>POLYGON ((103353.7442000015 108568.6220000023,...</td>\n",
       "    </tr>\n",
       "    <tr>\n",
       "      <th>9</th>\n",
       "      <td>BALVANERA - SAN CRISTOBAL</td>\n",
       "      <td>10486.260809</td>\n",
       "      <td>6.385991e+06</td>\n",
       "      <td>3</td>\n",
       "      <td>POLYGON ((104713.2833000012 103467.3798000012,...</td>\n",
       "    </tr>\n",
       "    <tr>\n",
       "      <th>10</th>\n",
       "      <td>AGRONOMIA - CHACARITA -  PARQUE CHAS -  PATERN...</td>\n",
       "      <td>17832.585580</td>\n",
       "      <td>1.432290e+07</td>\n",
       "      <td>15</td>\n",
       "      <td>POLYGON ((103419.4316999996 103622.0281999996,...</td>\n",
       "    </tr>\n",
       "    <tr>\n",
       "      <th>11</th>\n",
       "      <td>VILLA LUGANO - VILLA RIACHUELO - VILLA SOLDATI</td>\n",
       "      <td>21028.314565</td>\n",
       "      <td>2.219261e+07</td>\n",
       "      <td>8</td>\n",
       "      <td>POLYGON ((101298.8284 97570.93369999994, 10132...</td>\n",
       "    </tr>\n",
       "    <tr>\n",
       "      <th>12</th>\n",
       "      <td>BARRACAS - BOCA - NUEVA POMPEYA - PARQUE PATRI...</td>\n",
       "      <td>36277.444201</td>\n",
       "      <td>2.170124e+07</td>\n",
       "      <td>4</td>\n",
       "      <td>POLYGON ((109913.6599999998 101086.258100002, ...</td>\n",
       "    </tr>\n",
       "    <tr>\n",
       "      <th>13</th>\n",
       "      <td>CONSTITUCION - MONSERRAT - PUERTO MADERO -  RE...</td>\n",
       "      <td>35572.653074</td>\n",
       "      <td>1.780281e+07</td>\n",
       "      <td>1</td>\n",
       "      <td>(POLYGON ((108694.993900001 106166.0751, 10869...</td>\n",
       "    </tr>\n",
       "    <tr>\n",
       "      <th>14</th>\n",
       "      <td>BELGRANO - COLEGIALES - NUÑEZ</td>\n",
       "      <td>26967.426465</td>\n",
       "      <td>1.457181e+07</td>\n",
       "      <td>13</td>\n",
       "      <td>POLYGON ((100611.9961000001 111283.1583000002,...</td>\n",
       "    </tr>\n",
       "  </tbody>\n",
       "</table>\n",
       "</div>"
      ],
      "text/plain": [
       "                                              BARRIOS     PERIMETRO  \\\n",
       "0                                            RECOLETA  21246.611702   \n",
       "1                                     ALMAGRO - BOEDO  12323.465538   \n",
       "2                                           CABALLITO  10990.964471   \n",
       "3                           FLORES - PARQUE CHACABUCO  17972.257870   \n",
       "4             LINIERS - MATADEROS - PARQUE AVELLANEDA  21411.738344   \n",
       "5   FLORESTA - MONTE CASTRO - VELEZ SARSFIELD - VE...  18332.037457   \n",
       "6   VILLA DEL PARQUE - VILLA  DEVOTO - VILLA GRAL....  19987.696155   \n",
       "7   COGHLAN - SAAVEDRA - VILLA PUEYRREDON - VILLA ...  17232.189372   \n",
       "8                                             PALERMO  21768.074886   \n",
       "9                           BALVANERA - SAN CRISTOBAL  10486.260809   \n",
       "10  AGRONOMIA - CHACARITA -  PARQUE CHAS -  PATERN...  17832.585580   \n",
       "11     VILLA LUGANO - VILLA RIACHUELO - VILLA SOLDATI  21028.314565   \n",
       "12  BARRACAS - BOCA - NUEVA POMPEYA - PARQUE PATRI...  36277.444201   \n",
       "13  CONSTITUCION - MONSERRAT - PUERTO MADERO -  RE...  35572.653074   \n",
       "14                      BELGRANO - COLEGIALES - NUÑEZ  26967.426465   \n",
       "\n",
       "            AREA  COMUNAS                                           geometry  \n",
       "0   6.140873e+06        2  POLYGON ((106248.322300001 106329.9266999988, ...  \n",
       "1   6.660526e+06        5  POLYGON ((104625.1425999999 101679.9345000004,...  \n",
       "2   6.851029e+06        6  POLYGON ((102998.7598000001 102464.8016999997,...  \n",
       "3   1.242290e+07        7  POLYGON ((101036.6036 99947.2078999998, 101075...  \n",
       "4   1.650531e+07        9  POLYGON ((94869.34580000024 99583.6453999998, ...  \n",
       "5   1.265656e+07       10  POLYGON ((97703.85360000003 101010.2703999998,...  \n",
       "6   1.412004e+07       11  POLYGON ((96781.48639999982 103649.3954999996,...  \n",
       "7   1.557093e+07       12  POLYGON ((96329.44730000012 103927.8329999996,...  \n",
       "8   1.577250e+07       14  POLYGON ((103353.7442000015 108568.6220000023,...  \n",
       "9   6.385991e+06        3  POLYGON ((104713.2833000012 103467.3798000012,...  \n",
       "10  1.432290e+07       15  POLYGON ((103419.4316999996 103622.0281999996,...  \n",
       "11  2.219261e+07        8  POLYGON ((101298.8284 97570.93369999994, 10132...  \n",
       "12  2.170124e+07        4  POLYGON ((109913.6599999998 101086.258100002, ...  \n",
       "13  1.780281e+07        1  (POLYGON ((108694.993900001 106166.0751, 10869...  \n",
       "14  1.457181e+07       13  POLYGON ((100611.9961000001 111283.1583000002,...  "
      ]
     },
     "execution_count": 2,
     "metadata": {},
     "output_type": "execute_result"
    }
   ],
   "source": [
    "dt = gpd.read_file('../carto/comunas.shp')\n",
    "dt"
   ]
  },
  {
   "cell_type": "code",
   "execution_count": 5,
   "metadata": {},
   "outputs": [
    {
     "data": {
      "text/plain": [
       "<matplotlib.axes._subplots.AxesSubplot at 0x7f47ae2a0438>"
      ]
     },
     "execution_count": 5,
     "metadata": {},
     "output_type": "execute_result"
    },
    {
     "data": {
      "image/png": "[encoded data removed]",
      "text/plain": [
       "<Figure size 432x288 with 1 Axes>"
      ]
     },
     "metadata": {
      "needs_background": "light"
     },
     "output_type": "display_data"
    }
   ],
   "source": [
    "dt.plot(column='COMUNAS')"
   ]
  },
  {
   "cell_type": "code",
   "execution_count": 6,
   "metadata": {},
   "outputs": [
    {
     "data": {
      "text/plain": [
       "<matplotlib.axes._subplots.AxesSubplot at 0x7f47ae20fa90>"
      ]
     },
     "execution_count": 6,
     "metadata": {},
     "output_type": "execute_result"
    },
    {
     "data": {
      "image/png": "[encoded data removed]",
      "text/plain": [
       "<Figure size 432x288 with 1 Axes>"
      ]
     },
     "metadata": {
      "needs_background": "light"
     },
     "output_type": "display_data"
    }
   ],
   "source": [
    "dt.plot(column='BARRIOS')"
   ]
  },
  {
   "cell_type": "code",
   "execution_count": null,
   "metadata": {},
   "outputs": [],
   "source": []
  }
 ],
 "metadata": {
  "kernelspec": {
   "display_name": "Python 3",
   "language": "python",
   "name": "python3"
  },
  "language_info": {
   "codemirror_mode": {
    "name": "ipython",
    "version": 3
   },
   "file_extension": ".py",
   "mimetype": "text/x-python",
   "name": "python",
   "nbconvert_exporter": "python",
   "pygments_lexer": "ipython3",
   "version": "3.7.0"
  }
 },
 "nbformat": 4,
 "nbformat_minor": 2
}
