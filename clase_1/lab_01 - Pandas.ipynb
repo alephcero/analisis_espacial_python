{
 "cells": [
  {
   "cell_type": "markdown",
   "metadata": {},
   "source": [
    "# Práctico 1 \n",
    "Los conjuntos de datos del mundo real son desordenados. No hay forma de evitarlo: los conjuntos de datos tienen datos faltantes, su formato no es el que deseamos (la cantidad de formatos en los que se pueden almacenar datos es infinita) y la mejor estructura para compartir datos no siempre es la óptima para analizarlos, de ahí la necesidad de limpiarlos, ordenarlos, parsearlos, o de acuerdo al término en ingles: [munge](http://dictionary.reference.com/browse/munge). Como se ha señalado correctamente en muchos puntos de venta ([por ej](http://www.nytimes.com/2014/08/18/technology/for-big-data-scientists-hurdle-to-insights-is-janitor- work.html? _r = 0)), la mayor parte del tiempo [gastado](https://twitter.com/BigDataBorat/status/306596352991830016) en lo que se llama (Geo) Ciencia de Datos está relacionado no solo con el modelado sofisticado y perspicaz, pero tiene que ver con tareas mucho más básicas y menos exóticas, como obtener datos, procesarlos, convertirlos en una forma que haga posible el análisis y explorarlos para conocer sus propiedades básicas.\n",
    "\n",
    "Por lo intensivo y relevante que es este aspecto, sorprendentemente se ha publicado muy poco sobre patrones, técnicas y mejores prácticas para una limpieza, manipulación y transformación de datos rápida y eficiente. En esta clase, usaremos algunos conjuntos de datos del mundo real y aprenderemos cómo procesarlos en Python para que puedan ser transformados y analizados. Para esto, presentaremos parte de lo fundamental del análisis de datos y la computación científica en Python. Estas son herramientas fundamentales que se utilizan constantemente en casi cualquier tarea relacionada con el análisis de datos.\n",
    "\n",
    "Este *notebook* cubre lo básico y el contenido que se espera que sea aprendido por cada estudiante. Usamos un conjunto de datos preparado que nos ahorra gran parte del procesamiento más complejo que va más allá del nivel introductorio al que se dirige la clase. \n",
    "\n",
    "En este cuaderno, discutimos varios patrones para limpiar y estructurar los datos de manera adecuada, que incluyen ordenar, subconjuntos y agregar; y terminamos con una visualización básica. \n",
    "\n",
    "Antes de tener nuestras manos sucias de datos, permítanos importar todas las librerias adicionales que vamos a necesitar."
   ]
  },
  {
   "cell_type": "code",
   "execution_count": 1,
   "metadata": {},
   "outputs": [],
   "source": [
    "#sumar grupy by lmabda primer elmento"
   ]
  },
  {
   "cell_type": "code",
   "execution_count": 2,
   "metadata": {},
   "outputs": [],
   "source": [
    "import pandas as pd    # Pandas es la libreria de manipulacion de datos tabulares por excelencia\n",
    "import IPython.display as display\n",
    "import numpy as np"
   ]
  },
  {
   "cell_type": "markdown",
   "metadata": {},
   "source": [
    "La libreria principal para trabajar tablas de datos como las que estamos acostumbrados/as se llama **Pandas**. "
   ]
  },
  {
   "cell_type": "markdown",
   "metadata": {},
   "source": [
    "# Dataframes de Pandas\n",
    "\n",
    "\n",
    "Vamos a usar la data de molinetes del subte. Se puede descargar del [portal de datos abiertos del Gobierno de la Ciudad](https://data.buenosaires.gob.ar/dataset/subte-viajes-molinetes)\n"
   ]
  },
  {
   "cell_type": "code",
   "execution_count": 3,
   "metadata": {},
   "outputs": [
    {
     "data": {
      "text/html": [
       "<div>\n",
       "<style scoped>\n",
       "    .dataframe tbody tr th:only-of-type {\n",
       "        vertical-align: middle;\n",
       "    }\n",
       "\n",
       "    .dataframe tbody tr th {\n",
       "        vertical-align: top;\n",
       "    }\n",
       "\n",
       "    .dataframe thead th {\n",
       "        text-align: right;\n",
       "    }\n",
       "</style>\n",
       "<table border=\"1\" class=\"dataframe\">\n",
       "  <thead>\n",
       "    <tr style=\"text-align: right;\">\n",
       "      <th></th>\n",
       "      <th>PERIODO</th>\n",
       "      <th>FECHA</th>\n",
       "      <th>DESDE</th>\n",
       "      <th>HASTA</th>\n",
       "      <th>LINEA</th>\n",
       "      <th>MOLINETE</th>\n",
       "      <th>ESTACION</th>\n",
       "      <th>PAX_PAGOS</th>\n",
       "      <th>PAX_PASES_PAGOS</th>\n",
       "      <th>PAX_FRANQ</th>\n",
       "      <th>TOTAL</th>\n",
       "      <th>ID</th>\n",
       "    </tr>\n",
       "  </thead>\n",
       "  <tbody>\n",
       "    <tr>\n",
       "      <th>0</th>\n",
       "      <td>201801</td>\n",
       "      <td>01/01/2018</td>\n",
       "      <td>08:00:00</td>\n",
       "      <td>08:15:00</td>\n",
       "      <td>LINEA_A</td>\n",
       "      <td>LINEA_A_CBARROS_S_TURN01</td>\n",
       "      <td>CASTRO BARROS</td>\n",
       "      <td>1</td>\n",
       "      <td>0</td>\n",
       "      <td>0</td>\n",
       "      <td>1</td>\n",
       "      <td>40</td>\n",
       "    </tr>\n",
       "    <tr>\n",
       "      <th>1</th>\n",
       "      <td>201801</td>\n",
       "      <td>01/01/2018</td>\n",
       "      <td>08:00:00</td>\n",
       "      <td>08:15:00</td>\n",
       "      <td>LINEA_A</td>\n",
       "      <td>LINEA_A_LIMA_S_TURN03</td>\n",
       "      <td>LIMA</td>\n",
       "      <td>4</td>\n",
       "      <td>0</td>\n",
       "      <td>0</td>\n",
       "      <td>4</td>\n",
       "      <td>33</td>\n",
       "    </tr>\n",
       "    <tr>\n",
       "      <th>2</th>\n",
       "      <td>201801</td>\n",
       "      <td>01/01/2018</td>\n",
       "      <td>08:00:00</td>\n",
       "      <td>08:15:00</td>\n",
       "      <td>LINEA_A</td>\n",
       "      <td>LINEA_A_PASCO_TURN01</td>\n",
       "      <td>PASCO</td>\n",
       "      <td>1</td>\n",
       "      <td>0</td>\n",
       "      <td>0</td>\n",
       "      <td>1</td>\n",
       "      <td>36</td>\n",
       "    </tr>\n",
       "    <tr>\n",
       "      <th>3</th>\n",
       "      <td>201801</td>\n",
       "      <td>01/01/2018</td>\n",
       "      <td>08:00:00</td>\n",
       "      <td>08:15:00</td>\n",
       "      <td>LINEA_A</td>\n",
       "      <td>LINEA_A_PERU_S_TURN01</td>\n",
       "      <td>PERU</td>\n",
       "      <td>4</td>\n",
       "      <td>0</td>\n",
       "      <td>0</td>\n",
       "      <td>4</td>\n",
       "      <td>31</td>\n",
       "    </tr>\n",
       "    <tr>\n",
       "      <th>4</th>\n",
       "      <td>201801</td>\n",
       "      <td>01/01/2018</td>\n",
       "      <td>08:00:00</td>\n",
       "      <td>08:15:00</td>\n",
       "      <td>LINEA_A</td>\n",
       "      <td>LINEA_A_PJUNTA_S_TURN02</td>\n",
       "      <td>PRIMERA JUNTA</td>\n",
       "      <td>2</td>\n",
       "      <td>0</td>\n",
       "      <td>0</td>\n",
       "      <td>2</td>\n",
       "      <td>43</td>\n",
       "    </tr>\n",
       "  </tbody>\n",
       "</table>\n",
       "</div>"
      ],
      "text/plain": [
       "   PERIODO       FECHA     DESDE     HASTA    LINEA                  MOLINETE  \\\n",
       "0   201801  01/01/2018  08:00:00  08:15:00  LINEA_A  LINEA_A_CBARROS_S_TURN01   \n",
       "1   201801  01/01/2018  08:00:00  08:15:00  LINEA_A     LINEA_A_LIMA_S_TURN03   \n",
       "2   201801  01/01/2018  08:00:00  08:15:00  LINEA_A      LINEA_A_PASCO_TURN01   \n",
       "3   201801  01/01/2018  08:00:00  08:15:00  LINEA_A     LINEA_A_PERU_S_TURN01   \n",
       "4   201801  01/01/2018  08:00:00  08:15:00  LINEA_A   LINEA_A_PJUNTA_S_TURN02   \n",
       "\n",
       "        ESTACION  PAX_PAGOS  PAX_PASES_PAGOS  PAX_FRANQ  TOTAL  ID  \n",
       "0  CASTRO BARROS          1                0          0      1  40  \n",
       "1           LIMA          4                0          0      4  33  \n",
       "2          PASCO          1                0          0      1  36  \n",
       "3           PERU          4                0          0      4  31  \n",
       "4  PRIMERA JUNTA          2                0          0      2  43  "
      ]
     },
     "execution_count": 3,
     "metadata": {},
     "output_type": "execute_result"
    }
   ],
   "source": [
    "db = pd.read_csv('../data/molinetes_historico_2018.csv',sep=';')\n",
    "db.head()"
   ]
  },
  {
   "cell_type": "code",
   "execution_count": 4,
   "metadata": {},
   "outputs": [],
   "source": [
    "pd.read_csv?"
   ]
  },
  {
   "cell_type": "code",
   "execution_count": 5,
   "metadata": {},
   "outputs": [
    {
     "data": {
      "text/plain": [
       "(1947641, 12)"
      ]
     },
     "execution_count": 5,
     "metadata": {},
     "output_type": "execute_result"
    }
   ],
   "source": [
    "db.shape"
   ]
  },
  {
   "cell_type": "markdown",
   "metadata": {},
   "source": [
    "Finalmente luego de tanto encerar y pulir, de listas, strings, etc. podemos dedicarnos a un objeto que nos resulta realmente útil para nuestra práctica cotidiana: una tabla de datos o *data frame*"
   ]
  },
  {
   "cell_type": "code",
   "execution_count": 6,
   "metadata": {},
   "outputs": [
    {
     "data": {
      "image/jpeg": "[encoded data removed]",
      "text/html": [
       "\n",
       "        <iframe\n",
       "            width=\"400\"\n",
       "            height=\"300\"\n",
       "            src=\"https://www.youtube.com/embed/fULNUr0rvEc\"\n",
       "            frameborder=\"0\"\n",
       "            allowfullscreen\n",
       "        ></iframe>\n",
       "        "
      ],
      "text/plain": [
       "<IPython.lib.display.YouTubeVideo at 0x7fce77ed63c8>"
      ]
     },
     "execution_count": 6,
     "metadata": {},
     "output_type": "execute_result"
    }
   ],
   "source": [
    "display.YouTubeVideo('fULNUr0rvEc')"
   ]
  },
  {
   "cell_type": "markdown",
   "metadata": {},
   "source": [
    "Detengámonos un momento para saber cómo hemos leído el archivo. Estos son los aspectos principales a tener en cuenta:\n",
    "\n",
    "* Estamos utilizando el método `read_csv` de la biblioteca `pandas`, que hemos importado con el alias `pd`.\n",
    "* En esta forma simple, todo lo que se requiere es pasar la ruta al archivo que queremos leer, y en nuestro caso el separador que no es la coma tradicional, sino el punto y coma. Esto se debe a que nuestro separador decimal es la coma, mientras que el separador de miles es el punto. Por eso, en los portales de datos no anglosajones, se tiene a utilizar ese separador. Si no separaría, por ejemplo, el campo latitud con valor -58,89 en dos campos -58 y 89.\n",
    "* Tiene *muchísimos* más parámetros que serán de mucha utilidad más adelante\n",
    "\n",
    "Inspeccionamos el objeto y vemos a qué tipo pertenece"
   ]
  },
  {
   "cell_type": "code",
   "execution_count": 7,
   "metadata": {},
   "outputs": [
    {
     "data": {
      "text/html": [
       "<div>\n",
       "<style scoped>\n",
       "    .dataframe tbody tr th:only-of-type {\n",
       "        vertical-align: middle;\n",
       "    }\n",
       "\n",
       "    .dataframe tbody tr th {\n",
       "        vertical-align: top;\n",
       "    }\n",
       "\n",
       "    .dataframe thead th {\n",
       "        text-align: right;\n",
       "    }\n",
       "</style>\n",
       "<table border=\"1\" class=\"dataframe\">\n",
       "  <thead>\n",
       "    <tr style=\"text-align: right;\">\n",
       "      <th></th>\n",
       "      <th>nombre</th>\n",
       "      <th>edad</th>\n",
       "    </tr>\n",
       "  </thead>\n",
       "  <tbody>\n",
       "    <tr>\n",
       "      <th>0</th>\n",
       "      <td>Felipe</td>\n",
       "      <td>34</td>\n",
       "    </tr>\n",
       "    <tr>\n",
       "      <th>1</th>\n",
       "      <td>Juana</td>\n",
       "      <td>56</td>\n",
       "    </tr>\n",
       "    <tr>\n",
       "      <th>2</th>\n",
       "      <td>Diego</td>\n",
       "      <td>9</td>\n",
       "    </tr>\n",
       "  </tbody>\n",
       "</table>\n",
       "</div>"
      ],
      "text/plain": [
       "   nombre  edad\n",
       "0  Felipe    34\n",
       "1   Juana    56\n",
       "2   Diego     9"
      ]
     },
     "execution_count": 7,
     "metadata": {},
     "output_type": "execute_result"
    }
   ],
   "source": [
    "#tambien se puede crear un data frame desde cero, utilizando diccionarios y listas de Python\n",
    "nueva = pd.DataFrame({'nombre':['Felipe','Juana','Diego'],\n",
    "                      'edad':[34,56,9]\n",
    "})\n",
    "nueva"
   ]
  },
  {
   "cell_type": "markdown",
   "metadata": {},
   "source": [
    "## 1 Primer resumen de nuestra tabla"
   ]
  },
  {
   "cell_type": "code",
   "execution_count": 8,
   "metadata": {},
   "outputs": [
    {
     "data": {
      "text/plain": [
       "pandas.core.frame.DataFrame"
      ]
     },
     "execution_count": 8,
     "metadata": {},
     "output_type": "execute_result"
    }
   ],
   "source": [
    "#vemos que es un objeto dataframe. Más adelante veremos sus propiedades\n",
    "type(db)"
   ]
  },
  {
   "cell_type": "code",
   "execution_count": 9,
   "metadata": {},
   "outputs": [
    {
     "name": "stdout",
     "output_type": "stream",
     "text": [
      "<class 'pandas.core.frame.DataFrame'>\n",
      "RangeIndex: 1947641 entries, 0 to 1947640\n",
      "Data columns (total 12 columns):\n",
      "PERIODO            int64\n",
      "FECHA              object\n",
      "DESDE              object\n",
      "HASTA              object\n",
      "LINEA              object\n",
      "MOLINETE           object\n",
      "ESTACION           object\n",
      "PAX_PAGOS          int64\n",
      "PAX_PASES_PAGOS    int64\n",
      "PAX_FRANQ          int64\n",
      "TOTAL              int64\n",
      "ID                 int64\n",
      "dtypes: int64(6), object(6)\n",
      "memory usage: 178.3+ MB\n"
     ]
    }
   ],
   "source": [
    "#vemos información básica como las columnas, que tipo de datos almacenan, cuantas filas, cuanta memoria ocupa, etc\n",
    "db.info()"
   ]
  },
  {
   "cell_type": "code",
   "execution_count": 10,
   "metadata": {},
   "outputs": [
    {
     "data": {
      "text/plain": [
       "(1947641, 12)"
      ]
     },
     "execution_count": 10,
     "metadata": {},
     "output_type": "execute_result"
    }
   ],
   "source": [
    "#podemos ver las dimensiones expresadas en (filas,columnas)\n",
    "db.shape"
   ]
  },
  {
   "cell_type": "code",
   "execution_count": 11,
   "metadata": {},
   "outputs": [
    {
     "data": {
      "text/plain": [
       "1947641"
      ]
     },
     "execution_count": 11,
     "metadata": {},
     "output_type": "execute_result"
    }
   ],
   "source": [
    "#podemos obtener la cantidad de registros solamente\n",
    "db.shape[0]"
   ]
  },
  {
   "cell_type": "code",
   "execution_count": 12,
   "metadata": {},
   "outputs": [
    {
     "data": {
      "text/plain": [
       "1947641"
      ]
     },
     "execution_count": 12,
     "metadata": {},
     "output_type": "execute_result"
    }
   ],
   "source": [
    "#o de otro modo\n",
    "len(db)"
   ]
  },
  {
   "cell_type": "markdown",
   "metadata": {},
   "source": [
    "* Resumen de los valores de la tabla"
   ]
  },
  {
   "cell_type": "code",
   "execution_count": 13,
   "metadata": {},
   "outputs": [
    {
     "data": {
      "text/html": [
       "<div>\n",
       "<style scoped>\n",
       "    .dataframe tbody tr th:only-of-type {\n",
       "        vertical-align: middle;\n",
       "    }\n",
       "\n",
       "    .dataframe tbody tr th {\n",
       "        vertical-align: top;\n",
       "    }\n",
       "\n",
       "    .dataframe thead th {\n",
       "        text-align: right;\n",
       "    }\n",
       "</style>\n",
       "<table border=\"1\" class=\"dataframe\">\n",
       "  <thead>\n",
       "    <tr style=\"text-align: right;\">\n",
       "      <th></th>\n",
       "      <th>PERIODO</th>\n",
       "      <th>PAX_PAGOS</th>\n",
       "      <th>PAX_PASES_PAGOS</th>\n",
       "      <th>PAX_FRANQ</th>\n",
       "      <th>TOTAL</th>\n",
       "      <th>ID</th>\n",
       "    </tr>\n",
       "  </thead>\n",
       "  <tbody>\n",
       "    <tr>\n",
       "      <th>count</th>\n",
       "      <td>1.947641e+06</td>\n",
       "      <td>1.947641e+06</td>\n",
       "      <td>1.947641e+06</td>\n",
       "      <td>1.947641e+06</td>\n",
       "      <td>1.947641e+06</td>\n",
       "      <td>1.947641e+06</td>\n",
       "    </tr>\n",
       "    <tr>\n",
       "      <th>mean</th>\n",
       "      <td>2.018015e+05</td>\n",
       "      <td>2.284090e+01</td>\n",
       "      <td>1.503819e-02</td>\n",
       "      <td>6.732031e-01</td>\n",
       "      <td>2.352914e+01</td>\n",
       "      <td>4.439516e+01</td>\n",
       "    </tr>\n",
       "    <tr>\n",
       "      <th>std</th>\n",
       "      <td>4.992969e-01</td>\n",
       "      <td>2.559934e+01</td>\n",
       "      <td>1.253787e-01</td>\n",
       "      <td>1.201028e+00</td>\n",
       "      <td>2.596725e+01</td>\n",
       "      <td>2.546339e+01</td>\n",
       "    </tr>\n",
       "    <tr>\n",
       "      <th>min</th>\n",
       "      <td>2.018010e+05</td>\n",
       "      <td>0.000000e+00</td>\n",
       "      <td>0.000000e+00</td>\n",
       "      <td>0.000000e+00</td>\n",
       "      <td>0.000000e+00</td>\n",
       "      <td>1.000000e+00</td>\n",
       "    </tr>\n",
       "    <tr>\n",
       "      <th>25%</th>\n",
       "      <td>2.018010e+05</td>\n",
       "      <td>5.000000e+00</td>\n",
       "      <td>0.000000e+00</td>\n",
       "      <td>0.000000e+00</td>\n",
       "      <td>6.000000e+00</td>\n",
       "      <td>2.100000e+01</td>\n",
       "    </tr>\n",
       "    <tr>\n",
       "      <th>50%</th>\n",
       "      <td>2.018010e+05</td>\n",
       "      <td>1.500000e+01</td>\n",
       "      <td>0.000000e+00</td>\n",
       "      <td>0.000000e+00</td>\n",
       "      <td>1.500000e+01</td>\n",
       "      <td>4.200000e+01</td>\n",
       "    </tr>\n",
       "    <tr>\n",
       "      <th>75%</th>\n",
       "      <td>2.018020e+05</td>\n",
       "      <td>3.100000e+01</td>\n",
       "      <td>0.000000e+00</td>\n",
       "      <td>1.000000e+00</td>\n",
       "      <td>3.200000e+01</td>\n",
       "      <td>6.900000e+01</td>\n",
       "    </tr>\n",
       "    <tr>\n",
       "      <th>max</th>\n",
       "      <td>2.018020e+05</td>\n",
       "      <td>3.700000e+02</td>\n",
       "      <td>3.000000e+00</td>\n",
       "      <td>3.600000e+01</td>\n",
       "      <td>3.700000e+02</td>\n",
       "      <td>8.600000e+01</td>\n",
       "    </tr>\n",
       "  </tbody>\n",
       "</table>\n",
       "</div>"
      ],
      "text/plain": [
       "            PERIODO     PAX_PAGOS  PAX_PASES_PAGOS     PAX_FRANQ  \\\n",
       "count  1.947641e+06  1.947641e+06     1.947641e+06  1.947641e+06   \n",
       "mean   2.018015e+05  2.284090e+01     1.503819e-02  6.732031e-01   \n",
       "std    4.992969e-01  2.559934e+01     1.253787e-01  1.201028e+00   \n",
       "min    2.018010e+05  0.000000e+00     0.000000e+00  0.000000e+00   \n",
       "25%    2.018010e+05  5.000000e+00     0.000000e+00  0.000000e+00   \n",
       "50%    2.018010e+05  1.500000e+01     0.000000e+00  0.000000e+00   \n",
       "75%    2.018020e+05  3.100000e+01     0.000000e+00  1.000000e+00   \n",
       "max    2.018020e+05  3.700000e+02     3.000000e+00  3.600000e+01   \n",
       "\n",
       "              TOTAL            ID  \n",
       "count  1.947641e+06  1.947641e+06  \n",
       "mean   2.352914e+01  4.439516e+01  \n",
       "std    2.596725e+01  2.546339e+01  \n",
       "min    0.000000e+00  1.000000e+00  \n",
       "25%    6.000000e+00  2.100000e+01  \n",
       "50%    1.500000e+01  4.200000e+01  \n",
       "75%    3.200000e+01  6.900000e+01  \n",
       "max    3.700000e+02  8.600000e+01  "
      ]
     },
     "execution_count": 13,
     "metadata": {},
     "output_type": "execute_result"
    }
   ],
   "source": [
    "db.describe()"
   ]
  },
  {
   "cell_type": "markdown",
   "metadata": {},
   "source": [
    "Tenga en cuenta que el resultado también es un objeto `DataFrame`, por lo que puede hacer con él las mismas cosas que haría con la tabla original (por ejemplo, escribirla en un archivo).\n",
    "\n",
    "En este caso, el resumen podría presentarse mejor si la tabla es \"transpuesta\":"
   ]
  },
  {
   "cell_type": "code",
   "execution_count": 14,
   "metadata": {},
   "outputs": [
    {
     "data": {
      "text/html": [
       "<div>\n",
       "<style scoped>\n",
       "    .dataframe tbody tr th:only-of-type {\n",
       "        vertical-align: middle;\n",
       "    }\n",
       "\n",
       "    .dataframe tbody tr th {\n",
       "        vertical-align: top;\n",
       "    }\n",
       "\n",
       "    .dataframe thead th {\n",
       "        text-align: right;\n",
       "    }\n",
       "</style>\n",
       "<table border=\"1\" class=\"dataframe\">\n",
       "  <thead>\n",
       "    <tr style=\"text-align: right;\">\n",
       "      <th></th>\n",
       "      <th>count</th>\n",
       "      <th>mean</th>\n",
       "      <th>std</th>\n",
       "      <th>min</th>\n",
       "      <th>25%</th>\n",
       "      <th>50%</th>\n",
       "      <th>75%</th>\n",
       "      <th>max</th>\n",
       "    </tr>\n",
       "  </thead>\n",
       "  <tbody>\n",
       "    <tr>\n",
       "      <th>PERIODO</th>\n",
       "      <td>1947641.0</td>\n",
       "      <td>201801.473491</td>\n",
       "      <td>0.499297</td>\n",
       "      <td>201801.0</td>\n",
       "      <td>201801.0</td>\n",
       "      <td>201801.0</td>\n",
       "      <td>201802.0</td>\n",
       "      <td>201802.0</td>\n",
       "    </tr>\n",
       "    <tr>\n",
       "      <th>PAX_PAGOS</th>\n",
       "      <td>1947641.0</td>\n",
       "      <td>22.840898</td>\n",
       "      <td>25.599343</td>\n",
       "      <td>0.0</td>\n",
       "      <td>5.0</td>\n",
       "      <td>15.0</td>\n",
       "      <td>31.0</td>\n",
       "      <td>370.0</td>\n",
       "    </tr>\n",
       "    <tr>\n",
       "      <th>PAX_PASES_PAGOS</th>\n",
       "      <td>1947641.0</td>\n",
       "      <td>0.015038</td>\n",
       "      <td>0.125379</td>\n",
       "      <td>0.0</td>\n",
       "      <td>0.0</td>\n",
       "      <td>0.0</td>\n",
       "      <td>0.0</td>\n",
       "      <td>3.0</td>\n",
       "    </tr>\n",
       "    <tr>\n",
       "      <th>PAX_FRANQ</th>\n",
       "      <td>1947641.0</td>\n",
       "      <td>0.673203</td>\n",
       "      <td>1.201028</td>\n",
       "      <td>0.0</td>\n",
       "      <td>0.0</td>\n",
       "      <td>0.0</td>\n",
       "      <td>1.0</td>\n",
       "      <td>36.0</td>\n",
       "    </tr>\n",
       "    <tr>\n",
       "      <th>TOTAL</th>\n",
       "      <td>1947641.0</td>\n",
       "      <td>23.529140</td>\n",
       "      <td>25.967254</td>\n",
       "      <td>0.0</td>\n",
       "      <td>6.0</td>\n",
       "      <td>15.0</td>\n",
       "      <td>32.0</td>\n",
       "      <td>370.0</td>\n",
       "    </tr>\n",
       "    <tr>\n",
       "      <th>ID</th>\n",
       "      <td>1947641.0</td>\n",
       "      <td>44.395155</td>\n",
       "      <td>25.463393</td>\n",
       "      <td>1.0</td>\n",
       "      <td>21.0</td>\n",
       "      <td>42.0</td>\n",
       "      <td>69.0</td>\n",
       "      <td>86.0</td>\n",
       "    </tr>\n",
       "  </tbody>\n",
       "</table>\n",
       "</div>"
      ],
      "text/plain": [
       "                     count           mean        std       min       25%  \\\n",
       "PERIODO          1947641.0  201801.473491   0.499297  201801.0  201801.0   \n",
       "PAX_PAGOS        1947641.0      22.840898  25.599343       0.0       5.0   \n",
       "PAX_PASES_PAGOS  1947641.0       0.015038   0.125379       0.0       0.0   \n",
       "PAX_FRANQ        1947641.0       0.673203   1.201028       0.0       0.0   \n",
       "TOTAL            1947641.0      23.529140  25.967254       0.0       6.0   \n",
       "ID               1947641.0      44.395155  25.463393       1.0      21.0   \n",
       "\n",
       "                      50%       75%       max  \n",
       "PERIODO          201801.0  201802.0  201802.0  \n",
       "PAX_PAGOS            15.0      31.0     370.0  \n",
       "PAX_PASES_PAGOS       0.0       0.0       3.0  \n",
       "PAX_FRANQ             0.0       1.0      36.0  \n",
       "TOTAL                15.0      32.0     370.0  \n",
       "ID                   42.0      69.0      86.0  "
      ]
     },
     "execution_count": 14,
     "metadata": {},
     "output_type": "execute_result"
    }
   ],
   "source": [
    "db.describe().T"
   ]
  },
  {
   "cell_type": "markdown",
   "metadata": {},
   "source": [
    "## 2 Seleccionar y filtrar datos\n",
    "\n",
    "¡Ahora estamos listos para comenzar a jugar e interrogar al conjunto de datos! Lo que tenemos a nuestro alcance es una tabla que  muestra la cantidad de transacciones por molinete de las lineas de subte de Buenos Aires cada 15 minutos. Veremos como seleccionar variables y casos, recortarla horizontal o verticalmente.\n",
    "\n",
    "* Inspeccionando cómo se ve. Podemos verificar las líneas X (superiores) de la tabla pasando X al método `head` (` tail`). Por ejemplo, para las cinco líneas superiores e inferiores:"
   ]
  },
  {
   "cell_type": "code",
   "execution_count": 15,
   "metadata": {},
   "outputs": [
    {
     "data": {
      "text/html": [
       "<div>\n",
       "<style scoped>\n",
       "    .dataframe tbody tr th:only-of-type {\n",
       "        vertical-align: middle;\n",
       "    }\n",
       "\n",
       "    .dataframe tbody tr th {\n",
       "        vertical-align: top;\n",
       "    }\n",
       "\n",
       "    .dataframe thead th {\n",
       "        text-align: right;\n",
       "    }\n",
       "</style>\n",
       "<table border=\"1\" class=\"dataframe\">\n",
       "  <thead>\n",
       "    <tr style=\"text-align: right;\">\n",
       "      <th></th>\n",
       "      <th>PERIODO</th>\n",
       "      <th>FECHA</th>\n",
       "      <th>DESDE</th>\n",
       "      <th>HASTA</th>\n",
       "      <th>LINEA</th>\n",
       "      <th>MOLINETE</th>\n",
       "      <th>ESTACION</th>\n",
       "      <th>PAX_PAGOS</th>\n",
       "      <th>PAX_PASES_PAGOS</th>\n",
       "      <th>PAX_FRANQ</th>\n",
       "      <th>TOTAL</th>\n",
       "      <th>ID</th>\n",
       "    </tr>\n",
       "  </thead>\n",
       "  <tbody>\n",
       "    <tr>\n",
       "      <th>0</th>\n",
       "      <td>201801</td>\n",
       "      <td>01/01/2018</td>\n",
       "      <td>08:00:00</td>\n",
       "      <td>08:15:00</td>\n",
       "      <td>LINEA_A</td>\n",
       "      <td>LINEA_A_CBARROS_S_TURN01</td>\n",
       "      <td>CASTRO BARROS</td>\n",
       "      <td>1</td>\n",
       "      <td>0</td>\n",
       "      <td>0</td>\n",
       "      <td>1</td>\n",
       "      <td>40</td>\n",
       "    </tr>\n",
       "    <tr>\n",
       "      <th>1</th>\n",
       "      <td>201801</td>\n",
       "      <td>01/01/2018</td>\n",
       "      <td>08:00:00</td>\n",
       "      <td>08:15:00</td>\n",
       "      <td>LINEA_A</td>\n",
       "      <td>LINEA_A_LIMA_S_TURN03</td>\n",
       "      <td>LIMA</td>\n",
       "      <td>4</td>\n",
       "      <td>0</td>\n",
       "      <td>0</td>\n",
       "      <td>4</td>\n",
       "      <td>33</td>\n",
       "    </tr>\n",
       "    <tr>\n",
       "      <th>2</th>\n",
       "      <td>201801</td>\n",
       "      <td>01/01/2018</td>\n",
       "      <td>08:00:00</td>\n",
       "      <td>08:15:00</td>\n",
       "      <td>LINEA_A</td>\n",
       "      <td>LINEA_A_PASCO_TURN01</td>\n",
       "      <td>PASCO</td>\n",
       "      <td>1</td>\n",
       "      <td>0</td>\n",
       "      <td>0</td>\n",
       "      <td>1</td>\n",
       "      <td>36</td>\n",
       "    </tr>\n",
       "    <tr>\n",
       "      <th>3</th>\n",
       "      <td>201801</td>\n",
       "      <td>01/01/2018</td>\n",
       "      <td>08:00:00</td>\n",
       "      <td>08:15:00</td>\n",
       "      <td>LINEA_A</td>\n",
       "      <td>LINEA_A_PERU_S_TURN01</td>\n",
       "      <td>PERU</td>\n",
       "      <td>4</td>\n",
       "      <td>0</td>\n",
       "      <td>0</td>\n",
       "      <td>4</td>\n",
       "      <td>31</td>\n",
       "    </tr>\n",
       "    <tr>\n",
       "      <th>4</th>\n",
       "      <td>201801</td>\n",
       "      <td>01/01/2018</td>\n",
       "      <td>08:00:00</td>\n",
       "      <td>08:15:00</td>\n",
       "      <td>LINEA_A</td>\n",
       "      <td>LINEA_A_PJUNTA_S_TURN02</td>\n",
       "      <td>PRIMERA JUNTA</td>\n",
       "      <td>2</td>\n",
       "      <td>0</td>\n",
       "      <td>0</td>\n",
       "      <td>2</td>\n",
       "      <td>43</td>\n",
       "    </tr>\n",
       "  </tbody>\n",
       "</table>\n",
       "</div>"
      ],
      "text/plain": [
       "   PERIODO       FECHA     DESDE     HASTA    LINEA                  MOLINETE  \\\n",
       "0   201801  01/01/2018  08:00:00  08:15:00  LINEA_A  LINEA_A_CBARROS_S_TURN01   \n",
       "1   201801  01/01/2018  08:00:00  08:15:00  LINEA_A     LINEA_A_LIMA_S_TURN03   \n",
       "2   201801  01/01/2018  08:00:00  08:15:00  LINEA_A      LINEA_A_PASCO_TURN01   \n",
       "3   201801  01/01/2018  08:00:00  08:15:00  LINEA_A     LINEA_A_PERU_S_TURN01   \n",
       "4   201801  01/01/2018  08:00:00  08:15:00  LINEA_A   LINEA_A_PJUNTA_S_TURN02   \n",
       "\n",
       "        ESTACION  PAX_PAGOS  PAX_PASES_PAGOS  PAX_FRANQ  TOTAL  ID  \n",
       "0  CASTRO BARROS          1                0          0      1  40  \n",
       "1           LIMA          4                0          0      4  33  \n",
       "2          PASCO          1                0          0      1  36  \n",
       "3           PERU          4                0          0      4  31  \n",
       "4  PRIMERA JUNTA          2                0          0      2  43  "
      ]
     },
     "execution_count": 15,
     "metadata": {},
     "output_type": "execute_result"
    }
   ],
   "source": [
    "db.head(5)"
   ]
  },
  {
   "cell_type": "code",
   "execution_count": 16,
   "metadata": {},
   "outputs": [
    {
     "data": {
      "text/html": [
       "<div>\n",
       "<style scoped>\n",
       "    .dataframe tbody tr th:only-of-type {\n",
       "        vertical-align: middle;\n",
       "    }\n",
       "\n",
       "    .dataframe tbody tr th {\n",
       "        vertical-align: top;\n",
       "    }\n",
       "\n",
       "    .dataframe thead th {\n",
       "        text-align: right;\n",
       "    }\n",
       "</style>\n",
       "<table border=\"1\" class=\"dataframe\">\n",
       "  <thead>\n",
       "    <tr style=\"text-align: right;\">\n",
       "      <th></th>\n",
       "      <th>PERIODO</th>\n",
       "      <th>FECHA</th>\n",
       "      <th>DESDE</th>\n",
       "      <th>HASTA</th>\n",
       "      <th>LINEA</th>\n",
       "      <th>MOLINETE</th>\n",
       "      <th>ESTACION</th>\n",
       "      <th>PAX_PAGOS</th>\n",
       "      <th>PAX_PASES_PAGOS</th>\n",
       "      <th>PAX_FRANQ</th>\n",
       "      <th>TOTAL</th>\n",
       "      <th>ID</th>\n",
       "    </tr>\n",
       "  </thead>\n",
       "  <tbody>\n",
       "    <tr>\n",
       "      <th>1947639</th>\n",
       "      <td>201802</td>\n",
       "      <td>28/02/2018</td>\n",
       "      <td>23:30:00</td>\n",
       "      <td>23:45:00</td>\n",
       "      <td>LINEA_E</td>\n",
       "      <td>LINEA_E_EMITRE_TURN02</td>\n",
       "      <td>EMILIO MITRE</td>\n",
       "      <td>0</td>\n",
       "      <td>0</td>\n",
       "      <td>0</td>\n",
       "      <td>0</td>\n",
       "      <td>53</td>\n",
       "    </tr>\n",
       "    <tr>\n",
       "      <th>1947640</th>\n",
       "      <td>201802</td>\n",
       "      <td>28/02/2018</td>\n",
       "      <td>23:30:00</td>\n",
       "      <td>23:45:00</td>\n",
       "      <td>LINEA_H</td>\n",
       "      <td>LINEA_H_VENEZUELA_NORTE_TURN01</td>\n",
       "      <td>VENEZUELA</td>\n",
       "      <td>1</td>\n",
       "      <td>0</td>\n",
       "      <td>0</td>\n",
       "      <td>1</td>\n",
       "      <td>4</td>\n",
       "    </tr>\n",
       "  </tbody>\n",
       "</table>\n",
       "</div>"
      ],
      "text/plain": [
       "         PERIODO       FECHA     DESDE     HASTA    LINEA  \\\n",
       "1947639   201802  28/02/2018  23:30:00  23:45:00  LINEA_E   \n",
       "1947640   201802  28/02/2018  23:30:00  23:45:00  LINEA_H   \n",
       "\n",
       "                               MOLINETE      ESTACION  PAX_PAGOS  \\\n",
       "1947639           LINEA_E_EMITRE_TURN02  EMILIO MITRE          0   \n",
       "1947640  LINEA_H_VENEZUELA_NORTE_TURN01     VENEZUELA          1   \n",
       "\n",
       "         PAX_PASES_PAGOS  PAX_FRANQ  TOTAL  ID  \n",
       "1947639                0          0      0  53  \n",
       "1947640                0          0      1   4  "
      ]
     },
     "execution_count": 16,
     "metadata": {},
     "output_type": "execute_result"
    }
   ],
   "source": [
    "db.tail(2)"
   ]
  },
  {
   "cell_type": "code",
   "execution_count": 17,
   "metadata": {},
   "outputs": [
    {
     "data": {
      "text/plain": [
       "array([201801, 201802])"
      ]
     },
     "execution_count": 17,
     "metadata": {},
     "output_type": "execute_result"
    }
   ],
   "source": [
    "# que periodos tenemos?\n",
    "db.PERIODO.unique()"
   ]
  },
  {
   "cell_type": "code",
   "execution_count": 18,
   "metadata": {},
   "outputs": [
    {
     "data": {
      "text/plain": [
       "201801    1025451\n",
       "201802     922190\n",
       "Name: PERIODO, dtype: int64"
      ]
     },
     "execution_count": 18,
     "metadata": {},
     "output_type": "execute_result"
    }
   ],
   "source": [
    "#cuantos casos en cada uno?\n",
    "db.PERIODO.value_counts()"
   ]
  },
  {
   "cell_type": "code",
   "execution_count": 19,
   "metadata": {},
   "outputs": [
    {
     "data": {
      "text/plain": [
       "201801    52.650925\n",
       "201802    47.349075\n",
       "Name: PERIODO, dtype: float64"
      ]
     },
     "execution_count": 19,
     "metadata": {},
     "output_type": "execute_result"
    }
   ],
   "source": [
    "#podemos verlo como distribucion de frecuencias en porcentajes \n",
    "db.PERIODO.value_counts() / len(db) * 100"
   ]
  },
  {
   "cell_type": "code",
   "execution_count": 20,
   "metadata": {},
   "outputs": [
    {
     "data": {
      "text/plain": [
       "201801    52.65\n",
       "201802    47.35\n",
       "Name: PERIODO, dtype: float64"
      ]
     },
     "execution_count": 20,
     "metadata": {},
     "output_type": "execute_result"
    }
   ],
   "source": [
    "#redondeamos el resultado\n",
    "round(db.PERIODO.value_counts() / len(db) * 100,2)"
   ]
  },
  {
   "cell_type": "code",
   "execution_count": 21,
   "metadata": {},
   "outputs": [
    {
     "data": {
      "text/plain": [
       "201802    922190\n",
       "Name: PERIODO, dtype: int64"
      ]
     },
     "execution_count": 21,
     "metadata": {},
     "output_type": "execute_result"
    }
   ],
   "source": [
    "#nos quedamos con la data mas reciente con el metodo LOC para seleccionar subset de datos\n",
    "db = db.loc[db.PERIODO == 201802,:] \n",
    "db.PERIODO.value_counts()"
   ]
  },
  {
   "cell_type": "code",
   "execution_count": 22,
   "metadata": {},
   "outputs": [
    {
     "data": {
      "text/plain": [
       "1025451    True\n",
       "1025452    True\n",
       "1025453    True\n",
       "1025454    True\n",
       "1025455    True\n",
       "Name: PERIODO, dtype: bool"
      ]
     },
     "execution_count": 22,
     "metadata": {},
     "output_type": "execute_result"
    }
   ],
   "source": [
    "#Si uno descompone lo que hicimos recien en las muñecas rusas que lo componen:\n",
    "\n",
    "#primero esta el filtro que quisimos crear\n",
    "filtro = db.PERIODO == 201802\n",
    "filtro[:5]"
   ]
  },
  {
   "cell_type": "markdown",
   "metadata": {},
   "source": [
    "`loc` nos permite filtrar filas utilizando una lista de Verdaderos y Falsos (True,False). También podemos filtrar columnas por el nombre. `loc` para filtrar utiliza listas `True` o `False` o los `indices` que veremos más adelante. Por lo pronto, veamos que podemos filtrar por las columnas utilizando sus nombres. "
   ]
  },
  {
   "cell_type": "code",
   "execution_count": 23,
   "metadata": {},
   "outputs": [
    {
     "data": {
      "text/plain": [
       "Index(['PERIODO', 'FECHA', 'DESDE', 'HASTA', 'LINEA', 'MOLINETE', 'ESTACION',\n",
       "       'PAX_PAGOS', 'PAX_PASES_PAGOS', 'PAX_FRANQ', 'TOTAL', 'ID'],\n",
       "      dtype='object')"
      ]
     },
     "execution_count": 23,
     "metadata": {},
     "output_type": "execute_result"
    }
   ],
   "source": [
    "db.columns"
   ]
  },
  {
   "cell_type": "code",
   "execution_count": 24,
   "metadata": {},
   "outputs": [
    {
     "data": {
      "text/html": [
       "<div>\n",
       "<style scoped>\n",
       "    .dataframe tbody tr th:only-of-type {\n",
       "        vertical-align: middle;\n",
       "    }\n",
       "\n",
       "    .dataframe tbody tr th {\n",
       "        vertical-align: top;\n",
       "    }\n",
       "\n",
       "    .dataframe thead th {\n",
       "        text-align: right;\n",
       "    }\n",
       "</style>\n",
       "<table border=\"1\" class=\"dataframe\">\n",
       "  <thead>\n",
       "    <tr style=\"text-align: right;\">\n",
       "      <th></th>\n",
       "      <th>FECHA</th>\n",
       "      <th>DESDE</th>\n",
       "      <th>HASTA</th>\n",
       "      <th>LINEA</th>\n",
       "      <th>MOLINETE</th>\n",
       "      <th>ESTACION</th>\n",
       "      <th>PAX_PAGOS</th>\n",
       "      <th>PAX_PASES_PAGOS</th>\n",
       "      <th>PAX_FRANQ</th>\n",
       "      <th>TOTAL</th>\n",
       "      <th>ID</th>\n",
       "    </tr>\n",
       "  </thead>\n",
       "  <tbody>\n",
       "    <tr>\n",
       "      <th>1025451</th>\n",
       "      <td>01/02/2018</td>\n",
       "      <td>05:30:00</td>\n",
       "      <td>05:45:00</td>\n",
       "      <td>LINEA_A</td>\n",
       "      <td>LINEA_A_ACOYTE_S_TURN02</td>\n",
       "      <td>ACOYTE</td>\n",
       "      <td>0</td>\n",
       "      <td>0</td>\n",
       "      <td>0</td>\n",
       "      <td>0</td>\n",
       "      <td>42</td>\n",
       "    </tr>\n",
       "    <tr>\n",
       "      <th>1025452</th>\n",
       "      <td>01/02/2018</td>\n",
       "      <td>05:30:00</td>\n",
       "      <td>05:45:00</td>\n",
       "      <td>LINEA_A</td>\n",
       "      <td>LINEA_A_ALBERTI_TURN02</td>\n",
       "      <td>ALBERTI</td>\n",
       "      <td>1</td>\n",
       "      <td>0</td>\n",
       "      <td>0</td>\n",
       "      <td>1</td>\n",
       "      <td>37</td>\n",
       "    </tr>\n",
       "    <tr>\n",
       "      <th>1025453</th>\n",
       "      <td>01/02/2018</td>\n",
       "      <td>05:30:00</td>\n",
       "      <td>05:45:00</td>\n",
       "      <td>LINEA_A</td>\n",
       "      <td>LINEA_A_CARABOBO_E_TURN04</td>\n",
       "      <td>CARABOBO</td>\n",
       "      <td>3</td>\n",
       "      <td>0</td>\n",
       "      <td>0</td>\n",
       "      <td>3</td>\n",
       "      <td>75</td>\n",
       "    </tr>\n",
       "    <tr>\n",
       "      <th>1025454</th>\n",
       "      <td>01/02/2018</td>\n",
       "      <td>05:30:00</td>\n",
       "      <td>05:45:00</td>\n",
       "      <td>LINEA_A</td>\n",
       "      <td>LINEA_A_CBARROS_N_TURN01</td>\n",
       "      <td>CASTRO BARROS</td>\n",
       "      <td>6</td>\n",
       "      <td>0</td>\n",
       "      <td>0</td>\n",
       "      <td>6</td>\n",
       "      <td>40</td>\n",
       "    </tr>\n",
       "    <tr>\n",
       "      <th>1025455</th>\n",
       "      <td>01/02/2018</td>\n",
       "      <td>05:30:00</td>\n",
       "      <td>05:45:00</td>\n",
       "      <td>LINEA_A</td>\n",
       "      <td>LINEA_A_FLORES_OESTE_TURN04</td>\n",
       "      <td>FLORES</td>\n",
       "      <td>1</td>\n",
       "      <td>0</td>\n",
       "      <td>0</td>\n",
       "      <td>1</td>\n",
       "      <td>82</td>\n",
       "    </tr>\n",
       "  </tbody>\n",
       "</table>\n",
       "</div>"
      ],
      "text/plain": [
       "              FECHA     DESDE     HASTA    LINEA                     MOLINETE  \\\n",
       "1025451  01/02/2018  05:30:00  05:45:00  LINEA_A      LINEA_A_ACOYTE_S_TURN02   \n",
       "1025452  01/02/2018  05:30:00  05:45:00  LINEA_A       LINEA_A_ALBERTI_TURN02   \n",
       "1025453  01/02/2018  05:30:00  05:45:00  LINEA_A    LINEA_A_CARABOBO_E_TURN04   \n",
       "1025454  01/02/2018  05:30:00  05:45:00  LINEA_A     LINEA_A_CBARROS_N_TURN01   \n",
       "1025455  01/02/2018  05:30:00  05:45:00  LINEA_A  LINEA_A_FLORES_OESTE_TURN04   \n",
       "\n",
       "              ESTACION  PAX_PAGOS  PAX_PASES_PAGOS  PAX_FRANQ  TOTAL  ID  \n",
       "1025451         ACOYTE          0                0          0      0  42  \n",
       "1025452        ALBERTI          1                0          0      1  37  \n",
       "1025453       CARABOBO          3                0          0      3  75  \n",
       "1025454  CASTRO BARROS          6                0          0      6  40  \n",
       "1025455         FLORES          1                0          0      1  82  "
      ]
     },
     "execution_count": 24,
     "metadata": {},
     "output_type": "execute_result"
    }
   ],
   "source": [
    "#elimino periodo porque ya se que es todo febrero\n",
    "db = db.loc[:,['FECHA', 'DESDE', 'HASTA', 'LINEA', 'MOLINETE', 'ESTACION',\n",
    "       'PAX_PAGOS', 'PAX_PASES_PAGOS', 'PAX_FRANQ', 'TOTAL', 'ID']]\n",
    "db.head()"
   ]
  },
  {
   "cell_type": "code",
   "execution_count": 25,
   "metadata": {},
   "outputs": [
    {
     "data": {
      "text/html": [
       "<div>\n",
       "<style scoped>\n",
       "    .dataframe tbody tr th:only-of-type {\n",
       "        vertical-align: middle;\n",
       "    }\n",
       "\n",
       "    .dataframe tbody tr th {\n",
       "        vertical-align: top;\n",
       "    }\n",
       "\n",
       "    .dataframe thead th {\n",
       "        text-align: right;\n",
       "    }\n",
       "</style>\n",
       "<table border=\"1\" class=\"dataframe\">\n",
       "  <thead>\n",
       "    <tr style=\"text-align: right;\">\n",
       "      <th></th>\n",
       "      <th>FECHA</th>\n",
       "      <th>ID</th>\n",
       "    </tr>\n",
       "  </thead>\n",
       "  <tbody>\n",
       "  </tbody>\n",
       "</table>\n",
       "</div>"
      ],
      "text/plain": [
       "Empty DataFrame\n",
       "Columns: [FECHA, ID]\n",
       "Index: []"
      ]
     },
     "execution_count": 25,
     "metadata": {},
     "output_type": "execute_result"
    }
   ],
   "source": [
    "#usamos true y false en columnas\n",
    "db.loc[:5,[True, False,False, False, False, False, False,\n",
    "       False, False, False, True]]"
   ]
  },
  {
   "cell_type": "code",
   "execution_count": 26,
   "metadata": {},
   "outputs": [
    {
     "data": {
      "text/html": [
       "<div>\n",
       "<style scoped>\n",
       "    .dataframe tbody tr th:only-of-type {\n",
       "        vertical-align: middle;\n",
       "    }\n",
       "\n",
       "    .dataframe tbody tr th {\n",
       "        vertical-align: top;\n",
       "    }\n",
       "\n",
       "    .dataframe thead th {\n",
       "        text-align: right;\n",
       "    }\n",
       "</style>\n",
       "<table border=\"1\" class=\"dataframe\">\n",
       "  <thead>\n",
       "    <tr style=\"text-align: right;\">\n",
       "      <th></th>\n",
       "      <th>FECHA</th>\n",
       "      <th>DESDE</th>\n",
       "      <th>HASTA</th>\n",
       "      <th>LINEA</th>\n",
       "      <th>ESTACION</th>\n",
       "      <th>TOTAL</th>\n",
       "    </tr>\n",
       "  </thead>\n",
       "  <tbody>\n",
       "    <tr>\n",
       "      <th>1025451</th>\n",
       "      <td>01/02/2018</td>\n",
       "      <td>05:30:00</td>\n",
       "      <td>05:45:00</td>\n",
       "      <td>LINEA_A</td>\n",
       "      <td>ACOYTE</td>\n",
       "      <td>0</td>\n",
       "    </tr>\n",
       "    <tr>\n",
       "      <th>1025452</th>\n",
       "      <td>01/02/2018</td>\n",
       "      <td>05:30:00</td>\n",
       "      <td>05:45:00</td>\n",
       "      <td>LINEA_A</td>\n",
       "      <td>ALBERTI</td>\n",
       "      <td>1</td>\n",
       "    </tr>\n",
       "    <tr>\n",
       "      <th>1025453</th>\n",
       "      <td>01/02/2018</td>\n",
       "      <td>05:30:00</td>\n",
       "      <td>05:45:00</td>\n",
       "      <td>LINEA_A</td>\n",
       "      <td>CARABOBO</td>\n",
       "      <td>3</td>\n",
       "    </tr>\n",
       "    <tr>\n",
       "      <th>1025454</th>\n",
       "      <td>01/02/2018</td>\n",
       "      <td>05:30:00</td>\n",
       "      <td>05:45:00</td>\n",
       "      <td>LINEA_A</td>\n",
       "      <td>CASTRO BARROS</td>\n",
       "      <td>6</td>\n",
       "    </tr>\n",
       "    <tr>\n",
       "      <th>1025455</th>\n",
       "      <td>01/02/2018</td>\n",
       "      <td>05:30:00</td>\n",
       "      <td>05:45:00</td>\n",
       "      <td>LINEA_A</td>\n",
       "      <td>FLORES</td>\n",
       "      <td>1</td>\n",
       "    </tr>\n",
       "  </tbody>\n",
       "</table>\n",
       "</div>"
      ],
      "text/plain": [
       "              FECHA     DESDE     HASTA    LINEA       ESTACION  TOTAL\n",
       "1025451  01/02/2018  05:30:00  05:45:00  LINEA_A         ACOYTE      0\n",
       "1025452  01/02/2018  05:30:00  05:45:00  LINEA_A        ALBERTI      1\n",
       "1025453  01/02/2018  05:30:00  05:45:00  LINEA_A       CARABOBO      3\n",
       "1025454  01/02/2018  05:30:00  05:45:00  LINEA_A  CASTRO BARROS      6\n",
       "1025455  01/02/2018  05:30:00  05:45:00  LINEA_A         FLORES      1"
      ]
     },
     "execution_count": 26,
     "metadata": {},
     "output_type": "execute_result"
    }
   ],
   "source": [
    "#otro modo de hacer esto mismo (vinculado a la advertencia previa):\n",
    "db.reindex(columns = ['FECHA', 'DESDE', 'HASTA', 'LINEA', 'ESTACION','TOTAL']).head(5)"
   ]
  },
  {
   "cell_type": "markdown",
   "metadata": {},
   "source": [
    "Noten que el resultado anterior no se guardo en una variable (la misma o una nueva), con lo cual solo me **muestra** una tabla con menos columnas, no cambio la tabla original. Si veo la tabla original veo que sigue con las mismas columnas"
   ]
  },
  {
   "cell_type": "code",
   "execution_count": 27,
   "metadata": {},
   "outputs": [
    {
     "data": {
      "text/html": [
       "<div>\n",
       "<style scoped>\n",
       "    .dataframe tbody tr th:only-of-type {\n",
       "        vertical-align: middle;\n",
       "    }\n",
       "\n",
       "    .dataframe tbody tr th {\n",
       "        vertical-align: top;\n",
       "    }\n",
       "\n",
       "    .dataframe thead th {\n",
       "        text-align: right;\n",
       "    }\n",
       "</style>\n",
       "<table border=\"1\" class=\"dataframe\">\n",
       "  <thead>\n",
       "    <tr style=\"text-align: right;\">\n",
       "      <th></th>\n",
       "      <th>FECHA</th>\n",
       "      <th>DESDE</th>\n",
       "      <th>HASTA</th>\n",
       "      <th>LINEA</th>\n",
       "      <th>MOLINETE</th>\n",
       "      <th>ESTACION</th>\n",
       "      <th>PAX_PAGOS</th>\n",
       "      <th>PAX_PASES_PAGOS</th>\n",
       "      <th>PAX_FRANQ</th>\n",
       "      <th>TOTAL</th>\n",
       "      <th>ID</th>\n",
       "    </tr>\n",
       "  </thead>\n",
       "  <tbody>\n",
       "    <tr>\n",
       "      <th>1025451</th>\n",
       "      <td>01/02/2018</td>\n",
       "      <td>05:30:00</td>\n",
       "      <td>05:45:00</td>\n",
       "      <td>LINEA_A</td>\n",
       "      <td>LINEA_A_ACOYTE_S_TURN02</td>\n",
       "      <td>ACOYTE</td>\n",
       "      <td>0</td>\n",
       "      <td>0</td>\n",
       "      <td>0</td>\n",
       "      <td>0</td>\n",
       "      <td>42</td>\n",
       "    </tr>\n",
       "    <tr>\n",
       "      <th>1025452</th>\n",
       "      <td>01/02/2018</td>\n",
       "      <td>05:30:00</td>\n",
       "      <td>05:45:00</td>\n",
       "      <td>LINEA_A</td>\n",
       "      <td>LINEA_A_ALBERTI_TURN02</td>\n",
       "      <td>ALBERTI</td>\n",
       "      <td>1</td>\n",
       "      <td>0</td>\n",
       "      <td>0</td>\n",
       "      <td>1</td>\n",
       "      <td>37</td>\n",
       "    </tr>\n",
       "    <tr>\n",
       "      <th>1025453</th>\n",
       "      <td>01/02/2018</td>\n",
       "      <td>05:30:00</td>\n",
       "      <td>05:45:00</td>\n",
       "      <td>LINEA_A</td>\n",
       "      <td>LINEA_A_CARABOBO_E_TURN04</td>\n",
       "      <td>CARABOBO</td>\n",
       "      <td>3</td>\n",
       "      <td>0</td>\n",
       "      <td>0</td>\n",
       "      <td>3</td>\n",
       "      <td>75</td>\n",
       "    </tr>\n",
       "    <tr>\n",
       "      <th>1025454</th>\n",
       "      <td>01/02/2018</td>\n",
       "      <td>05:30:00</td>\n",
       "      <td>05:45:00</td>\n",
       "      <td>LINEA_A</td>\n",
       "      <td>LINEA_A_CBARROS_N_TURN01</td>\n",
       "      <td>CASTRO BARROS</td>\n",
       "      <td>6</td>\n",
       "      <td>0</td>\n",
       "      <td>0</td>\n",
       "      <td>6</td>\n",
       "      <td>40</td>\n",
       "    </tr>\n",
       "    <tr>\n",
       "      <th>1025455</th>\n",
       "      <td>01/02/2018</td>\n",
       "      <td>05:30:00</td>\n",
       "      <td>05:45:00</td>\n",
       "      <td>LINEA_A</td>\n",
       "      <td>LINEA_A_FLORES_OESTE_TURN04</td>\n",
       "      <td>FLORES</td>\n",
       "      <td>1</td>\n",
       "      <td>0</td>\n",
       "      <td>0</td>\n",
       "      <td>1</td>\n",
       "      <td>82</td>\n",
       "    </tr>\n",
       "  </tbody>\n",
       "</table>\n",
       "</div>"
      ],
      "text/plain": [
       "              FECHA     DESDE     HASTA    LINEA                     MOLINETE  \\\n",
       "1025451  01/02/2018  05:30:00  05:45:00  LINEA_A      LINEA_A_ACOYTE_S_TURN02   \n",
       "1025452  01/02/2018  05:30:00  05:45:00  LINEA_A       LINEA_A_ALBERTI_TURN02   \n",
       "1025453  01/02/2018  05:30:00  05:45:00  LINEA_A    LINEA_A_CARABOBO_E_TURN04   \n",
       "1025454  01/02/2018  05:30:00  05:45:00  LINEA_A     LINEA_A_CBARROS_N_TURN01   \n",
       "1025455  01/02/2018  05:30:00  05:45:00  LINEA_A  LINEA_A_FLORES_OESTE_TURN04   \n",
       "\n",
       "              ESTACION  PAX_PAGOS  PAX_PASES_PAGOS  PAX_FRANQ  TOTAL  ID  \n",
       "1025451         ACOYTE          0                0          0      0  42  \n",
       "1025452        ALBERTI          1                0          0      1  37  \n",
       "1025453       CARABOBO          3                0          0      3  75  \n",
       "1025454  CASTRO BARROS          6                0          0      6  40  \n",
       "1025455         FLORES          1                0          0      1  82  "
      ]
     },
     "execution_count": 27,
     "metadata": {},
     "output_type": "execute_result"
    }
   ],
   "source": [
    "db.head()"
   ]
  },
  {
   "cell_type": "code",
   "execution_count": 28,
   "metadata": {},
   "outputs": [
    {
     "data": {
      "text/html": [
       "<div>\n",
       "<style scoped>\n",
       "    .dataframe tbody tr th:only-of-type {\n",
       "        vertical-align: middle;\n",
       "    }\n",
       "\n",
       "    .dataframe tbody tr th {\n",
       "        vertical-align: top;\n",
       "    }\n",
       "\n",
       "    .dataframe thead th {\n",
       "        text-align: right;\n",
       "    }\n",
       "</style>\n",
       "<table border=\"1\" class=\"dataframe\">\n",
       "  <thead>\n",
       "    <tr style=\"text-align: right;\">\n",
       "      <th></th>\n",
       "      <th>FECHA</th>\n",
       "      <th>DESDE</th>\n",
       "      <th>HASTA</th>\n",
       "      <th>LINEA</th>\n",
       "      <th>ESTACION</th>\n",
       "      <th>PAX_PAGOS</th>\n",
       "      <th>PAX_PASES_PAGOS</th>\n",
       "      <th>PAX_FRANQ</th>\n",
       "      <th>TOTAL</th>\n",
       "      <th>ID</th>\n",
       "    </tr>\n",
       "  </thead>\n",
       "  <tbody>\n",
       "    <tr>\n",
       "      <th>1025451</th>\n",
       "      <td>01/02/2018</td>\n",
       "      <td>05:30:00</td>\n",
       "      <td>05:45:00</td>\n",
       "      <td>LINEA_A</td>\n",
       "      <td>ACOYTE</td>\n",
       "      <td>0</td>\n",
       "      <td>0</td>\n",
       "      <td>0</td>\n",
       "      <td>0</td>\n",
       "      <td>42</td>\n",
       "    </tr>\n",
       "    <tr>\n",
       "      <th>1025452</th>\n",
       "      <td>01/02/2018</td>\n",
       "      <td>05:30:00</td>\n",
       "      <td>05:45:00</td>\n",
       "      <td>LINEA_A</td>\n",
       "      <td>ALBERTI</td>\n",
       "      <td>1</td>\n",
       "      <td>0</td>\n",
       "      <td>0</td>\n",
       "      <td>1</td>\n",
       "      <td>37</td>\n",
       "    </tr>\n",
       "    <tr>\n",
       "      <th>1025453</th>\n",
       "      <td>01/02/2018</td>\n",
       "      <td>05:30:00</td>\n",
       "      <td>05:45:00</td>\n",
       "      <td>LINEA_A</td>\n",
       "      <td>CARABOBO</td>\n",
       "      <td>3</td>\n",
       "      <td>0</td>\n",
       "      <td>0</td>\n",
       "      <td>3</td>\n",
       "      <td>75</td>\n",
       "    </tr>\n",
       "    <tr>\n",
       "      <th>1025454</th>\n",
       "      <td>01/02/2018</td>\n",
       "      <td>05:30:00</td>\n",
       "      <td>05:45:00</td>\n",
       "      <td>LINEA_A</td>\n",
       "      <td>CASTRO BARROS</td>\n",
       "      <td>6</td>\n",
       "      <td>0</td>\n",
       "      <td>0</td>\n",
       "      <td>6</td>\n",
       "      <td>40</td>\n",
       "    </tr>\n",
       "    <tr>\n",
       "      <th>1025455</th>\n",
       "      <td>01/02/2018</td>\n",
       "      <td>05:30:00</td>\n",
       "      <td>05:45:00</td>\n",
       "      <td>LINEA_A</td>\n",
       "      <td>FLORES</td>\n",
       "      <td>1</td>\n",
       "      <td>0</td>\n",
       "      <td>0</td>\n",
       "      <td>1</td>\n",
       "      <td>82</td>\n",
       "    </tr>\n",
       "  </tbody>\n",
       "</table>\n",
       "</div>"
      ],
      "text/plain": [
       "              FECHA     DESDE     HASTA    LINEA       ESTACION  PAX_PAGOS  \\\n",
       "1025451  01/02/2018  05:30:00  05:45:00  LINEA_A         ACOYTE          0   \n",
       "1025452  01/02/2018  05:30:00  05:45:00  LINEA_A        ALBERTI          1   \n",
       "1025453  01/02/2018  05:30:00  05:45:00  LINEA_A       CARABOBO          3   \n",
       "1025454  01/02/2018  05:30:00  05:45:00  LINEA_A  CASTRO BARROS          6   \n",
       "1025455  01/02/2018  05:30:00  05:45:00  LINEA_A         FLORES          1   \n",
       "\n",
       "         PAX_PASES_PAGOS  PAX_FRANQ  TOTAL  ID  \n",
       "1025451                0          0      0  42  \n",
       "1025452                0          0      1  37  \n",
       "1025453                0          0      3  75  \n",
       "1025454                0          0      6  40  \n",
       "1025455                0          0      1  82  "
      ]
     },
     "execution_count": 28,
     "metadata": {},
     "output_type": "execute_result"
    }
   ],
   "source": [
    "#tamiben puedo eliminar la variable molinete porque a lo sumo vamos a trabajar con datos por estacion, no quiero tanta desagregacion\n",
    "db = db.drop(['MOLINETE'],axis=1)\n",
    "db.head()"
   ]
  },
  {
   "cell_type": "markdown",
   "metadata": {},
   "source": [
    "## 3 Cuadros de doble entrada\n",
    "\n",
    "Vimos como obtener una distribución de frecuencias. Ahora podemos ver una tabla de doble entrada."
   ]
  },
  {
   "cell_type": "code",
   "execution_count": 29,
   "metadata": {},
   "outputs": [
    {
     "data": {
      "text/html": [
       "<div>\n",
       "<style scoped>\n",
       "    .dataframe tbody tr th:only-of-type {\n",
       "        vertical-align: middle;\n",
       "    }\n",
       "\n",
       "    .dataframe tbody tr th {\n",
       "        vertical-align: top;\n",
       "    }\n",
       "\n",
       "    .dataframe thead th {\n",
       "        text-align: right;\n",
       "    }\n",
       "</style>\n",
       "<table border=\"1\" class=\"dataframe\">\n",
       "  <thead>\n",
       "    <tr style=\"text-align: right;\">\n",
       "      <th>LINEA</th>\n",
       "      <th>LINEA_A</th>\n",
       "      <th>LINEA_B</th>\n",
       "      <th>LINEA_C</th>\n",
       "      <th>LINEA_D</th>\n",
       "      <th>LINEA_E</th>\n",
       "      <th>LINEA_H</th>\n",
       "    </tr>\n",
       "    <tr>\n",
       "      <th>ESTACION</th>\n",
       "      <th></th>\n",
       "      <th></th>\n",
       "      <th></th>\n",
       "      <th></th>\n",
       "      <th></th>\n",
       "      <th></th>\n",
       "    </tr>\n",
       "  </thead>\n",
       "  <tbody>\n",
       "    <tr>\n",
       "      <th>9 DE JULIO</th>\n",
       "      <td>0</td>\n",
       "      <td>0</td>\n",
       "      <td>0</td>\n",
       "      <td>10185</td>\n",
       "      <td>0</td>\n",
       "      <td>0</td>\n",
       "    </tr>\n",
       "    <tr>\n",
       "      <th>ACOYTE</th>\n",
       "      <td>14877</td>\n",
       "      <td>0</td>\n",
       "      <td>0</td>\n",
       "      <td>0</td>\n",
       "      <td>0</td>\n",
       "      <td>0</td>\n",
       "    </tr>\n",
       "    <tr>\n",
       "      <th>AGUERO</th>\n",
       "      <td>0</td>\n",
       "      <td>0</td>\n",
       "      <td>0</td>\n",
       "      <td>6945</td>\n",
       "      <td>0</td>\n",
       "      <td>0</td>\n",
       "    </tr>\n",
       "    <tr>\n",
       "      <th>ALBERTI</th>\n",
       "      <td>5697</td>\n",
       "      <td>0</td>\n",
       "      <td>0</td>\n",
       "      <td>0</td>\n",
       "      <td>0</td>\n",
       "      <td>0</td>\n",
       "    </tr>\n",
       "    <tr>\n",
       "      <th>ANGEL GALLARDO</th>\n",
       "      <td>0</td>\n",
       "      <td>10379</td>\n",
       "      <td>0</td>\n",
       "      <td>0</td>\n",
       "      <td>0</td>\n",
       "      <td>0</td>\n",
       "    </tr>\n",
       "  </tbody>\n",
       "</table>\n",
       "</div>"
      ],
      "text/plain": [
       "LINEA           LINEA_A  LINEA_B  LINEA_C  LINEA_D  LINEA_E  LINEA_H\n",
       "ESTACION                                                            \n",
       "9 DE JULIO            0        0        0    10185        0        0\n",
       "ACOYTE            14877        0        0        0        0        0\n",
       "AGUERO                0        0        0     6945        0        0\n",
       "ALBERTI            5697        0        0        0        0        0\n",
       "ANGEL GALLARDO        0    10379        0        0        0        0"
      ]
     },
     "execution_count": 29,
     "metadata": {},
     "output_type": "execute_result"
    }
   ],
   "source": [
    "#podemos unservar una tabla de doble entrada, de la vual solo vamos a ver los primer 5 registros \n",
    "pd.crosstab(db.ESTACION,db.LINEA).head()\n"
   ]
  },
  {
   "cell_type": "code",
   "execution_count": 30,
   "metadata": {},
   "outputs": [
    {
     "data": {
      "text/html": [
       "<div>\n",
       "<style scoped>\n",
       "    .dataframe tbody tr th:only-of-type {\n",
       "        vertical-align: middle;\n",
       "    }\n",
       "\n",
       "    .dataframe tbody tr th {\n",
       "        vertical-align: top;\n",
       "    }\n",
       "\n",
       "    .dataframe thead th {\n",
       "        text-align: right;\n",
       "    }\n",
       "</style>\n",
       "<table border=\"1\" class=\"dataframe\">\n",
       "  <thead>\n",
       "    <tr style=\"text-align: right;\">\n",
       "      <th>LINEA</th>\n",
       "      <th>LINEA_A</th>\n",
       "      <th>LINEA_B</th>\n",
       "      <th>LINEA_C</th>\n",
       "      <th>LINEA_D</th>\n",
       "      <th>LINEA_E</th>\n",
       "      <th>LINEA_H</th>\n",
       "      <th>Totales</th>\n",
       "    </tr>\n",
       "    <tr>\n",
       "      <th>ESTACION</th>\n",
       "      <th></th>\n",
       "      <th></th>\n",
       "      <th></th>\n",
       "      <th></th>\n",
       "      <th></th>\n",
       "      <th></th>\n",
       "      <th></th>\n",
       "    </tr>\n",
       "  </thead>\n",
       "  <tbody>\n",
       "    <tr>\n",
       "      <th>9 DE JULIO</th>\n",
       "      <td>0.000000</td>\n",
       "      <td>0.000000</td>\n",
       "      <td>0.0</td>\n",
       "      <td>0.051844</td>\n",
       "      <td>0.0</td>\n",
       "      <td>0.0</td>\n",
       "      <td>0.011044</td>\n",
       "    </tr>\n",
       "    <tr>\n",
       "      <th>ACOYTE</th>\n",
       "      <td>0.074499</td>\n",
       "      <td>0.000000</td>\n",
       "      <td>0.0</td>\n",
       "      <td>0.000000</td>\n",
       "      <td>0.0</td>\n",
       "      <td>0.0</td>\n",
       "      <td>0.016132</td>\n",
       "    </tr>\n",
       "    <tr>\n",
       "      <th>AGUERO</th>\n",
       "      <td>0.000000</td>\n",
       "      <td>0.000000</td>\n",
       "      <td>0.0</td>\n",
       "      <td>0.035352</td>\n",
       "      <td>0.0</td>\n",
       "      <td>0.0</td>\n",
       "      <td>0.007531</td>\n",
       "    </tr>\n",
       "    <tr>\n",
       "      <th>ALBERTI</th>\n",
       "      <td>0.028529</td>\n",
       "      <td>0.000000</td>\n",
       "      <td>0.0</td>\n",
       "      <td>0.000000</td>\n",
       "      <td>0.0</td>\n",
       "      <td>0.0</td>\n",
       "      <td>0.006178</td>\n",
       "    </tr>\n",
       "    <tr>\n",
       "      <th>ANGEL GALLARDO</th>\n",
       "      <td>0.000000</td>\n",
       "      <td>0.047104</td>\n",
       "      <td>0.0</td>\n",
       "      <td>0.000000</td>\n",
       "      <td>0.0</td>\n",
       "      <td>0.0</td>\n",
       "      <td>0.011255</td>\n",
       "    </tr>\n",
       "  </tbody>\n",
       "</table>\n",
       "</div>"
      ],
      "text/plain": [
       "LINEA            LINEA_A   LINEA_B  LINEA_C   LINEA_D  LINEA_E  LINEA_H  \\\n",
       "ESTACION                                                                  \n",
       "9 DE JULIO      0.000000  0.000000      0.0  0.051844      0.0      0.0   \n",
       "ACOYTE          0.074499  0.000000      0.0  0.000000      0.0      0.0   \n",
       "AGUERO          0.000000  0.000000      0.0  0.035352      0.0      0.0   \n",
       "ALBERTI         0.028529  0.000000      0.0  0.000000      0.0      0.0   \n",
       "ANGEL GALLARDO  0.000000  0.047104      0.0  0.000000      0.0      0.0   \n",
       "\n",
       "LINEA            Totales  \n",
       "ESTACION                  \n",
       "9 DE JULIO      0.011044  \n",
       "ACOYTE          0.016132  \n",
       "AGUERO          0.007531  \n",
       "ALBERTI         0.006178  \n",
       "ANGEL GALLARDO  0.011255  "
      ]
     },
     "execution_count": 30,
     "metadata": {},
     "output_type": "execute_result"
    }
   ],
   "source": [
    "#podemos verlo en porcentajes con el parametro 'normalize' que puede ser columns o index\n",
    "tabla = pd.crosstab(db.ESTACION,db.LINEA,normalize='columns',margins=True, margins_name='Totales')\n",
    "tabla.head() "
   ]
  },
  {
   "cell_type": "markdown",
   "metadata": {},
   "source": [
    "## 4 Elementos de un Pandas Dataframe\n",
    "\n",
    "Ya hemos utilizado en alto nivel y de una manera utilitaria un dataframe haciendo algunas operaciones sencillas. Ahora vamos a intentar profundizar en los elementos que conforman un dataframe. Iremos desarmando las muñecas rusas. Volvamos a obtener la información del objeto"
   ]
  },
  {
   "cell_type": "code",
   "execution_count": 31,
   "metadata": {},
   "outputs": [
    {
     "name": "stdout",
     "output_type": "stream",
     "text": [
      "<class 'pandas.core.frame.DataFrame'>\n",
      "Int64Index: 922190 entries, 1025451 to 1947640\n",
      "Data columns (total 10 columns):\n",
      "FECHA              922190 non-null object\n",
      "DESDE              922190 non-null object\n",
      "HASTA              922190 non-null object\n",
      "LINEA              922190 non-null object\n",
      "ESTACION           922190 non-null object\n",
      "PAX_PAGOS          922190 non-null int64\n",
      "PAX_PASES_PAGOS    922190 non-null int64\n",
      "PAX_FRANQ          922190 non-null int64\n",
      "TOTAL              922190 non-null int64\n",
      "ID                 922190 non-null int64\n",
      "dtypes: int64(5), object(5)\n",
      "memory usage: 117.4+ MB\n"
     ]
    }
   ],
   "source": [
    "db.info()"
   ]
  },
  {
   "cell_type": "markdown",
   "metadata": {},
   "source": [
    "Vemos primero el tipo: class pandas.core.frame.DataFrame. Luego podemos ver el primer elemento que lo conforma: un índice"
   ]
  },
  {
   "cell_type": "code",
   "execution_count": 32,
   "metadata": {},
   "outputs": [
    {
     "data": {
      "text/plain": [
       "Int64Index([1025451, 1025452, 1025453, 1025454, 1025455, 1025456, 1025457,\n",
       "            1025458, 1025459, 1025460,\n",
       "            ...\n",
       "            1947631, 1947632, 1947633, 1947634, 1947635, 1947636, 1947637,\n",
       "            1947638, 1947639, 1947640],\n",
       "           dtype='int64', length=922190)"
      ]
     },
     "execution_count": 32,
     "metadata": {},
     "output_type": "execute_result"
    }
   ],
   "source": [
    "db.index"
   ]
  },
  {
   "cell_type": "code",
   "execution_count": 33,
   "metadata": {},
   "outputs": [
    {
     "data": {
      "text/html": [
       "<div>\n",
       "<style scoped>\n",
       "    .dataframe tbody tr th:only-of-type {\n",
       "        vertical-align: middle;\n",
       "    }\n",
       "\n",
       "    .dataframe tbody tr th {\n",
       "        vertical-align: top;\n",
       "    }\n",
       "\n",
       "    .dataframe thead th {\n",
       "        text-align: right;\n",
       "    }\n",
       "</style>\n",
       "<table border=\"1\" class=\"dataframe\">\n",
       "  <thead>\n",
       "    <tr style=\"text-align: right;\">\n",
       "      <th></th>\n",
       "      <th>FECHA</th>\n",
       "      <th>DESDE</th>\n",
       "      <th>HASTA</th>\n",
       "      <th>LINEA</th>\n",
       "      <th>ESTACION</th>\n",
       "      <th>PAX_PAGOS</th>\n",
       "      <th>PAX_PASES_PAGOS</th>\n",
       "      <th>PAX_FRANQ</th>\n",
       "      <th>TOTAL</th>\n",
       "      <th>ID</th>\n",
       "    </tr>\n",
       "  </thead>\n",
       "  <tbody>\n",
       "    <tr>\n",
       "      <th>1025451</th>\n",
       "      <td>01/02/2018</td>\n",
       "      <td>05:30:00</td>\n",
       "      <td>05:45:00</td>\n",
       "      <td>LINEA_A</td>\n",
       "      <td>ACOYTE</td>\n",
       "      <td>0</td>\n",
       "      <td>0</td>\n",
       "      <td>0</td>\n",
       "      <td>0</td>\n",
       "      <td>42</td>\n",
       "    </tr>\n",
       "    <tr>\n",
       "      <th>1025452</th>\n",
       "      <td>01/02/2018</td>\n",
       "      <td>05:30:00</td>\n",
       "      <td>05:45:00</td>\n",
       "      <td>LINEA_A</td>\n",
       "      <td>ALBERTI</td>\n",
       "      <td>1</td>\n",
       "      <td>0</td>\n",
       "      <td>0</td>\n",
       "      <td>1</td>\n",
       "      <td>37</td>\n",
       "    </tr>\n",
       "    <tr>\n",
       "      <th>1025453</th>\n",
       "      <td>01/02/2018</td>\n",
       "      <td>05:30:00</td>\n",
       "      <td>05:45:00</td>\n",
       "      <td>LINEA_A</td>\n",
       "      <td>CARABOBO</td>\n",
       "      <td>3</td>\n",
       "      <td>0</td>\n",
       "      <td>0</td>\n",
       "      <td>3</td>\n",
       "      <td>75</td>\n",
       "    </tr>\n",
       "  </tbody>\n",
       "</table>\n",
       "</div>"
      ],
      "text/plain": [
       "              FECHA     DESDE     HASTA    LINEA  ESTACION  PAX_PAGOS  \\\n",
       "1025451  01/02/2018  05:30:00  05:45:00  LINEA_A    ACOYTE          0   \n",
       "1025452  01/02/2018  05:30:00  05:45:00  LINEA_A   ALBERTI          1   \n",
       "1025453  01/02/2018  05:30:00  05:45:00  LINEA_A  CARABOBO          3   \n",
       "\n",
       "         PAX_PASES_PAGOS  PAX_FRANQ  TOTAL  ID  \n",
       "1025451                0          0      0  42  \n",
       "1025452                0          0      1  37  \n",
       "1025453                0          0      3  75  "
      ]
     },
     "execution_count": 33,
     "metadata": {},
     "output_type": "execute_result"
    }
   ],
   "source": [
    "db.head(3)"
   ]
  },
  {
   "cell_type": "markdown",
   "metadata": {},
   "source": [
    "El índice lo muestra en el notebook a la izquierda en negrita. Vemos que comienza en 1025451. Si vuelven al comienzo cuando cargamos la tabla por primera vez verán que comenzaba en 0. Recuerden que filtramos los casos de febrero, por eso ya no comienza en 0. En muchas ocasiones, el índice no es más que un número que identifica cada registro, desde 0 hasta la cantidad de registros (menos 1). En otros análisis, se puede indexar por un atributo que tenga significado, como puede ser una serie de tiempo.  \n",
    "\n",
    "El segundo elemento que muestra son las columnas"
   ]
  },
  {
   "cell_type": "code",
   "execution_count": 34,
   "metadata": {},
   "outputs": [
    {
     "data": {
      "text/plain": [
       "Index(['FECHA', 'DESDE', 'HASTA', 'LINEA', 'ESTACION', 'PAX_PAGOS',\n",
       "       'PAX_PASES_PAGOS', 'PAX_FRANQ', 'TOTAL', 'ID'],\n",
       "      dtype='object')"
      ]
     },
     "execution_count": 34,
     "metadata": {},
     "output_type": "execute_result"
    }
   ],
   "source": [
    "db.columns"
   ]
  },
  {
   "cell_type": "code",
   "execution_count": 35,
   "metadata": {},
   "outputs": [],
   "source": [
    "#creamos una copia de la original para mostrar como podemos cambiar los nombres de las columnas\n",
    "db_columnas = db.copy()"
   ]
  },
  {
   "cell_type": "code",
   "execution_count": 36,
   "metadata": {},
   "outputs": [
    {
     "data": {
      "text/html": [
       "<div>\n",
       "<style scoped>\n",
       "    .dataframe tbody tr th:only-of-type {\n",
       "        vertical-align: middle;\n",
       "    }\n",
       "\n",
       "    .dataframe tbody tr th {\n",
       "        vertical-align: top;\n",
       "    }\n",
       "\n",
       "    .dataframe thead th {\n",
       "        text-align: right;\n",
       "    }\n",
       "</style>\n",
       "<table border=\"1\" class=\"dataframe\">\n",
       "  <thead>\n",
       "    <tr style=\"text-align: right;\">\n",
       "      <th></th>\n",
       "      <th>fecha</th>\n",
       "      <th>desde</th>\n",
       "      <th>hasta</th>\n",
       "      <th>linea</th>\n",
       "      <th>estacion</th>\n",
       "      <th>pagos</th>\n",
       "      <th>pases</th>\n",
       "      <th>franquicia</th>\n",
       "      <th>total</th>\n",
       "      <th>id</th>\n",
       "    </tr>\n",
       "  </thead>\n",
       "  <tbody>\n",
       "    <tr>\n",
       "      <th>1025451</th>\n",
       "      <td>01/02/2018</td>\n",
       "      <td>05:30:00</td>\n",
       "      <td>05:45:00</td>\n",
       "      <td>LINEA_A</td>\n",
       "      <td>ACOYTE</td>\n",
       "      <td>0</td>\n",
       "      <td>0</td>\n",
       "      <td>0</td>\n",
       "      <td>0</td>\n",
       "      <td>42</td>\n",
       "    </tr>\n",
       "    <tr>\n",
       "      <th>1025452</th>\n",
       "      <td>01/02/2018</td>\n",
       "      <td>05:30:00</td>\n",
       "      <td>05:45:00</td>\n",
       "      <td>LINEA_A</td>\n",
       "      <td>ALBERTI</td>\n",
       "      <td>1</td>\n",
       "      <td>0</td>\n",
       "      <td>0</td>\n",
       "      <td>1</td>\n",
       "      <td>37</td>\n",
       "    </tr>\n",
       "    <tr>\n",
       "      <th>1025453</th>\n",
       "      <td>01/02/2018</td>\n",
       "      <td>05:30:00</td>\n",
       "      <td>05:45:00</td>\n",
       "      <td>LINEA_A</td>\n",
       "      <td>CARABOBO</td>\n",
       "      <td>3</td>\n",
       "      <td>0</td>\n",
       "      <td>0</td>\n",
       "      <td>3</td>\n",
       "      <td>75</td>\n",
       "    </tr>\n",
       "    <tr>\n",
       "      <th>1025454</th>\n",
       "      <td>01/02/2018</td>\n",
       "      <td>05:30:00</td>\n",
       "      <td>05:45:00</td>\n",
       "      <td>LINEA_A</td>\n",
       "      <td>CASTRO BARROS</td>\n",
       "      <td>6</td>\n",
       "      <td>0</td>\n",
       "      <td>0</td>\n",
       "      <td>6</td>\n",
       "      <td>40</td>\n",
       "    </tr>\n",
       "    <tr>\n",
       "      <th>1025455</th>\n",
       "      <td>01/02/2018</td>\n",
       "      <td>05:30:00</td>\n",
       "      <td>05:45:00</td>\n",
       "      <td>LINEA_A</td>\n",
       "      <td>FLORES</td>\n",
       "      <td>1</td>\n",
       "      <td>0</td>\n",
       "      <td>0</td>\n",
       "      <td>1</td>\n",
       "      <td>82</td>\n",
       "    </tr>\n",
       "  </tbody>\n",
       "</table>\n",
       "</div>"
      ],
      "text/plain": [
       "              fecha     desde     hasta    linea       estacion  pagos  pases  \\\n",
       "1025451  01/02/2018  05:30:00  05:45:00  LINEA_A         ACOYTE      0      0   \n",
       "1025452  01/02/2018  05:30:00  05:45:00  LINEA_A        ALBERTI      1      0   \n",
       "1025453  01/02/2018  05:30:00  05:45:00  LINEA_A       CARABOBO      3      0   \n",
       "1025454  01/02/2018  05:30:00  05:45:00  LINEA_A  CASTRO BARROS      6      0   \n",
       "1025455  01/02/2018  05:30:00  05:45:00  LINEA_A         FLORES      1      0   \n",
       "\n",
       "         franquicia  total  id  \n",
       "1025451           0      0  42  \n",
       "1025452           0      1  37  \n",
       "1025453           0      3  75  \n",
       "1025454           0      6  40  \n",
       "1025455           0      1  82  "
      ]
     },
     "execution_count": 36,
     "metadata": {},
     "output_type": "execute_result"
    }
   ],
   "source": [
    "db_columnas.columns =  ['fecha','desde','hasta','linea','estacion','pagos','pases','franquicia','total','id']\n",
    "db_columnas.head()"
   ]
  },
  {
   "cell_type": "code",
   "execution_count": 37,
   "metadata": {},
   "outputs": [
    {
     "data": {
      "text/html": [
       "<div>\n",
       "<style scoped>\n",
       "    .dataframe tbody tr th:only-of-type {\n",
       "        vertical-align: middle;\n",
       "    }\n",
       "\n",
       "    .dataframe tbody tr th {\n",
       "        vertical-align: top;\n",
       "    }\n",
       "\n",
       "    .dataframe thead th {\n",
       "        text-align: right;\n",
       "    }\n",
       "</style>\n",
       "<table border=\"1\" class=\"dataframe\">\n",
       "  <thead>\n",
       "    <tr style=\"text-align: right;\">\n",
       "      <th></th>\n",
       "      <th>FECHA</th>\n",
       "      <th>DESDE</th>\n",
       "      <th>HASTA</th>\n",
       "      <th>LINEA</th>\n",
       "      <th>ESTACION</th>\n",
       "      <th>PAGOS</th>\n",
       "      <th>PASES</th>\n",
       "      <th>FRANQUICIA</th>\n",
       "      <th>TOTAL</th>\n",
       "      <th>ID</th>\n",
       "    </tr>\n",
       "  </thead>\n",
       "  <tbody>\n",
       "    <tr>\n",
       "      <th>1025451</th>\n",
       "      <td>01/02/2018</td>\n",
       "      <td>05:30:00</td>\n",
       "      <td>05:45:00</td>\n",
       "      <td>LINEA_A</td>\n",
       "      <td>ACOYTE</td>\n",
       "      <td>0</td>\n",
       "      <td>0</td>\n",
       "      <td>0</td>\n",
       "      <td>0</td>\n",
       "      <td>42</td>\n",
       "    </tr>\n",
       "    <tr>\n",
       "      <th>1025452</th>\n",
       "      <td>01/02/2018</td>\n",
       "      <td>05:30:00</td>\n",
       "      <td>05:45:00</td>\n",
       "      <td>LINEA_A</td>\n",
       "      <td>ALBERTI</td>\n",
       "      <td>1</td>\n",
       "      <td>0</td>\n",
       "      <td>0</td>\n",
       "      <td>1</td>\n",
       "      <td>37</td>\n",
       "    </tr>\n",
       "    <tr>\n",
       "      <th>1025453</th>\n",
       "      <td>01/02/2018</td>\n",
       "      <td>05:30:00</td>\n",
       "      <td>05:45:00</td>\n",
       "      <td>LINEA_A</td>\n",
       "      <td>CARABOBO</td>\n",
       "      <td>3</td>\n",
       "      <td>0</td>\n",
       "      <td>0</td>\n",
       "      <td>3</td>\n",
       "      <td>75</td>\n",
       "    </tr>\n",
       "    <tr>\n",
       "      <th>1025454</th>\n",
       "      <td>01/02/2018</td>\n",
       "      <td>05:30:00</td>\n",
       "      <td>05:45:00</td>\n",
       "      <td>LINEA_A</td>\n",
       "      <td>CASTRO BARROS</td>\n",
       "      <td>6</td>\n",
       "      <td>0</td>\n",
       "      <td>0</td>\n",
       "      <td>6</td>\n",
       "      <td>40</td>\n",
       "    </tr>\n",
       "    <tr>\n",
       "      <th>1025455</th>\n",
       "      <td>01/02/2018</td>\n",
       "      <td>05:30:00</td>\n",
       "      <td>05:45:00</td>\n",
       "      <td>LINEA_A</td>\n",
       "      <td>FLORES</td>\n",
       "      <td>1</td>\n",
       "      <td>0</td>\n",
       "      <td>0</td>\n",
       "      <td>1</td>\n",
       "      <td>82</td>\n",
       "    </tr>\n",
       "  </tbody>\n",
       "</table>\n",
       "</div>"
      ],
      "text/plain": [
       "              FECHA     DESDE     HASTA    LINEA       ESTACION  PAGOS  PASES  \\\n",
       "1025451  01/02/2018  05:30:00  05:45:00  LINEA_A         ACOYTE      0      0   \n",
       "1025452  01/02/2018  05:30:00  05:45:00  LINEA_A        ALBERTI      1      0   \n",
       "1025453  01/02/2018  05:30:00  05:45:00  LINEA_A       CARABOBO      3      0   \n",
       "1025454  01/02/2018  05:30:00  05:45:00  LINEA_A  CASTRO BARROS      6      0   \n",
       "1025455  01/02/2018  05:30:00  05:45:00  LINEA_A         FLORES      1      0   \n",
       "\n",
       "         FRANQUICIA  TOTAL  ID  \n",
       "1025451           0      0  42  \n",
       "1025452           0      1  37  \n",
       "1025453           0      3  75  \n",
       "1025454           0      6  40  \n",
       "1025455           0      1  82  "
      ]
     },
     "execution_count": 37,
     "metadata": {},
     "output_type": "execute_result"
    }
   ],
   "source": [
    "#podemos hacer lo mismo que haríamos con cualquier lista\n",
    "db_columnas.columns = db_columnas.columns.map(str.upper)\n",
    "db_columnas.head()"
   ]
  },
  {
   "cell_type": "markdown",
   "metadata": {},
   "source": [
    "Si observamos cada columna, vemos que cada una de ellas es un objeto del tipo **Pandas Series** "
   ]
  },
  {
   "cell_type": "code",
   "execution_count": 38,
   "metadata": {},
   "outputs": [
    {
     "data": {
      "text/plain": [
       "pandas.core.series.Series"
      ]
     },
     "execution_count": 38,
     "metadata": {},
     "output_type": "execute_result"
    }
   ],
   "source": [
    "type(db.FECHA)"
   ]
  },
  {
   "cell_type": "markdown",
   "metadata": {},
   "source": [
    "Vemos tambien que tienen un indice:"
   ]
  },
  {
   "cell_type": "code",
   "execution_count": 39,
   "metadata": {},
   "outputs": [
    {
     "data": {
      "text/plain": [
       "1025451    01/02/2018\n",
       "1025452    01/02/2018\n",
       "1025453    01/02/2018\n",
       "1025454    01/02/2018\n",
       "1025455    01/02/2018\n",
       "Name: FECHA, dtype: object"
      ]
     },
     "execution_count": 39,
     "metadata": {},
     "output_type": "execute_result"
    }
   ],
   "source": [
    "db.FECHA.head()"
   ]
  },
  {
   "cell_type": "markdown",
   "metadata": {},
   "source": [
    "Si vemos las otras columnas, todas tienen el mismo indice:"
   ]
  },
  {
   "cell_type": "code",
   "execution_count": 40,
   "metadata": {},
   "outputs": [
    {
     "data": {
      "text/plain": [
       "1025451    05:30:00\n",
       "1025452    05:30:00\n",
       "1025453    05:30:00\n",
       "1025454    05:30:00\n",
       "1025455    05:30:00\n",
       "Name: DESDE, dtype: object"
      ]
     },
     "execution_count": 40,
     "metadata": {},
     "output_type": "execute_result"
    }
   ],
   "source": [
    "db.DESDE.head()"
   ]
  },
  {
   "cell_type": "markdown",
   "metadata": {},
   "source": [
    "Por lo tanto podemos pensar en que los **Dataframes** son un conjunto de **Series**, que comparten el mismo índice"
   ]
  },
  {
   "cell_type": "markdown",
   "metadata": {},
   "source": [
    "##### Pequeña disgresión sobre *loc* e *iloc*\n",
    "*iloc* sirve para obtener datos en base a su ubicación en la tabla, que es relativa, ya que uno puede ordenar la tabla de diferentes modos. *loc* selecciona en base a los valores "
   ]
  },
  {
   "cell_type": "code",
   "execution_count": 41,
   "metadata": {},
   "outputs": [
    {
     "ename": "KeyError",
     "evalue": "'the label [0] is not in the [index]'",
     "output_type": "error",
     "traceback": [
      "\u001b[0;31m---------------------------------------------------------------------------\u001b[0m",
      "\u001b[0;31mKeyError\u001b[0m                                  Traceback (most recent call last)",
      "\u001b[0;32m~/anaconda3/lib/python3.6/site-packages/pandas/core/indexing.py\u001b[0m in \u001b[0;36m_validate_key\u001b[0;34m(self, key, axis)\u001b[0m\n\u001b[1;32m   1789\u001b[0m                 \u001b[0;32mif\u001b[0m \u001b[0;32mnot\u001b[0m \u001b[0max\u001b[0m\u001b[0;34m.\u001b[0m\u001b[0mcontains\u001b[0m\u001b[0;34m(\u001b[0m\u001b[0mkey\u001b[0m\u001b[0;34m)\u001b[0m\u001b[0;34m:\u001b[0m\u001b[0;34m\u001b[0m\u001b[0m\n\u001b[0;32m-> 1790\u001b[0;31m                     \u001b[0merror\u001b[0m\u001b[0;34m(\u001b[0m\u001b[0;34m)\u001b[0m\u001b[0;34m\u001b[0m\u001b[0m\n\u001b[0m\u001b[1;32m   1791\u001b[0m             \u001b[0;32mexcept\u001b[0m \u001b[0mTypeError\u001b[0m \u001b[0;32mas\u001b[0m \u001b[0me\u001b[0m\u001b[0;34m:\u001b[0m\u001b[0;34m\u001b[0m\u001b[0m\n",
      "\u001b[0;32m~/anaconda3/lib/python3.6/site-packages/pandas/core/indexing.py\u001b[0m in \u001b[0;36merror\u001b[0;34m()\u001b[0m\n\u001b[1;32m   1784\u001b[0m                                .format(key=key,\n\u001b[0;32m-> 1785\u001b[0;31m                                        axis=self.obj._get_axis_name(axis)))\n\u001b[0m\u001b[1;32m   1786\u001b[0m \u001b[0;34m\u001b[0m\u001b[0m\n",
      "\u001b[0;31mKeyError\u001b[0m: 'the label [0] is not in the [index]'",
      "\nDuring handling of the above exception, another exception occurred:\n",
      "\u001b[0;31mKeyError\u001b[0m                                  Traceback (most recent call last)",
      "\u001b[0;32m<ipython-input-41-0131a4b680e2>\u001b[0m in \u001b[0;36m<module>\u001b[0;34m()\u001b[0m\n\u001b[1;32m      2\u001b[0m \u001b[0;31m#Si leemos el texto del error nos da indicios de esta situación\u001b[0m\u001b[0;34m\u001b[0m\u001b[0;34m\u001b[0m\u001b[0m\n\u001b[1;32m      3\u001b[0m \u001b[0;34m\u001b[0m\u001b[0m\n\u001b[0;32m----> 4\u001b[0;31m \u001b[0mdb\u001b[0m\u001b[0;34m.\u001b[0m\u001b[0mFECHA\u001b[0m\u001b[0;34m.\u001b[0m\u001b[0mloc\u001b[0m\u001b[0;34m[\u001b[0m\u001b[0;36m0\u001b[0m\u001b[0;34m]\u001b[0m\u001b[0;34m\u001b[0m\u001b[0m\n\u001b[0m",
      "\u001b[0;32m~/anaconda3/lib/python3.6/site-packages/pandas/core/indexing.py\u001b[0m in \u001b[0;36m__getitem__\u001b[0;34m(self, key)\u001b[0m\n\u001b[1;32m   1476\u001b[0m \u001b[0;34m\u001b[0m\u001b[0m\n\u001b[1;32m   1477\u001b[0m             \u001b[0mmaybe_callable\u001b[0m \u001b[0;34m=\u001b[0m \u001b[0mcom\u001b[0m\u001b[0;34m.\u001b[0m\u001b[0m_apply_if_callable\u001b[0m\u001b[0;34m(\u001b[0m\u001b[0mkey\u001b[0m\u001b[0;34m,\u001b[0m \u001b[0mself\u001b[0m\u001b[0;34m.\u001b[0m\u001b[0mobj\u001b[0m\u001b[0;34m)\u001b[0m\u001b[0;34m\u001b[0m\u001b[0m\n\u001b[0;32m-> 1478\u001b[0;31m             \u001b[0;32mreturn\u001b[0m \u001b[0mself\u001b[0m\u001b[0;34m.\u001b[0m\u001b[0m_getitem_axis\u001b[0m\u001b[0;34m(\u001b[0m\u001b[0mmaybe_callable\u001b[0m\u001b[0;34m,\u001b[0m \u001b[0maxis\u001b[0m\u001b[0;34m=\u001b[0m\u001b[0maxis\u001b[0m\u001b[0;34m)\u001b[0m\u001b[0;34m\u001b[0m\u001b[0m\n\u001b[0m\u001b[1;32m   1479\u001b[0m \u001b[0;34m\u001b[0m\u001b[0m\n\u001b[1;32m   1480\u001b[0m     \u001b[0;32mdef\u001b[0m \u001b[0m_is_scalar_access\u001b[0m\u001b[0;34m(\u001b[0m\u001b[0mself\u001b[0m\u001b[0;34m,\u001b[0m \u001b[0mkey\u001b[0m\u001b[0;34m)\u001b[0m\u001b[0;34m:\u001b[0m\u001b[0;34m\u001b[0m\u001b[0m\n",
      "\u001b[0;32m~/anaconda3/lib/python3.6/site-packages/pandas/core/indexing.py\u001b[0m in \u001b[0;36m_getitem_axis\u001b[0;34m(self, key, axis)\u001b[0m\n\u001b[1;32m   1909\u001b[0m \u001b[0;34m\u001b[0m\u001b[0m\n\u001b[1;32m   1910\u001b[0m         \u001b[0;31m# fall thru to straight lookup\u001b[0m\u001b[0;34m\u001b[0m\u001b[0;34m\u001b[0m\u001b[0m\n\u001b[0;32m-> 1911\u001b[0;31m         \u001b[0mself\u001b[0m\u001b[0;34m.\u001b[0m\u001b[0m_validate_key\u001b[0m\u001b[0;34m(\u001b[0m\u001b[0mkey\u001b[0m\u001b[0;34m,\u001b[0m \u001b[0maxis\u001b[0m\u001b[0;34m)\u001b[0m\u001b[0;34m\u001b[0m\u001b[0m\n\u001b[0m\u001b[1;32m   1912\u001b[0m         \u001b[0;32mreturn\u001b[0m \u001b[0mself\u001b[0m\u001b[0;34m.\u001b[0m\u001b[0m_get_label\u001b[0m\u001b[0;34m(\u001b[0m\u001b[0mkey\u001b[0m\u001b[0;34m,\u001b[0m \u001b[0maxis\u001b[0m\u001b[0;34m=\u001b[0m\u001b[0maxis\u001b[0m\u001b[0;34m)\u001b[0m\u001b[0;34m\u001b[0m\u001b[0m\n\u001b[1;32m   1913\u001b[0m \u001b[0;34m\u001b[0m\u001b[0m\n",
      "\u001b[0;32m~/anaconda3/lib/python3.6/site-packages/pandas/core/indexing.py\u001b[0m in \u001b[0;36m_validate_key\u001b[0;34m(self, key, axis)\u001b[0m\n\u001b[1;32m   1796\u001b[0m                 \u001b[0;32mraise\u001b[0m\u001b[0;34m\u001b[0m\u001b[0m\n\u001b[1;32m   1797\u001b[0m             \u001b[0;32mexcept\u001b[0m\u001b[0;34m:\u001b[0m\u001b[0;34m\u001b[0m\u001b[0m\n\u001b[0;32m-> 1798\u001b[0;31m                 \u001b[0merror\u001b[0m\u001b[0;34m(\u001b[0m\u001b[0;34m)\u001b[0m\u001b[0;34m\u001b[0m\u001b[0m\n\u001b[0m\u001b[1;32m   1799\u001b[0m \u001b[0;34m\u001b[0m\u001b[0m\n\u001b[1;32m   1800\u001b[0m     \u001b[0;32mdef\u001b[0m \u001b[0m_is_scalar_access\u001b[0m\u001b[0;34m(\u001b[0m\u001b[0mself\u001b[0m\u001b[0;34m,\u001b[0m \u001b[0mkey\u001b[0m\u001b[0;34m)\u001b[0m\u001b[0;34m:\u001b[0m\u001b[0;34m\u001b[0m\u001b[0m\n",
      "\u001b[0;32m~/anaconda3/lib/python3.6/site-packages/pandas/core/indexing.py\u001b[0m in \u001b[0;36merror\u001b[0;34m()\u001b[0m\n\u001b[1;32m   1783\u001b[0m                 raise KeyError(u\"the label [{key}] is not in the [{axis}]\"\n\u001b[1;32m   1784\u001b[0m                                .format(key=key,\n\u001b[0;32m-> 1785\u001b[0;31m                                        axis=self.obj._get_axis_name(axis)))\n\u001b[0m\u001b[1;32m   1786\u001b[0m \u001b[0;34m\u001b[0m\u001b[0m\n\u001b[1;32m   1787\u001b[0m             \u001b[0;32mtry\u001b[0m\u001b[0;34m:\u001b[0m\u001b[0;34m\u001b[0m\u001b[0m\n",
      "\u001b[0;31mKeyError\u001b[0m: 'the label [0] is not in the [index]'"
     ]
    }
   ],
   "source": [
    "#este comando devuelve error porque no existe el indice 0, porque lo filtramos previamente. \n",
    "#Si leemos el texto del error nos da indicios de esta situación\n",
    "\n",
    "db.FECHA.loc[0]"
   ]
  },
  {
   "cell_type": "code",
   "execution_count": 48,
   "metadata": {},
   "outputs": [
    {
     "data": {
      "text/html": [
       "<div>\n",
       "<style scoped>\n",
       "    .dataframe tbody tr th:only-of-type {\n",
       "        vertical-align: middle;\n",
       "    }\n",
       "\n",
       "    .dataframe tbody tr th {\n",
       "        vertical-align: top;\n",
       "    }\n",
       "\n",
       "    .dataframe thead th {\n",
       "        text-align: right;\n",
       "    }\n",
       "</style>\n",
       "<table border=\"1\" class=\"dataframe\">\n",
       "  <thead>\n",
       "    <tr style=\"text-align: right;\">\n",
       "      <th></th>\n",
       "      <th>FECHA</th>\n",
       "      <th>DESDE</th>\n",
       "      <th>HASTA</th>\n",
       "    </tr>\n",
       "  </thead>\n",
       "  <tbody>\n",
       "    <tr>\n",
       "      <th>1025451</th>\n",
       "      <td>01/02/2018</td>\n",
       "      <td>05:30:00</td>\n",
       "      <td>05:45:00</td>\n",
       "    </tr>\n",
       "    <tr>\n",
       "      <th>1025452</th>\n",
       "      <td>01/02/2018</td>\n",
       "      <td>05:30:00</td>\n",
       "      <td>05:45:00</td>\n",
       "    </tr>\n",
       "  </tbody>\n",
       "</table>\n",
       "</div>"
      ],
      "text/plain": [
       "              FECHA     DESDE     HASTA\n",
       "1025451  01/02/2018  05:30:00  05:45:00\n",
       "1025452  01/02/2018  05:30:00  05:45:00"
      ]
     },
     "execution_count": 48,
     "metadata": {},
     "output_type": "execute_result"
    }
   ],
   "source": [
    "#lo mismo vale para seleccionar dataframes\n",
    "db.iloc[:2,:3]"
   ]
  },
  {
   "cell_type": "code",
   "execution_count": 49,
   "metadata": {},
   "outputs": [],
   "source": [
    "#esto produce un error\n",
    "#db.loc[:2,:3]"
   ]
  },
  {
   "cell_type": "code",
   "execution_count": 50,
   "metadata": {},
   "outputs": [
    {
     "data": {
      "text/html": [
       "<div>\n",
       "<style scoped>\n",
       "    .dataframe tbody tr th:only-of-type {\n",
       "        vertical-align: middle;\n",
       "    }\n",
       "\n",
       "    .dataframe tbody tr th {\n",
       "        vertical-align: top;\n",
       "    }\n",
       "\n",
       "    .dataframe thead th {\n",
       "        text-align: right;\n",
       "    }\n",
       "</style>\n",
       "<table border=\"1\" class=\"dataframe\">\n",
       "  <thead>\n",
       "    <tr style=\"text-align: right;\">\n",
       "      <th></th>\n",
       "      <th>FECHA</th>\n",
       "      <th>DESDE</th>\n",
       "      <th>HASTA</th>\n",
       "    </tr>\n",
       "  </thead>\n",
       "  <tbody>\n",
       "    <tr>\n",
       "      <th>1025451</th>\n",
       "      <td>01/02/2018</td>\n",
       "      <td>05:30:00</td>\n",
       "      <td>05:45:00</td>\n",
       "    </tr>\n",
       "    <tr>\n",
       "      <th>1025452</th>\n",
       "      <td>01/02/2018</td>\n",
       "      <td>05:30:00</td>\n",
       "      <td>05:45:00</td>\n",
       "    </tr>\n",
       "  </tbody>\n",
       "</table>\n",
       "</div>"
      ],
      "text/plain": [
       "              FECHA     DESDE     HASTA\n",
       "1025451  01/02/2018  05:30:00  05:45:00\n",
       "1025452  01/02/2018  05:30:00  05:45:00"
      ]
     },
     "execution_count": 50,
     "metadata": {},
     "output_type": "execute_result"
    }
   ],
   "source": [
    "db.loc[[1025451,1025452],['FECHA','DESDE','HASTA']]"
   ]
  },
  {
   "cell_type": "markdown",
   "metadata": {},
   "source": [
    "##### Fin de la pequeña disgresión sobre *loc* e *iloc*\n"
   ]
  },
  {
   "cell_type": "markdown",
   "metadata": {},
   "source": [
    "## 5 Manipulacion de datos y crear columnas\n",
    "\n",
    "Ahora vamos a ver el sentido de todo ese limar y pulir de la clase anterior. Queremos saber qué día es cada registro. Para eso vamos a tener que hacerle transformaciones a los datos."
   ]
  },
  {
   "cell_type": "code",
   "execution_count": 51,
   "metadata": {},
   "outputs": [
    {
     "data": {
      "text/plain": [
       "'01/02/2018'"
      ]
     },
     "execution_count": 51,
     "metadata": {},
     "output_type": "execute_result"
    }
   ],
   "source": [
    "db.FECHA.iloc[0]"
   ]
  },
  {
   "cell_type": "code",
   "execution_count": 52,
   "metadata": {},
   "outputs": [
    {
     "data": {
      "text/plain": [
       "str"
      ]
     },
     "execution_count": 52,
     "metadata": {},
     "output_type": "execute_result"
    }
   ],
   "source": [
    "type(db.FECHA.iloc[0])"
   ]
  },
  {
   "cell_type": "markdown",
   "metadata": {},
   "source": [
    "Como vemos es un texto simple. Pero hay diversas maneras de obtener el resultado que queremos. Comunmente no existe una única manera de solucionar un problema en Python, en cualquier lenguaje de programación, o en la vida misma. Esto da la sensación de libertad pero a la vez abruma.\n",
    "\n",
    "Comencemos con el más sencillo. Sabemos que el día son los 2 primeros dígitos de la fecha."
   ]
  },
  {
   "cell_type": "code",
   "execution_count": 53,
   "metadata": {},
   "outputs": [
    {
     "data": {
      "text/plain": [
       "'01'"
      ]
     },
     "execution_count": 53,
     "metadata": {},
     "output_type": "execute_result"
    }
   ],
   "source": [
    "db.FECHA.iloc[0][:2]"
   ]
  },
  {
   "cell_type": "markdown",
   "metadata": {},
   "source": [
    "Pero nos gustaria que nos devuelva un número, no un caracter de texto"
   ]
  },
  {
   "cell_type": "code",
   "execution_count": 54,
   "metadata": {},
   "outputs": [
    {
     "data": {
      "text/plain": [
       "1"
      ]
     },
     "execution_count": 54,
     "metadata": {},
     "output_type": "execute_result"
    }
   ],
   "source": [
    "int(db.FECHA.iloc[0][:2])"
   ]
  },
  {
   "cell_type": "markdown",
   "metadata": {},
   "source": [
    "Perfecto, ahora que sabemos lo que tenemos que hacer con un caso típico, podemos hacerlo para todos los casos. ¿Cómo? En la clase anterior vimos 3 modos:\n",
    "\n",
    "* for loop\n",
    "* list comprehension \n",
    "* map\n",
    "\n",
    "Tenemos que repetir una misma tarea rutinaria una y otra vez sobre toda una serie de elementos. Esto es una buena indicación de que deberíamos crear una función."
   ]
  },
  {
   "cell_type": "code",
   "execution_count": 55,
   "metadata": {},
   "outputs": [],
   "source": [
    "def obtener_el_dia(fecha):\n",
    "    '''\n",
    "    Esta función toma una fecha en texto en formato dd/mm/yyyy\n",
    "    y devuelve el día en un numero entero\n",
    "    '''\n",
    "    return int(fecha[:2])"
   ]
  },
  {
   "cell_type": "markdown",
   "metadata": {},
   "source": [
    "Testeemos nuestra función"
   ]
  },
  {
   "cell_type": "code",
   "execution_count": 56,
   "metadata": {},
   "outputs": [
    {
     "data": {
      "text/plain": [
       "1"
      ]
     },
     "execution_count": 56,
     "metadata": {},
     "output_type": "execute_result"
    }
   ],
   "source": [
    "obtener_el_dia(db.FECHA.iloc[0])"
   ]
  },
  {
   "cell_type": "code",
   "execution_count": 57,
   "metadata": {},
   "outputs": [
    {
     "name": "stdout",
     "output_type": "stream",
     "text": [
      "Help on function obtener_el_dia in module __main__:\n",
      "\n",
      "obtener_el_dia(fecha)\n",
      "    Esta función toma una fecha en texto en formato dd/mm/yyyy\n",
      "    y devuelve el día en un numero entero\n",
      "\n"
     ]
    }
   ],
   "source": [
    "help(obtener_el_dia)"
   ]
  },
  {
   "cell_type": "code",
   "execution_count": 58,
   "metadata": {},
   "outputs": [],
   "source": [
    "import time #esto nos va a permitir ver cuanto tarda en correr nuestro codigo y ver la diferencia en los 3 metodos"
   ]
  },
  {
   "cell_type": "code",
   "execution_count": 59,
   "metadata": {},
   "outputs": [
    {
     "name": "stdout",
     "output_type": "stream",
     "text": [
      "tardo en ejecutar 30 segundos\n"
     ]
    }
   ],
   "source": [
    "#aplicamos nuestra funcion a las fechas de los 3 modos\n",
    "#NOTEN COMO PODEMOS UTILIZAR EL INDEX DEL PANDAS DATAFRAME Y COMO USAMOS LOC Y NO ILOC\n",
    "start = time.time()\n",
    "fechas_loop = []\n",
    "for i in db.index:\n",
    "    dia = obtener_el_dia(db.FECHA.loc[i])\n",
    "    fechas_loop.append(dia) \n",
    "    #noten como append modifica la lista fehcas_loop sin tener que guardar el resultado en una nueva variable\n",
    "end = time.time()\n",
    "print('tardo en ejecutar',round(end - start),'segundos')"
   ]
  },
  {
   "cell_type": "code",
   "execution_count": 60,
   "metadata": {},
   "outputs": [
    {
     "name": "stdout",
     "output_type": "stream",
     "text": [
      "tardo en ejecutar 29 segundos\n"
     ]
    }
   ],
   "source": [
    "#lis comprehension\n",
    "start = time.time()\n",
    "fechas_list_comp = [obtener_el_dia(db.FECHA.loc[i]) for i in db.index]\n",
    "end = time.time()\n",
    "print('tardo en ejecutar',round(end - start),'segundos')"
   ]
  },
  {
   "cell_type": "code",
   "execution_count": 61,
   "metadata": {},
   "outputs": [
    {
     "data": {
      "text/plain": [
       "True"
      ]
     },
     "execution_count": 61,
     "metadata": {},
     "output_type": "execute_result"
    }
   ],
   "source": [
    "#ambas producen la misma lista?\n",
    "fechas_list_comp == fechas_loop"
   ]
  },
  {
   "cell_type": "code",
   "execution_count": 62,
   "metadata": {},
   "outputs": [
    {
     "name": "stdout",
     "output_type": "stream",
     "text": [
      "tardo en ejecutar 0 segundos\n"
     ]
    }
   ],
   "source": [
    "#map\n",
    "start = time.time()\n",
    "fechas_map = db.FECHA.map(obtener_el_dia)\n",
    "end = time.time()\n",
    "print('tardo en ejecutar',round(end - start),'segundos')\n"
   ]
  },
  {
   "cell_type": "code",
   "execution_count": 63,
   "metadata": {},
   "outputs": [
    {
     "data": {
      "text/plain": [
       "list"
      ]
     },
     "execution_count": 63,
     "metadata": {},
     "output_type": "execute_result"
    }
   ],
   "source": [
    "type(fechas_list_comp)"
   ]
  },
  {
   "cell_type": "code",
   "execution_count": 64,
   "metadata": {},
   "outputs": [
    {
     "data": {
      "text/plain": [
       "pandas.core.series.Series"
      ]
     },
     "execution_count": 64,
     "metadata": {},
     "output_type": "execute_result"
    }
   ],
   "source": [
    "type(fechas_map)"
   ]
  },
  {
   "cell_type": "code",
   "execution_count": 65,
   "metadata": {},
   "outputs": [
    {
     "data": {
      "text/plain": [
       "922190"
      ]
     },
     "execution_count": 65,
     "metadata": {},
     "output_type": "execute_result"
    }
   ],
   "source": [
    "#produce lo mismo? si y no. El resultado es una serie de pandas, no una lista. \n",
    "#Al evaluarla contra la lista, evalua punto por punto\n",
    "(fechas_map == fechas_list_comp).sum()"
   ]
  },
  {
   "cell_type": "code",
   "execution_count": 66,
   "metadata": {},
   "outputs": [
    {
     "data": {
      "text/plain": [
       "(922190, 10)"
      ]
     },
     "execution_count": 66,
     "metadata": {},
     "output_type": "execute_result"
    }
   ],
   "source": [
    "db.shape"
   ]
  },
  {
   "cell_type": "code",
   "execution_count": 67,
   "metadata": {},
   "outputs": [
    {
     "data": {
      "text/plain": [
       "True"
      ]
     },
     "execution_count": 67,
     "metadata": {},
     "output_type": "execute_result"
    }
   ],
   "source": [
    "#si lo convertimos primero en una lista, ahi si podemos comparar peras con manzamas, lista con lista\n",
    "list(fechas_map) == fechas_list_comp"
   ]
  },
  {
   "cell_type": "code",
   "execution_count": 68,
   "metadata": {},
   "outputs": [],
   "source": [
    "#guardamos nuestros dias en una nueva columna de nuestro dataframe\n",
    "db['dia'] = fechas_map"
   ]
  },
  {
   "cell_type": "code",
   "execution_count": 69,
   "metadata": {},
   "outputs": [],
   "source": [
    "#esta es una forma mas correctares\n",
    "db.loc[:,'dia'] = fechas_map"
   ]
  },
  {
   "cell_type": "code",
   "execution_count": 70,
   "metadata": {},
   "outputs": [
    {
     "data": {
      "text/html": [
       "<div>\n",
       "<style scoped>\n",
       "    .dataframe tbody tr th:only-of-type {\n",
       "        vertical-align: middle;\n",
       "    }\n",
       "\n",
       "    .dataframe tbody tr th {\n",
       "        vertical-align: top;\n",
       "    }\n",
       "\n",
       "    .dataframe thead th {\n",
       "        text-align: right;\n",
       "    }\n",
       "</style>\n",
       "<table border=\"1\" class=\"dataframe\">\n",
       "  <thead>\n",
       "    <tr style=\"text-align: right;\">\n",
       "      <th></th>\n",
       "      <th>FECHA</th>\n",
       "      <th>DESDE</th>\n",
       "      <th>HASTA</th>\n",
       "      <th>LINEA</th>\n",
       "      <th>ESTACION</th>\n",
       "      <th>PAX_PAGOS</th>\n",
       "      <th>PAX_PASES_PAGOS</th>\n",
       "      <th>PAX_FRANQ</th>\n",
       "      <th>TOTAL</th>\n",
       "      <th>ID</th>\n",
       "      <th>dia</th>\n",
       "    </tr>\n",
       "  </thead>\n",
       "  <tbody>\n",
       "    <tr>\n",
       "      <th>1025451</th>\n",
       "      <td>01/02/2018</td>\n",
       "      <td>05:30:00</td>\n",
       "      <td>05:45:00</td>\n",
       "      <td>LINEA_A</td>\n",
       "      <td>ACOYTE</td>\n",
       "      <td>0</td>\n",
       "      <td>0</td>\n",
       "      <td>0</td>\n",
       "      <td>0</td>\n",
       "      <td>42</td>\n",
       "      <td>1</td>\n",
       "    </tr>\n",
       "    <tr>\n",
       "      <th>1025452</th>\n",
       "      <td>01/02/2018</td>\n",
       "      <td>05:30:00</td>\n",
       "      <td>05:45:00</td>\n",
       "      <td>LINEA_A</td>\n",
       "      <td>ALBERTI</td>\n",
       "      <td>1</td>\n",
       "      <td>0</td>\n",
       "      <td>0</td>\n",
       "      <td>1</td>\n",
       "      <td>37</td>\n",
       "      <td>1</td>\n",
       "    </tr>\n",
       "    <tr>\n",
       "      <th>1025453</th>\n",
       "      <td>01/02/2018</td>\n",
       "      <td>05:30:00</td>\n",
       "      <td>05:45:00</td>\n",
       "      <td>LINEA_A</td>\n",
       "      <td>CARABOBO</td>\n",
       "      <td>3</td>\n",
       "      <td>0</td>\n",
       "      <td>0</td>\n",
       "      <td>3</td>\n",
       "      <td>75</td>\n",
       "      <td>1</td>\n",
       "    </tr>\n",
       "    <tr>\n",
       "      <th>1025454</th>\n",
       "      <td>01/02/2018</td>\n",
       "      <td>05:30:00</td>\n",
       "      <td>05:45:00</td>\n",
       "      <td>LINEA_A</td>\n",
       "      <td>CASTRO BARROS</td>\n",
       "      <td>6</td>\n",
       "      <td>0</td>\n",
       "      <td>0</td>\n",
       "      <td>6</td>\n",
       "      <td>40</td>\n",
       "      <td>1</td>\n",
       "    </tr>\n",
       "    <tr>\n",
       "      <th>1025455</th>\n",
       "      <td>01/02/2018</td>\n",
       "      <td>05:30:00</td>\n",
       "      <td>05:45:00</td>\n",
       "      <td>LINEA_A</td>\n",
       "      <td>FLORES</td>\n",
       "      <td>1</td>\n",
       "      <td>0</td>\n",
       "      <td>0</td>\n",
       "      <td>1</td>\n",
       "      <td>82</td>\n",
       "      <td>1</td>\n",
       "    </tr>\n",
       "  </tbody>\n",
       "</table>\n",
       "</div>"
      ],
      "text/plain": [
       "              FECHA     DESDE     HASTA    LINEA       ESTACION  PAX_PAGOS  \\\n",
       "1025451  01/02/2018  05:30:00  05:45:00  LINEA_A         ACOYTE          0   \n",
       "1025452  01/02/2018  05:30:00  05:45:00  LINEA_A        ALBERTI          1   \n",
       "1025453  01/02/2018  05:30:00  05:45:00  LINEA_A       CARABOBO          3   \n",
       "1025454  01/02/2018  05:30:00  05:45:00  LINEA_A  CASTRO BARROS          6   \n",
       "1025455  01/02/2018  05:30:00  05:45:00  LINEA_A         FLORES          1   \n",
       "\n",
       "         PAX_PASES_PAGOS  PAX_FRANQ  TOTAL  ID  dia  \n",
       "1025451                0          0      0  42    1  \n",
       "1025452                0          0      1  37    1  \n",
       "1025453                0          0      3  75    1  \n",
       "1025454                0          0      6  40    1  \n",
       "1025455                0          0      1  82    1  "
      ]
     },
     "execution_count": 70,
     "metadata": {},
     "output_type": "execute_result"
    }
   ],
   "source": [
    "db.head()"
   ]
  },
  {
   "cell_type": "markdown",
   "metadata": {},
   "source": [
    "Ahora, nosotros podemos saber si el dia fue el 1ero o el 15. Pero al analizar flujo de transporte, es más importante saber si fue lunes o domingo que si fue principio o fin de mes. Entonces queremos saber que dia de la semana fue ese dia"
   ]
  },
  {
   "cell_type": "code",
   "execution_count": 71,
   "metadata": {},
   "outputs": [],
   "source": [
    "from datetime import datetime #esta es una nueva libreria que me deja manipular fechas"
   ]
  },
  {
   "cell_type": "markdown",
   "metadata": {},
   "source": [
    "Esta librería nos va a dejar trabajar con objetos de tipo *datetime* que tienen algunas propiedades que nos van a resultar convenientes"
   ]
  },
  {
   "cell_type": "code",
   "execution_count": 72,
   "metadata": {},
   "outputs": [
    {
     "data": {
      "text/plain": [
       "datetime.datetime(2018, 2, 1, 0, 0)"
      ]
     },
     "execution_count": 72,
     "metadata": {},
     "output_type": "execute_result"
    }
   ],
   "source": [
    "fecha = datetime.strptime(db.FECHA.iloc[0],'%d/%m/%Y')\n",
    "fecha"
   ]
  },
  {
   "cell_type": "code",
   "execution_count": 73,
   "metadata": {},
   "outputs": [
    {
     "data": {
      "text/plain": [
       "datetime.datetime"
      ]
     },
     "execution_count": 73,
     "metadata": {},
     "output_type": "execute_result"
    }
   ],
   "source": [
    "type(fecha)"
   ]
  },
  {
   "cell_type": "markdown",
   "metadata": {},
   "source": [
    "Una de esas propiedades es la de obtener el día calendario con el metodo o función *weekday()*"
   ]
  },
  {
   "cell_type": "code",
   "execution_count": 74,
   "metadata": {},
   "outputs": [
    {
     "data": {
      "text/plain": [
       "3"
      ]
     },
     "execution_count": 74,
     "metadata": {},
     "output_type": "execute_result"
    }
   ],
   "source": [
    "datetime.strptime(db.FECHA.iloc[0],'%d/%m/%Y').weekday()"
   ]
  },
  {
   "cell_type": "code",
   "execution_count": 75,
   "metadata": {},
   "outputs": [
    {
     "name": "stdout",
     "output_type": "stream",
     "text": [
      "Help on method_descriptor:\n",
      "\n",
      "weekday(...)\n",
      "    Return the day of the week represented by the date.\n",
      "    Monday == 0 ... Sunday == 6\n",
      "\n"
     ]
    }
   ],
   "source": [
    "help(datetime.weekday)"
   ]
  },
  {
   "cell_type": "code",
   "execution_count": 76,
   "metadata": {},
   "outputs": [],
   "source": [
    "def obtener_dia_semana(fecha):\n",
    "    return datetime.strptime(fecha,'%d/%m/%Y').weekday()"
   ]
  },
  {
   "cell_type": "code",
   "execution_count": 77,
   "metadata": {},
   "outputs": [],
   "source": [
    "db.loc[:,'dia_semana'] = db.FECHA.map(obtener_dia_semana)"
   ]
  },
  {
   "cell_type": "code",
   "execution_count": 78,
   "metadata": {},
   "outputs": [
    {
     "data": {
      "text/plain": [
       "numpy.int64"
      ]
     },
     "execution_count": 78,
     "metadata": {},
     "output_type": "execute_result"
    }
   ],
   "source": [
    "type(db.dia_semana.iloc[0])"
   ]
  },
  {
   "cell_type": "code",
   "execution_count": 79,
   "metadata": {},
   "outputs": [],
   "source": [
    "db.dia_semana = db.dia_semana.replace({0:'lunes',\n",
    "                                      1:'martes',\n",
    "                                      2:'miercoles',\n",
    "                                      3:'jueves',\n",
    "                                      4:'viernes',\n",
    "                                      5:'sabado',\n",
    "                                      6:'domingo'})"
   ]
  },
  {
   "cell_type": "code",
   "execution_count": 80,
   "metadata": {},
   "outputs": [
    {
     "data": {
      "text/html": [
       "<div>\n",
       "<style scoped>\n",
       "    .dataframe tbody tr th:only-of-type {\n",
       "        vertical-align: middle;\n",
       "    }\n",
       "\n",
       "    .dataframe tbody tr th {\n",
       "        vertical-align: top;\n",
       "    }\n",
       "\n",
       "    .dataframe thead th {\n",
       "        text-align: right;\n",
       "    }\n",
       "</style>\n",
       "<table border=\"1\" class=\"dataframe\">\n",
       "  <thead>\n",
       "    <tr style=\"text-align: right;\">\n",
       "      <th></th>\n",
       "      <th>FECHA</th>\n",
       "      <th>DESDE</th>\n",
       "      <th>HASTA</th>\n",
       "      <th>LINEA</th>\n",
       "      <th>ESTACION</th>\n",
       "      <th>PAX_PAGOS</th>\n",
       "      <th>PAX_PASES_PAGOS</th>\n",
       "      <th>PAX_FRANQ</th>\n",
       "      <th>TOTAL</th>\n",
       "      <th>ID</th>\n",
       "      <th>dia</th>\n",
       "      <th>dia_semana</th>\n",
       "    </tr>\n",
       "  </thead>\n",
       "  <tbody>\n",
       "    <tr>\n",
       "      <th>1025451</th>\n",
       "      <td>01/02/2018</td>\n",
       "      <td>05:30:00</td>\n",
       "      <td>05:45:00</td>\n",
       "      <td>LINEA_A</td>\n",
       "      <td>ACOYTE</td>\n",
       "      <td>0</td>\n",
       "      <td>0</td>\n",
       "      <td>0</td>\n",
       "      <td>0</td>\n",
       "      <td>42</td>\n",
       "      <td>1</td>\n",
       "      <td>jueves</td>\n",
       "    </tr>\n",
       "    <tr>\n",
       "      <th>1025452</th>\n",
       "      <td>01/02/2018</td>\n",
       "      <td>05:30:00</td>\n",
       "      <td>05:45:00</td>\n",
       "      <td>LINEA_A</td>\n",
       "      <td>ALBERTI</td>\n",
       "      <td>1</td>\n",
       "      <td>0</td>\n",
       "      <td>0</td>\n",
       "      <td>1</td>\n",
       "      <td>37</td>\n",
       "      <td>1</td>\n",
       "      <td>jueves</td>\n",
       "    </tr>\n",
       "    <tr>\n",
       "      <th>1025453</th>\n",
       "      <td>01/02/2018</td>\n",
       "      <td>05:30:00</td>\n",
       "      <td>05:45:00</td>\n",
       "      <td>LINEA_A</td>\n",
       "      <td>CARABOBO</td>\n",
       "      <td>3</td>\n",
       "      <td>0</td>\n",
       "      <td>0</td>\n",
       "      <td>3</td>\n",
       "      <td>75</td>\n",
       "      <td>1</td>\n",
       "      <td>jueves</td>\n",
       "    </tr>\n",
       "    <tr>\n",
       "      <th>1025454</th>\n",
       "      <td>01/02/2018</td>\n",
       "      <td>05:30:00</td>\n",
       "      <td>05:45:00</td>\n",
       "      <td>LINEA_A</td>\n",
       "      <td>CASTRO BARROS</td>\n",
       "      <td>6</td>\n",
       "      <td>0</td>\n",
       "      <td>0</td>\n",
       "      <td>6</td>\n",
       "      <td>40</td>\n",
       "      <td>1</td>\n",
       "      <td>jueves</td>\n",
       "    </tr>\n",
       "    <tr>\n",
       "      <th>1025455</th>\n",
       "      <td>01/02/2018</td>\n",
       "      <td>05:30:00</td>\n",
       "      <td>05:45:00</td>\n",
       "      <td>LINEA_A</td>\n",
       "      <td>FLORES</td>\n",
       "      <td>1</td>\n",
       "      <td>0</td>\n",
       "      <td>0</td>\n",
       "      <td>1</td>\n",
       "      <td>82</td>\n",
       "      <td>1</td>\n",
       "      <td>jueves</td>\n",
       "    </tr>\n",
       "  </tbody>\n",
       "</table>\n",
       "</div>"
      ],
      "text/plain": [
       "              FECHA     DESDE     HASTA    LINEA       ESTACION  PAX_PAGOS  \\\n",
       "1025451  01/02/2018  05:30:00  05:45:00  LINEA_A         ACOYTE          0   \n",
       "1025452  01/02/2018  05:30:00  05:45:00  LINEA_A        ALBERTI          1   \n",
       "1025453  01/02/2018  05:30:00  05:45:00  LINEA_A       CARABOBO          3   \n",
       "1025454  01/02/2018  05:30:00  05:45:00  LINEA_A  CASTRO BARROS          6   \n",
       "1025455  01/02/2018  05:30:00  05:45:00  LINEA_A         FLORES          1   \n",
       "\n",
       "         PAX_PASES_PAGOS  PAX_FRANQ  TOTAL  ID  dia dia_semana  \n",
       "1025451                0          0      0  42    1     jueves  \n",
       "1025452                0          0      1  37    1     jueves  \n",
       "1025453                0          0      3  75    1     jueves  \n",
       "1025454                0          0      6  40    1     jueves  \n",
       "1025455                0          0      1  82    1     jueves  "
      ]
     },
     "execution_count": 80,
     "metadata": {},
     "output_type": "execute_result"
    }
   ],
   "source": [
    "db.head()"
   ]
  },
  {
   "cell_type": "markdown",
   "metadata": {},
   "source": [
    "## 6 Agrupación, transformación, agregación\n",
    "\n",
    "Una de las ventajas de conjuntos de datos ordenados es que permiten realizar transformaciones avanzadas de una manera más directa. Una de las más comunes es lo que se llama operaciones \"grupales\". Originadas en el mundo de las bases de datos, estas operaciones le permiten agrupar las observaciones en una tabla mediante una de sus etiquetas, índice o categoría, y aplicar operaciones en el grupo de datos por grupo.\n",
    "\n",
    "Por ejemplo, dada nuestra tabla ordenada por linea, estacion, dia, calcular la suma total de transacciones agrupadas por diferentes categorias.\n",
    "\n",
    "Para hacer esto en `pandas`, podemos usar uno de sus caballos de batalla, y también una de las razones por las que la biblioteca se ha vuelto tan popular: el operador` groupby`.\n"
   ]
  },
  {
   "cell_type": "code",
   "execution_count": 81,
   "metadata": {},
   "outputs": [
    {
     "data": {
      "text/html": [
       "<div>\n",
       "<style scoped>\n",
       "    .dataframe tbody tr th:only-of-type {\n",
       "        vertical-align: middle;\n",
       "    }\n",
       "\n",
       "    .dataframe tbody tr th {\n",
       "        vertical-align: top;\n",
       "    }\n",
       "\n",
       "    .dataframe thead th {\n",
       "        text-align: right;\n",
       "    }\n",
       "</style>\n",
       "<table border=\"1\" class=\"dataframe\">\n",
       "  <thead>\n",
       "    <tr style=\"text-align: right;\">\n",
       "      <th></th>\n",
       "      <th>TOTAL</th>\n",
       "    </tr>\n",
       "    <tr>\n",
       "      <th>dia_semana</th>\n",
       "      <th></th>\n",
       "    </tr>\n",
       "  </thead>\n",
       "  <tbody>\n",
       "    <tr>\n",
       "      <th>domingo</th>\n",
       "      <td>879555</td>\n",
       "    </tr>\n",
       "    <tr>\n",
       "      <th>jueves</th>\n",
       "      <td>4355152</td>\n",
       "    </tr>\n",
       "    <tr>\n",
       "      <th>lunes</th>\n",
       "      <td>3425814</td>\n",
       "    </tr>\n",
       "    <tr>\n",
       "      <th>martes</th>\n",
       "      <td>3492268</td>\n",
       "    </tr>\n",
       "    <tr>\n",
       "      <th>miercoles</th>\n",
       "      <td>4410555</td>\n",
       "    </tr>\n",
       "    <tr>\n",
       "      <th>sabado</th>\n",
       "      <td>1679069</td>\n",
       "    </tr>\n",
       "    <tr>\n",
       "      <th>viernes</th>\n",
       "      <td>4219833</td>\n",
       "    </tr>\n",
       "  </tbody>\n",
       "</table>\n",
       "</div>"
      ],
      "text/plain": [
       "              TOTAL\n",
       "dia_semana         \n",
       "domingo      879555\n",
       "jueves      4355152\n",
       "lunes       3425814\n",
       "martes      3492268\n",
       "miercoles   4410555\n",
       "sabado      1679069\n",
       "viernes     4219833"
      ]
     },
     "execution_count": 81,
     "metadata": {},
     "output_type": "execute_result"
    }
   ],
   "source": [
    "trx_por_dia = db.loc[:,['dia_semana','TOTAL']].groupby('dia_semana').sum()\n",
    "trx_por_dia.sort_values(by='dia_semana')"
   ]
  },
  {
   "cell_type": "code",
   "execution_count": 82,
   "metadata": {},
   "outputs": [
    {
     "data": {
      "text/html": [
       "<div>\n",
       "<style scoped>\n",
       "    .dataframe tbody tr th:only-of-type {\n",
       "        vertical-align: middle;\n",
       "    }\n",
       "\n",
       "    .dataframe tbody tr th {\n",
       "        vertical-align: top;\n",
       "    }\n",
       "\n",
       "    .dataframe thead tr th {\n",
       "        text-align: left;\n",
       "    }\n",
       "\n",
       "    .dataframe thead tr:last-of-type th {\n",
       "        text-align: right;\n",
       "    }\n",
       "</style>\n",
       "<table border=\"1\" class=\"dataframe\">\n",
       "  <thead>\n",
       "    <tr>\n",
       "      <th></th>\n",
       "      <th colspan=\"8\" halign=\"left\">TOTAL</th>\n",
       "    </tr>\n",
       "    <tr>\n",
       "      <th></th>\n",
       "      <th>count</th>\n",
       "      <th>mean</th>\n",
       "      <th>std</th>\n",
       "      <th>min</th>\n",
       "      <th>25%</th>\n",
       "      <th>50%</th>\n",
       "      <th>75%</th>\n",
       "      <th>max</th>\n",
       "    </tr>\n",
       "    <tr>\n",
       "      <th>LINEA</th>\n",
       "      <th></th>\n",
       "      <th></th>\n",
       "      <th></th>\n",
       "      <th></th>\n",
       "      <th></th>\n",
       "      <th></th>\n",
       "      <th></th>\n",
       "      <th></th>\n",
       "    </tr>\n",
       "  </thead>\n",
       "  <tbody>\n",
       "    <tr>\n",
       "      <th>LINEA_A</th>\n",
       "      <td>199694.0</td>\n",
       "      <td>21.029610</td>\n",
       "      <td>23.206348</td>\n",
       "      <td>0.0</td>\n",
       "      <td>5.0</td>\n",
       "      <td>14.0</td>\n",
       "      <td>28.0</td>\n",
       "      <td>246.0</td>\n",
       "    </tr>\n",
       "    <tr>\n",
       "      <th>LINEA_B</th>\n",
       "      <td>220342.0</td>\n",
       "      <td>27.247134</td>\n",
       "      <td>29.400228</td>\n",
       "      <td>0.0</td>\n",
       "      <td>6.0</td>\n",
       "      <td>17.0</td>\n",
       "      <td>39.0</td>\n",
       "      <td>248.0</td>\n",
       "    </tr>\n",
       "    <tr>\n",
       "      <th>LINEA_C</th>\n",
       "      <td>120796.0</td>\n",
       "      <td>30.644409</td>\n",
       "      <td>35.349491</td>\n",
       "      <td>0.0</td>\n",
       "      <td>6.0</td>\n",
       "      <td>18.0</td>\n",
       "      <td>42.0</td>\n",
       "      <td>244.0</td>\n",
       "    </tr>\n",
       "    <tr>\n",
       "      <th>LINEA_D</th>\n",
       "      <td>196455.0</td>\n",
       "      <td>26.287465</td>\n",
       "      <td>25.078798</td>\n",
       "      <td>0.0</td>\n",
       "      <td>6.0</td>\n",
       "      <td>19.0</td>\n",
       "      <td>40.0</td>\n",
       "      <td>227.0</td>\n",
       "    </tr>\n",
       "    <tr>\n",
       "      <th>LINEA_E</th>\n",
       "      <td>86704.0</td>\n",
       "      <td>16.122809</td>\n",
       "      <td>17.570946</td>\n",
       "      <td>0.0</td>\n",
       "      <td>5.0</td>\n",
       "      <td>11.0</td>\n",
       "      <td>21.0</td>\n",
       "      <td>165.0</td>\n",
       "    </tr>\n",
       "    <tr>\n",
       "      <th>LINEA_H</th>\n",
       "      <td>98199.0</td>\n",
       "      <td>20.317244</td>\n",
       "      <td>19.837206</td>\n",
       "      <td>0.0</td>\n",
       "      <td>6.0</td>\n",
       "      <td>15.0</td>\n",
       "      <td>29.0</td>\n",
       "      <td>209.0</td>\n",
       "    </tr>\n",
       "  </tbody>\n",
       "</table>\n",
       "</div>"
      ],
      "text/plain": [
       "            TOTAL                                                   \n",
       "            count       mean        std  min  25%   50%   75%    max\n",
       "LINEA                                                               \n",
       "LINEA_A  199694.0  21.029610  23.206348  0.0  5.0  14.0  28.0  246.0\n",
       "LINEA_B  220342.0  27.247134  29.400228  0.0  6.0  17.0  39.0  248.0\n",
       "LINEA_C  120796.0  30.644409  35.349491  0.0  6.0  18.0  42.0  244.0\n",
       "LINEA_D  196455.0  26.287465  25.078798  0.0  6.0  19.0  40.0  227.0\n",
       "LINEA_E   86704.0  16.122809  17.570946  0.0  5.0  11.0  21.0  165.0\n",
       "LINEA_H   98199.0  20.317244  19.837206  0.0  6.0  15.0  29.0  209.0"
      ]
     },
     "execution_count": 82,
     "metadata": {},
     "output_type": "execute_result"
    }
   ],
   "source": [
    "#tambien podemos elegir otras funciones\n",
    "db.loc[:,['LINEA','TOTAL']].groupby(['LINEA']).describe()"
   ]
  },
  {
   "cell_type": "code",
   "execution_count": 83,
   "metadata": {},
   "outputs": [
    {
     "data": {
      "text/plain": [
       "False"
      ]
     },
     "execution_count": 83,
     "metadata": {},
     "output_type": "execute_result"
    }
   ],
   "source": [
    "pd.isnull(0)"
   ]
  },
  {
   "cell_type": "code",
   "execution_count": null,
   "metadata": {},
   "outputs": [],
   "source": []
  },
  {
   "cell_type": "code",
   "execution_count": 84,
   "metadata": {},
   "outputs": [
    {
     "data": {
      "text/html": [
       "<div>\n",
       "<style scoped>\n",
       "    .dataframe tbody tr th:only-of-type {\n",
       "        vertical-align: middle;\n",
       "    }\n",
       "\n",
       "    .dataframe tbody tr th {\n",
       "        vertical-align: top;\n",
       "    }\n",
       "\n",
       "    .dataframe thead tr th {\n",
       "        text-align: left;\n",
       "    }\n",
       "\n",
       "    .dataframe thead tr:last-of-type th {\n",
       "        text-align: right;\n",
       "    }\n",
       "</style>\n",
       "<table border=\"1\" class=\"dataframe\">\n",
       "  <thead>\n",
       "    <tr>\n",
       "      <th></th>\n",
       "      <th colspan=\"3\" halign=\"left\">TOTAL</th>\n",
       "    </tr>\n",
       "    <tr>\n",
       "      <th></th>\n",
       "      <th>sum</th>\n",
       "      <th>std</th>\n",
       "      <th>mean</th>\n",
       "    </tr>\n",
       "    <tr>\n",
       "      <th>LINEA</th>\n",
       "      <th></th>\n",
       "      <th></th>\n",
       "      <th></th>\n",
       "    </tr>\n",
       "  </thead>\n",
       "  <tbody>\n",
       "    <tr>\n",
       "      <th>LINEA_A</th>\n",
       "      <td>4199487</td>\n",
       "      <td>23.206348</td>\n",
       "      <td>21.029610</td>\n",
       "    </tr>\n",
       "    <tr>\n",
       "      <th>LINEA_B</th>\n",
       "      <td>6003688</td>\n",
       "      <td>29.400228</td>\n",
       "      <td>27.247134</td>\n",
       "    </tr>\n",
       "    <tr>\n",
       "      <th>LINEA_C</th>\n",
       "      <td>3701722</td>\n",
       "      <td>35.349491</td>\n",
       "      <td>30.644409</td>\n",
       "    </tr>\n",
       "    <tr>\n",
       "      <th>LINEA_D</th>\n",
       "      <td>5164304</td>\n",
       "      <td>25.078798</td>\n",
       "      <td>26.287465</td>\n",
       "    </tr>\n",
       "    <tr>\n",
       "      <th>LINEA_E</th>\n",
       "      <td>1397912</td>\n",
       "      <td>17.570946</td>\n",
       "      <td>16.122809</td>\n",
       "    </tr>\n",
       "    <tr>\n",
       "      <th>LINEA_H</th>\n",
       "      <td>1995133</td>\n",
       "      <td>19.837206</td>\n",
       "      <td>20.317244</td>\n",
       "    </tr>\n",
       "  </tbody>\n",
       "</table>\n",
       "</div>"
      ],
      "text/plain": [
       "           TOTAL                      \n",
       "             sum        std       mean\n",
       "LINEA                                 \n",
       "LINEA_A  4199487  23.206348  21.029610\n",
       "LINEA_B  6003688  29.400228  27.247134\n",
       "LINEA_C  3701722  35.349491  30.644409\n",
       "LINEA_D  5164304  25.078798  26.287465\n",
       "LINEA_E  1397912  17.570946  16.122809\n",
       "LINEA_H  1995133  19.837206  20.317244"
      ]
     },
     "execution_count": 84,
     "metadata": {},
     "output_type": "execute_result"
    }
   ],
   "source": [
    "#incluso podemos introducir diferentes funciones que querramos a eleccion\n",
    "db.loc[:,['LINEA','TOTAL']].groupby(['LINEA']).agg([np.sum,np.std,np.mean])"
   ]
  },
  {
   "cell_type": "code",
   "execution_count": 85,
   "metadata": {},
   "outputs": [
    {
     "data": {
      "text/html": [
       "<div>\n",
       "<style scoped>\n",
       "    .dataframe tbody tr th:only-of-type {\n",
       "        vertical-align: middle;\n",
       "    }\n",
       "\n",
       "    .dataframe tbody tr th {\n",
       "        vertical-align: top;\n",
       "    }\n",
       "\n",
       "    .dataframe thead th {\n",
       "        text-align: right;\n",
       "    }\n",
       "</style>\n",
       "<table border=\"1\" class=\"dataframe\">\n",
       "  <thead>\n",
       "    <tr style=\"text-align: right;\">\n",
       "      <th></th>\n",
       "      <th>TOTAL</th>\n",
       "    </tr>\n",
       "    <tr>\n",
       "      <th>dia_semana</th>\n",
       "      <th></th>\n",
       "    </tr>\n",
       "  </thead>\n",
       "  <tbody>\n",
       "    <tr>\n",
       "      <th>miercoles</th>\n",
       "      <td>4410555</td>\n",
       "    </tr>\n",
       "    <tr>\n",
       "      <th>jueves</th>\n",
       "      <td>4355152</td>\n",
       "    </tr>\n",
       "    <tr>\n",
       "      <th>viernes</th>\n",
       "      <td>4219833</td>\n",
       "    </tr>\n",
       "    <tr>\n",
       "      <th>martes</th>\n",
       "      <td>3492268</td>\n",
       "    </tr>\n",
       "    <tr>\n",
       "      <th>lunes</th>\n",
       "      <td>3425814</td>\n",
       "    </tr>\n",
       "    <tr>\n",
       "      <th>sabado</th>\n",
       "      <td>1679069</td>\n",
       "    </tr>\n",
       "    <tr>\n",
       "      <th>domingo</th>\n",
       "      <td>879555</td>\n",
       "    </tr>\n",
       "  </tbody>\n",
       "</table>\n",
       "</div>"
      ],
      "text/plain": [
       "              TOTAL\n",
       "dia_semana         \n",
       "miercoles   4410555\n",
       "jueves      4355152\n",
       "viernes     4219833\n",
       "martes      3492268\n",
       "lunes       3425814\n",
       "sabado      1679069\n",
       "domingo      879555"
      ]
     },
     "execution_count": 85,
     "metadata": {},
     "output_type": "execute_result"
    }
   ],
   "source": [
    "#podemos ordenar los datos\n",
    "trx_por_dia.sort_values(by='TOTAL',ascending = False)"
   ]
  },
  {
   "cell_type": "code",
   "execution_count": 86,
   "metadata": {},
   "outputs": [
    {
     "data": {
      "text/html": [
       "<div>\n",
       "<style scoped>\n",
       "    .dataframe tbody tr th:only-of-type {\n",
       "        vertical-align: middle;\n",
       "    }\n",
       "\n",
       "    .dataframe tbody tr th {\n",
       "        vertical-align: top;\n",
       "    }\n",
       "\n",
       "    .dataframe thead th {\n",
       "        text-align: right;\n",
       "    }\n",
       "</style>\n",
       "<table border=\"1\" class=\"dataframe\">\n",
       "  <thead>\n",
       "    <tr style=\"text-align: right;\">\n",
       "      <th></th>\n",
       "      <th></th>\n",
       "      <th>TOTAL</th>\n",
       "    </tr>\n",
       "    <tr>\n",
       "      <th>LINEA</th>\n",
       "      <th>dia_semana</th>\n",
       "      <th></th>\n",
       "    </tr>\n",
       "  </thead>\n",
       "  <tbody>\n",
       "    <tr>\n",
       "      <th rowspan=\"7\" valign=\"top\">LINEA_H</th>\n",
       "      <th>miercoles</th>\n",
       "      <td>383491</td>\n",
       "    </tr>\n",
       "    <tr>\n",
       "      <th>jueves</th>\n",
       "      <td>372811</td>\n",
       "    </tr>\n",
       "    <tr>\n",
       "      <th>viernes</th>\n",
       "      <td>364967</td>\n",
       "    </tr>\n",
       "    <tr>\n",
       "      <th>martes</th>\n",
       "      <td>310076</td>\n",
       "    </tr>\n",
       "    <tr>\n",
       "      <th>lunes</th>\n",
       "      <td>294634</td>\n",
       "    </tr>\n",
       "    <tr>\n",
       "      <th>sabado</th>\n",
       "      <td>177482</td>\n",
       "    </tr>\n",
       "    <tr>\n",
       "      <th>domingo</th>\n",
       "      <td>91672</td>\n",
       "    </tr>\n",
       "    <tr>\n",
       "      <th rowspan=\"7\" valign=\"top\">LINEA_E</th>\n",
       "      <th>miercoles</th>\n",
       "      <td>283631</td>\n",
       "    </tr>\n",
       "    <tr>\n",
       "      <th>jueves</th>\n",
       "      <td>272055</td>\n",
       "    </tr>\n",
       "    <tr>\n",
       "      <th>viernes</th>\n",
       "      <td>256874</td>\n",
       "    </tr>\n",
       "    <tr>\n",
       "      <th>martes</th>\n",
       "      <td>216906</td>\n",
       "    </tr>\n",
       "    <tr>\n",
       "      <th>lunes</th>\n",
       "      <td>213073</td>\n",
       "    </tr>\n",
       "    <tr>\n",
       "      <th>sabado</th>\n",
       "      <td>97894</td>\n",
       "    </tr>\n",
       "    <tr>\n",
       "      <th>domingo</th>\n",
       "      <td>57479</td>\n",
       "    </tr>\n",
       "    <tr>\n",
       "      <th rowspan=\"7\" valign=\"top\">LINEA_D</th>\n",
       "      <th>miercoles</th>\n",
       "      <td>1024749</td>\n",
       "    </tr>\n",
       "    <tr>\n",
       "      <th>jueves</th>\n",
       "      <td>1006073</td>\n",
       "    </tr>\n",
       "    <tr>\n",
       "      <th>viernes</th>\n",
       "      <td>966690</td>\n",
       "    </tr>\n",
       "    <tr>\n",
       "      <th>martes</th>\n",
       "      <td>821436</td>\n",
       "    </tr>\n",
       "    <tr>\n",
       "      <th>lunes</th>\n",
       "      <td>789612</td>\n",
       "    </tr>\n",
       "    <tr>\n",
       "      <th>sabado</th>\n",
       "      <td>356074</td>\n",
       "    </tr>\n",
       "    <tr>\n",
       "      <th>domingo</th>\n",
       "      <td>199670</td>\n",
       "    </tr>\n",
       "    <tr>\n",
       "      <th rowspan=\"7\" valign=\"top\">LINEA_C</th>\n",
       "      <th>miercoles</th>\n",
       "      <td>720895</td>\n",
       "    </tr>\n",
       "    <tr>\n",
       "      <th>jueves</th>\n",
       "      <td>711073</td>\n",
       "    </tr>\n",
       "    <tr>\n",
       "      <th>viernes</th>\n",
       "      <td>687263</td>\n",
       "    </tr>\n",
       "    <tr>\n",
       "      <th>martes</th>\n",
       "      <td>566895</td>\n",
       "    </tr>\n",
       "    <tr>\n",
       "      <th>lunes</th>\n",
       "      <td>566414</td>\n",
       "    </tr>\n",
       "    <tr>\n",
       "      <th>sabado</th>\n",
       "      <td>292393</td>\n",
       "    </tr>\n",
       "    <tr>\n",
       "      <th>domingo</th>\n",
       "      <td>156789</td>\n",
       "    </tr>\n",
       "    <tr>\n",
       "      <th rowspan=\"7\" valign=\"top\">LINEA_B</th>\n",
       "      <th>miercoles</th>\n",
       "      <td>1172988</td>\n",
       "    </tr>\n",
       "    <tr>\n",
       "      <th>jueves</th>\n",
       "      <td>1169374</td>\n",
       "    </tr>\n",
       "    <tr>\n",
       "      <th>viernes</th>\n",
       "      <td>1148668</td>\n",
       "    </tr>\n",
       "    <tr>\n",
       "      <th>lunes</th>\n",
       "      <td>920447</td>\n",
       "    </tr>\n",
       "    <tr>\n",
       "      <th>martes</th>\n",
       "      <td>906212</td>\n",
       "    </tr>\n",
       "    <tr>\n",
       "      <th>sabado</th>\n",
       "      <td>456452</td>\n",
       "    </tr>\n",
       "    <tr>\n",
       "      <th>domingo</th>\n",
       "      <td>229547</td>\n",
       "    </tr>\n",
       "    <tr>\n",
       "      <th rowspan=\"7\" valign=\"top\">LINEA_A</th>\n",
       "      <th>miercoles</th>\n",
       "      <td>824801</td>\n",
       "    </tr>\n",
       "    <tr>\n",
       "      <th>jueves</th>\n",
       "      <td>823766</td>\n",
       "    </tr>\n",
       "    <tr>\n",
       "      <th>viernes</th>\n",
       "      <td>795371</td>\n",
       "    </tr>\n",
       "    <tr>\n",
       "      <th>martes</th>\n",
       "      <td>670743</td>\n",
       "    </tr>\n",
       "    <tr>\n",
       "      <th>lunes</th>\n",
       "      <td>641634</td>\n",
       "    </tr>\n",
       "    <tr>\n",
       "      <th>sabado</th>\n",
       "      <td>298774</td>\n",
       "    </tr>\n",
       "    <tr>\n",
       "      <th>domingo</th>\n",
       "      <td>144398</td>\n",
       "    </tr>\n",
       "  </tbody>\n",
       "</table>\n",
       "</div>"
      ],
      "text/plain": [
       "                      TOTAL\n",
       "LINEA   dia_semana         \n",
       "LINEA_H miercoles    383491\n",
       "        jueves       372811\n",
       "        viernes      364967\n",
       "        martes       310076\n",
       "        lunes        294634\n",
       "        sabado       177482\n",
       "        domingo       91672\n",
       "LINEA_E miercoles    283631\n",
       "        jueves       272055\n",
       "        viernes      256874\n",
       "        martes       216906\n",
       "        lunes        213073\n",
       "        sabado        97894\n",
       "        domingo       57479\n",
       "LINEA_D miercoles   1024749\n",
       "        jueves      1006073\n",
       "        viernes      966690\n",
       "        martes       821436\n",
       "        lunes        789612\n",
       "        sabado       356074\n",
       "        domingo      199670\n",
       "LINEA_C miercoles    720895\n",
       "        jueves       711073\n",
       "        viernes      687263\n",
       "        martes       566895\n",
       "        lunes        566414\n",
       "        sabado       292393\n",
       "        domingo      156789\n",
       "LINEA_B miercoles   1172988\n",
       "        jueves      1169374\n",
       "        viernes     1148668\n",
       "        lunes        920447\n",
       "        martes       906212\n",
       "        sabado       456452\n",
       "        domingo      229547\n",
       "LINEA_A miercoles    824801\n",
       "        jueves       823766\n",
       "        viernes      795371\n",
       "        martes       670743\n",
       "        lunes        641634\n",
       "        sabado       298774\n",
       "        domingo      144398"
      ]
     },
     "execution_count": 86,
     "metadata": {},
     "output_type": "execute_result"
    }
   ],
   "source": [
    "#podemos agrupar por dos categorias\n",
    "trx_por_dia_linea = db.loc[:,['LINEA','dia_semana','TOTAL']].groupby(['LINEA','dia_semana']).sum()\n",
    "trx_por_dia_linea.sort_values(by=['LINEA','TOTAL'],ascending=False)\n"
   ]
  },
  {
   "cell_type": "code",
   "execution_count": 87,
   "metadata": {},
   "outputs": [
    {
     "data": {
      "text/html": [
       "<div>\n",
       "<style scoped>\n",
       "    .dataframe tbody tr th:only-of-type {\n",
       "        vertical-align: middle;\n",
       "    }\n",
       "\n",
       "    .dataframe tbody tr th {\n",
       "        vertical-align: top;\n",
       "    }\n",
       "\n",
       "    .dataframe thead th {\n",
       "        text-align: right;\n",
       "    }\n",
       "</style>\n",
       "<table border=\"1\" class=\"dataframe\">\n",
       "  <thead>\n",
       "    <tr style=\"text-align: right;\">\n",
       "      <th></th>\n",
       "      <th></th>\n",
       "      <th>TOTAL</th>\n",
       "    </tr>\n",
       "    <tr>\n",
       "      <th>LINEA</th>\n",
       "      <th>ESTACION</th>\n",
       "      <th></th>\n",
       "    </tr>\n",
       "  </thead>\n",
       "  <tbody>\n",
       "    <tr>\n",
       "      <th rowspan=\"2\" valign=\"top\">LINEA_C</th>\n",
       "      <th>CONSTITUCION</th>\n",
       "      <td>1728235</td>\n",
       "    </tr>\n",
       "    <tr>\n",
       "      <th>RETIRO</th>\n",
       "      <td>889799</td>\n",
       "    </tr>\n",
       "    <tr>\n",
       "      <th>LINEA_B</th>\n",
       "      <th>FEDERICO LACROZE</th>\n",
       "      <td>686951</td>\n",
       "    </tr>\n",
       "    <tr>\n",
       "      <th rowspan=\"2\" valign=\"top\">LINEA_D</th>\n",
       "      <th>CATEDRAL</th>\n",
       "      <td>648762</td>\n",
       "    </tr>\n",
       "    <tr>\n",
       "      <th>CONGRESO DE TUCUMAN</th>\n",
       "      <td>648110</td>\n",
       "    </tr>\n",
       "    <tr>\n",
       "      <th>LINEA_B</th>\n",
       "      <th>ROSAS</th>\n",
       "      <td>549475</td>\n",
       "    </tr>\n",
       "    <tr>\n",
       "      <th>LINEA_A</th>\n",
       "      <th>SAN PEDRITO</th>\n",
       "      <td>544353</td>\n",
       "    </tr>\n",
       "    <tr>\n",
       "      <th rowspan=\"3\" valign=\"top\">LINEA_B</th>\n",
       "      <th>LEANDRO N. ALEM</th>\n",
       "      <td>531562</td>\n",
       "    </tr>\n",
       "    <tr>\n",
       "      <th>CARLOS PELLEGRINI</th>\n",
       "      <td>462433</td>\n",
       "    </tr>\n",
       "    <tr>\n",
       "      <th>FLORIDA</th>\n",
       "      <td>438910</td>\n",
       "    </tr>\n",
       "  </tbody>\n",
       "</table>\n",
       "</div>"
      ],
      "text/plain": [
       "                               TOTAL\n",
       "LINEA   ESTACION                    \n",
       "LINEA_C CONSTITUCION         1728235\n",
       "        RETIRO                889799\n",
       "LINEA_B FEDERICO LACROZE      686951\n",
       "LINEA_D CATEDRAL              648762\n",
       "        CONGRESO DE TUCUMAN   648110\n",
       "LINEA_B ROSAS                 549475\n",
       "LINEA_A SAN PEDRITO           544353\n",
       "LINEA_B LEANDRO N. ALEM       531562\n",
       "        CARLOS PELLEGRINI     462433\n",
       "        FLORIDA               438910"
      ]
     },
     "execution_count": 87,
     "metadata": {},
     "output_type": "execute_result"
    }
   ],
   "source": [
    "#o 3\n",
    "trx_por_linea_estacion = db.loc[:,['LINEA','ESTACION','TOTAL']].groupby(['LINEA','ESTACION']).sum()\n",
    "trx_por_linea_estacion.sort_values(by='TOTAL',ascending=False).head(10)"
   ]
  },
  {
   "cell_type": "markdown",
   "metadata": {},
   "source": [
    "Supongamos que queremos ver solamente las estaciones de la linea B para ver cuales son las que tienen la mayor cantidad de pasajeros. Vamos a encontrarnos con una dificultad.  "
   ]
  },
  {
   "cell_type": "code",
   "execution_count": 88,
   "metadata": {},
   "outputs": [
    {
     "data": {
      "text/plain": [
       "Index(['TOTAL'], dtype='object')"
      ]
     },
     "execution_count": 88,
     "metadata": {},
     "output_type": "execute_result"
    }
   ],
   "source": [
    "#si observamos las columnas vemos que no es ningun problema\n",
    "trx_por_linea_estacion.columns"
   ]
  },
  {
   "cell_type": "code",
   "execution_count": 89,
   "metadata": {},
   "outputs": [
    {
     "data": {
      "text/plain": [
       "MultiIndex(levels=[['LINEA_A', 'LINEA_B', 'LINEA_C', 'LINEA_D', 'LINEA_E', 'LINEA_H'], ['9 DE JULIO', 'ACOYTE', 'AGUERO', 'ALBERTI', 'ANGEL GALLARDO', 'AVENIDA DE MAYO', 'AVENIDA LA PLATA', 'BOEDO', 'BOLIVAR', 'BULNES', 'CALLAO', 'CALLAO.B', 'CARABOBO', 'CARLOS GARDEL', 'CARLOS PELLEGRINI', 'CASEROS', 'CASTRO BARROS', 'CATEDRAL', 'CONGRESO', 'CONGRESO DE TUCUMAN', 'CONSTITUCION', 'CORDOBA', 'CORRIENTES', 'DIAGONAL NORTE', 'DORREGO', 'ECHEVERRIA', 'EMILIO MITRE', 'ENTRE RIOS', 'FACULTAD DE MEDICINA', 'FEDERICO LACROZE', 'FLORES', 'FLORIDA', 'GENERAL BELGRANO', 'GENERAL SAN MARTIN', 'HOSPITALES', 'HUMBERTO I', 'INCLAN', 'INDEPENDENCIA', 'INDEPENDENCIA.H', 'JOSE HERNANDEZ', 'JOSE MARIA MORENO', 'JUJUY', 'JURAMENTO', 'LAS HERAS', 'LAVALLE', 'LEANDRO N. ALEM', 'LIMA', 'LORIA', 'LOS INCAS', 'MALABIA', 'MARIANO MORENO', 'MEDALLA MILAGROSA', 'MEDRANO', 'MINISTRO CARRANZA', 'OLLEROS', 'ONCE', 'PALERMO', 'PASCO', 'PASTEUR', 'PATRICIOS', 'PERU', 'PICHINCHA', 'PIEDRAS', 'PLAZA DE MAYO', 'PLAZA ITALIA', 'PLAZA MISERERE', 'PRIMERA JUNTA', 'PUAN', 'PUEYRREDON', 'PUEYRREDON.D', 'PZA. DE LOS VIRREYES', 'RETIRO', 'RIO DE JANEIRO', 'ROSAS', 'SAENZ PEÑA', 'SAN JOSE', 'SAN JUAN', 'SAN PEDRITO', 'SANTA FE', 'SCALABRINI ORTIZ', 'TRIBUNALES', 'TRONADOR', 'URQUIZA', 'URUGUAY', 'VARELA', 'VENEZUELA']],\n",
       "           labels=[[0, 0, 0, 0, 0, 0, 0, 0, 0, 0, 0, 0, 0, 0, 0, 0, 0, 0, 1, 1, 1, 1, 1, 1, 1, 1, 1, 1, 1, 1, 1, 1, 1, 1, 1, 2, 2, 2, 2, 2, 2, 2, 2, 2, 3, 3, 3, 3, 3, 3, 3, 3, 3, 3, 3, 3, 3, 3, 3, 3, 4, 4, 4, 4, 4, 4, 4, 4, 4, 4, 4, 4, 4, 4, 4, 5, 5, 5, 5, 5, 5, 5, 5, 5, 5, 5], [1, 3, 12, 16, 18, 30, 46, 47, 57, 60, 62, 63, 65, 66, 67, 72, 74, 77, 4, 11, 13, 14, 24, 25, 29, 31, 45, 48, 49, 52, 58, 68, 73, 81, 83, 5, 20, 23, 33, 37, 44, 50, 71, 76, 0, 2, 9, 10, 17, 19, 28, 39, 42, 53, 54, 56, 64, 69, 79, 80, 6, 7, 8, 26, 27, 32, 38, 40, 41, 51, 61, 70, 75, 82, 84, 15, 21, 22, 34, 35, 36, 43, 55, 59, 78, 85]],\n",
       "           names=['LINEA', 'ESTACION'])"
      ]
     },
     "execution_count": 89,
     "metadata": {},
     "output_type": "execute_result"
    }
   ],
   "source": [
    "#pero cuando vemos el indice vemos que es diferente, es de tipo MultiIndex\n",
    "trx_por_linea_estacion.index"
   ]
  },
  {
   "cell_type": "markdown",
   "metadata": {},
   "source": [
    "Todas las operaciones de tipo *groupby* devuelven tablas con indices multi-nivel. Si bien introduce una complejidad que enriquece para ciertas operaciones, en lo cotidiano puede resultar algo molesto. Para eso existe un modo sencillo de resolver el problema.  "
   ]
  },
  {
   "cell_type": "code",
   "execution_count": 90,
   "metadata": {},
   "outputs": [
    {
     "data": {
      "text/html": [
       "<div>\n",
       "<style scoped>\n",
       "    .dataframe tbody tr th:only-of-type {\n",
       "        vertical-align: middle;\n",
       "    }\n",
       "\n",
       "    .dataframe tbody tr th {\n",
       "        vertical-align: top;\n",
       "    }\n",
       "\n",
       "    .dataframe thead th {\n",
       "        text-align: right;\n",
       "    }\n",
       "</style>\n",
       "<table border=\"1\" class=\"dataframe\">\n",
       "  <thead>\n",
       "    <tr style=\"text-align: right;\">\n",
       "      <th></th>\n",
       "      <th>LINEA</th>\n",
       "      <th>ESTACION</th>\n",
       "      <th>TOTAL</th>\n",
       "    </tr>\n",
       "  </thead>\n",
       "  <tbody>\n",
       "    <tr>\n",
       "      <th>0</th>\n",
       "      <td>LINEA_A</td>\n",
       "      <td>ACOYTE</td>\n",
       "      <td>287871</td>\n",
       "    </tr>\n",
       "    <tr>\n",
       "      <th>1</th>\n",
       "      <td>LINEA_A</td>\n",
       "      <td>ALBERTI</td>\n",
       "      <td>97189</td>\n",
       "    </tr>\n",
       "    <tr>\n",
       "      <th>2</th>\n",
       "      <td>LINEA_A</td>\n",
       "      <td>CARABOBO</td>\n",
       "      <td>234365</td>\n",
       "    </tr>\n",
       "    <tr>\n",
       "      <th>3</th>\n",
       "      <td>LINEA_A</td>\n",
       "      <td>CASTRO BARROS</td>\n",
       "      <td>187937</td>\n",
       "    </tr>\n",
       "    <tr>\n",
       "      <th>4</th>\n",
       "      <td>LINEA_A</td>\n",
       "      <td>CONGRESO</td>\n",
       "      <td>280483</td>\n",
       "    </tr>\n",
       "  </tbody>\n",
       "</table>\n",
       "</div>"
      ],
      "text/plain": [
       "     LINEA       ESTACION   TOTAL\n",
       "0  LINEA_A         ACOYTE  287871\n",
       "1  LINEA_A        ALBERTI   97189\n",
       "2  LINEA_A       CARABOBO  234365\n",
       "3  LINEA_A  CASTRO BARROS  187937\n",
       "4  LINEA_A       CONGRESO  280483"
      ]
     },
     "execution_count": 90,
     "metadata": {},
     "output_type": "execute_result"
    }
   ],
   "source": [
    "tabla_simple = trx_por_linea_estacion.reset_index()\n",
    "tabla_simple.head()"
   ]
  },
  {
   "cell_type": "markdown",
   "metadata": {},
   "source": [
    "Ese comando resetea el index, alojando el index anterior como columnas. Lo que nos devuelve un dataframe \"tradicional\" manipulable de manera más intuitiva. Aunque eso es relativo, si les interesa profundizar, a continuación hay una pequeña disgresión donde profundiza aún más y se relativiza lo \"intuitivo\". "
   ]
  },
  {
   "cell_type": "code",
   "execution_count": 91,
   "metadata": {},
   "outputs": [
    {
     "data": {
      "text/plain": [
       "RangeIndex(start=0, stop=86, step=1)"
      ]
     },
     "execution_count": 91,
     "metadata": {},
     "output_type": "execute_result"
    }
   ],
   "source": [
    "tabla_simple.index"
   ]
  },
  {
   "cell_type": "code",
   "execution_count": 92,
   "metadata": {},
   "outputs": [
    {
     "data": {
      "text/html": [
       "<div>\n",
       "<style scoped>\n",
       "    .dataframe tbody tr th:only-of-type {\n",
       "        vertical-align: middle;\n",
       "    }\n",
       "\n",
       "    .dataframe tbody tr th {\n",
       "        vertical-align: top;\n",
       "    }\n",
       "\n",
       "    .dataframe thead th {\n",
       "        text-align: right;\n",
       "    }\n",
       "</style>\n",
       "<table border=\"1\" class=\"dataframe\">\n",
       "  <thead>\n",
       "    <tr style=\"text-align: right;\">\n",
       "      <th></th>\n",
       "      <th>LINEA</th>\n",
       "      <th>ESTACION</th>\n",
       "      <th>TOTAL</th>\n",
       "    </tr>\n",
       "  </thead>\n",
       "  <tbody>\n",
       "    <tr>\n",
       "      <th>24</th>\n",
       "      <td>LINEA_B</td>\n",
       "      <td>FEDERICO LACROZE</td>\n",
       "      <td>686951</td>\n",
       "    </tr>\n",
       "    <tr>\n",
       "      <th>32</th>\n",
       "      <td>LINEA_B</td>\n",
       "      <td>ROSAS</td>\n",
       "      <td>549475</td>\n",
       "    </tr>\n",
       "    <tr>\n",
       "      <th>26</th>\n",
       "      <td>LINEA_B</td>\n",
       "      <td>LEANDRO N. ALEM</td>\n",
       "      <td>531562</td>\n",
       "    </tr>\n",
       "    <tr>\n",
       "      <th>21</th>\n",
       "      <td>LINEA_B</td>\n",
       "      <td>CARLOS PELLEGRINI</td>\n",
       "      <td>462433</td>\n",
       "    </tr>\n",
       "    <tr>\n",
       "      <th>25</th>\n",
       "      <td>LINEA_B</td>\n",
       "      <td>FLORIDA</td>\n",
       "      <td>438910</td>\n",
       "    </tr>\n",
       "  </tbody>\n",
       "</table>\n",
       "</div>"
      ],
      "text/plain": [
       "      LINEA           ESTACION   TOTAL\n",
       "24  LINEA_B   FEDERICO LACROZE  686951\n",
       "32  LINEA_B              ROSAS  549475\n",
       "26  LINEA_B    LEANDRO N. ALEM  531562\n",
       "21  LINEA_B  CARLOS PELLEGRINI  462433\n",
       "25  LINEA_B            FLORIDA  438910"
      ]
     },
     "execution_count": 92,
     "metadata": {},
     "output_type": "execute_result"
    }
   ],
   "source": [
    "tabla_simple.loc[tabla_simple.LINEA == 'LINEA_B',:].sort_values(by='TOTAL',ascending=False).head()"
   ]
  },
  {
   "cell_type": "markdown",
   "metadata": {},
   "source": [
    "### Disgresión con más detalles sobre MultiIndex \n",
    "\n",
    "Los índices múltiples en realidad no son más tanto complejos, sólo que tienen un tratamiento algo diferente. Veamos como seleccionar datos en tablas con indices múltiples. En la tabla original, uno puede buscar primero por columna y luego por el indice de esa columna (recordemos que los **Dataframe** son **Series** ordenadas, esto sería buscar una **Serie** primero al nombrarla por el nombre de la columna y luego un indice dentro de la **Serie**) "
   ]
  },
  {
   "cell_type": "code",
   "execution_count": 93,
   "metadata": {},
   "outputs": [
    {
     "data": {
      "text/plain": [
       "'01/02/2018'"
      ]
     },
     "execution_count": 93,
     "metadata": {},
     "output_type": "execute_result"
    }
   ],
   "source": [
    "#asi buscamos un valor puntal en los dataframes. Pero en un dataframe con un indice simple, \"dentro\" de esta muñeca rusa,\n",
    "# para una columna y una fila, hay una sola celda\n",
    "db['FECHA'][1025451]"
   ]
  },
  {
   "cell_type": "code",
   "execution_count": 94,
   "metadata": {},
   "outputs": [
    {
     "data": {
      "text/plain": [
       "ESTACION\n",
       "ANGEL GALLARDO       307023\n",
       "CALLAO.B             343178\n",
       "CARLOS GARDEL        358071\n",
       "CARLOS PELLEGRINI    462433\n",
       "DORREGO              233096\n",
       "ECHEVERRIA           140513\n",
       "FEDERICO LACROZE     686951\n",
       "FLORIDA              438910\n",
       "LEANDRO N. ALEM      531562\n",
       "LOS INCAS            220339\n",
       "MALABIA              404634\n",
       "MEDRANO              339923\n",
       "PASTEUR              259481\n",
       "PUEYRREDON           265056\n",
       "ROSAS                549475\n",
       "TRONADOR             122305\n",
       "URUGUAY              340738\n",
       "Name: TOTAL, dtype: int64"
      ]
     },
     "execution_count": 94,
     "metadata": {},
     "output_type": "execute_result"
    }
   ],
   "source": [
    "# podemos hacerlo mismo primero por columna y luego por fila. Solo que al ser un indice doble para las filas, \n",
    "# dentro de esa fila no hay una celda, sino una Serie\n",
    "trx_por_linea_estacion['TOTAL']['LINEA_B']"
   ]
  },
  {
   "cell_type": "code",
   "execution_count": 95,
   "metadata": {},
   "outputs": [
    {
     "data": {
      "text/plain": [
       "'01/02/2018'"
      ]
     },
     "execution_count": 95,
     "metadata": {},
     "output_type": "execute_result"
    }
   ],
   "source": [
    "#loc nos permitia hacer una operacion similar\n",
    "db.loc[1025451,'FECHA']"
   ]
  },
  {
   "cell_type": "code",
   "execution_count": 96,
   "metadata": {},
   "outputs": [
    {
     "data": {
      "text/plain": [
       "1025451    01/02/2018\n",
       "1025452    01/02/2018\n",
       "Name: FECHA, dtype: object"
      ]
     },
     "execution_count": 96,
     "metadata": {},
     "output_type": "execute_result"
    }
   ],
   "source": [
    "db.loc[[1025451,1025452],'FECHA']"
   ]
  },
  {
   "cell_type": "code",
   "execution_count": 97,
   "metadata": {},
   "outputs": [
    {
     "data": {
      "text/plain": [
       "LINEA    ESTACION         \n",
       "LINEA_B  ANGEL GALLARDO       307023\n",
       "         CALLAO.B             343178\n",
       "         CARLOS GARDEL        358071\n",
       "         CARLOS PELLEGRINI    462433\n",
       "         DORREGO              233096\n",
       "         ECHEVERRIA           140513\n",
       "         FEDERICO LACROZE     686951\n",
       "         FLORIDA              438910\n",
       "         LEANDRO N. ALEM      531562\n",
       "         LOS INCAS            220339\n",
       "         MALABIA              404634\n",
       "         MEDRANO              339923\n",
       "         PASTEUR              259481\n",
       "         PUEYRREDON           265056\n",
       "         ROSAS                549475\n",
       "         TRONADOR             122305\n",
       "         URUGUAY              340738\n",
       "Name: TOTAL, dtype: int64"
      ]
     },
     "execution_count": 97,
     "metadata": {},
     "output_type": "execute_result"
    }
   ],
   "source": [
    "#buscamos con loc para un indice multiple\n",
    "trx_por_linea_estacion.loc[['LINEA_B'],'TOTAL']"
   ]
  },
  {
   "cell_type": "code",
   "execution_count": 98,
   "metadata": {},
   "outputs": [
    {
     "data": {
      "text/plain": [
       "LINEA    ESTACION          \n",
       "LINEA_B  ANGEL GALLARDO         307023\n",
       "         CALLAO.B               343178\n",
       "         CARLOS GARDEL          358071\n",
       "         CARLOS PELLEGRINI      462433\n",
       "         DORREGO                233096\n",
       "         ECHEVERRIA             140513\n",
       "         FEDERICO LACROZE       686951\n",
       "         FLORIDA                438910\n",
       "         LEANDRO N. ALEM        531562\n",
       "         LOS INCAS              220339\n",
       "         MALABIA                404634\n",
       "         MEDRANO                339923\n",
       "         PASTEUR                259481\n",
       "         PUEYRREDON             265056\n",
       "         ROSAS                  549475\n",
       "         TRONADOR               122305\n",
       "         URUGUAY                340738\n",
       "LINEA_C  AVENIDA DE MAYO        125177\n",
       "         CONSTITUCION          1728235\n",
       "         DIAGONAL NORTE         132866\n",
       "         GENERAL SAN MARTIN     203913\n",
       "         INDEPENDENCIA          130773\n",
       "         LAVALLE                215570\n",
       "         MARIANO MORENO         160561\n",
       "         RETIRO                 889799\n",
       "         SAN JUAN               114828\n",
       "Name: TOTAL, dtype: int64"
      ]
     },
     "execution_count": 98,
     "metadata": {},
     "output_type": "execute_result"
    }
   ],
   "source": [
    "#buscamos mas de una linea\n",
    "trx_por_linea_estacion.loc[['LINEA_B','LINEA_C'],'TOTAL']"
   ]
  },
  {
   "cell_type": "code",
   "execution_count": 99,
   "metadata": {},
   "outputs": [
    {
     "data": {
      "text/plain": [
       "LINEA    ESTACION    \n",
       "LINEA_B  CALLAO.B         343178\n",
       "LINEA_C  CONSTITUCION    1728235\n",
       "Name: TOTAL, dtype: int64"
      ]
     },
     "execution_count": 99,
     "metadata": {},
     "output_type": "execute_result"
    }
   ],
   "source": [
    "#buscamos estaciones puntuales dentro de esas lineas\n",
    "trx_por_linea_estacion.loc[[('LINEA_B','CALLAO.B'),('LINEA_C','CONSTITUCION')],'TOTAL']"
   ]
  },
  {
   "cell_type": "markdown",
   "metadata": {},
   "source": [
    "Cuando usamos agg (corto para *aggregate*) nos queda una tabla con multiindice en las columnas. Los datos en estas tablas también pueden accederse con el mismo criterio."
   ]
  },
  {
   "cell_type": "code",
   "execution_count": 100,
   "metadata": {},
   "outputs": [
    {
     "data": {
      "text/html": [
       "<div>\n",
       "<style scoped>\n",
       "    .dataframe tbody tr th:only-of-type {\n",
       "        vertical-align: middle;\n",
       "    }\n",
       "\n",
       "    .dataframe tbody tr th {\n",
       "        vertical-align: top;\n",
       "    }\n",
       "\n",
       "    .dataframe thead tr th {\n",
       "        text-align: left;\n",
       "    }\n",
       "\n",
       "    .dataframe thead tr:last-of-type th {\n",
       "        text-align: right;\n",
       "    }\n",
       "</style>\n",
       "<table border=\"1\" class=\"dataframe\">\n",
       "  <thead>\n",
       "    <tr>\n",
       "      <th></th>\n",
       "      <th colspan=\"8\" halign=\"left\">PAX_PASES_PAGOS</th>\n",
       "      <th colspan=\"8\" halign=\"left\">TOTAL</th>\n",
       "    </tr>\n",
       "    <tr>\n",
       "      <th></th>\n",
       "      <th>count</th>\n",
       "      <th>mean</th>\n",
       "      <th>std</th>\n",
       "      <th>min</th>\n",
       "      <th>25%</th>\n",
       "      <th>50%</th>\n",
       "      <th>75%</th>\n",
       "      <th>max</th>\n",
       "      <th>count</th>\n",
       "      <th>mean</th>\n",
       "      <th>std</th>\n",
       "      <th>min</th>\n",
       "      <th>25%</th>\n",
       "      <th>50%</th>\n",
       "      <th>75%</th>\n",
       "      <th>max</th>\n",
       "    </tr>\n",
       "    <tr>\n",
       "      <th>LINEA</th>\n",
       "      <th></th>\n",
       "      <th></th>\n",
       "      <th></th>\n",
       "      <th></th>\n",
       "      <th></th>\n",
       "      <th></th>\n",
       "      <th></th>\n",
       "      <th></th>\n",
       "      <th></th>\n",
       "      <th></th>\n",
       "      <th></th>\n",
       "      <th></th>\n",
       "      <th></th>\n",
       "      <th></th>\n",
       "      <th></th>\n",
       "      <th></th>\n",
       "    </tr>\n",
       "  </thead>\n",
       "  <tbody>\n",
       "    <tr>\n",
       "      <th>LINEA_A</th>\n",
       "      <td>199694.0</td>\n",
       "      <td>0.008628</td>\n",
       "      <td>0.094097</td>\n",
       "      <td>0.0</td>\n",
       "      <td>0.0</td>\n",
       "      <td>0.0</td>\n",
       "      <td>0.0</td>\n",
       "      <td>3.0</td>\n",
       "      <td>199694.0</td>\n",
       "      <td>21.029610</td>\n",
       "      <td>23.206348</td>\n",
       "      <td>0.0</td>\n",
       "      <td>5.0</td>\n",
       "      <td>14.0</td>\n",
       "      <td>28.0</td>\n",
       "      <td>246.0</td>\n",
       "    </tr>\n",
       "    <tr>\n",
       "      <th>LINEA_B</th>\n",
       "      <td>220342.0</td>\n",
       "      <td>0.013824</td>\n",
       "      <td>0.118802</td>\n",
       "      <td>0.0</td>\n",
       "      <td>0.0</td>\n",
       "      <td>0.0</td>\n",
       "      <td>0.0</td>\n",
       "      <td>3.0</td>\n",
       "      <td>220342.0</td>\n",
       "      <td>27.247134</td>\n",
       "      <td>29.400228</td>\n",
       "      <td>0.0</td>\n",
       "      <td>6.0</td>\n",
       "      <td>17.0</td>\n",
       "      <td>39.0</td>\n",
       "      <td>248.0</td>\n",
       "    </tr>\n",
       "    <tr>\n",
       "      <th>LINEA_C</th>\n",
       "      <td>120796.0</td>\n",
       "      <td>0.011731</td>\n",
       "      <td>0.112189</td>\n",
       "      <td>0.0</td>\n",
       "      <td>0.0</td>\n",
       "      <td>0.0</td>\n",
       "      <td>0.0</td>\n",
       "      <td>3.0</td>\n",
       "      <td>120796.0</td>\n",
       "      <td>30.644409</td>\n",
       "      <td>35.349491</td>\n",
       "      <td>0.0</td>\n",
       "      <td>6.0</td>\n",
       "      <td>18.0</td>\n",
       "      <td>42.0</td>\n",
       "      <td>244.0</td>\n",
       "    </tr>\n",
       "    <tr>\n",
       "      <th>LINEA_D</th>\n",
       "      <td>196455.0</td>\n",
       "      <td>0.015927</td>\n",
       "      <td>0.128009</td>\n",
       "      <td>0.0</td>\n",
       "      <td>0.0</td>\n",
       "      <td>0.0</td>\n",
       "      <td>0.0</td>\n",
       "      <td>3.0</td>\n",
       "      <td>196455.0</td>\n",
       "      <td>26.287465</td>\n",
       "      <td>25.078798</td>\n",
       "      <td>0.0</td>\n",
       "      <td>6.0</td>\n",
       "      <td>19.0</td>\n",
       "      <td>40.0</td>\n",
       "      <td>227.0</td>\n",
       "    </tr>\n",
       "    <tr>\n",
       "      <th>LINEA_E</th>\n",
       "      <td>86704.0</td>\n",
       "      <td>0.013956</td>\n",
       "      <td>0.119740</td>\n",
       "      <td>0.0</td>\n",
       "      <td>0.0</td>\n",
       "      <td>0.0</td>\n",
       "      <td>0.0</td>\n",
       "      <td>2.0</td>\n",
       "      <td>86704.0</td>\n",
       "      <td>16.122809</td>\n",
       "      <td>17.570946</td>\n",
       "      <td>0.0</td>\n",
       "      <td>5.0</td>\n",
       "      <td>11.0</td>\n",
       "      <td>21.0</td>\n",
       "      <td>165.0</td>\n",
       "    </tr>\n",
       "    <tr>\n",
       "      <th>LINEA_H</th>\n",
       "      <td>98199.0</td>\n",
       "      <td>0.011752</td>\n",
       "      <td>0.110104</td>\n",
       "      <td>0.0</td>\n",
       "      <td>0.0</td>\n",
       "      <td>0.0</td>\n",
       "      <td>0.0</td>\n",
       "      <td>3.0</td>\n",
       "      <td>98199.0</td>\n",
       "      <td>20.317244</td>\n",
       "      <td>19.837206</td>\n",
       "      <td>0.0</td>\n",
       "      <td>6.0</td>\n",
       "      <td>15.0</td>\n",
       "      <td>29.0</td>\n",
       "      <td>209.0</td>\n",
       "    </tr>\n",
       "  </tbody>\n",
       "</table>\n",
       "</div>"
      ],
      "text/plain": [
       "        PAX_PASES_PAGOS                                               \\\n",
       "                  count      mean       std  min  25%  50%  75%  max   \n",
       "LINEA                                                                  \n",
       "LINEA_A        199694.0  0.008628  0.094097  0.0  0.0  0.0  0.0  3.0   \n",
       "LINEA_B        220342.0  0.013824  0.118802  0.0  0.0  0.0  0.0  3.0   \n",
       "LINEA_C        120796.0  0.011731  0.112189  0.0  0.0  0.0  0.0  3.0   \n",
       "LINEA_D        196455.0  0.015927  0.128009  0.0  0.0  0.0  0.0  3.0   \n",
       "LINEA_E         86704.0  0.013956  0.119740  0.0  0.0  0.0  0.0  2.0   \n",
       "LINEA_H         98199.0  0.011752  0.110104  0.0  0.0  0.0  0.0  3.0   \n",
       "\n",
       "            TOTAL                                                     \n",
       "            count       mean        std  min  25%   50%   75%    max  \n",
       "LINEA                                                                 \n",
       "LINEA_A  199694.0  21.029610  23.206348  0.0  5.0  14.0  28.0  246.0  \n",
       "LINEA_B  220342.0  27.247134  29.400228  0.0  6.0  17.0  39.0  248.0  \n",
       "LINEA_C  120796.0  30.644409  35.349491  0.0  6.0  18.0  42.0  244.0  \n",
       "LINEA_D  196455.0  26.287465  25.078798  0.0  6.0  19.0  40.0  227.0  \n",
       "LINEA_E   86704.0  16.122809  17.570946  0.0  5.0  11.0  21.0  165.0  \n",
       "LINEA_H   98199.0  20.317244  19.837206  0.0  6.0  15.0  29.0  209.0  "
      ]
     },
     "execution_count": 100,
     "metadata": {},
     "output_type": "execute_result"
    }
   ],
   "source": [
    "resumen = db.loc[:,['LINEA','TOTAL','PAX_PASES_PAGOS']].groupby(['LINEA']).describe()\n",
    "resumen"
   ]
  },
  {
   "cell_type": "code",
   "execution_count": 101,
   "metadata": {},
   "outputs": [
    {
     "data": {
      "text/plain": [
       "Index(['LINEA_A', 'LINEA_B', 'LINEA_C', 'LINEA_D', 'LINEA_E', 'LINEA_H'], dtype='object', name='LINEA')"
      ]
     },
     "execution_count": 101,
     "metadata": {},
     "output_type": "execute_result"
    }
   ],
   "source": [
    "resumen.index"
   ]
  },
  {
   "cell_type": "code",
   "execution_count": 102,
   "metadata": {},
   "outputs": [
    {
     "data": {
      "text/plain": [
       "Index(['FECHA', 'DESDE', 'HASTA', 'LINEA', 'ESTACION', 'PAX_PAGOS',\n",
       "       'PAX_PASES_PAGOS', 'PAX_FRANQ', 'TOTAL', 'ID', 'dia', 'dia_semana'],\n",
       "      dtype='object')"
      ]
     },
     "execution_count": 102,
     "metadata": {},
     "output_type": "execute_result"
    }
   ],
   "source": [
    "db.columns"
   ]
  },
  {
   "cell_type": "code",
   "execution_count": 103,
   "metadata": {},
   "outputs": [
    {
     "data": {
      "text/plain": [
       "PAX_PASES_PAGOS  count    199694.000000\n",
       "                 mean          0.008628\n",
       "                 std           0.094097\n",
       "                 min           0.000000\n",
       "                 25%           0.000000\n",
       "                 50%           0.000000\n",
       "                 75%           0.000000\n",
       "                 max           3.000000\n",
       "TOTAL            count    199694.000000\n",
       "                 mean         21.029610\n",
       "                 std          23.206348\n",
       "                 min           0.000000\n",
       "                 25%           5.000000\n",
       "                 50%          14.000000\n",
       "                 75%          28.000000\n",
       "                 max         246.000000\n",
       "Name: LINEA_A, dtype: float64"
      ]
     },
     "execution_count": 103,
     "metadata": {},
     "output_type": "execute_result"
    }
   ],
   "source": [
    "resumen.loc['LINEA_A',['TOTAL','PAX_PASES_PAGOS']]"
   ]
  },
  {
   "cell_type": "code",
   "execution_count": 104,
   "metadata": {},
   "outputs": [
    {
     "data": {
      "text/plain": [
       "199694.0"
      ]
     },
     "execution_count": 104,
     "metadata": {},
     "output_type": "execute_result"
    }
   ],
   "source": [
    "resumen.loc['LINEA_A',('TOTAL','count')]"
   ]
  },
  {
   "cell_type": "code",
   "execution_count": 105,
   "metadata": {},
   "outputs": [
    {
     "data": {
      "text/plain": [
       "LINEA\n",
       "LINEA_A    199694.0\n",
       "LINEA_B    220342.0\n",
       "Name: (TOTAL, count), dtype: float64"
      ]
     },
     "execution_count": 105,
     "metadata": {},
     "output_type": "execute_result"
    }
   ],
   "source": [
    "resumen.loc[['LINEA_A','LINEA_B'],('TOTAL','count')]"
   ]
  },
  {
   "cell_type": "code",
   "execution_count": 106,
   "metadata": {},
   "outputs": [
    {
     "data": {
      "text/html": [
       "<div>\n",
       "<style scoped>\n",
       "    .dataframe tbody tr th:only-of-type {\n",
       "        vertical-align: middle;\n",
       "    }\n",
       "\n",
       "    .dataframe tbody tr th {\n",
       "        vertical-align: top;\n",
       "    }\n",
       "\n",
       "    .dataframe thead tr th {\n",
       "        text-align: left;\n",
       "    }\n",
       "\n",
       "    .dataframe thead tr:last-of-type th {\n",
       "        text-align: right;\n",
       "    }\n",
       "</style>\n",
       "<table border=\"1\" class=\"dataframe\">\n",
       "  <thead>\n",
       "    <tr>\n",
       "      <th></th>\n",
       "      <th colspan=\"2\" halign=\"left\">TOTAL</th>\n",
       "    </tr>\n",
       "    <tr>\n",
       "      <th></th>\n",
       "      <th>count</th>\n",
       "      <th>mean</th>\n",
       "    </tr>\n",
       "    <tr>\n",
       "      <th>LINEA</th>\n",
       "      <th></th>\n",
       "      <th></th>\n",
       "    </tr>\n",
       "  </thead>\n",
       "  <tbody>\n",
       "    <tr>\n",
       "      <th>LINEA_A</th>\n",
       "      <td>199694.0</td>\n",
       "      <td>21.029610</td>\n",
       "    </tr>\n",
       "    <tr>\n",
       "      <th>LINEA_B</th>\n",
       "      <td>220342.0</td>\n",
       "      <td>27.247134</td>\n",
       "    </tr>\n",
       "  </tbody>\n",
       "</table>\n",
       "</div>"
      ],
      "text/plain": [
       "            TOTAL           \n",
       "            count       mean\n",
       "LINEA                       \n",
       "LINEA_A  199694.0  21.029610\n",
       "LINEA_B  220342.0  27.247134"
      ]
     },
     "execution_count": 106,
     "metadata": {},
     "output_type": "execute_result"
    }
   ],
   "source": [
    "resumen.loc[['LINEA_A','LINEA_B'],('TOTAL',['count','mean'])]"
   ]
  },
  {
   "cell_type": "code",
   "execution_count": 107,
   "metadata": {},
   "outputs": [
    {
     "data": {
      "text/html": [
       "<div>\n",
       "<style scoped>\n",
       "    .dataframe tbody tr th:only-of-type {\n",
       "        vertical-align: middle;\n",
       "    }\n",
       "\n",
       "    .dataframe tbody tr th {\n",
       "        vertical-align: top;\n",
       "    }\n",
       "\n",
       "    .dataframe thead tr th {\n",
       "        text-align: left;\n",
       "    }\n",
       "\n",
       "    .dataframe thead tr:last-of-type th {\n",
       "        text-align: right;\n",
       "    }\n",
       "</style>\n",
       "<table border=\"1\" class=\"dataframe\">\n",
       "  <thead>\n",
       "    <tr>\n",
       "      <th></th>\n",
       "      <th colspan=\"2\" halign=\"left\">TOTAL</th>\n",
       "    </tr>\n",
       "    <tr>\n",
       "      <th></th>\n",
       "      <th>count</th>\n",
       "      <th>mean</th>\n",
       "    </tr>\n",
       "    <tr>\n",
       "      <th>LINEA</th>\n",
       "      <th></th>\n",
       "      <th></th>\n",
       "    </tr>\n",
       "  </thead>\n",
       "  <tbody>\n",
       "    <tr>\n",
       "      <th>LINEA_A</th>\n",
       "      <td>199694.0</td>\n",
       "      <td>21.029610</td>\n",
       "    </tr>\n",
       "    <tr>\n",
       "      <th>LINEA_B</th>\n",
       "      <td>220342.0</td>\n",
       "      <td>27.247134</td>\n",
       "    </tr>\n",
       "  </tbody>\n",
       "</table>\n",
       "</div>"
      ],
      "text/plain": [
       "            TOTAL           \n",
       "            count       mean\n",
       "LINEA                       \n",
       "LINEA_A  199694.0  21.029610\n",
       "LINEA_B  220342.0  27.247134"
      ]
     },
     "execution_count": 107,
     "metadata": {},
     "output_type": "execute_result"
    }
   ],
   "source": [
    "resumen.loc[['LINEA_A','LINEA_B'],[('TOTAL','count'),('TOTAL','mean')]]"
   ]
  },
  {
   "cell_type": "markdown",
   "metadata": {},
   "source": [
    "Sin embargo, la solución sencilla este caso que es resetar los indices, no arroja un resultado satisfactorio"
   ]
  },
  {
   "cell_type": "code",
   "execution_count": 108,
   "metadata": {},
   "outputs": [],
   "source": [
    "resumen = db.loc[:,['LINEA','TOTAL']].groupby(['LINEA']).describe()\n"
   ]
  },
  {
   "cell_type": "code",
   "execution_count": 109,
   "metadata": {},
   "outputs": [
    {
     "data": {
      "text/html": [
       "<div>\n",
       "<style scoped>\n",
       "    .dataframe tbody tr th:only-of-type {\n",
       "        vertical-align: middle;\n",
       "    }\n",
       "\n",
       "    .dataframe tbody tr th {\n",
       "        vertical-align: top;\n",
       "    }\n",
       "\n",
       "    .dataframe thead tr th {\n",
       "        text-align: left;\n",
       "    }\n",
       "</style>\n",
       "<table border=\"1\" class=\"dataframe\">\n",
       "  <thead>\n",
       "    <tr>\n",
       "      <th></th>\n",
       "      <th>LINEA</th>\n",
       "      <th colspan=\"8\" halign=\"left\">TOTAL</th>\n",
       "    </tr>\n",
       "    <tr>\n",
       "      <th></th>\n",
       "      <th></th>\n",
       "      <th>count</th>\n",
       "      <th>mean</th>\n",
       "      <th>std</th>\n",
       "      <th>min</th>\n",
       "      <th>25%</th>\n",
       "      <th>50%</th>\n",
       "      <th>75%</th>\n",
       "      <th>max</th>\n",
       "    </tr>\n",
       "  </thead>\n",
       "  <tbody>\n",
       "    <tr>\n",
       "      <th>0</th>\n",
       "      <td>LINEA_A</td>\n",
       "      <td>199694.0</td>\n",
       "      <td>21.029610</td>\n",
       "      <td>23.206348</td>\n",
       "      <td>0.0</td>\n",
       "      <td>5.0</td>\n",
       "      <td>14.0</td>\n",
       "      <td>28.0</td>\n",
       "      <td>246.0</td>\n",
       "    </tr>\n",
       "    <tr>\n",
       "      <th>1</th>\n",
       "      <td>LINEA_B</td>\n",
       "      <td>220342.0</td>\n",
       "      <td>27.247134</td>\n",
       "      <td>29.400228</td>\n",
       "      <td>0.0</td>\n",
       "      <td>6.0</td>\n",
       "      <td>17.0</td>\n",
       "      <td>39.0</td>\n",
       "      <td>248.0</td>\n",
       "    </tr>\n",
       "    <tr>\n",
       "      <th>2</th>\n",
       "      <td>LINEA_C</td>\n",
       "      <td>120796.0</td>\n",
       "      <td>30.644409</td>\n",
       "      <td>35.349491</td>\n",
       "      <td>0.0</td>\n",
       "      <td>6.0</td>\n",
       "      <td>18.0</td>\n",
       "      <td>42.0</td>\n",
       "      <td>244.0</td>\n",
       "    </tr>\n",
       "    <tr>\n",
       "      <th>3</th>\n",
       "      <td>LINEA_D</td>\n",
       "      <td>196455.0</td>\n",
       "      <td>26.287465</td>\n",
       "      <td>25.078798</td>\n",
       "      <td>0.0</td>\n",
       "      <td>6.0</td>\n",
       "      <td>19.0</td>\n",
       "      <td>40.0</td>\n",
       "      <td>227.0</td>\n",
       "    </tr>\n",
       "    <tr>\n",
       "      <th>4</th>\n",
       "      <td>LINEA_E</td>\n",
       "      <td>86704.0</td>\n",
       "      <td>16.122809</td>\n",
       "      <td>17.570946</td>\n",
       "      <td>0.0</td>\n",
       "      <td>5.0</td>\n",
       "      <td>11.0</td>\n",
       "      <td>21.0</td>\n",
       "      <td>165.0</td>\n",
       "    </tr>\n",
       "    <tr>\n",
       "      <th>5</th>\n",
       "      <td>LINEA_H</td>\n",
       "      <td>98199.0</td>\n",
       "      <td>20.317244</td>\n",
       "      <td>19.837206</td>\n",
       "      <td>0.0</td>\n",
       "      <td>6.0</td>\n",
       "      <td>15.0</td>\n",
       "      <td>29.0</td>\n",
       "      <td>209.0</td>\n",
       "    </tr>\n",
       "  </tbody>\n",
       "</table>\n",
       "</div>"
      ],
      "text/plain": [
       "     LINEA     TOTAL                                                   \n",
       "               count       mean        std  min  25%   50%   75%    max\n",
       "0  LINEA_A  199694.0  21.029610  23.206348  0.0  5.0  14.0  28.0  246.0\n",
       "1  LINEA_B  220342.0  27.247134  29.400228  0.0  6.0  17.0  39.0  248.0\n",
       "2  LINEA_C  120796.0  30.644409  35.349491  0.0  6.0  18.0  42.0  244.0\n",
       "3  LINEA_D  196455.0  26.287465  25.078798  0.0  6.0  19.0  40.0  227.0\n",
       "4  LINEA_E   86704.0  16.122809  17.570946  0.0  5.0  11.0  21.0  165.0\n",
       "5  LINEA_H   98199.0  20.317244  19.837206  0.0  6.0  15.0  29.0  209.0"
      ]
     },
     "execution_count": 109,
     "metadata": {},
     "output_type": "execute_result"
    }
   ],
   "source": [
    "resumen.reset_index()"
   ]
  },
  {
   "cell_type": "code",
   "execution_count": 110,
   "metadata": {},
   "outputs": [
    {
     "data": {
      "text/plain": [
       "MultiIndex(levels=[['TOTAL', 'LINEA'], ['count', 'mean', 'std', 'min', '25%', '50%', '75%', 'max', '']],\n",
       "           labels=[[1, 0, 0, 0, 0, 0, 0, 0, 0], [8, 0, 1, 2, 3, 4, 5, 6, 7]])"
      ]
     },
     "execution_count": 110,
     "metadata": {},
     "output_type": "execute_result"
    }
   ],
   "source": [
    "#vemos que tenemos un indice multiple a nivel de COLUMNAS \n",
    "resumen.reset_index().columns"
   ]
  },
  {
   "cell_type": "code",
   "execution_count": 111,
   "metadata": {},
   "outputs": [
    {
     "data": {
      "text/html": [
       "<div>\n",
       "<style scoped>\n",
       "    .dataframe tbody tr th:only-of-type {\n",
       "        vertical-align: middle;\n",
       "    }\n",
       "\n",
       "    .dataframe tbody tr th {\n",
       "        vertical-align: top;\n",
       "    }\n",
       "\n",
       "    .dataframe thead th {\n",
       "        text-align: right;\n",
       "    }\n",
       "</style>\n",
       "<table border=\"1\" class=\"dataframe\">\n",
       "  <thead>\n",
       "    <tr style=\"text-align: right;\">\n",
       "      <th></th>\n",
       "      <th>count</th>\n",
       "      <th>mean</th>\n",
       "      <th>std</th>\n",
       "      <th>min</th>\n",
       "      <th>25%</th>\n",
       "      <th>50%</th>\n",
       "      <th>75%</th>\n",
       "      <th>max</th>\n",
       "    </tr>\n",
       "    <tr>\n",
       "      <th>LINEA</th>\n",
       "      <th></th>\n",
       "      <th></th>\n",
       "      <th></th>\n",
       "      <th></th>\n",
       "      <th></th>\n",
       "      <th></th>\n",
       "      <th></th>\n",
       "      <th></th>\n",
       "    </tr>\n",
       "  </thead>\n",
       "  <tbody>\n",
       "    <tr>\n",
       "      <th>LINEA_A</th>\n",
       "      <td>199694.0</td>\n",
       "      <td>21.029610</td>\n",
       "      <td>23.206348</td>\n",
       "      <td>0.0</td>\n",
       "      <td>5.0</td>\n",
       "      <td>14.0</td>\n",
       "      <td>28.0</td>\n",
       "      <td>246.0</td>\n",
       "    </tr>\n",
       "    <tr>\n",
       "      <th>LINEA_B</th>\n",
       "      <td>220342.0</td>\n",
       "      <td>27.247134</td>\n",
       "      <td>29.400228</td>\n",
       "      <td>0.0</td>\n",
       "      <td>6.0</td>\n",
       "      <td>17.0</td>\n",
       "      <td>39.0</td>\n",
       "      <td>248.0</td>\n",
       "    </tr>\n",
       "    <tr>\n",
       "      <th>LINEA_C</th>\n",
       "      <td>120796.0</td>\n",
       "      <td>30.644409</td>\n",
       "      <td>35.349491</td>\n",
       "      <td>0.0</td>\n",
       "      <td>6.0</td>\n",
       "      <td>18.0</td>\n",
       "      <td>42.0</td>\n",
       "      <td>244.0</td>\n",
       "    </tr>\n",
       "    <tr>\n",
       "      <th>LINEA_D</th>\n",
       "      <td>196455.0</td>\n",
       "      <td>26.287465</td>\n",
       "      <td>25.078798</td>\n",
       "      <td>0.0</td>\n",
       "      <td>6.0</td>\n",
       "      <td>19.0</td>\n",
       "      <td>40.0</td>\n",
       "      <td>227.0</td>\n",
       "    </tr>\n",
       "    <tr>\n",
       "      <th>LINEA_E</th>\n",
       "      <td>86704.0</td>\n",
       "      <td>16.122809</td>\n",
       "      <td>17.570946</td>\n",
       "      <td>0.0</td>\n",
       "      <td>5.0</td>\n",
       "      <td>11.0</td>\n",
       "      <td>21.0</td>\n",
       "      <td>165.0</td>\n",
       "    </tr>\n",
       "    <tr>\n",
       "      <th>LINEA_H</th>\n",
       "      <td>98199.0</td>\n",
       "      <td>20.317244</td>\n",
       "      <td>19.837206</td>\n",
       "      <td>0.0</td>\n",
       "      <td>6.0</td>\n",
       "      <td>15.0</td>\n",
       "      <td>29.0</td>\n",
       "      <td>209.0</td>\n",
       "    </tr>\n",
       "  </tbody>\n",
       "</table>\n",
       "</div>"
      ],
      "text/plain": [
       "            count       mean        std  min  25%   50%   75%    max\n",
       "LINEA                                                               \n",
       "LINEA_A  199694.0  21.029610  23.206348  0.0  5.0  14.0  28.0  246.0\n",
       "LINEA_B  220342.0  27.247134  29.400228  0.0  6.0  17.0  39.0  248.0\n",
       "LINEA_C  120796.0  30.644409  35.349491  0.0  6.0  18.0  42.0  244.0\n",
       "LINEA_D  196455.0  26.287465  25.078798  0.0  6.0  19.0  40.0  227.0\n",
       "LINEA_E   86704.0  16.122809  17.570946  0.0  5.0  11.0  21.0  165.0\n",
       "LINEA_H   98199.0  20.317244  19.837206  0.0  6.0  15.0  29.0  209.0"
      ]
     },
     "execution_count": 111,
     "metadata": {},
     "output_type": "execute_result"
    }
   ],
   "source": [
    "#en este caso, cuando el indice multiple esta en las columnas, siempre podemos modificar eliminano un nivel\n",
    "resumen.columns = resumen.columns.droplevel(0)\n",
    "resumen"
   ]
  },
  {
   "cell_type": "code",
   "execution_count": 112,
   "metadata": {},
   "outputs": [
    {
     "data": {
      "text/html": [
       "<div>\n",
       "<style scoped>\n",
       "    .dataframe tbody tr th:only-of-type {\n",
       "        vertical-align: middle;\n",
       "    }\n",
       "\n",
       "    .dataframe tbody tr th {\n",
       "        vertical-align: top;\n",
       "    }\n",
       "\n",
       "    .dataframe thead th {\n",
       "        text-align: right;\n",
       "    }\n",
       "</style>\n",
       "<table border=\"1\" class=\"dataframe\">\n",
       "  <thead>\n",
       "    <tr style=\"text-align: right;\">\n",
       "      <th></th>\n",
       "      <th>LINEA</th>\n",
       "      <th>count</th>\n",
       "      <th>mean</th>\n",
       "      <th>std</th>\n",
       "      <th>min</th>\n",
       "      <th>25%</th>\n",
       "      <th>50%</th>\n",
       "      <th>75%</th>\n",
       "      <th>max</th>\n",
       "    </tr>\n",
       "  </thead>\n",
       "  <tbody>\n",
       "    <tr>\n",
       "      <th>0</th>\n",
       "      <td>LINEA_A</td>\n",
       "      <td>199694.0</td>\n",
       "      <td>21.029610</td>\n",
       "      <td>23.206348</td>\n",
       "      <td>0.0</td>\n",
       "      <td>5.0</td>\n",
       "      <td>14.0</td>\n",
       "      <td>28.0</td>\n",
       "      <td>246.0</td>\n",
       "    </tr>\n",
       "    <tr>\n",
       "      <th>1</th>\n",
       "      <td>LINEA_B</td>\n",
       "      <td>220342.0</td>\n",
       "      <td>27.247134</td>\n",
       "      <td>29.400228</td>\n",
       "      <td>0.0</td>\n",
       "      <td>6.0</td>\n",
       "      <td>17.0</td>\n",
       "      <td>39.0</td>\n",
       "      <td>248.0</td>\n",
       "    </tr>\n",
       "    <tr>\n",
       "      <th>2</th>\n",
       "      <td>LINEA_C</td>\n",
       "      <td>120796.0</td>\n",
       "      <td>30.644409</td>\n",
       "      <td>35.349491</td>\n",
       "      <td>0.0</td>\n",
       "      <td>6.0</td>\n",
       "      <td>18.0</td>\n",
       "      <td>42.0</td>\n",
       "      <td>244.0</td>\n",
       "    </tr>\n",
       "    <tr>\n",
       "      <th>3</th>\n",
       "      <td>LINEA_D</td>\n",
       "      <td>196455.0</td>\n",
       "      <td>26.287465</td>\n",
       "      <td>25.078798</td>\n",
       "      <td>0.0</td>\n",
       "      <td>6.0</td>\n",
       "      <td>19.0</td>\n",
       "      <td>40.0</td>\n",
       "      <td>227.0</td>\n",
       "    </tr>\n",
       "    <tr>\n",
       "      <th>4</th>\n",
       "      <td>LINEA_E</td>\n",
       "      <td>86704.0</td>\n",
       "      <td>16.122809</td>\n",
       "      <td>17.570946</td>\n",
       "      <td>0.0</td>\n",
       "      <td>5.0</td>\n",
       "      <td>11.0</td>\n",
       "      <td>21.0</td>\n",
       "      <td>165.0</td>\n",
       "    </tr>\n",
       "    <tr>\n",
       "      <th>5</th>\n",
       "      <td>LINEA_H</td>\n",
       "      <td>98199.0</td>\n",
       "      <td>20.317244</td>\n",
       "      <td>19.837206</td>\n",
       "      <td>0.0</td>\n",
       "      <td>6.0</td>\n",
       "      <td>15.0</td>\n",
       "      <td>29.0</td>\n",
       "      <td>209.0</td>\n",
       "    </tr>\n",
       "  </tbody>\n",
       "</table>\n",
       "</div>"
      ],
      "text/plain": [
       "     LINEA     count       mean        std  min  25%   50%   75%    max\n",
       "0  LINEA_A  199694.0  21.029610  23.206348  0.0  5.0  14.0  28.0  246.0\n",
       "1  LINEA_B  220342.0  27.247134  29.400228  0.0  6.0  17.0  39.0  248.0\n",
       "2  LINEA_C  120796.0  30.644409  35.349491  0.0  6.0  18.0  42.0  244.0\n",
       "3  LINEA_D  196455.0  26.287465  25.078798  0.0  6.0  19.0  40.0  227.0\n",
       "4  LINEA_E   86704.0  16.122809  17.570946  0.0  5.0  11.0  21.0  165.0\n",
       "5  LINEA_H   98199.0  20.317244  19.837206  0.0  6.0  15.0  29.0  209.0"
      ]
     },
     "execution_count": 112,
     "metadata": {},
     "output_type": "execute_result"
    }
   ],
   "source": [
    "#si desean que la linea este en las columnas, pueden resetear el index de nuevo\n",
    "resumen_reset = resumen.reset_index()\n",
    "resumen_reset"
   ]
  },
  {
   "cell_type": "markdown",
   "metadata": {},
   "source": [
    "Pero en esto se puede ver la ventaja de usar indices que no sean simplemente números, si no que podemos indexar por algo significativo como la línea. De esta manera es más sencillo acceder a los datos"
   ]
  },
  {
   "cell_type": "code",
   "execution_count": 113,
   "metadata": {},
   "outputs": [
    {
     "data": {
      "text/html": [
       "<div>\n",
       "<style scoped>\n",
       "    .dataframe tbody tr th:only-of-type {\n",
       "        vertical-align: middle;\n",
       "    }\n",
       "\n",
       "    .dataframe tbody tr th {\n",
       "        vertical-align: top;\n",
       "    }\n",
       "\n",
       "    .dataframe thead th {\n",
       "        text-align: right;\n",
       "    }\n",
       "</style>\n",
       "<table border=\"1\" class=\"dataframe\">\n",
       "  <thead>\n",
       "    <tr style=\"text-align: right;\">\n",
       "      <th></th>\n",
       "      <th>count</th>\n",
       "      <th>mean</th>\n",
       "      <th>std</th>\n",
       "      <th>min</th>\n",
       "      <th>25%</th>\n",
       "      <th>50%</th>\n",
       "      <th>75%</th>\n",
       "      <th>max</th>\n",
       "    </tr>\n",
       "    <tr>\n",
       "      <th>LINEA</th>\n",
       "      <th></th>\n",
       "      <th></th>\n",
       "      <th></th>\n",
       "      <th></th>\n",
       "      <th></th>\n",
       "      <th></th>\n",
       "      <th></th>\n",
       "      <th></th>\n",
       "    </tr>\n",
       "  </thead>\n",
       "  <tbody>\n",
       "    <tr>\n",
       "      <th>LINEA_A</th>\n",
       "      <td>199694.0</td>\n",
       "      <td>21.02961</td>\n",
       "      <td>23.206348</td>\n",
       "      <td>0.0</td>\n",
       "      <td>5.0</td>\n",
       "      <td>14.0</td>\n",
       "      <td>28.0</td>\n",
       "      <td>246.0</td>\n",
       "    </tr>\n",
       "  </tbody>\n",
       "</table>\n",
       "</div>"
      ],
      "text/plain": [
       "            count      mean        std  min  25%   50%   75%    max\n",
       "LINEA                                                              \n",
       "LINEA_A  199694.0  21.02961  23.206348  0.0  5.0  14.0  28.0  246.0"
      ]
     },
     "execution_count": 113,
     "metadata": {},
     "output_type": "execute_result"
    }
   ],
   "source": [
    "resumen.loc[['LINEA_A'],:]"
   ]
  },
  {
   "cell_type": "code",
   "execution_count": 114,
   "metadata": {},
   "outputs": [
    {
     "data": {
      "text/html": [
       "<div>\n",
       "<style scoped>\n",
       "    .dataframe tbody tr th:only-of-type {\n",
       "        vertical-align: middle;\n",
       "    }\n",
       "\n",
       "    .dataframe tbody tr th {\n",
       "        vertical-align: top;\n",
       "    }\n",
       "\n",
       "    .dataframe thead th {\n",
       "        text-align: right;\n",
       "    }\n",
       "</style>\n",
       "<table border=\"1\" class=\"dataframe\">\n",
       "  <thead>\n",
       "    <tr style=\"text-align: right;\">\n",
       "      <th></th>\n",
       "      <th>LINEA</th>\n",
       "      <th>count</th>\n",
       "      <th>mean</th>\n",
       "      <th>std</th>\n",
       "      <th>min</th>\n",
       "      <th>25%</th>\n",
       "      <th>50%</th>\n",
       "      <th>75%</th>\n",
       "      <th>max</th>\n",
       "    </tr>\n",
       "  </thead>\n",
       "  <tbody>\n",
       "    <tr>\n",
       "      <th>0</th>\n",
       "      <td>LINEA_A</td>\n",
       "      <td>199694.0</td>\n",
       "      <td>21.02961</td>\n",
       "      <td>23.206348</td>\n",
       "      <td>0.0</td>\n",
       "      <td>5.0</td>\n",
       "      <td>14.0</td>\n",
       "      <td>28.0</td>\n",
       "      <td>246.0</td>\n",
       "    </tr>\n",
       "  </tbody>\n",
       "</table>\n",
       "</div>"
      ],
      "text/plain": [
       "     LINEA     count      mean        std  min  25%   50%   75%    max\n",
       "0  LINEA_A  199694.0  21.02961  23.206348  0.0  5.0  14.0  28.0  246.0"
      ]
     },
     "execution_count": 114,
     "metadata": {},
     "output_type": "execute_result"
    }
   ],
   "source": [
    "#en lugar de:\n",
    "resumen_reset.loc[resumen_reset.LINEA == 'LINEA_A',:]"
   ]
  },
  {
   "cell_type": "markdown",
   "metadata": {},
   "source": [
    "Esta forma de indexar genera formas mas complejas y más potentes de acceder y organizar los datos. Como siempre, se trata de juzgar en qué medida esa complejidad es necesaria.\n",
    "\n",
    "### Fin de disgresión con más detalles sobre MultiIndex "
   ]
  },
  {
   "cell_type": "markdown",
   "metadata": {},
   "source": [
    "## 7 Formatos largos y anchos\n",
    "\n",
    "Volvamos a nuestra dataframe que venimos trabajando para ver una cuestion de estructura de los datos. Los llamados formatos *anchos* y *largos*"
   ]
  },
  {
   "cell_type": "code",
   "execution_count": 115,
   "metadata": {},
   "outputs": [
    {
     "data": {
      "text/html": [
       "<div>\n",
       "<style scoped>\n",
       "    .dataframe tbody tr th:only-of-type {\n",
       "        vertical-align: middle;\n",
       "    }\n",
       "\n",
       "    .dataframe tbody tr th {\n",
       "        vertical-align: top;\n",
       "    }\n",
       "\n",
       "    .dataframe thead th {\n",
       "        text-align: right;\n",
       "    }\n",
       "</style>\n",
       "<table border=\"1\" class=\"dataframe\">\n",
       "  <thead>\n",
       "    <tr style=\"text-align: right;\">\n",
       "      <th></th>\n",
       "      <th>FECHA</th>\n",
       "      <th>DESDE</th>\n",
       "      <th>HASTA</th>\n",
       "      <th>LINEA</th>\n",
       "      <th>ESTACION</th>\n",
       "      <th>PAX_PAGOS</th>\n",
       "      <th>PAX_PASES_PAGOS</th>\n",
       "      <th>PAX_FRANQ</th>\n",
       "      <th>TOTAL</th>\n",
       "      <th>ID</th>\n",
       "      <th>dia</th>\n",
       "      <th>dia_semana</th>\n",
       "    </tr>\n",
       "  </thead>\n",
       "  <tbody>\n",
       "    <tr>\n",
       "      <th>1025451</th>\n",
       "      <td>01/02/2018</td>\n",
       "      <td>05:30:00</td>\n",
       "      <td>05:45:00</td>\n",
       "      <td>LINEA_A</td>\n",
       "      <td>ACOYTE</td>\n",
       "      <td>0</td>\n",
       "      <td>0</td>\n",
       "      <td>0</td>\n",
       "      <td>0</td>\n",
       "      <td>42</td>\n",
       "      <td>1</td>\n",
       "      <td>jueves</td>\n",
       "    </tr>\n",
       "    <tr>\n",
       "      <th>1025452</th>\n",
       "      <td>01/02/2018</td>\n",
       "      <td>05:30:00</td>\n",
       "      <td>05:45:00</td>\n",
       "      <td>LINEA_A</td>\n",
       "      <td>ALBERTI</td>\n",
       "      <td>1</td>\n",
       "      <td>0</td>\n",
       "      <td>0</td>\n",
       "      <td>1</td>\n",
       "      <td>37</td>\n",
       "      <td>1</td>\n",
       "      <td>jueves</td>\n",
       "    </tr>\n",
       "    <tr>\n",
       "      <th>1025453</th>\n",
       "      <td>01/02/2018</td>\n",
       "      <td>05:30:00</td>\n",
       "      <td>05:45:00</td>\n",
       "      <td>LINEA_A</td>\n",
       "      <td>CARABOBO</td>\n",
       "      <td>3</td>\n",
       "      <td>0</td>\n",
       "      <td>0</td>\n",
       "      <td>3</td>\n",
       "      <td>75</td>\n",
       "      <td>1</td>\n",
       "      <td>jueves</td>\n",
       "    </tr>\n",
       "    <tr>\n",
       "      <th>1025454</th>\n",
       "      <td>01/02/2018</td>\n",
       "      <td>05:30:00</td>\n",
       "      <td>05:45:00</td>\n",
       "      <td>LINEA_A</td>\n",
       "      <td>CASTRO BARROS</td>\n",
       "      <td>6</td>\n",
       "      <td>0</td>\n",
       "      <td>0</td>\n",
       "      <td>6</td>\n",
       "      <td>40</td>\n",
       "      <td>1</td>\n",
       "      <td>jueves</td>\n",
       "    </tr>\n",
       "    <tr>\n",
       "      <th>1025455</th>\n",
       "      <td>01/02/2018</td>\n",
       "      <td>05:30:00</td>\n",
       "      <td>05:45:00</td>\n",
       "      <td>LINEA_A</td>\n",
       "      <td>FLORES</td>\n",
       "      <td>1</td>\n",
       "      <td>0</td>\n",
       "      <td>0</td>\n",
       "      <td>1</td>\n",
       "      <td>82</td>\n",
       "      <td>1</td>\n",
       "      <td>jueves</td>\n",
       "    </tr>\n",
       "  </tbody>\n",
       "</table>\n",
       "</div>"
      ],
      "text/plain": [
       "              FECHA     DESDE     HASTA    LINEA       ESTACION  PAX_PAGOS  \\\n",
       "1025451  01/02/2018  05:30:00  05:45:00  LINEA_A         ACOYTE          0   \n",
       "1025452  01/02/2018  05:30:00  05:45:00  LINEA_A        ALBERTI          1   \n",
       "1025453  01/02/2018  05:30:00  05:45:00  LINEA_A       CARABOBO          3   \n",
       "1025454  01/02/2018  05:30:00  05:45:00  LINEA_A  CASTRO BARROS          6   \n",
       "1025455  01/02/2018  05:30:00  05:45:00  LINEA_A         FLORES          1   \n",
       "\n",
       "         PAX_PASES_PAGOS  PAX_FRANQ  TOTAL  ID  dia dia_semana  \n",
       "1025451                0          0      0  42    1     jueves  \n",
       "1025452                0          0      1  37    1     jueves  \n",
       "1025453                0          0      3  75    1     jueves  \n",
       "1025454                0          0      6  40    1     jueves  \n",
       "1025455                0          0      1  82    1     jueves  "
      ]
     },
     "execution_count": 115,
     "metadata": {},
     "output_type": "execute_result"
    }
   ],
   "source": [
    "db.head()"
   ]
  },
  {
   "cell_type": "code",
   "execution_count": 116,
   "metadata": {},
   "outputs": [
    {
     "data": {
      "text/html": [
       "<div>\n",
       "<style scoped>\n",
       "    .dataframe tbody tr th:only-of-type {\n",
       "        vertical-align: middle;\n",
       "    }\n",
       "\n",
       "    .dataframe tbody tr th {\n",
       "        vertical-align: top;\n",
       "    }\n",
       "\n",
       "    .dataframe thead th {\n",
       "        text-align: right;\n",
       "    }\n",
       "</style>\n",
       "<table border=\"1\" class=\"dataframe\">\n",
       "  <thead>\n",
       "    <tr style=\"text-align: right;\">\n",
       "      <th></th>\n",
       "      <th>LINEA</th>\n",
       "      <th>ESTACION</th>\n",
       "      <th>PAX_PAGOS</th>\n",
       "      <th>PAX_PASES_PAGOS</th>\n",
       "      <th>PAX_FRANQ</th>\n",
       "    </tr>\n",
       "  </thead>\n",
       "  <tbody>\n",
       "    <tr>\n",
       "      <th>0</th>\n",
       "      <td>LINEA_A</td>\n",
       "      <td>ACOYTE</td>\n",
       "      <td>275169</td>\n",
       "      <td>155</td>\n",
       "      <td>12547</td>\n",
       "    </tr>\n",
       "    <tr>\n",
       "      <th>1</th>\n",
       "      <td>LINEA_A</td>\n",
       "      <td>ALBERTI</td>\n",
       "      <td>92161</td>\n",
       "      <td>71</td>\n",
       "      <td>4957</td>\n",
       "    </tr>\n",
       "    <tr>\n",
       "      <th>2</th>\n",
       "      <td>LINEA_A</td>\n",
       "      <td>CARABOBO</td>\n",
       "      <td>224609</td>\n",
       "      <td>177</td>\n",
       "      <td>9579</td>\n",
       "    </tr>\n",
       "    <tr>\n",
       "      <th>3</th>\n",
       "      <td>LINEA_A</td>\n",
       "      <td>CASTRO BARROS</td>\n",
       "      <td>179647</td>\n",
       "      <td>117</td>\n",
       "      <td>8173</td>\n",
       "    </tr>\n",
       "    <tr>\n",
       "      <th>4</th>\n",
       "      <td>LINEA_A</td>\n",
       "      <td>CONGRESO</td>\n",
       "      <td>270344</td>\n",
       "      <td>87</td>\n",
       "      <td>10052</td>\n",
       "    </tr>\n",
       "  </tbody>\n",
       "</table>\n",
       "</div>"
      ],
      "text/plain": [
       "     LINEA       ESTACION  PAX_PAGOS  PAX_PASES_PAGOS  PAX_FRANQ\n",
       "0  LINEA_A         ACOYTE     275169              155      12547\n",
       "1  LINEA_A        ALBERTI      92161               71       4957\n",
       "2  LINEA_A       CARABOBO     224609              177       9579\n",
       "3  LINEA_A  CASTRO BARROS     179647              117       8173\n",
       "4  LINEA_A       CONGRESO     270344               87      10052"
      ]
     },
     "execution_count": 116,
     "metadata": {},
     "output_type": "execute_result"
    }
   ],
   "source": [
    "#generamos primero un agregado por linea y estacion para obtener una suma por estacion para todo el mes\n",
    "subset = db.loc[:,['LINEA','ESTACION','PAX_PAGOS','PAX_PASES_PAGOS','PAX_FRANQ']]\n",
    "subset = subset.groupby(['LINEA','ESTACION']).sum().reset_index()\n",
    "subset.head()\n"
   ]
  },
  {
   "cell_type": "code",
   "execution_count": 117,
   "metadata": {},
   "outputs": [
    {
     "data": {
      "text/html": [
       "<div>\n",
       "<style scoped>\n",
       "    .dataframe tbody tr th:only-of-type {\n",
       "        vertical-align: middle;\n",
       "    }\n",
       "\n",
       "    .dataframe tbody tr th {\n",
       "        vertical-align: top;\n",
       "    }\n",
       "\n",
       "    .dataframe thead th {\n",
       "        text-align: right;\n",
       "    }\n",
       "</style>\n",
       "<table border=\"1\" class=\"dataframe\">\n",
       "  <thead>\n",
       "    <tr style=\"text-align: right;\">\n",
       "      <th></th>\n",
       "      <th>LINEA</th>\n",
       "      <th>ESTACION</th>\n",
       "      <th>tipo</th>\n",
       "      <th>PAX_</th>\n",
       "    </tr>\n",
       "  </thead>\n",
       "  <tbody>\n",
       "    <tr>\n",
       "      <th>0</th>\n",
       "      <td>LINEA_A</td>\n",
       "      <td>ACOYTE</td>\n",
       "      <td>PAGOS</td>\n",
       "      <td>275169</td>\n",
       "    </tr>\n",
       "    <tr>\n",
       "      <th>1</th>\n",
       "      <td>LINEA_A</td>\n",
       "      <td>ACOYTE</td>\n",
       "      <td>PASES_PAGOS</td>\n",
       "      <td>155</td>\n",
       "    </tr>\n",
       "    <tr>\n",
       "      <th>2</th>\n",
       "      <td>LINEA_A</td>\n",
       "      <td>ACOYTE</td>\n",
       "      <td>FRANQ</td>\n",
       "      <td>12547</td>\n",
       "    </tr>\n",
       "    <tr>\n",
       "      <th>3</th>\n",
       "      <td>LINEA_A</td>\n",
       "      <td>ALBERTI</td>\n",
       "      <td>PAGOS</td>\n",
       "      <td>92161</td>\n",
       "    </tr>\n",
       "    <tr>\n",
       "      <th>4</th>\n",
       "      <td>LINEA_A</td>\n",
       "      <td>ALBERTI</td>\n",
       "      <td>PASES_PAGOS</td>\n",
       "      <td>71</td>\n",
       "    </tr>\n",
       "  </tbody>\n",
       "</table>\n",
       "</div>"
      ],
      "text/plain": [
       "     LINEA ESTACION         tipo    PAX_\n",
       "0  LINEA_A   ACOYTE        PAGOS  275169\n",
       "1  LINEA_A   ACOYTE  PASES_PAGOS     155\n",
       "2  LINEA_A   ACOYTE        FRANQ   12547\n",
       "3  LINEA_A  ALBERTI        PAGOS   92161\n",
       "4  LINEA_A  ALBERTI  PASES_PAGOS      71"
      ]
     },
     "execution_count": 117,
     "metadata": {},
     "output_type": "execute_result"
    }
   ],
   "source": [
    "#podemos convertir este formato \"ancho\" en \"largo\"\n",
    "subset = pd.wide_to_long(df = subset,stubnames = 'PAX_', i=['LINEA','ESTACION'], j=\"tipo\",suffix='\\w+')\n",
    "subset = subset.reset_index()\n",
    "subset.head()"
   ]
  },
  {
   "cell_type": "code",
   "execution_count": 118,
   "metadata": {},
   "outputs": [
    {
     "data": {
      "text/html": [
       "<div>\n",
       "<style scoped>\n",
       "    .dataframe tbody tr th:only-of-type {\n",
       "        vertical-align: middle;\n",
       "    }\n",
       "\n",
       "    .dataframe tbody tr th {\n",
       "        vertical-align: top;\n",
       "    }\n",
       "\n",
       "    .dataframe thead th {\n",
       "        text-align: right;\n",
       "    }\n",
       "</style>\n",
       "<table border=\"1\" class=\"dataframe\">\n",
       "  <thead>\n",
       "    <tr style=\"text-align: right;\">\n",
       "      <th></th>\n",
       "      <th>tipo</th>\n",
       "      <th>FRANQ</th>\n",
       "      <th>PAGOS</th>\n",
       "      <th>PASES_PAGOS</th>\n",
       "    </tr>\n",
       "    <tr>\n",
       "      <th>LINEA</th>\n",
       "      <th>ESTACION</th>\n",
       "      <th></th>\n",
       "      <th></th>\n",
       "      <th></th>\n",
       "    </tr>\n",
       "  </thead>\n",
       "  <tbody>\n",
       "    <tr>\n",
       "      <th rowspan=\"18\" valign=\"top\">LINEA_A</th>\n",
       "      <th>ACOYTE</th>\n",
       "      <td>12547</td>\n",
       "      <td>275169</td>\n",
       "      <td>155</td>\n",
       "    </tr>\n",
       "    <tr>\n",
       "      <th>ALBERTI</th>\n",
       "      <td>4957</td>\n",
       "      <td>92161</td>\n",
       "      <td>71</td>\n",
       "    </tr>\n",
       "    <tr>\n",
       "      <th>CARABOBO</th>\n",
       "      <td>9579</td>\n",
       "      <td>224609</td>\n",
       "      <td>177</td>\n",
       "    </tr>\n",
       "    <tr>\n",
       "      <th>CASTRO BARROS</th>\n",
       "      <td>8173</td>\n",
       "      <td>179647</td>\n",
       "      <td>117</td>\n",
       "    </tr>\n",
       "    <tr>\n",
       "      <th>CONGRESO</th>\n",
       "      <td>10052</td>\n",
       "      <td>270344</td>\n",
       "      <td>87</td>\n",
       "    </tr>\n",
       "    <tr>\n",
       "      <th>FLORES</th>\n",
       "      <td>9331</td>\n",
       "      <td>236444</td>\n",
       "      <td>122</td>\n",
       "    </tr>\n",
       "    <tr>\n",
       "      <th>LIMA</th>\n",
       "      <td>6022</td>\n",
       "      <td>157168</td>\n",
       "      <td>56</td>\n",
       "    </tr>\n",
       "    <tr>\n",
       "      <th>LORIA</th>\n",
       "      <td>6440</td>\n",
       "      <td>153616</td>\n",
       "      <td>83</td>\n",
       "    </tr>\n",
       "    <tr>\n",
       "      <th>PASCO</th>\n",
       "      <td>3864</td>\n",
       "      <td>75288</td>\n",
       "      <td>30</td>\n",
       "    </tr>\n",
       "    <tr>\n",
       "      <th>PERU</th>\n",
       "      <td>7412</td>\n",
       "      <td>294429</td>\n",
       "      <td>105</td>\n",
       "    </tr>\n",
       "    <tr>\n",
       "      <th>PIEDRAS</th>\n",
       "      <td>3055</td>\n",
       "      <td>146813</td>\n",
       "      <td>39</td>\n",
       "    </tr>\n",
       "    <tr>\n",
       "      <th>PLAZA DE MAYO</th>\n",
       "      <td>7826</td>\n",
       "      <td>362598</td>\n",
       "      <td>154</td>\n",
       "    </tr>\n",
       "    <tr>\n",
       "      <th>PLAZA MISERERE</th>\n",
       "      <td>7495</td>\n",
       "      <td>285743</td>\n",
       "      <td>119</td>\n",
       "    </tr>\n",
       "    <tr>\n",
       "      <th>PRIMERA JUNTA</th>\n",
       "      <td>9884</td>\n",
       "      <td>259983</td>\n",
       "      <td>104</td>\n",
       "    </tr>\n",
       "    <tr>\n",
       "      <th>PUAN</th>\n",
       "      <td>0</td>\n",
       "      <td>127074</td>\n",
       "      <td>0</td>\n",
       "    </tr>\n",
       "    <tr>\n",
       "      <th>RIO DE JANEIRO</th>\n",
       "      <td>10138</td>\n",
       "      <td>198936</td>\n",
       "      <td>119</td>\n",
       "    </tr>\n",
       "    <tr>\n",
       "      <th>SAENZ PEÑA</th>\n",
       "      <td>7576</td>\n",
       "      <td>189144</td>\n",
       "      <td>79</td>\n",
       "    </tr>\n",
       "    <tr>\n",
       "      <th>SAN PEDRITO</th>\n",
       "      <td>6747</td>\n",
       "      <td>537500</td>\n",
       "      <td>106</td>\n",
       "    </tr>\n",
       "    <tr>\n",
       "      <th rowspan=\"12\" valign=\"top\">LINEA_B</th>\n",
       "      <th>ANGEL GALLARDO</th>\n",
       "      <td>13529</td>\n",
       "      <td>293287</td>\n",
       "      <td>207</td>\n",
       "    </tr>\n",
       "    <tr>\n",
       "      <th>CALLAO.B</th>\n",
       "      <td>0</td>\n",
       "      <td>343178</td>\n",
       "      <td>0</td>\n",
       "    </tr>\n",
       "    <tr>\n",
       "      <th>CARLOS GARDEL</th>\n",
       "      <td>10856</td>\n",
       "      <td>347092</td>\n",
       "      <td>123</td>\n",
       "    </tr>\n",
       "    <tr>\n",
       "      <th>CARLOS PELLEGRINI</th>\n",
       "      <td>11474</td>\n",
       "      <td>450747</td>\n",
       "      <td>212</td>\n",
       "    </tr>\n",
       "    <tr>\n",
       "      <th>DORREGO</th>\n",
       "      <td>7629</td>\n",
       "      <td>225341</td>\n",
       "      <td>126</td>\n",
       "    </tr>\n",
       "    <tr>\n",
       "      <th>ECHEVERRIA</th>\n",
       "      <td>5270</td>\n",
       "      <td>135085</td>\n",
       "      <td>158</td>\n",
       "    </tr>\n",
       "    <tr>\n",
       "      <th>FEDERICO LACROZE</th>\n",
       "      <td>24452</td>\n",
       "      <td>662112</td>\n",
       "      <td>387</td>\n",
       "    </tr>\n",
       "    <tr>\n",
       "      <th>FLORIDA</th>\n",
       "      <td>12453</td>\n",
       "      <td>426219</td>\n",
       "      <td>238</td>\n",
       "    </tr>\n",
       "    <tr>\n",
       "      <th>LEANDRO N. ALEM</th>\n",
       "      <td>10774</td>\n",
       "      <td>520579</td>\n",
       "      <td>209</td>\n",
       "    </tr>\n",
       "    <tr>\n",
       "      <th>LOS INCAS</th>\n",
       "      <td>8567</td>\n",
       "      <td>211591</td>\n",
       "      <td>181</td>\n",
       "    </tr>\n",
       "    <tr>\n",
       "      <th>MALABIA</th>\n",
       "      <td>15994</td>\n",
       "      <td>388384</td>\n",
       "      <td>256</td>\n",
       "    </tr>\n",
       "    <tr>\n",
       "      <th>MEDRANO</th>\n",
       "      <td>15025</td>\n",
       "      <td>324729</td>\n",
       "      <td>169</td>\n",
       "    </tr>\n",
       "    <tr>\n",
       "      <th>...</th>\n",
       "      <th>...</th>\n",
       "      <td>...</td>\n",
       "      <td>...</td>\n",
       "      <td>...</td>\n",
       "    </tr>\n",
       "    <tr>\n",
       "      <th rowspan=\"4\" valign=\"top\">LINEA_D</th>\n",
       "      <th>PLAZA ITALIA</th>\n",
       "      <td>6569</td>\n",
       "      <td>252671</td>\n",
       "      <td>143</td>\n",
       "    </tr>\n",
       "    <tr>\n",
       "      <th>PUEYRREDON.D</th>\n",
       "      <td>6669</td>\n",
       "      <td>205980</td>\n",
       "      <td>86</td>\n",
       "    </tr>\n",
       "    <tr>\n",
       "      <th>SCALABRINI ORTIZ</th>\n",
       "      <td>7649</td>\n",
       "      <td>254134</td>\n",
       "      <td>197</td>\n",
       "    </tr>\n",
       "    <tr>\n",
       "      <th>TRIBUNALES</th>\n",
       "      <td>9947</td>\n",
       "      <td>291528</td>\n",
       "      <td>173</td>\n",
       "    </tr>\n",
       "    <tr>\n",
       "      <th rowspan=\"15\" valign=\"top\">LINEA_E</th>\n",
       "      <th>AVENIDA LA PLATA</th>\n",
       "      <td>3979</td>\n",
       "      <td>100082</td>\n",
       "      <td>69</td>\n",
       "    </tr>\n",
       "    <tr>\n",
       "      <th>BOEDO</th>\n",
       "      <td>4294</td>\n",
       "      <td>92592</td>\n",
       "      <td>60</td>\n",
       "    </tr>\n",
       "    <tr>\n",
       "      <th>BOLIVAR</th>\n",
       "      <td>5914</td>\n",
       "      <td>268793</td>\n",
       "      <td>123</td>\n",
       "    </tr>\n",
       "    <tr>\n",
       "      <th>EMILIO MITRE</th>\n",
       "      <td>4305</td>\n",
       "      <td>109474</td>\n",
       "      <td>74</td>\n",
       "    </tr>\n",
       "    <tr>\n",
       "      <th>ENTRE RIOS</th>\n",
       "      <td>2457</td>\n",
       "      <td>52265</td>\n",
       "      <td>47</td>\n",
       "    </tr>\n",
       "    <tr>\n",
       "      <th>GENERAL BELGRANO</th>\n",
       "      <td>1915</td>\n",
       "      <td>57884</td>\n",
       "      <td>38</td>\n",
       "    </tr>\n",
       "    <tr>\n",
       "      <th>INDEPENDENCIA.H</th>\n",
       "      <td>2660</td>\n",
       "      <td>114490</td>\n",
       "      <td>89</td>\n",
       "    </tr>\n",
       "    <tr>\n",
       "      <th>JOSE MARIA MORENO</th>\n",
       "      <td>2509</td>\n",
       "      <td>78421</td>\n",
       "      <td>60</td>\n",
       "    </tr>\n",
       "    <tr>\n",
       "      <th>JUJUY</th>\n",
       "      <td>2629</td>\n",
       "      <td>64210</td>\n",
       "      <td>75</td>\n",
       "    </tr>\n",
       "    <tr>\n",
       "      <th>MEDALLA MILAGROSA</th>\n",
       "      <td>1398</td>\n",
       "      <td>36559</td>\n",
       "      <td>55</td>\n",
       "    </tr>\n",
       "    <tr>\n",
       "      <th>PICHINCHA</th>\n",
       "      <td>3117</td>\n",
       "      <td>49216</td>\n",
       "      <td>43</td>\n",
       "    </tr>\n",
       "    <tr>\n",
       "      <th>PZA. DE LOS VIRREYES</th>\n",
       "      <td>6143</td>\n",
       "      <td>170778</td>\n",
       "      <td>268</td>\n",
       "    </tr>\n",
       "    <tr>\n",
       "      <th>SAN JOSE</th>\n",
       "      <td>2314</td>\n",
       "      <td>50308</td>\n",
       "      <td>80</td>\n",
       "    </tr>\n",
       "    <tr>\n",
       "      <th>URQUIZA</th>\n",
       "      <td>3437</td>\n",
       "      <td>58108</td>\n",
       "      <td>67</td>\n",
       "    </tr>\n",
       "    <tr>\n",
       "      <th>VARELA</th>\n",
       "      <td>1460</td>\n",
       "      <td>44991</td>\n",
       "      <td>62</td>\n",
       "    </tr>\n",
       "    <tr>\n",
       "      <th rowspan=\"11\" valign=\"top\">LINEA_H</th>\n",
       "      <th>CASEROS</th>\n",
       "      <td>4131</td>\n",
       "      <td>135591</td>\n",
       "      <td>108</td>\n",
       "    </tr>\n",
       "    <tr>\n",
       "      <th>CORDOBA</th>\n",
       "      <td>4252</td>\n",
       "      <td>133956</td>\n",
       "      <td>86</td>\n",
       "    </tr>\n",
       "    <tr>\n",
       "      <th>CORRIENTES</th>\n",
       "      <td>4798</td>\n",
       "      <td>128307</td>\n",
       "      <td>96</td>\n",
       "    </tr>\n",
       "    <tr>\n",
       "      <th>HOSPITALES</th>\n",
       "      <td>4992</td>\n",
       "      <td>223419</td>\n",
       "      <td>91</td>\n",
       "    </tr>\n",
       "    <tr>\n",
       "      <th>HUMBERTO I</th>\n",
       "      <td>4620</td>\n",
       "      <td>114782</td>\n",
       "      <td>90</td>\n",
       "    </tr>\n",
       "    <tr>\n",
       "      <th>INCLAN</th>\n",
       "      <td>4422</td>\n",
       "      <td>99076</td>\n",
       "      <td>104</td>\n",
       "    </tr>\n",
       "    <tr>\n",
       "      <th>LAS HERAS</th>\n",
       "      <td>6607</td>\n",
       "      <td>270255</td>\n",
       "      <td>147</td>\n",
       "    </tr>\n",
       "    <tr>\n",
       "      <th>ONCE</th>\n",
       "      <td>7186</td>\n",
       "      <td>268665</td>\n",
       "      <td>124</td>\n",
       "    </tr>\n",
       "    <tr>\n",
       "      <th>PATRICIOS</th>\n",
       "      <td>5486</td>\n",
       "      <td>199767</td>\n",
       "      <td>185</td>\n",
       "    </tr>\n",
       "    <tr>\n",
       "      <th>SANTA FE</th>\n",
       "      <td>6127</td>\n",
       "      <td>211610</td>\n",
       "      <td>70</td>\n",
       "    </tr>\n",
       "    <tr>\n",
       "      <th>VENEZUELA</th>\n",
       "      <td>5427</td>\n",
       "      <td>150503</td>\n",
       "      <td>53</td>\n",
       "    </tr>\n",
       "  </tbody>\n",
       "</table>\n",
       "<p>86 rows × 3 columns</p>\n",
       "</div>"
      ],
      "text/plain": [
       "tipo                          FRANQ   PAGOS  PASES_PAGOS\n",
       "LINEA   ESTACION                                        \n",
       "LINEA_A ACOYTE                12547  275169          155\n",
       "        ALBERTI                4957   92161           71\n",
       "        CARABOBO               9579  224609          177\n",
       "        CASTRO BARROS          8173  179647          117\n",
       "        CONGRESO              10052  270344           87\n",
       "        FLORES                 9331  236444          122\n",
       "        LIMA                   6022  157168           56\n",
       "        LORIA                  6440  153616           83\n",
       "        PASCO                  3864   75288           30\n",
       "        PERU                   7412  294429          105\n",
       "        PIEDRAS                3055  146813           39\n",
       "        PLAZA DE MAYO          7826  362598          154\n",
       "        PLAZA MISERERE         7495  285743          119\n",
       "        PRIMERA JUNTA          9884  259983          104\n",
       "        PUAN                      0  127074            0\n",
       "        RIO DE JANEIRO        10138  198936          119\n",
       "        SAENZ PEÑA             7576  189144           79\n",
       "        SAN PEDRITO            6747  537500          106\n",
       "LINEA_B ANGEL GALLARDO        13529  293287          207\n",
       "        CALLAO.B                  0  343178            0\n",
       "        CARLOS GARDEL         10856  347092          123\n",
       "        CARLOS PELLEGRINI     11474  450747          212\n",
       "        DORREGO                7629  225341          126\n",
       "        ECHEVERRIA             5270  135085          158\n",
       "        FEDERICO LACROZE      24452  662112          387\n",
       "        FLORIDA               12453  426219          238\n",
       "        LEANDRO N. ALEM       10774  520579          209\n",
       "        LOS INCAS              8567  211591          181\n",
       "        MALABIA               15994  388384          256\n",
       "        MEDRANO               15025  324729          169\n",
       "...                             ...     ...          ...\n",
       "LINEA_D PLAZA ITALIA           6569  252671          143\n",
       "        PUEYRREDON.D           6669  205980           86\n",
       "        SCALABRINI ORTIZ       7649  254134          197\n",
       "        TRIBUNALES             9947  291528          173\n",
       "LINEA_E AVENIDA LA PLATA       3979  100082           69\n",
       "        BOEDO                  4294   92592           60\n",
       "        BOLIVAR                5914  268793          123\n",
       "        EMILIO MITRE           4305  109474           74\n",
       "        ENTRE RIOS             2457   52265           47\n",
       "        GENERAL BELGRANO       1915   57884           38\n",
       "        INDEPENDENCIA.H        2660  114490           89\n",
       "        JOSE MARIA MORENO      2509   78421           60\n",
       "        JUJUY                  2629   64210           75\n",
       "        MEDALLA MILAGROSA      1398   36559           55\n",
       "        PICHINCHA              3117   49216           43\n",
       "        PZA. DE LOS VIRREYES   6143  170778          268\n",
       "        SAN JOSE               2314   50308           80\n",
       "        URQUIZA                3437   58108           67\n",
       "        VARELA                 1460   44991           62\n",
       "LINEA_H CASEROS                4131  135591          108\n",
       "        CORDOBA                4252  133956           86\n",
       "        CORRIENTES             4798  128307           96\n",
       "        HOSPITALES             4992  223419           91\n",
       "        HUMBERTO I             4620  114782           90\n",
       "        INCLAN                 4422   99076          104\n",
       "        LAS HERAS              6607  270255          147\n",
       "        ONCE                   7186  268665          124\n",
       "        PATRICIOS              5486  199767          185\n",
       "        SANTA FE               6127  211610           70\n",
       "        VENEZUELA              5427  150503           53\n",
       "\n",
       "[86 rows x 3 columns]"
      ]
     },
     "execution_count": 118,
     "metadata": {},
     "output_type": "execute_result"
    }
   ],
   "source": [
    "#podemos hacer lo contrario y pasar de largo a ancho\n",
    "subset.pivot_table(index=['LINEA','ESTACION'], columns='tipo', values='PAX_')"
   ]
  },
  {
   "cell_type": "markdown",
   "metadata": {},
   "source": [
    "## Procesamiento para la clase siguiente\n",
    "\n",
    "Nuestro objetivo es ver como se comporta el subte de acuerdo al dia y al tipo de hora. Tenemos que obtener entonces la hora del dia"
   ]
  },
  {
   "cell_type": "code",
   "execution_count": 119,
   "metadata": {},
   "outputs": [
    {
     "data": {
      "text/html": [
       "<div>\n",
       "<style scoped>\n",
       "    .dataframe tbody tr th:only-of-type {\n",
       "        vertical-align: middle;\n",
       "    }\n",
       "\n",
       "    .dataframe tbody tr th {\n",
       "        vertical-align: top;\n",
       "    }\n",
       "\n",
       "    .dataframe thead th {\n",
       "        text-align: right;\n",
       "    }\n",
       "</style>\n",
       "<table border=\"1\" class=\"dataframe\">\n",
       "  <thead>\n",
       "    <tr style=\"text-align: right;\">\n",
       "      <th></th>\n",
       "      <th>FECHA</th>\n",
       "      <th>DESDE</th>\n",
       "      <th>HASTA</th>\n",
       "      <th>LINEA</th>\n",
       "      <th>ESTACION</th>\n",
       "      <th>PAX_PAGOS</th>\n",
       "      <th>PAX_PASES_PAGOS</th>\n",
       "      <th>PAX_FRANQ</th>\n",
       "      <th>TOTAL</th>\n",
       "      <th>ID</th>\n",
       "      <th>dia</th>\n",
       "      <th>dia_semana</th>\n",
       "      <th>hora</th>\n",
       "    </tr>\n",
       "  </thead>\n",
       "  <tbody>\n",
       "    <tr>\n",
       "      <th>1025451</th>\n",
       "      <td>01/02/2018</td>\n",
       "      <td>05:30:00</td>\n",
       "      <td>05:45:00</td>\n",
       "      <td>LINEA_A</td>\n",
       "      <td>ACOYTE</td>\n",
       "      <td>0</td>\n",
       "      <td>0</td>\n",
       "      <td>0</td>\n",
       "      <td>0</td>\n",
       "      <td>42</td>\n",
       "      <td>1</td>\n",
       "      <td>jueves</td>\n",
       "      <td>5</td>\n",
       "    </tr>\n",
       "    <tr>\n",
       "      <th>1025452</th>\n",
       "      <td>01/02/2018</td>\n",
       "      <td>05:30:00</td>\n",
       "      <td>05:45:00</td>\n",
       "      <td>LINEA_A</td>\n",
       "      <td>ALBERTI</td>\n",
       "      <td>1</td>\n",
       "      <td>0</td>\n",
       "      <td>0</td>\n",
       "      <td>1</td>\n",
       "      <td>37</td>\n",
       "      <td>1</td>\n",
       "      <td>jueves</td>\n",
       "      <td>5</td>\n",
       "    </tr>\n",
       "    <tr>\n",
       "      <th>1025453</th>\n",
       "      <td>01/02/2018</td>\n",
       "      <td>05:30:00</td>\n",
       "      <td>05:45:00</td>\n",
       "      <td>LINEA_A</td>\n",
       "      <td>CARABOBO</td>\n",
       "      <td>3</td>\n",
       "      <td>0</td>\n",
       "      <td>0</td>\n",
       "      <td>3</td>\n",
       "      <td>75</td>\n",
       "      <td>1</td>\n",
       "      <td>jueves</td>\n",
       "      <td>5</td>\n",
       "    </tr>\n",
       "    <tr>\n",
       "      <th>1025454</th>\n",
       "      <td>01/02/2018</td>\n",
       "      <td>05:30:00</td>\n",
       "      <td>05:45:00</td>\n",
       "      <td>LINEA_A</td>\n",
       "      <td>CASTRO BARROS</td>\n",
       "      <td>6</td>\n",
       "      <td>0</td>\n",
       "      <td>0</td>\n",
       "      <td>6</td>\n",
       "      <td>40</td>\n",
       "      <td>1</td>\n",
       "      <td>jueves</td>\n",
       "      <td>5</td>\n",
       "    </tr>\n",
       "    <tr>\n",
       "      <th>1025455</th>\n",
       "      <td>01/02/2018</td>\n",
       "      <td>05:30:00</td>\n",
       "      <td>05:45:00</td>\n",
       "      <td>LINEA_A</td>\n",
       "      <td>FLORES</td>\n",
       "      <td>1</td>\n",
       "      <td>0</td>\n",
       "      <td>0</td>\n",
       "      <td>1</td>\n",
       "      <td>82</td>\n",
       "      <td>1</td>\n",
       "      <td>jueves</td>\n",
       "      <td>5</td>\n",
       "    </tr>\n",
       "  </tbody>\n",
       "</table>\n",
       "</div>"
      ],
      "text/plain": [
       "              FECHA     DESDE     HASTA    LINEA       ESTACION  PAX_PAGOS  \\\n",
       "1025451  01/02/2018  05:30:00  05:45:00  LINEA_A         ACOYTE          0   \n",
       "1025452  01/02/2018  05:30:00  05:45:00  LINEA_A        ALBERTI          1   \n",
       "1025453  01/02/2018  05:30:00  05:45:00  LINEA_A       CARABOBO          3   \n",
       "1025454  01/02/2018  05:30:00  05:45:00  LINEA_A  CASTRO BARROS          6   \n",
       "1025455  01/02/2018  05:30:00  05:45:00  LINEA_A         FLORES          1   \n",
       "\n",
       "         PAX_PASES_PAGOS  PAX_FRANQ  TOTAL  ID  dia dia_semana  hora  \n",
       "1025451                0          0      0  42    1     jueves     5  \n",
       "1025452                0          0      1  37    1     jueves     5  \n",
       "1025453                0          0      3  75    1     jueves     5  \n",
       "1025454                0          0      6  40    1     jueves     5  \n",
       "1025455                0          0      1  82    1     jueves     5  "
      ]
     },
     "execution_count": 119,
     "metadata": {},
     "output_type": "execute_result"
    }
   ],
   "source": [
    "#que estamos haciendo con esta operación??\n",
    "db['hora'] = db.DESDE.map(lambda x: int(x[:2])) \n",
    "db.head()"
   ]
  },
  {
   "cell_type": "markdown",
   "metadata": {},
   "source": [
    "### Otra, pero la ultima, disgresion\n",
    "\n",
    "Podríamos haber utilizado las funciones (o métodos) de los objetos del tipo datetime y así como extrajimos el tipo de día, extraer la hora. Pero repasemos lo que hicimos previamente. Primero utilizamos una funcion \n",
    "\n",
    "`\n",
    "def obtener_dia_semana(fecha):\n",
    "    return datetime.strptime(fecha,'%d/%m/%Y').weekday()\n",
    "`\n",
    "\n",
    "y la aplicamos con `map()` a la columna FECHA, que era un *string*.\n",
    "\n",
    "`db.loc[:,'dia_semana'] = db.FECHA.map(obtener_dia_semana)`\n",
    "\n",
    "La función que creamos, toma cada elemento de la fecha, cada string que hay en la **Serie** *FECHA*, lo transforma en tipo **datetime** y obtiene el día de la semana *DEJANDO COMO STRING LOS DATOS ORIGINALES*.\n",
    "\n",
    "Podríamos obtener la hora del siguiente modo:"
   ]
  },
  {
   "cell_type": "code",
   "execution_count": 120,
   "metadata": {},
   "outputs": [
    {
     "data": {
      "text/plain": [
       "0"
      ]
     },
     "execution_count": 120,
     "metadata": {},
     "output_type": "execute_result"
    }
   ],
   "source": [
    "datetime.strptime(db.FECHA.iloc[0],'%d/%m/%Y').hour"
   ]
  },
  {
   "cell_type": "markdown",
   "metadata": {},
   "source": [
    "Parecería que es la hora 0, pero si observamos bien, no es así:"
   ]
  },
  {
   "cell_type": "code",
   "execution_count": 121,
   "metadata": {},
   "outputs": [
    {
     "data": {
      "text/plain": [
       "FECHA              01/02/2018\n",
       "DESDE                05:30:00\n",
       "HASTA                05:45:00\n",
       "LINEA                 LINEA_A\n",
       "ESTACION                LORIA\n",
       "PAX_PAGOS                   4\n",
       "PAX_PASES_PAGOS             0\n",
       "PAX_FRANQ                   2\n",
       "TOTAL                       6\n",
       "ID                         39\n",
       "dia                         1\n",
       "dia_semana             jueves\n",
       "hora                        5\n",
       "Name: 1025551, dtype: object"
      ]
     },
     "execution_count": 121,
     "metadata": {},
     "output_type": "execute_result"
    }
   ],
   "source": [
    "db.iloc[100]"
   ]
  },
  {
   "cell_type": "markdown",
   "metadata": {},
   "source": [
    "En el campo fecha, no hay información sobre la hora. Esto se encuentra en los campos DESDE y HASTA"
   ]
  },
  {
   "cell_type": "code",
   "execution_count": 122,
   "metadata": {},
   "outputs": [
    {
     "data": {
      "text/html": [
       "<div>\n",
       "<style scoped>\n",
       "    .dataframe tbody tr th:only-of-type {\n",
       "        vertical-align: middle;\n",
       "    }\n",
       "\n",
       "    .dataframe tbody tr th {\n",
       "        vertical-align: top;\n",
       "    }\n",
       "\n",
       "    .dataframe thead th {\n",
       "        text-align: right;\n",
       "    }\n",
       "</style>\n",
       "<table border=\"1\" class=\"dataframe\">\n",
       "  <thead>\n",
       "    <tr style=\"text-align: right;\">\n",
       "      <th></th>\n",
       "      <th>FECHA</th>\n",
       "      <th>DESDE</th>\n",
       "      <th>HASTA</th>\n",
       "      <th>LINEA</th>\n",
       "      <th>ESTACION</th>\n",
       "      <th>PAX_PAGOS</th>\n",
       "      <th>PAX_PASES_PAGOS</th>\n",
       "      <th>PAX_FRANQ</th>\n",
       "      <th>TOTAL</th>\n",
       "      <th>ID</th>\n",
       "      <th>dia</th>\n",
       "      <th>dia_semana</th>\n",
       "      <th>hora</th>\n",
       "    </tr>\n",
       "  </thead>\n",
       "  <tbody>\n",
       "    <tr>\n",
       "      <th>1025451</th>\n",
       "      <td>01/02/2018</td>\n",
       "      <td>05:30:00</td>\n",
       "      <td>05:45:00</td>\n",
       "      <td>LINEA_A</td>\n",
       "      <td>ACOYTE</td>\n",
       "      <td>0</td>\n",
       "      <td>0</td>\n",
       "      <td>0</td>\n",
       "      <td>0</td>\n",
       "      <td>42</td>\n",
       "      <td>1</td>\n",
       "      <td>jueves</td>\n",
       "      <td>5</td>\n",
       "    </tr>\n",
       "    <tr>\n",
       "      <th>1025452</th>\n",
       "      <td>01/02/2018</td>\n",
       "      <td>05:30:00</td>\n",
       "      <td>05:45:00</td>\n",
       "      <td>LINEA_A</td>\n",
       "      <td>ALBERTI</td>\n",
       "      <td>1</td>\n",
       "      <td>0</td>\n",
       "      <td>0</td>\n",
       "      <td>1</td>\n",
       "      <td>37</td>\n",
       "      <td>1</td>\n",
       "      <td>jueves</td>\n",
       "      <td>5</td>\n",
       "    </tr>\n",
       "    <tr>\n",
       "      <th>1025453</th>\n",
       "      <td>01/02/2018</td>\n",
       "      <td>05:30:00</td>\n",
       "      <td>05:45:00</td>\n",
       "      <td>LINEA_A</td>\n",
       "      <td>CARABOBO</td>\n",
       "      <td>3</td>\n",
       "      <td>0</td>\n",
       "      <td>0</td>\n",
       "      <td>3</td>\n",
       "      <td>75</td>\n",
       "      <td>1</td>\n",
       "      <td>jueves</td>\n",
       "      <td>5</td>\n",
       "    </tr>\n",
       "    <tr>\n",
       "      <th>1025454</th>\n",
       "      <td>01/02/2018</td>\n",
       "      <td>05:30:00</td>\n",
       "      <td>05:45:00</td>\n",
       "      <td>LINEA_A</td>\n",
       "      <td>CASTRO BARROS</td>\n",
       "      <td>6</td>\n",
       "      <td>0</td>\n",
       "      <td>0</td>\n",
       "      <td>6</td>\n",
       "      <td>40</td>\n",
       "      <td>1</td>\n",
       "      <td>jueves</td>\n",
       "      <td>5</td>\n",
       "    </tr>\n",
       "    <tr>\n",
       "      <th>1025455</th>\n",
       "      <td>01/02/2018</td>\n",
       "      <td>05:30:00</td>\n",
       "      <td>05:45:00</td>\n",
       "      <td>LINEA_A</td>\n",
       "      <td>FLORES</td>\n",
       "      <td>1</td>\n",
       "      <td>0</td>\n",
       "      <td>0</td>\n",
       "      <td>1</td>\n",
       "      <td>82</td>\n",
       "      <td>1</td>\n",
       "      <td>jueves</td>\n",
       "      <td>5</td>\n",
       "    </tr>\n",
       "  </tbody>\n",
       "</table>\n",
       "</div>"
      ],
      "text/plain": [
       "              FECHA     DESDE     HASTA    LINEA       ESTACION  PAX_PAGOS  \\\n",
       "1025451  01/02/2018  05:30:00  05:45:00  LINEA_A         ACOYTE          0   \n",
       "1025452  01/02/2018  05:30:00  05:45:00  LINEA_A        ALBERTI          1   \n",
       "1025453  01/02/2018  05:30:00  05:45:00  LINEA_A       CARABOBO          3   \n",
       "1025454  01/02/2018  05:30:00  05:45:00  LINEA_A  CASTRO BARROS          6   \n",
       "1025455  01/02/2018  05:30:00  05:45:00  LINEA_A         FLORES          1   \n",
       "\n",
       "         PAX_PASES_PAGOS  PAX_FRANQ  TOTAL  ID  dia dia_semana  hora  \n",
       "1025451                0          0      0  42    1     jueves     5  \n",
       "1025452                0          0      1  37    1     jueves     5  \n",
       "1025453                0          0      3  75    1     jueves     5  \n",
       "1025454                0          0      6  40    1     jueves     5  \n",
       "1025455                0          0      1  82    1     jueves     5  "
      ]
     },
     "execution_count": 122,
     "metadata": {},
     "output_type": "execute_result"
    }
   ],
   "source": [
    "db.head()"
   ]
  },
  {
   "cell_type": "markdown",
   "metadata": {},
   "source": [
    "Pero aún si conteniese dicha información, nuestra función tomaba el texto, lo convertía en un objeto del tipo **datetime** y nos devolvía la hora como número entero. Podríamos tomar el campo DESDE y hacer el mismo proceso de convertisión. Sin embargo, estaríamos haciendo dos veces el mismo trabajo (tomar un **string**, convertirlo a **datetime** y luego extraer la hora y el día). \n",
    "\n",
    "Entonces podemos introducir dos consejos del pensamiento computacional:\n",
    "\n",
    "* Saber de antemano qué vamos a hacer, planificar claramente y luego ejecutar\n",
    "* Cuando un proceso se repite varias veces, es una señal de que algo mal estamos haciendo\n",
    "\n",
    "Si sabemos de antemano que queremos obtener el tipo de día y hora, podemos crear una columna que contenga toda la información que deseamos (fecha y hora), luego convertir esta nueva columna UNA SOLA VEZ en objeto **datetime** y ahi sí extraer la información que deseamos\n"
   ]
  },
  {
   "cell_type": "code",
   "execution_count": 123,
   "metadata": {},
   "outputs": [],
   "source": [
    "db['fecha_hora'] = pd.to_datetime(db.FECHA + ' ' + db.DESDE,format = '%d/%m/%Y %H:%M:%S')\n",
    "db['hora_date'] = db.fecha_hora.map(lambda x: x.hour) \n",
    "db['dia_semana_date'] = db.fecha_hora.map(lambda x: x.weekday())"
   ]
  },
  {
   "cell_type": "code",
   "execution_count": 124,
   "metadata": {},
   "outputs": [
    {
     "data": {
      "text/html": [
       "<div>\n",
       "<style scoped>\n",
       "    .dataframe tbody tr th:only-of-type {\n",
       "        vertical-align: middle;\n",
       "    }\n",
       "\n",
       "    .dataframe tbody tr th {\n",
       "        vertical-align: top;\n",
       "    }\n",
       "\n",
       "    .dataframe thead th {\n",
       "        text-align: right;\n",
       "    }\n",
       "</style>\n",
       "<table border=\"1\" class=\"dataframe\">\n",
       "  <thead>\n",
       "    <tr style=\"text-align: right;\">\n",
       "      <th></th>\n",
       "      <th>FECHA</th>\n",
       "      <th>DESDE</th>\n",
       "      <th>HASTA</th>\n",
       "      <th>LINEA</th>\n",
       "      <th>ESTACION</th>\n",
       "      <th>PAX_PAGOS</th>\n",
       "      <th>PAX_PASES_PAGOS</th>\n",
       "      <th>PAX_FRANQ</th>\n",
       "      <th>TOTAL</th>\n",
       "      <th>ID</th>\n",
       "      <th>dia</th>\n",
       "      <th>dia_semana</th>\n",
       "      <th>hora</th>\n",
       "      <th>fecha_hora</th>\n",
       "      <th>hora_date</th>\n",
       "      <th>dia_semana_date</th>\n",
       "    </tr>\n",
       "  </thead>\n",
       "  <tbody>\n",
       "    <tr>\n",
       "      <th>1025451</th>\n",
       "      <td>01/02/2018</td>\n",
       "      <td>05:30:00</td>\n",
       "      <td>05:45:00</td>\n",
       "      <td>LINEA_A</td>\n",
       "      <td>ACOYTE</td>\n",
       "      <td>0</td>\n",
       "      <td>0</td>\n",
       "      <td>0</td>\n",
       "      <td>0</td>\n",
       "      <td>42</td>\n",
       "      <td>1</td>\n",
       "      <td>jueves</td>\n",
       "      <td>5</td>\n",
       "      <td>2018-02-01 05:30:00</td>\n",
       "      <td>5</td>\n",
       "      <td>3</td>\n",
       "    </tr>\n",
       "    <tr>\n",
       "      <th>1025452</th>\n",
       "      <td>01/02/2018</td>\n",
       "      <td>05:30:00</td>\n",
       "      <td>05:45:00</td>\n",
       "      <td>LINEA_A</td>\n",
       "      <td>ALBERTI</td>\n",
       "      <td>1</td>\n",
       "      <td>0</td>\n",
       "      <td>0</td>\n",
       "      <td>1</td>\n",
       "      <td>37</td>\n",
       "      <td>1</td>\n",
       "      <td>jueves</td>\n",
       "      <td>5</td>\n",
       "      <td>2018-02-01 05:30:00</td>\n",
       "      <td>5</td>\n",
       "      <td>3</td>\n",
       "    </tr>\n",
       "    <tr>\n",
       "      <th>1025453</th>\n",
       "      <td>01/02/2018</td>\n",
       "      <td>05:30:00</td>\n",
       "      <td>05:45:00</td>\n",
       "      <td>LINEA_A</td>\n",
       "      <td>CARABOBO</td>\n",
       "      <td>3</td>\n",
       "      <td>0</td>\n",
       "      <td>0</td>\n",
       "      <td>3</td>\n",
       "      <td>75</td>\n",
       "      <td>1</td>\n",
       "      <td>jueves</td>\n",
       "      <td>5</td>\n",
       "      <td>2018-02-01 05:30:00</td>\n",
       "      <td>5</td>\n",
       "      <td>3</td>\n",
       "    </tr>\n",
       "    <tr>\n",
       "      <th>1025454</th>\n",
       "      <td>01/02/2018</td>\n",
       "      <td>05:30:00</td>\n",
       "      <td>05:45:00</td>\n",
       "      <td>LINEA_A</td>\n",
       "      <td>CASTRO BARROS</td>\n",
       "      <td>6</td>\n",
       "      <td>0</td>\n",
       "      <td>0</td>\n",
       "      <td>6</td>\n",
       "      <td>40</td>\n",
       "      <td>1</td>\n",
       "      <td>jueves</td>\n",
       "      <td>5</td>\n",
       "      <td>2018-02-01 05:30:00</td>\n",
       "      <td>5</td>\n",
       "      <td>3</td>\n",
       "    </tr>\n",
       "    <tr>\n",
       "      <th>1025455</th>\n",
       "      <td>01/02/2018</td>\n",
       "      <td>05:30:00</td>\n",
       "      <td>05:45:00</td>\n",
       "      <td>LINEA_A</td>\n",
       "      <td>FLORES</td>\n",
       "      <td>1</td>\n",
       "      <td>0</td>\n",
       "      <td>0</td>\n",
       "      <td>1</td>\n",
       "      <td>82</td>\n",
       "      <td>1</td>\n",
       "      <td>jueves</td>\n",
       "      <td>5</td>\n",
       "      <td>2018-02-01 05:30:00</td>\n",
       "      <td>5</td>\n",
       "      <td>3</td>\n",
       "    </tr>\n",
       "  </tbody>\n",
       "</table>\n",
       "</div>"
      ],
      "text/plain": [
       "              FECHA     DESDE     HASTA    LINEA       ESTACION  PAX_PAGOS  \\\n",
       "1025451  01/02/2018  05:30:00  05:45:00  LINEA_A         ACOYTE          0   \n",
       "1025452  01/02/2018  05:30:00  05:45:00  LINEA_A        ALBERTI          1   \n",
       "1025453  01/02/2018  05:30:00  05:45:00  LINEA_A       CARABOBO          3   \n",
       "1025454  01/02/2018  05:30:00  05:45:00  LINEA_A  CASTRO BARROS          6   \n",
       "1025455  01/02/2018  05:30:00  05:45:00  LINEA_A         FLORES          1   \n",
       "\n",
       "         PAX_PASES_PAGOS  PAX_FRANQ  TOTAL  ID  dia dia_semana  hora  \\\n",
       "1025451                0          0      0  42    1     jueves     5   \n",
       "1025452                0          0      1  37    1     jueves     5   \n",
       "1025453                0          0      3  75    1     jueves     5   \n",
       "1025454                0          0      6  40    1     jueves     5   \n",
       "1025455                0          0      1  82    1     jueves     5   \n",
       "\n",
       "                 fecha_hora  hora_date  dia_semana_date  \n",
       "1025451 2018-02-01 05:30:00          5                3  \n",
       "1025452 2018-02-01 05:30:00          5                3  \n",
       "1025453 2018-02-01 05:30:00          5                3  \n",
       "1025454 2018-02-01 05:30:00          5                3  \n",
       "1025455 2018-02-01 05:30:00          5                3  "
      ]
     },
     "execution_count": 124,
     "metadata": {},
     "output_type": "execute_result"
    }
   ],
   "source": [
    "db.head()"
   ]
  },
  {
   "cell_type": "markdown",
   "metadata": {},
   "source": [
    "¿Por qué utilizamos `()` en `weekday()` mientras que no lo usamos en `hour`?\n",
    "\n",
    "Esta diferencia responde a temas más profundos de lenguajes de programación orientados a objetos (Python es uno de ellos). La diferencia fundamental es que uno puede decidir cambiarle la hora, el día, el mes a un objeto. Podemos obligar a los datos a cambiar y que sean otros (supongamos que algún molinete tiene un error que suma 1 hora, entonces podríamos cambiarle la hora a todos los molinetes de esa estación). Pero el 9 de Octubre de 2018 es martes, si o si (por lo menos en el mundo occidental donde rige el [calendario gregoriano](https://en.wikipedia.org/wiki/List_of_calendars)).\n",
    "\n",
    "Algo más en este [link](https://stackoverflow.com/questions/41617547/why-is-datetime-minute-an-attribute-while-datetime-weekday-is-a-function)"
   ]
  },
  {
   "cell_type": "markdown",
   "metadata": {},
   "source": [
    "Sin embargo, el método que utilizamos de recortar los primeros 2 caracteres, también nos da la información que necesitamos. Nunca hay una solución única para un problema. Si encuentran una función efectiva, que resuelve el problema, aún cuando tarde más tiempo, es la solución correcta. "
   ]
  },
  {
   "cell_type": "markdown",
   "metadata": {},
   "source": [
    "### Fin de la ultima disgresión (de la clase)\n"
   ]
  },
  {
   "cell_type": "markdown",
   "metadata": {
    "collapsed": true
   },
   "source": [
    "Para concluir, queremos agrupar tipo de día de la semana, hora y estacion (vamos a usar el campo ID, que veremos en la clase 3 el por qué de usar ID y no el nombre ESTACION). Pero más que si un día es lunes o sábado, queremos saber si es día de semana o día hábil ya que esperamos que el comportamiento sea diferente en ambos casos. Podríamos repetir un `replace()` donde reemplacemos *lunes* por *no*, *domingo* por *si* y así sucesivamente. O podemos usar una `list compehension` con clausulas `if - else` que ademas deje como resultado directamente True or False para luego usar como filtros"
   ]
  },
  {
   "cell_type": "code",
   "execution_count": 125,
   "metadata": {},
   "outputs": [],
   "source": [
    "db['fin_de_semana'] = [True if ((dia == 'domingo') | (dia == 'sabado')) else False for dia in db.dia_semana]"
   ]
  },
  {
   "cell_type": "code",
   "execution_count": 126,
   "metadata": {},
   "outputs": [
    {
     "data": {
      "text/plain": [
       "viernes      145069\n",
       "miercoles    144533\n",
       "jueves       144492\n",
       "lunes        132308\n",
       "martes       131936\n",
       "sabado       126344\n",
       "domingo       97508\n",
       "Name: dia_semana, dtype: int64"
      ]
     },
     "execution_count": 126,
     "metadata": {},
     "output_type": "execute_result"
    }
   ],
   "source": [
    "db.dia_semana.value_counts()"
   ]
  },
  {
   "cell_type": "code",
   "execution_count": 127,
   "metadata": {},
   "outputs": [
    {
     "data": {
      "text/plain": [
       "False    698338\n",
       "True     223852\n",
       "Name: fin_de_semana, dtype: int64"
      ]
     },
     "execution_count": 127,
     "metadata": {},
     "output_type": "execute_result"
    }
   ],
   "source": [
    "#chequeamos que hayamos hecho bien el trabajo\n",
    "db.fin_de_semana.value_counts()"
   ]
  },
  {
   "cell_type": "code",
   "execution_count": 128,
   "metadata": {},
   "outputs": [
    {
     "data": {
      "text/plain": [
       "223852"
      ]
     },
     "execution_count": 128,
     "metadata": {},
     "output_type": "execute_result"
    }
   ],
   "source": [
    " 126344+97508"
   ]
  },
  {
   "cell_type": "code",
   "execution_count": 129,
   "metadata": {},
   "outputs": [
    {
     "data": {
      "text/plain": [
       "223852"
      ]
     },
     "execution_count": 129,
     "metadata": {},
     "output_type": "execute_result"
    }
   ],
   "source": [
    "db.fin_de_semana.sum()"
   ]
  },
  {
   "cell_type": "code",
   "execution_count": 130,
   "metadata": {},
   "outputs": [
    {
     "data": {
      "text/plain": [
       "viernes      145069\n",
       "miercoles    144533\n",
       "jueves       144492\n",
       "lunes        132308\n",
       "martes       131936\n",
       "Name: dia_semana, dtype: int64"
      ]
     },
     "execution_count": 130,
     "metadata": {},
     "output_type": "execute_result"
    }
   ],
   "source": [
    "db.loc[~db.fin_de_semana,'dia_semana'].value_counts()"
   ]
  },
  {
   "cell_type": "code",
   "execution_count": 131,
   "metadata": {},
   "outputs": [
    {
     "data": {
      "text/html": [
       "<div>\n",
       "<style scoped>\n",
       "    .dataframe tbody tr th:only-of-type {\n",
       "        vertical-align: middle;\n",
       "    }\n",
       "\n",
       "    .dataframe tbody tr th {\n",
       "        vertical-align: top;\n",
       "    }\n",
       "\n",
       "    .dataframe thead th {\n",
       "        text-align: right;\n",
       "    }\n",
       "</style>\n",
       "<table border=\"1\" class=\"dataframe\">\n",
       "  <thead>\n",
       "    <tr style=\"text-align: right;\">\n",
       "      <th></th>\n",
       "      <th>fin_de_semana</th>\n",
       "      <th>hora</th>\n",
       "      <th>LINEA</th>\n",
       "      <th>ID</th>\n",
       "      <th>promedio</th>\n",
       "    </tr>\n",
       "  </thead>\n",
       "  <tbody>\n",
       "    <tr>\n",
       "      <th>0</th>\n",
       "      <td>False</td>\n",
       "      <td>5</td>\n",
       "      <td>LINEA_A</td>\n",
       "      <td>31</td>\n",
       "      <td>1.888889</td>\n",
       "    </tr>\n",
       "    <tr>\n",
       "      <th>1</th>\n",
       "      <td>False</td>\n",
       "      <td>5</td>\n",
       "      <td>LINEA_A</td>\n",
       "      <td>32</td>\n",
       "      <td>1.575000</td>\n",
       "    </tr>\n",
       "    <tr>\n",
       "      <th>2</th>\n",
       "      <td>False</td>\n",
       "      <td>5</td>\n",
       "      <td>LINEA_A</td>\n",
       "      <td>33</td>\n",
       "      <td>1.960526</td>\n",
       "    </tr>\n",
       "    <tr>\n",
       "      <th>3</th>\n",
       "      <td>False</td>\n",
       "      <td>5</td>\n",
       "      <td>LINEA_A</td>\n",
       "      <td>34</td>\n",
       "      <td>1.859649</td>\n",
       "    </tr>\n",
       "    <tr>\n",
       "      <th>4</th>\n",
       "      <td>False</td>\n",
       "      <td>5</td>\n",
       "      <td>LINEA_A</td>\n",
       "      <td>35</td>\n",
       "      <td>2.967105</td>\n",
       "    </tr>\n",
       "  </tbody>\n",
       "</table>\n",
       "</div>"
      ],
      "text/plain": [
       "   fin_de_semana  hora    LINEA  ID  promedio\n",
       "0          False     5  LINEA_A  31  1.888889\n",
       "1          False     5  LINEA_A  32  1.575000\n",
       "2          False     5  LINEA_A  33  1.960526\n",
       "3          False     5  LINEA_A  34  1.859649\n",
       "4          False     5  LINEA_A  35  2.967105"
      ]
     },
     "execution_count": 131,
     "metadata": {},
     "output_type": "execute_result"
    }
   ],
   "source": [
    "#finalmente podemos procesar los datos\n",
    "dataInsumo = db.loc[:,['fin_de_semana','hora','LINEA','ID','TOTAL']].groupby(['fin_de_semana','hora','LINEA','ID',]).mean().reset_index()\n",
    "#cambiamos la ultima columnad de nombre a promedio, sumando la palabra promedio a los nombres hasta el ultimo exclusive  \n",
    "dataInsumo.columns = dataInsumo.columns[:-1].tolist() + ['promedio']\n",
    "dataInsumo.head()"
   ]
  },
  {
   "cell_type": "code",
   "execution_count": 132,
   "metadata": {},
   "outputs": [
    {
     "data": {
      "text/html": [
       "<div>\n",
       "<style scoped>\n",
       "    .dataframe tbody tr th:only-of-type {\n",
       "        vertical-align: middle;\n",
       "    }\n",
       "\n",
       "    .dataframe tbody tr th {\n",
       "        vertical-align: top;\n",
       "    }\n",
       "\n",
       "    .dataframe thead th {\n",
       "        text-align: right;\n",
       "    }\n",
       "</style>\n",
       "<table border=\"1\" class=\"dataframe\">\n",
       "  <thead>\n",
       "    <tr style=\"text-align: right;\">\n",
       "      <th></th>\n",
       "      <th>fin_de_semana</th>\n",
       "      <th>hora</th>\n",
       "      <th>LINEA</th>\n",
       "      <th>ID</th>\n",
       "      <th>promedio</th>\n",
       "      <th>q</th>\n",
       "    </tr>\n",
       "  </thead>\n",
       "  <tbody>\n",
       "    <tr>\n",
       "      <th>0</th>\n",
       "      <td>False</td>\n",
       "      <td>5</td>\n",
       "      <td>LINEA_A</td>\n",
       "      <td>31</td>\n",
       "      <td>1.888889</td>\n",
       "      <td>1</td>\n",
       "    </tr>\n",
       "    <tr>\n",
       "      <th>1</th>\n",
       "      <td>False</td>\n",
       "      <td>5</td>\n",
       "      <td>LINEA_A</td>\n",
       "      <td>32</td>\n",
       "      <td>1.575000</td>\n",
       "      <td>1</td>\n",
       "    </tr>\n",
       "    <tr>\n",
       "      <th>2</th>\n",
       "      <td>False</td>\n",
       "      <td>5</td>\n",
       "      <td>LINEA_A</td>\n",
       "      <td>33</td>\n",
       "      <td>1.960526</td>\n",
       "      <td>1</td>\n",
       "    </tr>\n",
       "    <tr>\n",
       "      <th>3</th>\n",
       "      <td>False</td>\n",
       "      <td>5</td>\n",
       "      <td>LINEA_A</td>\n",
       "      <td>34</td>\n",
       "      <td>1.859649</td>\n",
       "      <td>1</td>\n",
       "    </tr>\n",
       "    <tr>\n",
       "      <th>4</th>\n",
       "      <td>False</td>\n",
       "      <td>5</td>\n",
       "      <td>LINEA_A</td>\n",
       "      <td>35</td>\n",
       "      <td>2.967105</td>\n",
       "      <td>1</td>\n",
       "    </tr>\n",
       "  </tbody>\n",
       "</table>\n",
       "</div>"
      ],
      "text/plain": [
       "   fin_de_semana  hora    LINEA  ID  promedio  q\n",
       "0          False     5  LINEA_A  31  1.888889  1\n",
       "1          False     5  LINEA_A  32  1.575000  1\n",
       "2          False     5  LINEA_A  33  1.960526  1\n",
       "3          False     5  LINEA_A  34  1.859649  1\n",
       "4          False     5  LINEA_A  35  2.967105  1"
      ]
     },
     "execution_count": 132,
     "metadata": {},
     "output_type": "execute_result"
    }
   ],
   "source": [
    "#luego agregamos los quintiles, pero queremos que comiencen desde 1 no desde 0\n",
    "#(la convención en estadística es diferente a Python)\n",
    "dataInsumo['q'] = pd.qcut(dataInsumo.promedio,5,labels=False) + 1\n",
    "dataInsumo.head()"
   ]
  },
  {
   "cell_type": "code",
   "execution_count": 133,
   "metadata": {},
   "outputs": [],
   "source": [
    "dataInsumo.to_csv('../data/dataInsumo.csv',index=False)"
   ]
  },
  {
   "cell_type": "code",
   "execution_count": 134,
   "metadata": {},
   "outputs": [],
   "source": [
    "#tambien se puede guardar en excel\n",
    "dataInsumo.to_excel('../data/dataInsumo.xlsx',index=False)"
   ]
  },
  {
   "cell_type": "markdown",
   "metadata": {},
   "source": [
    "### En la proxima clase: Gráficos y mapas"
   ]
  },
  {
   "cell_type": "code",
   "execution_count": 135,
   "metadata": {},
   "outputs": [],
   "source": [
    "import matplotlib.pyplot as plt\n",
    "%matplotlib inline"
   ]
  },
  {
   "cell_type": "code",
   "execution_count": 136,
   "metadata": {},
   "outputs": [
    {
     "data": {
      "text/plain": [
       "<matplotlib.axes._subplots.AxesSubplot at 0x7fce529dfba8>"
      ]
     },
     "execution_count": 136,
     "metadata": {},
     "output_type": "execute_result"
    },
    {
     "data": {
      "image/png": "[encoded data removed]",
      "text/plain": [
       "<Figure size 432x288 with 1 Axes>"
      ]
     },
     "metadata": {},
     "output_type": "display_data"
    }
   ],
   "source": [
    "dataInsumo.promedio.plot(kind = 'kde')"
   ]
  },
  {
   "cell_type": "code",
   "execution_count": 137,
   "metadata": {},
   "outputs": [
    {
     "data": {
      "text/plain": [
       "<matplotlib.axes._subplots.AxesSubplot at 0x7fce3f01dc50>"
      ]
     },
     "execution_count": 137,
     "metadata": {},
     "output_type": "execute_result"
    },
    {
     "data": {
      "image/png": "[encoded data removed]",
      "text/plain": [
       "<Figure size 432x288 with 1 Axes>"
      ]
     },
     "metadata": {},
     "output_type": "display_data"
    }
   ],
   "source": [
    "dataInsumo.loc[dataInsumo.fin_de_semana,'promedio'].plot(kind = 'kde')"
   ]
  },
  {
   "cell_type": "code",
   "execution_count": 138,
   "metadata": {},
   "outputs": [
    {
     "data": {
      "text/plain": [
       "<matplotlib.axes._subplots.AxesSubplot at 0x7fce3b37ccf8>"
      ]
     },
     "execution_count": 138,
     "metadata": {},
     "output_type": "execute_result"
    },
    {
     "data": {
      "image/png": "[encoded data removed]",
      "text/plain": [
       "<Figure size 432x288 with 1 Axes>"
      ]
     },
     "metadata": {},
     "output_type": "display_data"
    }
   ],
   "source": [
    "dataInsumo.loc[dataInsumo.LINEA == 'LINEA_A','promedio'].plot(kind = 'kde')"
   ]
  },
  {
   "cell_type": "code",
   "execution_count": 139,
   "metadata": {},
   "outputs": [
    {
     "data": {
      "text/plain": [
       "<matplotlib.axes._subplots.AxesSubplot at 0x7fce3b34c198>"
      ]
     },
     "execution_count": 139,
     "metadata": {},
     "output_type": "execute_result"
    },
    {
     "data": {
      "image/png": "[encoded data removed]",
      "text/plain": [
       "<Figure size 432x288 with 1 Axes>"
      ]
     },
     "metadata": {},
     "output_type": "display_data"
    }
   ],
   "source": [
    "dataInsumo.loc[dataInsumo.LINEA == 'LINEA_B','promedio'].plot(kind = 'kde',color='red')"
   ]
  },
  {
   "cell_type": "markdown",
   "metadata": {},
   "source": [
    "\n",
    "---\n",
    "\n",
    "Basado en :\n",
    "\n",
    "<a rel=\"license\" href=\"http://creativecommons.org/licenses/by-nc-sa/4.0/\"><img alt=\"Creative Commons License\" style=\"border-width:0\" src=\"https://i.creativecommons.org/l/by-nc-sa/4.0/88x31.png\" /></a><br /><span xmlns:dct=\"http://purl.org/dc/terms/\" property=\"dct:title\">Geographic Data Science'17 - Lab 1, part I</span> by <a xmlns:cc=\"http://creativecommons.org/ns#\" href=\"http://darribas.org\" property=\"cc:attributionName\" rel=\"cc:attributionURL\">Dani Arribas-Bel</a> is licensed under a <a rel=\"license\" href=\"http://creativecommons.org/licenses/by-nc-sa/4.0/\">Creative Commons Attribution-NonCommercial-ShareAlike 4.0 International License</a>.\n",
    "\n"
   ]
  },
  {
   "cell_type": "code",
   "execution_count": null,
   "metadata": {
    "collapsed": true
   },
   "outputs": [],
   "source": []
  }
 ],
 "metadata": {
  "kernelspec": {
   "display_name": "Python 3",
   "language": "python",
   "name": "python3"
  },
  "language_info": {
   "codemirror_mode": {
    "name": "ipython",
    "version": 3
   },
   "file_extension": ".py",
   "mimetype": "text/x-python",
   "name": "python",
   "nbconvert_exporter": "python",
   "pygments_lexer": "ipython3",
   "version": "3.6.5"
  }
 },
 "nbformat": 4,
 "nbformat_minor": 1
}
