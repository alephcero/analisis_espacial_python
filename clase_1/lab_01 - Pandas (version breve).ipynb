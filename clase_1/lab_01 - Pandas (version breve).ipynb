{
 "cells": [
  {
   "cell_type": "code",
   "execution_count": 1,
   "metadata": {},
   "outputs": [],
   "source": [
    "import pandas as pd\n",
    "import numpy as np"
   ]
  },
  {
   "cell_type": "code",
   "execution_count": 2,
   "metadata": {},
   "outputs": [],
   "source": [
    "#leer data original\n",
    "db = pd.read_csv('../data/molinetes_historico_2018.csv',sep=';')"
   ]
  },
  {
   "cell_type": "code",
   "execution_count": 13,
   "metadata": {},
   "outputs": [],
   "source": [
    "#filtar febrero\n",
    "db = db.loc[db.PERIODO == 201802,:] "
   ]
  },
  {
   "cell_type": "code",
   "execution_count": 14,
   "metadata": {},
   "outputs": [],
   "source": [
    "#seleccionar columnas relevantes\n",
    "db = db.reindex(columns = ['ID','FECHA', 'DESDE', 'LINEA', 'ESTACION','TOTAL'])"
   ]
  },
  {
   "cell_type": "code",
   "execution_count": 15,
   "metadata": {},
   "outputs": [],
   "source": [
    "#obtener tipo de dia y hora\n",
    "db['FECHA'] = pd.to_datetime(db.FECHA + ' ' + db.DESDE,format = '%d/%m/%Y %H:%M:%S')\n",
    "db['hora'] = db.FECHA.map(lambda x: x.hour) \n",
    "db['fin_de_semana'] = db.FECHA.map(lambda x: x.weekday()) < 5"
   ]
  },
  {
   "cell_type": "code",
   "execution_count": 16,
   "metadata": {},
   "outputs": [],
   "source": [
    "#eliminar variables innecesarias\n",
    "db = db.drop(['FECHA','DESDE'],axis=1)"
   ]
  },
  {
   "cell_type": "code",
   "execution_count": 17,
   "metadata": {},
   "outputs": [
    {
     "data": {
      "text/html": [
       "<div>\n",
       "<style scoped>\n",
       "    .dataframe tbody tr th:only-of-type {\n",
       "        vertical-align: middle;\n",
       "    }\n",
       "\n",
       "    .dataframe tbody tr th {\n",
       "        vertical-align: top;\n",
       "    }\n",
       "\n",
       "    .dataframe thead th {\n",
       "        text-align: right;\n",
       "    }\n",
       "</style>\n",
       "<table border=\"1\" class=\"dataframe\">\n",
       "  <thead>\n",
       "    <tr style=\"text-align: right;\">\n",
       "      <th></th>\n",
       "      <th>ID</th>\n",
       "      <th>LINEA</th>\n",
       "      <th>ESTACION</th>\n",
       "      <th>TOTAL</th>\n",
       "      <th>hora</th>\n",
       "      <th>fin_de_semana</th>\n",
       "    </tr>\n",
       "  </thead>\n",
       "  <tbody>\n",
       "    <tr>\n",
       "      <th>1025451</th>\n",
       "      <td>42</td>\n",
       "      <td>LINEA_A</td>\n",
       "      <td>ACOYTE</td>\n",
       "      <td>0</td>\n",
       "      <td>5</td>\n",
       "      <td>True</td>\n",
       "    </tr>\n",
       "    <tr>\n",
       "      <th>1025452</th>\n",
       "      <td>37</td>\n",
       "      <td>LINEA_A</td>\n",
       "      <td>ALBERTI</td>\n",
       "      <td>1</td>\n",
       "      <td>5</td>\n",
       "      <td>True</td>\n",
       "    </tr>\n",
       "    <tr>\n",
       "      <th>1025453</th>\n",
       "      <td>75</td>\n",
       "      <td>LINEA_A</td>\n",
       "      <td>CARABOBO</td>\n",
       "      <td>3</td>\n",
       "      <td>5</td>\n",
       "      <td>True</td>\n",
       "    </tr>\n",
       "    <tr>\n",
       "      <th>1025454</th>\n",
       "      <td>40</td>\n",
       "      <td>LINEA_A</td>\n",
       "      <td>CASTRO BARROS</td>\n",
       "      <td>6</td>\n",
       "      <td>5</td>\n",
       "      <td>True</td>\n",
       "    </tr>\n",
       "    <tr>\n",
       "      <th>1025455</th>\n",
       "      <td>82</td>\n",
       "      <td>LINEA_A</td>\n",
       "      <td>FLORES</td>\n",
       "      <td>1</td>\n",
       "      <td>5</td>\n",
       "      <td>True</td>\n",
       "    </tr>\n",
       "  </tbody>\n",
       "</table>\n",
       "</div>"
      ],
      "text/plain": [
       "         ID    LINEA       ESTACION  TOTAL  hora  fin_de_semana\n",
       "1025451  42  LINEA_A         ACOYTE      0     5           True\n",
       "1025452  37  LINEA_A        ALBERTI      1     5           True\n",
       "1025453  75  LINEA_A       CARABOBO      3     5           True\n",
       "1025454  40  LINEA_A  CASTRO BARROS      6     5           True\n",
       "1025455  82  LINEA_A         FLORES      1     5           True"
      ]
     },
     "execution_count": 17,
     "metadata": {},
     "output_type": "execute_result"
    }
   ],
   "source": [
    "#visualizar el resultado\n",
    "db.head()"
   ]
  },
  {
   "cell_type": "code",
   "execution_count": 18,
   "metadata": {},
   "outputs": [
    {
     "data": {
      "text/html": [
       "<div>\n",
       "<style scoped>\n",
       "    .dataframe tbody tr th:only-of-type {\n",
       "        vertical-align: middle;\n",
       "    }\n",
       "\n",
       "    .dataframe tbody tr th {\n",
       "        vertical-align: top;\n",
       "    }\n",
       "\n",
       "    .dataframe thead th {\n",
       "        text-align: right;\n",
       "    }\n",
       "</style>\n",
       "<table border=\"1\" class=\"dataframe\">\n",
       "  <thead>\n",
       "    <tr style=\"text-align: right;\">\n",
       "      <th></th>\n",
       "      <th>fin_de_semana</th>\n",
       "      <th>hora</th>\n",
       "      <th>LINEA</th>\n",
       "      <th>ID</th>\n",
       "      <th>TOTAL</th>\n",
       "    </tr>\n",
       "  </thead>\n",
       "  <tbody>\n",
       "    <tr>\n",
       "      <th>0</th>\n",
       "      <td>False</td>\n",
       "      <td>6</td>\n",
       "      <td>LINEA_A</td>\n",
       "      <td>31</td>\n",
       "      <td>2.239130</td>\n",
       "    </tr>\n",
       "    <tr>\n",
       "      <th>1</th>\n",
       "      <td>False</td>\n",
       "      <td>6</td>\n",
       "      <td>LINEA_A</td>\n",
       "      <td>32</td>\n",
       "      <td>2.705882</td>\n",
       "    </tr>\n",
       "    <tr>\n",
       "      <th>2</th>\n",
       "      <td>False</td>\n",
       "      <td>6</td>\n",
       "      <td>LINEA_A</td>\n",
       "      <td>33</td>\n",
       "      <td>2.859649</td>\n",
       "    </tr>\n",
       "    <tr>\n",
       "      <th>3</th>\n",
       "      <td>False</td>\n",
       "      <td>6</td>\n",
       "      <td>LINEA_A</td>\n",
       "      <td>34</td>\n",
       "      <td>2.744681</td>\n",
       "    </tr>\n",
       "    <tr>\n",
       "      <th>4</th>\n",
       "      <td>False</td>\n",
       "      <td>6</td>\n",
       "      <td>LINEA_A</td>\n",
       "      <td>35</td>\n",
       "      <td>8.157143</td>\n",
       "    </tr>\n",
       "  </tbody>\n",
       "</table>\n",
       "</div>"
      ],
      "text/plain": [
       "   fin_de_semana  hora    LINEA  ID     TOTAL\n",
       "0          False     6  LINEA_A  31  2.239130\n",
       "1          False     6  LINEA_A  32  2.705882\n",
       "2          False     6  LINEA_A  33  2.859649\n",
       "3          False     6  LINEA_A  34  2.744681\n",
       "4          False     6  LINEA_A  35  8.157143"
      ]
     },
     "execution_count": 18,
     "metadata": {},
     "output_type": "execute_result"
    }
   ],
   "source": [
    "#finalmente podemos procesar los datos\n",
    "dataInsumo = db.groupby(['fin_de_semana','hora','LINEA','ID',]).mean().reset_index()\n",
    "dataInsumo.head()"
   ]
  },
  {
   "cell_type": "code",
   "execution_count": 19,
   "metadata": {},
   "outputs": [
    {
     "data": {
      "text/html": [
       "<div>\n",
       "<style scoped>\n",
       "    .dataframe tbody tr th:only-of-type {\n",
       "        vertical-align: middle;\n",
       "    }\n",
       "\n",
       "    .dataframe tbody tr th {\n",
       "        vertical-align: top;\n",
       "    }\n",
       "\n",
       "    .dataframe thead th {\n",
       "        text-align: right;\n",
       "    }\n",
       "</style>\n",
       "<table border=\"1\" class=\"dataframe\">\n",
       "  <thead>\n",
       "    <tr style=\"text-align: right;\">\n",
       "      <th></th>\n",
       "      <th>fin_de_semana</th>\n",
       "      <th>hora</th>\n",
       "      <th>LINEA</th>\n",
       "      <th>ID</th>\n",
       "      <th>promedio</th>\n",
       "    </tr>\n",
       "  </thead>\n",
       "  <tbody>\n",
       "    <tr>\n",
       "      <th>0</th>\n",
       "      <td>False</td>\n",
       "      <td>6</td>\n",
       "      <td>LINEA_A</td>\n",
       "      <td>31</td>\n",
       "      <td>2.239130</td>\n",
       "    </tr>\n",
       "    <tr>\n",
       "      <th>1</th>\n",
       "      <td>False</td>\n",
       "      <td>6</td>\n",
       "      <td>LINEA_A</td>\n",
       "      <td>32</td>\n",
       "      <td>2.705882</td>\n",
       "    </tr>\n",
       "    <tr>\n",
       "      <th>2</th>\n",
       "      <td>False</td>\n",
       "      <td>6</td>\n",
       "      <td>LINEA_A</td>\n",
       "      <td>33</td>\n",
       "      <td>2.859649</td>\n",
       "    </tr>\n",
       "    <tr>\n",
       "      <th>3</th>\n",
       "      <td>False</td>\n",
       "      <td>6</td>\n",
       "      <td>LINEA_A</td>\n",
       "      <td>34</td>\n",
       "      <td>2.744681</td>\n",
       "    </tr>\n",
       "    <tr>\n",
       "      <th>4</th>\n",
       "      <td>False</td>\n",
       "      <td>6</td>\n",
       "      <td>LINEA_A</td>\n",
       "      <td>35</td>\n",
       "      <td>8.157143</td>\n",
       "    </tr>\n",
       "  </tbody>\n",
       "</table>\n",
       "</div>"
      ],
      "text/plain": [
       "   fin_de_semana  hora    LINEA  ID  promedio\n",
       "0          False     6  LINEA_A  31  2.239130\n",
       "1          False     6  LINEA_A  32  2.705882\n",
       "2          False     6  LINEA_A  33  2.859649\n",
       "3          False     6  LINEA_A  34  2.744681\n",
       "4          False     6  LINEA_A  35  8.157143"
      ]
     },
     "execution_count": 19,
     "metadata": {},
     "output_type": "execute_result"
    }
   ],
   "source": [
    "#cambiar la ultima columnad de nombre a promedio, sumando la palabra promedio a los nombres hasta el ultimo exclusive  \n",
    "dataInsumo.columns = dataInsumo.columns[:-1].tolist() + ['promedio']\n",
    "dataInsumo.head()"
   ]
  },
  {
   "cell_type": "code",
   "execution_count": 20,
   "metadata": {},
   "outputs": [
    {
     "data": {
      "text/html": [
       "<div>\n",
       "<style scoped>\n",
       "    .dataframe tbody tr th:only-of-type {\n",
       "        vertical-align: middle;\n",
       "    }\n",
       "\n",
       "    .dataframe tbody tr th {\n",
       "        vertical-align: top;\n",
       "    }\n",
       "\n",
       "    .dataframe thead th {\n",
       "        text-align: right;\n",
       "    }\n",
       "</style>\n",
       "<table border=\"1\" class=\"dataframe\">\n",
       "  <thead>\n",
       "    <tr style=\"text-align: right;\">\n",
       "      <th></th>\n",
       "      <th>fin_de_semana</th>\n",
       "      <th>hora</th>\n",
       "      <th>LINEA</th>\n",
       "      <th>ID</th>\n",
       "      <th>promedio</th>\n",
       "      <th>q</th>\n",
       "    </tr>\n",
       "  </thead>\n",
       "  <tbody>\n",
       "    <tr>\n",
       "      <th>0</th>\n",
       "      <td>False</td>\n",
       "      <td>6</td>\n",
       "      <td>LINEA_A</td>\n",
       "      <td>31</td>\n",
       "      <td>2.239130</td>\n",
       "      <td>1</td>\n",
       "    </tr>\n",
       "    <tr>\n",
       "      <th>1</th>\n",
       "      <td>False</td>\n",
       "      <td>6</td>\n",
       "      <td>LINEA_A</td>\n",
       "      <td>32</td>\n",
       "      <td>2.705882</td>\n",
       "      <td>1</td>\n",
       "    </tr>\n",
       "    <tr>\n",
       "      <th>2</th>\n",
       "      <td>False</td>\n",
       "      <td>6</td>\n",
       "      <td>LINEA_A</td>\n",
       "      <td>33</td>\n",
       "      <td>2.859649</td>\n",
       "      <td>1</td>\n",
       "    </tr>\n",
       "    <tr>\n",
       "      <th>3</th>\n",
       "      <td>False</td>\n",
       "      <td>6</td>\n",
       "      <td>LINEA_A</td>\n",
       "      <td>34</td>\n",
       "      <td>2.744681</td>\n",
       "      <td>1</td>\n",
       "    </tr>\n",
       "    <tr>\n",
       "      <th>4</th>\n",
       "      <td>False</td>\n",
       "      <td>6</td>\n",
       "      <td>LINEA_A</td>\n",
       "      <td>35</td>\n",
       "      <td>8.157143</td>\n",
       "      <td>2</td>\n",
       "    </tr>\n",
       "  </tbody>\n",
       "</table>\n",
       "</div>"
      ],
      "text/plain": [
       "   fin_de_semana  hora    LINEA  ID  promedio  q\n",
       "0          False     6  LINEA_A  31  2.239130  1\n",
       "1          False     6  LINEA_A  32  2.705882  1\n",
       "2          False     6  LINEA_A  33  2.859649  1\n",
       "3          False     6  LINEA_A  34  2.744681  1\n",
       "4          False     6  LINEA_A  35  8.157143  2"
      ]
     },
     "execution_count": 20,
     "metadata": {},
     "output_type": "execute_result"
    }
   ],
   "source": [
    "#luego agregamos los quintiles, pero queremos que comiencen desde 1 no desde 0\n",
    "#(la convención en estadística es diferente a Python)\n",
    "dataInsumo['q'] = pd.qcut(dataInsumo.promedio,5,labels=False) + 1 #sumamos 1 a toda la columna de quintiles\n",
    "dataInsumo.head()"
   ]
  },
  {
   "cell_type": "code",
   "execution_count": 21,
   "metadata": {
    "collapsed": true
   },
   "outputs": [],
   "source": [
    "#guardar datos en csv para que los tome otro proceso luego\n",
    "dataInsumo.to_csv('../data/dataInsumo.csv',index=False)"
   ]
  },
  {
   "cell_type": "code",
   "execution_count": 22,
   "metadata": {
    "collapsed": true
   },
   "outputs": [],
   "source": [
    "#tambien se puede guardar en excel\n",
    "dataInsumo.to_excel('../data/dataInsumo.xlsx',index=False)"
   ]
  },
  {
   "cell_type": "code",
   "execution_count": null,
   "metadata": {
    "collapsed": true
   },
   "outputs": [],
   "source": []
  }
 ],
 "metadata": {
  "kernelspec": {
   "display_name": "Python 3",
   "language": "python",
   "name": "python3"
  },
  "language_info": {
   "codemirror_mode": {
    "name": "ipython",
    "version": 3
   },
   "file_extension": ".py",
   "mimetype": "text/x-python",
   "name": "python",
   "nbconvert_exporter": "python",
   "pygments_lexer": "ipython3",
   "version": "3.6.5"
  }
 },
 "nbformat": 4,
 "nbformat_minor": 2
}
