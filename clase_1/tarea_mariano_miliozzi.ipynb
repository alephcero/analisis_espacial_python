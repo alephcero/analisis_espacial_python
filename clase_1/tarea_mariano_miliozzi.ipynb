{
 "cells": [
  {
   "cell_type": "markdown",
   "metadata": {},
   "source": [
    "Este notebook contiene el trabajo del compañero Mariano Miliozzi. En base al trabajo de la clase 1, logró crear una función nueva que toma todo el trabajo rutinario, y lo modulariza en una única función. Algunos cambios son introducidos en base a lo que se trabajo en clase "
   ]
  },
  {
   "cell_type": "code",
   "execution_count": 1,
   "metadata": {
    "collapsed": true
   },
   "outputs": [],
   "source": [
    "#se importan las librerías necesarias\n",
    "import pandas as pd\n",
    "import numpy as np\n",
    "import datetime as dt"
   ]
  },
  {
   "cell_type": "code",
   "execution_count": 2,
   "metadata": {
    "collapsed": true
   },
   "outputs": [],
   "source": [
    "def procesar_datos_sube(periodo,ruta_archivo):\n",
    "    '''\n",
    "    Esta funcion toma un periodo en numeros enteros como YYYYMM,\n",
    "    la ruta del archivo csv con la información de molinetes\n",
    "    y devuelve el promedio de pasajeros por estacion \n",
    "    para un periodo seleccionado\n",
    "    '''\n",
    "    #leo el dataframe utilizando la ruta como parametro\n",
    "    df = pd.read_csv(ruta_archivo, sep=';')\n",
    "\n",
    "    #filtro el periodo a trabajar\n",
    "    df = df.loc[df['PERIODO']== periodo ,:]\n",
    "\n",
    "    #seleccionar las columnas que quiero trabajar\n",
    "    columnas_interes = ['DESDE','LINEA','ID','ESTACION','FECHA','TOTAL']\n",
    "    df =df.loc[:,columnas_interes]\n",
    "\n",
    "    #definimos la funcion para convertir el horario en hora\n",
    "    def hora(desde):\n",
    "        \"\"\"\n",
    "        esta funcion toma un string y devuelve los digitos previos al :\n",
    "        \"\"\"\n",
    "        lista = (desde).split(':')\n",
    "        return int(lista[0])\n",
    "\n",
    "    #creamos una nueva columna para el resultado del mapeo\n",
    "    df['HORA'] = df.DESDE.map(hora)\n",
    "\n",
    "    #ver el valor de fecha\n",
    "    caso = df.FECHA.iloc[0]\n",
    "    caso_datetime = dt.datetime.strptime(caso, '%d/%m/%Y')\n",
    "    #setear findesemana\n",
    "    caso_datetime.weekday() > 4\n",
    "\n",
    "    def finDe(fecha):\n",
    "        \"\"\"\n",
    "        Esta function toma un str con formato DD/MM/YYYY\n",
    "        y devuelve True si es día de semana, \n",
    "        False en caso contrario\n",
    "        \"\"\"\n",
    "        caso_datetime = dt.datetime.strptime(fecha, '%d/%m/%Y')\n",
    "        comprobar = caso_datetime.weekday() > 4\n",
    "        return comprobar\n",
    "\n",
    "    #creamos una nueva columna para el resultado del mapeo\n",
    "    df['fin_de_semana'] = df.FECHA.map(finDe)\n",
    "\n",
    "    #eliminar variables innecesarias de fecha y hora\n",
    "    df = df.drop(['FECHA','DESDE'],axis=1)\n",
    "\n",
    "    #agrupar y generar el promedio por LINEA\n",
    "    subset = df.loc[:,['LINEA','ESTACION','TOTAL']] #miro lo que me interesa\n",
    "    tabla = subset.groupby(by=['LINEA','ESTACION']).mean() #agrupo segun lo que me interesa      \n",
    "    \n",
    "    return tabla.head()\n",
    "\n"
   ]
  },
  {
   "cell_type": "code",
   "execution_count": 3,
   "metadata": {},
   "outputs": [
    {
     "data": {
      "text/html": [
       "<div>\n",
       "<style scoped>\n",
       "    .dataframe tbody tr th:only-of-type {\n",
       "        vertical-align: middle;\n",
       "    }\n",
       "\n",
       "    .dataframe tbody tr th {\n",
       "        vertical-align: top;\n",
       "    }\n",
       "\n",
       "    .dataframe thead th {\n",
       "        text-align: right;\n",
       "    }\n",
       "</style>\n",
       "<table border=\"1\" class=\"dataframe\">\n",
       "  <thead>\n",
       "    <tr style=\"text-align: right;\">\n",
       "      <th></th>\n",
       "      <th></th>\n",
       "      <th>TOTAL</th>\n",
       "    </tr>\n",
       "    <tr>\n",
       "      <th>LINEA</th>\n",
       "      <th>ESTACION</th>\n",
       "      <th></th>\n",
       "    </tr>\n",
       "  </thead>\n",
       "  <tbody>\n",
       "    <tr>\n",
       "      <th rowspan=\"5\" valign=\"top\">LINEA_A</th>\n",
       "      <th>ACOYTE</th>\n",
       "      <td>18.318348</td>\n",
       "    </tr>\n",
       "    <tr>\n",
       "      <th>ALBERTI</th>\n",
       "      <td>17.090437</td>\n",
       "    </tr>\n",
       "    <tr>\n",
       "      <th>CARABOBO</th>\n",
       "      <td>15.847173</td>\n",
       "    </tr>\n",
       "    <tr>\n",
       "      <th>CASTRO BARROS</th>\n",
       "      <td>17.762436</td>\n",
       "    </tr>\n",
       "    <tr>\n",
       "      <th>CONGRESO</th>\n",
       "      <td>20.340527</td>\n",
       "    </tr>\n",
       "  </tbody>\n",
       "</table>\n",
       "</div>"
      ],
      "text/plain": [
       "                           TOTAL\n",
       "LINEA   ESTACION                \n",
       "LINEA_A ACOYTE         18.318348\n",
       "        ALBERTI        17.090437\n",
       "        CARABOBO       15.847173\n",
       "        CASTRO BARROS  17.762436\n",
       "        CONGRESO       20.340527"
      ]
     },
     "execution_count": 3,
     "metadata": {},
     "output_type": "execute_result"
    }
   ],
   "source": [
    "dt = procesar_datos_sube(periodo = 201801,ruta_archivo = '../data/molinetes_historico_2018.csv')\n",
    "dt.head()"
   ]
  },
  {
   "cell_type": "code",
   "execution_count": null,
   "metadata": {
    "collapsed": true
   },
   "outputs": [],
   "source": []
  }
 ],
 "metadata": {
  "kernelspec": {
   "display_name": "Python 3",
   "language": "python",
   "name": "python3"
  },
  "language_info": {
   "codemirror_mode": {
    "name": "ipython",
    "version": 3
   },
   "file_extension": ".py",
   "mimetype": "text/x-python",
   "name": "python",
   "nbconvert_exporter": "python",
   "pygments_lexer": "ipython3",
   "version": "3.6.3"
  }
 },
 "nbformat": 4,
 "nbformat_minor": 2
}
