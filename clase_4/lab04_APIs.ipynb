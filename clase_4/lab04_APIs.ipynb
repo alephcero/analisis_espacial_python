{
 "cells": [
  {
   "cell_type": "code",
   "execution_count": null,
   "metadata": {},
   "outputs": [],
   "source": [
    "import geopandas as gpd\n",
    "import pandas as pd\n",
    "from shapely.geometry import Point, LineString\n",
    "import matplotlib.pyplot as plt\n",
    "%matplotlib inline"
   ]
  },
  {
   "cell_type": "code",
   "execution_count": null,
   "metadata": {},
   "outputs": [],
   "source": [
    "try:\n",
    "    import urllib2 as urllib\n",
    "except ImportError:\n",
    "    import urllib.request as urllib\n",
    "    \n",
    "    \n",
    "import numpy as np\n",
    "import json\n",
    "\n"
   ]
  },
  {
   "cell_type": "markdown",
   "metadata": {},
   "source": [
    "# GCBA api"
   ]
  },
  {
   "cell_type": "code",
   "execution_count": null,
   "metadata": {},
   "outputs": [],
   "source": [
    "#https://github.com/mfalcon/yomemudo/blob/master/api.py\n",
    "#lat y -34\n",
    "#long x -58 \n",
    "\n",
    "def queryUSIG(origen,destino,tipo_transporte):\n",
    "    '''\n",
    "    bici\n",
    "    transporte\n",
    "    auto\n",
    "    pie\n",
    "    '''\n",
    "    o_x,o_y = inverseGeocode(x = origen[1], y = origen[0])\n",
    "    d_x,d_y = inverseGeocode(x = destino[1], y = destino[0])\n",
    "    if origen[0] == None:\n",
    "        return np.nan\n",
    "    else:\n",
    "        resultado = get_trips(o_x, o_y, d_x, d_y,\n",
    "                              tipo_transporte = tipo_transporte)\n",
    "        return resultado['tiempo']\n",
    "    \n",
    "def get_trips(o_x, o_y, d_x, d_y, tipo_transporte):\n",
    "    #version resumida\n",
    "    #url = \"http://comollego.ba.gob.ar/2.0/consultar_recorridos?tipo={4}&origen={0}%2C{1}&destino={2}%2C{3}\".format(o_x, o_y, d_x, d_y, tipo_transporte)\n",
    "    #completa con opciones explicitas\n",
    "    url = \"http://comollego.ba.gob.ar/2.0/consultar_recorridos?tipo={4}&gml=true&precargar=3&opciones_caminata=800&opciones_medios_colectivo=true&opciones_medios_subte=true&opciones_medios_tren=true&opciones_prioridad=avenidas&opciones_incluir_autopistas=true&opciones_cortes=true&max_results=1&trackVisits=false&server=http%3A%2F%2Fcomollego.ba.gob.ar%2F2.0%2F&afterRetry=undefined&origen={0}%2C{1}&destino={2}%2C{3}\".format(o_x, o_y, d_x, d_y, tipo_transporte);\n",
    "    response = urllib.urlopen(url)\n",
    "    viaje = json.loads(response.read())\n",
    "    \n",
    "    try:\n",
    "        viaje = json.loads(viaje['planning'][0])\n",
    "        return viaje\n",
    "    except IndexError:\n",
    "        return np.nan\n",
    "    \n",
    "    \n",
    "def inverseGeocode(x,y):\n",
    "    url = 'http://ws.usig.buenosaires.gob.ar/geocoder/2.2/reversegeocoding?x={0}&y={1}'.format(x,y)\n",
    "    response = urllib.urlopen(url)\n",
    "    data = json.loads(response.read()[1:-1])\n",
    "    print(url)\n",
    "    return (data['puerta_x'],data['puerta_y'])\n",
    "\n",
    "\n"
   ]
  },
  {
   "cell_type": "code",
   "execution_count": null,
   "metadata": {},
   "outputs": [],
   "source": [
    "#formato google maps latlong, yx\n",
    "obelisco = (-34.60377,-58.38161)\n",
    "retiro = (-34.591372, -58.374261)\n",
    "once = (-34.608315, -58.406169)\n",
    "constitucion = (-34.627554, -58.380690)"
   ]
  },
  {
   "cell_type": "code",
   "execution_count": null,
   "metadata": {},
   "outputs": [],
   "source": [
    "geodt  = gpd.read_file('../carto/clase_4/geodt/geodt.shp')\n",
    "geodt.index=geodt.nombre\n",
    "geodt"
   ]
  },
  {
   "cell_type": "code",
   "execution_count": null,
   "metadata": {},
   "outputs": [],
   "source": [
    "#esta funcion toma cordenadas en wgs84 y devuelve en coordenadas que necesita la API de GCBA\n",
    "inverseGeocode(x = obelisco[1], y = obelisco[0])"
   ]
  },
  {
   "cell_type": "code",
   "execution_count": null,
   "metadata": {},
   "outputs": [],
   "source": [
    "#obtenemos los origines y los destinos\n",
    "d_x,d_y = inverseGeocode(x = geodt.loc['obelisco'].geometry.x, y = geodt.loc['obelisco'].geometry.y)\n",
    "d_x"
   ]
  },
  {
   "cell_type": "code",
   "execution_count": null,
   "metadata": {},
   "outputs": [],
   "source": [
    "o_x,o_y = inverseGeocode(x = retiro[1], y = retiro[0])\n",
    "o_x"
   ]
  },
  {
   "cell_type": "code",
   "execution_count": null,
   "metadata": {},
   "outputs": [],
   "source": [
    "#obtenemos la infomación para un viaje\n",
    "get_trips(o_x = o_x, o_y = o_y, d_x = d_x, d_y = d_y, tipo_transporte = 'bici')"
   ]
  },
  {
   "cell_type": "code",
   "execution_count": null,
   "metadata": {},
   "outputs": [],
   "source": [
    "#iteramos cambiando modos\n",
    "[queryUSIG(once,obelisco,modo) for modo in ['pie','bici','auto','transporte']]"
   ]
  },
  {
   "cell_type": "code",
   "execution_count": null,
   "metadata": {},
   "outputs": [],
   "source": [
    "#iteramos cambiando origenes\n",
    "[queryUSIG(origen,obelisco,'pie') for origen in [retiro,constitucion,once]]"
   ]
  },
  {
   "cell_type": "code",
   "execution_count": null,
   "metadata": {},
   "outputs": [],
   "source": [
    "#probamos con otro modo\n",
    "[queryUSIG(origen,obelisco,'bici') for origen in [retiro,constitucion,once]]"
   ]
  },
  {
   "cell_type": "code",
   "execution_count": null,
   "metadata": {},
   "outputs": [],
   "source": []
  },
  {
   "cell_type": "markdown",
   "metadata": {},
   "source": [
    "# Google"
   ]
  },
  {
   "cell_type": "code",
   "execution_count": null,
   "metadata": {},
   "outputs": [],
   "source": [
    "api = ''"
   ]
  },
  {
   "cell_type": "code",
   "execution_count": null,
   "metadata": {},
   "outputs": [],
   "source": [
    "import googlemaps"
   ]
  },
  {
   "cell_type": "code",
   "execution_count": null,
   "metadata": {},
   "outputs": [],
   "source": [
    "#documentacion\n",
    "#https://github.com/googlemaps/google-maps-services-python\n",
    "gmaps = googlemaps.Client(key=api)"
   ]
  },
  {
   "cell_type": "code",
   "execution_count": null,
   "metadata": {},
   "outputs": [],
   "source": [
    "travel = gmaps.distance_matrix(\n",
    "    origins = once,\n",
    "    destinations = obelisco,\n",
    "    mode='transit', traffic_model='best_guess',\n",
    "    transit_routing_preference = 'fewer_transfers')"
   ]
  },
  {
   "cell_type": "code",
   "execution_count": null,
   "metadata": {},
   "outputs": [],
   "source": [
    "travel_test = {'destination_addresses': ['Sarmiento 1285, C1041AAY C1041AAY, Buenos Aires, Argentina'],\n",
    " 'origin_addresses': ['Avenida Doctor José María Ramos Mejía, 1317, C1059 CABA, Argentina'],\n",
    " 'rows': [{'elements': [{'distance': {'text': '2.8 km', 'value': 2820},\n",
    "     'duration': {'text': '16 mins', 'value': 958},\n",
    "     'fare': {'currency': 'ARS', 'text': 'ARS\\xa012.50', 'value': 12.5},\n",
    "     'status': 'OK'}]}],\n",
    " 'status': 'OK'}"
   ]
  },
  {
   "cell_type": "code",
   "execution_count": null,
   "metadata": {},
   "outputs": [],
   "source": [
    "travel = gmaps.distance_matrix(\n",
    "    origins = once,\n",
    "    destinations = obelisco,\n",
    "    mode='driving')"
   ]
  },
  {
   "cell_type": "markdown",
   "metadata": {},
   "source": [
    "## Creación de geodt en base a un diccionario"
   ]
  },
  {
   "cell_type": "code",
   "execution_count": null,
   "metadata": {},
   "outputs": [],
   "source": [
    "#formato google maps latlong, yx\n",
    "obelisco = (-34.60377,-58.38161)\n",
    "retiro = (-34.591372, -58.374261)\n",
    "once = (-34.608315, -58.406169)\n",
    "constitucion = (-34.627554, -58.380690)\n",
    "\n",
    "def construir_dict(nombre,tupla_latlong):\n",
    "    return {\n",
    "        'nombre':nombre,\n",
    "        'coordenadas':{\n",
    "            'long':tupla_latlong[1],\n",
    "            'lat':tupla_latlong[0],\n",
    "            'x':tupla_latlong[1],\n",
    "            'y':tupla_latlong[0]\n",
    "        }\n",
    "}\n",
    "    \n",
    "puntos = [construir_dict('obelisco',(-34.60377,-58.38161)),\n",
    "         construir_dict('retiro',(-34.591372, -58.374261)),\n",
    "         construir_dict('once',(-34.608315, -58.406169)),\n",
    "         construir_dict('constitucion',(-34.627554, -58.380690))]\n",
    "puntos"
   ]
  },
  {
   "cell_type": "code",
   "execution_count": null,
   "metadata": {},
   "outputs": [],
   "source": [
    "punto = puntos[0]\n",
    "[Point(punto['coordenadas']['x'],punto['coordenadas']['y']) for punto in puntos]"
   ]
  },
  {
   "cell_type": "code",
   "execution_count": null,
   "metadata": {},
   "outputs": [],
   "source": [
    "crs = \"+proj=longlat +ellps=WGS84 +datum=WGS84 +no_defs\"\n",
    "geoserie = gpd.GeoSeries([Point(punto['coordenadas']['x'],punto['coordenadas']['y']) for punto in puntos],crs=crs) \n",
    "geodt = gpd.GeoDataFrame({'geometry': geoserie, 'nombre':[punto['nombre'] for punto in puntos]})\n",
    "geodt.index=geodt.nombre\n",
    "geodt"
   ]
  },
  {
   "cell_type": "code",
   "execution_count": null,
   "metadata": {},
   "outputs": [],
   "source": [
    "geodt.to_file('../carto/clase_4/geodt')"
   ]
  },
  {
   "cell_type": "code",
   "execution_count": null,
   "metadata": {},
   "outputs": [],
   "source": []
  }
 ],
 "metadata": {
  "kernelspec": {
   "display_name": "Python 3",
   "language": "python",
   "name": "python3"
  },
  "language_info": {
   "codemirror_mode": {
    "name": "ipython",
    "version": 3
   },
   "file_extension": ".py",
   "mimetype": "text/x-python",
   "name": "python",
   "nbconvert_exporter": "python",
   "pygments_lexer": "ipython3",
   "version": "3.7.0"
  }
 },
 "nbformat": 4,
 "nbformat_minor": 2
}
