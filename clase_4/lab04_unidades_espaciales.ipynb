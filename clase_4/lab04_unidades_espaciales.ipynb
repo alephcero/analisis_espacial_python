{
 "cells": [
  {
   "cell_type": "markdown",
   "metadata": {},
   "source": [
    "# Transferir datos de unidades  espaciales no anidadas\n",
    "\n",
    "Para esta clase utilzaremos dos cartografías con unidades espaciales no superpuestas para trasnferir datos de unas a otras utilizando el porcentaje de superposición como ponderador.\n",
    "\n",
    "Utilizaremos para ello el operador espacial `union`. Para más información sobre operadores espaciales pueden cheque la documentación de [Geopandas](http://geopandas.org/set_operations.html) o [Shapely](https://shapely.readthedocs.io/en/stable/manual.html#object.union)"
   ]
  },
  {
   "cell_type": "code",
   "execution_count": null,
   "metadata": {},
   "outputs": [],
   "source": [
    "import geopandas as gpd\n",
    "import pandas as pd\n",
    "import numpy as np\n",
    "import matplotlib.pyplot as plt\n",
    "%matplotlib inline"
   ]
  },
  {
   "cell_type": "code",
   "execution_count": null,
   "metadata": {},
   "outputs": [],
   "source": [
    "#leer la cartografía de comunas\n",
    "com = gpd.read_file('../carto/clase_4/comunas-rar/comunas.shp')\n",
    "\n",
    "#leer los datos de distritos escolares\n",
    "dis = gpd.read_file('../carto/clase_4/distritos-escolares-rar/distritos_escolares.shp')\n",
    "\n",
    "#chequear que tengan la misma proyeccion\n",
    "print('mismos crs?:',dis.crs==com.crs)\n",
    "\n",
    "#hacer un plot para observar la cartografia\n",
    "fig,ax = plt.subplots(1,figsize=(8,8)) \n",
    "dis.plot(ax=ax,facecolor='grey',alpha=1)\n",
    "com.plot(ax=ax,facecolor='white',edgecolor = 'black',alpha=0.1,linewidth=5);"
   ]
  },
  {
   "cell_type": "markdown",
   "metadata": {},
   "source": [
    "## Data ejemplo"
   ]
  },
  {
   "cell_type": "code",
   "execution_count": null,
   "metadata": {},
   "outputs": [],
   "source": [
    "from shapely.geometry import Polygon, Point, LineString\n",
    "\n",
    "polys1 = gpd.GeoSeries([Polygon([(0,0), (2,0), (2,2), (0,2)])])\n",
    "\n",
    "polys2 = gpd.GeoSeries([Polygon([(1,1), (3,1), (3,3), (1,3)])])\n",
    "\n",
    "\n",
    "df1 = gpd.GeoDataFrame({'geometry': polys1, 'letra':['A']})\n",
    "df2 = gpd.GeoDataFrame({'geometry': polys2, 'letra':['B']})\n",
    "\n",
    "ax = df1.plot(color='red');\n",
    "\n",
    "df2.plot(ax=ax, color='green', alpha=0.5);"
   ]
  },
  {
   "cell_type": "code",
   "execution_count": null,
   "metadata": {},
   "outputs": [],
   "source": [
    "unido = gpd.overlay(df1, df2, how='union')\n",
    "unido"
   ]
  },
  {
   "cell_type": "code",
   "execution_count": null,
   "metadata": {},
   "outputs": [],
   "source": [
    "unido = unido.fillna('')\n",
    "unido['union'] = unido.letra + unido.letra_2\n",
    "unido"
   ]
  },
  {
   "cell_type": "code",
   "execution_count": null,
   "metadata": {},
   "outputs": [],
   "source": [
    "unido.plot(column='union',alpha=0.5)"
   ]
  },
  {
   "cell_type": "code",
   "execution_count": null,
   "metadata": {},
   "outputs": [],
   "source": [
    "BC = pd.DataFrame({'letra':['C','D'],'geometry':[LineString([Point(0,4),Point(4,0)]),LineString([Point(1,1),Point(3,3)])]})\n",
    "BC = gpd.GeoDataFrame(BC,geometry='geometry')\n",
    "BC.geometry = BC.geometry.buffer(1)\n",
    "BC.plot()"
   ]
  },
  {
   "cell_type": "code",
   "execution_count": null,
   "metadata": {},
   "outputs": [],
   "source": [
    "unido2 = gpd.overlay(unido,BC,how='union')\n",
    "unido2 = unido2.fillna('')\n",
    "unido2['union'] = unido2.letra + unido2.letra_2 + unido2.letra_3\n",
    "unido2"
   ]
  },
  {
   "cell_type": "code",
   "execution_count": null,
   "metadata": {},
   "outputs": [],
   "source": [
    "unido2.plot(column='union',alpha=0.5)"
   ]
  },
  {
   "cell_type": "markdown",
   "metadata": {},
   "source": [
    "## Datos reales"
   ]
  },
  {
   "cell_type": "code",
   "execution_count": null,
   "metadata": {},
   "outputs": [],
   "source": [
    "#seleccionar columnas de interes, cambiarle los nombres y el formato \n",
    "com = com.reindex(columns=['COMUNAS','AREA','geometry'])\n",
    "com.columns = ['COMUNA','AREA_COMUNA','geometry']\n",
    "com.COMUNA = com.COMUNA.map(lambda x: str(int(x)))\n",
    "com.head(2)"
   ]
  },
  {
   "cell_type": "code",
   "execution_count": null,
   "metadata": {},
   "outputs": [],
   "source": [
    "#obtener los datos de promedio ponderado de NBI por comuna\n",
    "nbi = pd.read_csv('../data/nbi_x_comuna.csv')\n",
    "nbi.COMUNA = nbi.COMUNA.map(str)\n",
    "nbi.head()"
   ]
  },
  {
   "cell_type": "code",
   "execution_count": null,
   "metadata": {},
   "outputs": [],
   "source": [
    "#pasar los datos a la cartografía de las comunas y chequear si hay datos faltantes\n",
    "com = com.merge(nbi,on = 'COMUNA',how='inner')\n",
    "print('Comunas sin datos:',com.NBI_prom.isnull().sum())\n",
    "com.head()"
   ]
  },
  {
   "cell_type": "code",
   "execution_count": null,
   "metadata": {},
   "outputs": [],
   "source": [
    "#seleccionar y renombrar columnas de los distritos escolars\n",
    "dis = dis.reindex(columns=['ROMANO','AREA','geometry'])\n",
    "dis.columns = ['DISTRITO','AREA_DISTRITO','geometry']\n",
    "dis.head(2)"
   ]
  },
  {
   "cell_type": "code",
   "execution_count": null,
   "metadata": {},
   "outputs": [],
   "source": [
    "#realizar la union y observar los datos\n",
    "unidas = gpd.overlay(com,dis,how='union')\n",
    "unidas.tail(2)"
   ]
  },
  {
   "cell_type": "markdown",
   "metadata": {},
   "source": [
    "### Caso ejemplo"
   ]
  },
  {
   "cell_type": "code",
   "execution_count": null,
   "metadata": {},
   "outputs": [],
   "source": [
    "#tomemos un caso de ejemplo el distrito escolar 6\n",
    "fig,ax = plt.subplots(1,figsize=(8,8)) \n",
    "dis.loc[dis.DISTRITO == 'VI'].plot(ax=ax,facecolor='red',alpha=1)\n",
    "com.plot(ax=ax,facecolor='white',edgecolor = 'black',alpha=0.1,linewidth=5)"
   ]
  },
  {
   "cell_type": "code",
   "execution_count": null,
   "metadata": {},
   "outputs": [],
   "source": [
    "#crear un geodataframe del distrito 6\n",
    "distrito6 = unidas.loc[unidas.DISTRITO == 'VI',:].copy()\n",
    "#calcular el area de las unidades espaciales obtenidas\n",
    "distrito6['area_union']=distrito6.geometry.area\n",
    "distrito6"
   ]
  },
  {
   "cell_type": "markdown",
   "metadata": {},
   "source": [
    "Observamos que se superpone con las comunas 5, 3 y 4. Vemos atributos de los dataset originales, como el area del distrito y el area de la comuna. También hay una parte del distrito que no se superpone con ninguna comuna"
   ]
  },
  {
   "cell_type": "code",
   "execution_count": null,
   "metadata": {},
   "outputs": [],
   "source": [
    "#obtenemos los pesos o ponderadores como la proporción del area de las nuevas unidades espaciales \n",
    "#en realción al area de la unidad de interés, es decir los distritos \n",
    "distrito6['peso'] = round(distrito6.area_union/distrito6.AREA_DISTRITO,2)\n",
    "distrito6.head()"
   ]
  },
  {
   "cell_type": "markdown",
   "metadata": {},
   "source": [
    "Vemos que la unidad espacial que no se superpone con ninguna Comuna tiene un peso despreciable. En teoría esto no debería suceder,pero puede ser que la cartografía no este perfectamente alineada y haya intersticios vacíos."
   ]
  },
  {
   "cell_type": "code",
   "execution_count": null,
   "metadata": {},
   "outputs": [],
   "source": [
    "distrito6.loc[:,['COMUNA','NBI_prom','peso']]"
   ]
  },
  {
   "cell_type": "code",
   "execution_count": null,
   "metadata": {},
   "outputs": [],
   "source": [
    "#chequear que los pesos den 1\n",
    "distrito6.peso.sum()"
   ]
  },
  {
   "cell_type": "code",
   "execution_count": null,
   "metadata": {},
   "outputs": [],
   "source": [
    "#eliminar los distritos sin comunas\n",
    "distrito6 = distrito6.dropna()"
   ]
  },
  {
   "cell_type": "code",
   "execution_count": null,
   "metadata": {},
   "outputs": [],
   "source": [
    "#obtener un NBI del distrito\n",
    "sum(distrito6.NBI_prom * distrito6.peso)"
   ]
  },
  {
   "cell_type": "code",
   "execution_count": null,
   "metadata": {},
   "outputs": [],
   "source": [
    "#al ver los datos originales, se observa que el nbi debía estar en algun valor entre el del NBI de las comunas 5 y 3 \n",
    "# que son las que tenían mayores pesos\n",
    "com.loc[com.COMUNA.isin(['4','3','5']),['COMUNA','NBI_prom']]"
   ]
  },
  {
   "cell_type": "markdown",
   "metadata": {},
   "source": [
    "### Aplicación a todos los datos"
   ]
  },
  {
   "cell_type": "code",
   "execution_count": null,
   "metadata": {},
   "outputs": [],
   "source": [
    "#calcular el area de todas las unidades nuevas \n",
    "unidas['area_union'] = unidas.geometry.area\n",
    "#calcular los pesos\n",
    "unidas['peso'] = unidas.area_union / unidas.AREA_DISTRITO\n",
    "\n",
    "unidas.head(2)"
   ]
  },
  {
   "cell_type": "code",
   "execution_count": null,
   "metadata": {},
   "outputs": [],
   "source": [
    "#explorar los pesos de las areas que no tienen comuna: todos son muy pequeños cercanos a 0\n",
    "unidas.loc[(unidas.COMUNA.isnull()),'peso'].describe()"
   ]
  },
  {
   "cell_type": "code",
   "execution_count": null,
   "metadata": {},
   "outputs": [],
   "source": [
    "#vemos donde estan los null en comuna: en los márgenes\n",
    "f,ax = plt.subplots(1,figsize=(8,8))\n",
    "unidas.loc[(unidas.COMUNA.isnull()) & (unidas.area_union > 1000),:].plot(color = 'red',ax=ax)\n",
    "com.plot(ax=ax,color='grey',alpha=0.1)\n",
    "ax.set_axis_off()"
   ]
  },
  {
   "cell_type": "code",
   "execution_count": null,
   "metadata": {},
   "outputs": [],
   "source": [
    "#eliminar las zonas sin comuna ya que no inciden en el analisis\n",
    "unidas = unidas.loc[unidas.COMUNA.notnull(),:]"
   ]
  },
  {
   "cell_type": "code",
   "execution_count": null,
   "metadata": {},
   "outputs": [],
   "source": [
    "#crar una función que multiplique el vector del valor de NBI por el vector del peso de ese registro y lo sume\n",
    "def prom_pondera(fila):\n",
    "    return sum(fila.NBI_prom * fila.peso)"
   ]
  },
  {
   "cell_type": "code",
   "execution_count": null,
   "metadata": {},
   "outputs": [],
   "source": [
    "tabla = unidas.reindex(columns=['DISTRITO','NBI_prom','peso']).groupby('DISTRITO').agg(prom_pondera)\n",
    "tabla = tabla.reindex(columns = ['NBI_prom'])\n",
    "tabla = tabla.reset_index()\n",
    "tabla.head()"
   ]
  },
  {
   "cell_type": "code",
   "execution_count": null,
   "metadata": {},
   "outputs": [],
   "source": [
    "dis.shape"
   ]
  },
  {
   "cell_type": "code",
   "execution_count": null,
   "metadata": {},
   "outputs": [],
   "source": [
    "tabla.shape"
   ]
  },
  {
   "cell_type": "code",
   "execution_count": null,
   "metadata": {},
   "outputs": [],
   "source": [
    "# Realizar un merge para pasar los datos a la cartografía de distritos\n",
    "# cuando los nombres de la columna que une son iguales y ambas tablas tienen la misma cantidad de registros\n",
    "#el merge es muy sencilo:\n",
    "dis = dis.merge(tabla)"
   ]
  },
  {
   "cell_type": "code",
   "execution_count": null,
   "metadata": {},
   "outputs": [],
   "source": [
    "f,ax = plt.subplots(1,figsize=(8,8))\n",
    "dis.plot(ax=ax,column='NBI_prom',legend=True,scheme='Quantiles',k=5,cmap='Spectral_r')\n",
    "ax.set_axis_off()\n",
    "ax.set_title('NBI por Distrito escolar');"
   ]
  },
  {
   "cell_type": "code",
   "execution_count": null,
   "metadata": {},
   "outputs": [],
   "source": [
    "#podemos crear los campos que identifiquen la union con un nombre\n",
    "unidas = unidas.fillna('')\n",
    "unidas['union'] = unidas.COMUNA + ' - ' + unidas.DISTRITO\n",
    "unidas.head(30)"
   ]
  },
  {
   "cell_type": "code",
   "execution_count": null,
   "metadata": {},
   "outputs": [],
   "source": []
  },
  {
   "cell_type": "code",
   "execution_count": null,
   "metadata": {},
   "outputs": [],
   "source": []
  },
  {
   "cell_type": "code",
   "execution_count": null,
   "metadata": {},
   "outputs": [],
   "source": []
  },
  {
   "cell_type": "code",
   "execution_count": null,
   "metadata": {},
   "outputs": [],
   "source": []
  }
 ],
 "metadata": {
  "kernelspec": {
   "display_name": "Python 3",
   "language": "python",
   "name": "python3"
  },
  "language_info": {
   "codemirror_mode": {
    "name": "ipython",
    "version": 3
   },
   "file_extension": ".py",
   "mimetype": "text/x-python",
   "name": "python",
   "nbconvert_exporter": "python",
   "pygments_lexer": "ipython3",
   "version": "3.7.0"
  }
 },
 "nbformat": 4,
 "nbformat_minor": 2
}
