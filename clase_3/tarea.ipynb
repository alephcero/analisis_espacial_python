{
 "cells": [
  {
   "cell_type": "markdown",
   "metadata": {},
   "source": [
    "# Tarea clase 3 - Poligonos\n",
    "\n",
    "En esta tarea utilizaremos datos censales (jefe de hogar con universitario completo o mas) por radio censal para unir a la cartografía. Para ese fin primero debemos obtener una columna común que identifique cada radio. El Censo utiliza la variable LINK compuesta del siguiente modo:\n",
    "\n",
    "* 2 caracteres para la provincia (02)\n",
    "* 3 para el departamento (001 significa en CABA Comuna 1)\n",
    "* 2 caracteres para la fracción\n",
    "* 2 caracteres para el radio\n",
    "\n",
    "El GCBA utiliza CO_FRAC_RA donde concatena la COMUNA, FRACCION y RADIO con un _. \n",
    "\n",
    "El objetivo es crear una columna común para unir ambos datasets y unirlos utilzando `pd.merge()`\n",
    "\n",
    "Pueden consultar el sistema [REDATAM](https://redatam.indec.gob.ar/argbin/RpWebEngine.exe/PortalAction?&MODE=MAIN&BASE=CPV2010B&MAIN=WebServerMain.inl&_ga=2.34530918.65402498.1542717778-1910086529.1540499312) para extraer datos de la base usuaria del censo a nivel de radio.\n",
    "\n",
    "La solución propuesta en las pistas implica \"traducir\" de CENSO a GCBA, pero pueden probar el camino inverso."
   ]
  },
  {
   "cell_type": "code",
   "execution_count": null,
   "metadata": {},
   "outputs": [],
   "source": [
    "#cargar las librerias necesarias\n",
    "import geopandas as gpd\n",
    "import pandas as pd\n",
    "import matplotlib.pyplot as plt\n",
    "%matplotlib inline"
   ]
  },
  {
   "cell_type": "code",
   "execution_count": null,
   "metadata": {},
   "outputs": [],
   "source": [
    "#leer la cartografia\n",
    "radios = gpd.read_file('../carto/informacion_censal_por_radio_2010.shp')\n",
    "radios.index = radios.CO_FRAC_RA.values\n",
    "radios.head()"
   ]
  },
  {
   "cell_type": "code",
   "execution_count": null,
   "metadata": {},
   "outputs": [],
   "source": [
    "#leemos los datos de indec\n",
    "#cada registro almacena un radio con el total de hogar con jefe universitario completo\n",
    "data = pd.read_csv('../data/outputINDEC.csv',dtype={'codigo':'str','univComp':'int'})\n",
    "data.head()"
   ]
  },
  {
   "cell_type": "code",
   "execution_count": null,
   "metadata": {},
   "outputs": [],
   "source": [
    "def traducir_id(id_radio_indec):\n",
    "    \"\"\"\n",
    "    Esta funcion toma un id de radio con el formato INDEC:\n",
    "        - 1 digito para la provina \n",
    "        - 3 para el departamento\n",
    "        - 2 para la fraccion\n",
    "        - 2 para el radio\n",
    "    y devuelve el mismo id traducido al formato GCBA: CO_FRAC_RA\n",
    "    ...\n",
    "    \n",
    "    Argumentos\n",
    "    ---------\n",
    "    id_radio:       str\n",
    "                    String que identifica los radios de caba segun INDEC\n",
    "    \n",
    "    Devuelve\n",
    "    -------\n",
    "    id_radio_gcba : str\n",
    "                    String que identifica los radios de caba segun GCBA\n",
    "    \"\"\"\n",
    "    \n",
    "    #crear una variable que tome la información de la comuna\n",
    "    #comuna = \n",
    "    \n",
    "    #crear una variable que tome la información de la fraccion\n",
    "    #fraccion =\n",
    "    \n",
    "    #crear una variable que tome la información del radio\n",
    "    #radio = \n",
    "    \n",
    "    #puede ser necesario eliminar los 0 que no correspondan\n",
    "    #puede pasarse de string a int\n",
    "    #luego para concatenar sumando strings como la solución\n",
    "    #propuesta abajo puede ser necesario convertir de nuevo a string\n",
    "    \n",
    "    id_radio_gcba = comuna + '_' + fraccion  + '_' + radio\n",
    "    \n",
    "    return id_radio_gcba\n",
    "    "
   ]
  },
  {
   "cell_type": "code",
   "execution_count": null,
   "metadata": {},
   "outputs": [],
   "source": [
    "#utilizamos esa función en un map\n",
    "data['CO_FRAC_RA'] = data.codigo.map(traducir_id)\n",
    "data.head()"
   ]
  },
  {
   "cell_type": "code",
   "execution_count": null,
   "metadata": {},
   "outputs": [],
   "source": [
    "#consultamos la ayuda de pd.merge\n",
    "pd.merge?"
   ]
  },
  {
   "cell_type": "code",
   "execution_count": null,
   "metadata": {},
   "outputs": [],
   "source": [
    "#realizamos el merge\n",
    "data_completa = pd.merge(radios,data,on='CO_FRAC_RA',how='left')\n",
    "data_completa.head()"
   ]
  },
  {
   "cell_type": "code",
   "execution_count": null,
   "metadata": {},
   "outputs": [],
   "source": [
    "#chequeamos que todos los datos se hayan transferido\n",
    "data_completa.CO_FRAC_RA.isnull().sum()"
   ]
  },
  {
   "cell_type": "code",
   "execution_count": null,
   "metadata": {},
   "outputs": [],
   "source": [
    "#chequeamos la distribución de nuestros datos\n",
    "data_completa.univComp.describe()"
   ]
  },
  {
   "cell_type": "code",
   "execution_count": null,
   "metadata": {},
   "outputs": [],
   "source": [
    "data_completa.plot(column='univComp',scheme='Quantiles',k=5)"
   ]
  },
  {
   "cell_type": "code",
   "execution_count": null,
   "metadata": {},
   "outputs": [],
   "source": []
  }
 ],
 "metadata": {
  "kernelspec": {
   "display_name": "Python 3",
   "language": "python",
   "name": "python3"
  },
  "language_info": {
   "codemirror_mode": {
    "name": "ipython",
    "version": 3
   },
   "file_extension": ".py",
   "mimetype": "text/x-python",
   "name": "python",
   "nbconvert_exporter": "python",
   "pygments_lexer": "ipython3",
   "version": "3.6.5"
  }
 },
 "nbformat": 4,
 "nbformat_minor": 2
}
